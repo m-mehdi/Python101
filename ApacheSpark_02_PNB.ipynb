{
  "nbformat": 4,
  "nbformat_minor": 0,
  "metadata": {
    "kernelspec": {
      "display_name": "Python 3",
      "language": "python",
      "name": "python3"
    },
    "language_info": {
      "codemirror_mode": {
        "name": "ipython",
        "version": 3
      },
      "file_extension": ".py",
      "mimetype": "text/x-python",
      "name": "python",
      "nbconvert_exporter": "python",
      "pygments_lexer": "ipython3",
      "version": "3.7.6"
    },
    "colab": {
      "name": "ApacheSpark_02.ipynb",
      "provenance": [],
      "toc_visible": true,
      "include_colab_link": true
    }
  },
  "cells": [
    {
      "cell_type": "markdown",
      "metadata": {
        "id": "view-in-github",
        "colab_type": "text"
      },
      "source": [
        "<a href=\"https://colab.research.google.com/github/m-mehdi/Python101/blob/master/ApacheSpark_02_PNB.ipynb\" target=\"_parent\"><img src=\"https://colab.research.google.com/assets/colab-badge.svg\" alt=\"Open In Colab\"/></a>"
      ]
    },
    {
      "cell_type": "markdown",
      "metadata": {
        "id": "A1zOaEfu8amR"
      },
      "source": [
        "<img src=\"images/cads-logo.png\" style=\"height: 100px;padding-top:5px\" align=left> <img src=\"images/apache_spark.png\" style=\"height: 20%;width:20%; padding-top:0px\" align=right>"
      ]
    },
    {
      "cell_type": "markdown",
      "metadata": {
        "id": "VbcSBHYl8amS"
      },
      "source": [
        "# Apache Spark Dataframe Exercise"
      ]
    },
    {
      "cell_type": "markdown",
      "metadata": {
        "id": "RQZxL2O88amT"
      },
      "source": [
        "In this exercise, we are going to get some insights on stock market data. We use `walmart_stock.csv` file as our dataset to analyse the data."
      ]
    },
    {
      "cell_type": "markdown",
      "metadata": {
        "id": "HnG7kPNf8amU"
      },
      "source": [
        "### 1- Create an Apache Spark Session"
      ]
    },
    {
      "cell_type": "code",
      "metadata": {
        "id": "vhBMMugS8amU",
        "outputId": "9ee24f0c-61b0-4bb6-8cf1-ce1487f8a78c",
        "colab": {
          "base_uri": "https://localhost:8080/",
          "height": 255
        }
      },
      "source": [
        "!pip install pyspark"
      ],
      "execution_count": 1,
      "outputs": [
        {
          "output_type": "stream",
          "text": [
            "Collecting pyspark\n",
            "\u001b[?25l  Downloading https://files.pythonhosted.org/packages/f0/26/198fc8c0b98580f617cb03cb298c6056587b8f0447e20fa40c5b634ced77/pyspark-3.0.1.tar.gz (204.2MB)\n",
            "\u001b[K     |████████████████████████████████| 204.2MB 45kB/s \n",
            "\u001b[?25hCollecting py4j==0.10.9\n",
            "\u001b[?25l  Downloading https://files.pythonhosted.org/packages/9e/b6/6a4fb90cd235dc8e265a6a2067f2a2c99f0d91787f06aca4bcf7c23f3f80/py4j-0.10.9-py2.py3-none-any.whl (198kB)\n",
            "\u001b[K     |████████████████████████████████| 204kB 2.3MB/s \n",
            "\u001b[?25hBuilding wheels for collected packages: pyspark\n",
            "  Building wheel for pyspark (setup.py) ... \u001b[?25l\u001b[?25hdone\n",
            "  Created wheel for pyspark: filename=pyspark-3.0.1-py2.py3-none-any.whl size=204612243 sha256=d2af38a8e6e12153e49628da388299867d770c5e192e826e7b67a6b5bb45b6e6\n",
            "  Stored in directory: /root/.cache/pip/wheels/5e/bd/07/031766ca628adec8435bb40f0bd83bb676ce65ff4007f8e73f\n",
            "Successfully built pyspark\n",
            "Installing collected packages: py4j, pyspark\n",
            "Successfully installed py4j-0.10.9 pyspark-3.0.1\n"
          ],
          "name": "stdout"
        }
      ]
    },
    {
      "cell_type": "code",
      "metadata": {
        "id": "7SwOMxSR_sP9",
        "outputId": "4c4f8f17-6343-434c-bb15-ac4ff4bdd640",
        "colab": {
          "base_uri": "https://localhost:8080/",
          "height": 214
        }
      },
      "source": [
        "import pyspark\n",
        "from pyspark.sql import SparkSession\n",
        "spark = SparkSession.builder.getOrCreate()\n",
        "spark"
      ],
      "execution_count": 2,
      "outputs": [
        {
          "output_type": "execute_result",
          "data": {
            "text/html": [
              "\n",
              "            <div>\n",
              "                <p><b>SparkSession - in-memory</b></p>\n",
              "                \n",
              "        <div>\n",
              "            <p><b>SparkContext</b></p>\n",
              "\n",
              "            <p><a href=\"http://3c25f1ea49bd:4040\">Spark UI</a></p>\n",
              "\n",
              "            <dl>\n",
              "              <dt>Version</dt>\n",
              "                <dd><code>v3.0.1</code></dd>\n",
              "              <dt>Master</dt>\n",
              "                <dd><code>local[*]</code></dd>\n",
              "              <dt>AppName</dt>\n",
              "                <dd><code>pyspark-shell</code></dd>\n",
              "            </dl>\n",
              "        </div>\n",
              "        \n",
              "            </div>\n",
              "        "
            ],
            "text/plain": [
              "<pyspark.sql.session.SparkSession at 0x7f1af8d3dda0>"
            ]
          },
          "metadata": {
            "tags": []
          },
          "execution_count": 2
        }
      ]
    },
    {
      "cell_type": "markdown",
      "metadata": {
        "id": "zxV6tbJA8amY"
      },
      "source": [
        "### 2- Load the `walmart_stock.csv` file into a dataframe and infer the data schema"
      ]
    },
    {
      "cell_type": "code",
      "metadata": {
        "id": "x0RA2m9u8amZ"
      },
      "source": [
        "import os\n",
        "MAIN_DIRECTORY = os.getcwd()"
      ],
      "execution_count": 3,
      "outputs": []
    },
    {
      "cell_type": "code",
      "metadata": {
        "id": "oVhXprKoAzas"
      },
      "source": [
        "file_path = MAIN_DIRECTORY+\"/data/walmart_stock.csv\""
      ],
      "execution_count": 4,
      "outputs": []
    },
    {
      "cell_type": "code",
      "metadata": {
        "id": "FfG2SATxA8RA"
      },
      "source": [
        "df = spark.read.format('csv').option(\"header\",\"true\").option(\"inferSchema\",\"true\").load(file_path)"
      ],
      "execution_count": 5,
      "outputs": []
    },
    {
      "cell_type": "markdown",
      "metadata": {
        "id": "37LL5yaU8amc"
      },
      "source": [
        "### 3- Display the column names and print the dataframe schema"
      ]
    },
    {
      "cell_type": "code",
      "metadata": {
        "id": "8hFlvEGG8amd",
        "outputId": "b15a33eb-85bf-4be6-a5b2-8c8d883b1af0",
        "colab": {
          "base_uri": "https://localhost:8080/",
          "height": 34
        }
      },
      "source": [
        "df.columns"
      ],
      "execution_count": 6,
      "outputs": [
        {
          "output_type": "execute_result",
          "data": {
            "text/plain": [
              "['Date', 'Open', 'High', 'Low', 'Close', 'Volume', 'Adj Close']"
            ]
          },
          "metadata": {
            "tags": []
          },
          "execution_count": 6
        }
      ]
    },
    {
      "cell_type": "code",
      "metadata": {
        "id": "2gWAJAKw8amg",
        "outputId": "c57dca7b-cb5f-4bfd-bc35-cae24fc30a0d",
        "colab": {
          "base_uri": "https://localhost:8080/",
          "height": 168
        }
      },
      "source": [
        "df.printSchema()"
      ],
      "execution_count": 7,
      "outputs": [
        {
          "output_type": "stream",
          "text": [
            "root\n",
            " |-- Date: string (nullable = true)\n",
            " |-- Open: double (nullable = true)\n",
            " |-- High: double (nullable = true)\n",
            " |-- Low: double (nullable = true)\n",
            " |-- Close: double (nullable = true)\n",
            " |-- Volume: integer (nullable = true)\n",
            " |-- Adj Close: double (nullable = true)\n",
            "\n"
          ],
          "name": "stdout"
        }
      ]
    },
    {
      "cell_type": "markdown",
      "metadata": {
        "id": "SN-n_LxF8amj"
      },
      "source": [
        "### 4- Print out the first five rows of the data"
      ]
    },
    {
      "cell_type": "code",
      "metadata": {
        "id": "boDQ0QkM8amj",
        "outputId": "be38777a-656d-4c76-879c-619bfcfd76a4",
        "colab": {
          "base_uri": "https://localhost:8080/",
          "height": 101
        }
      },
      "source": [
        "df.head(5)"
      ],
      "execution_count": 8,
      "outputs": [
        {
          "output_type": "execute_result",
          "data": {
            "text/plain": [
              "[Row(Date='2012-01-03', Open=59.970001, High=61.060001, Low=59.869999, Close=60.330002, Volume=12668800, Adj Close=52.619234999999996),\n",
              " Row(Date='2012-01-04', Open=60.209998999999996, High=60.349998, Low=59.470001, Close=59.709998999999996, Volume=9593300, Adj Close=52.078475),\n",
              " Row(Date='2012-01-05', Open=59.349998, High=59.619999, Low=58.369999, Close=59.419998, Volume=12768200, Adj Close=51.825539),\n",
              " Row(Date='2012-01-06', Open=59.419998, High=59.450001, Low=58.869999, Close=59.0, Volume=8069400, Adj Close=51.45922),\n",
              " Row(Date='2012-01-09', Open=59.029999, High=59.549999, Low=58.919998, Close=59.18, Volume=6679300, Adj Close=51.616215000000004)]"
            ]
          },
          "metadata": {
            "tags": []
          },
          "execution_count": 8
        }
      ]
    },
    {
      "cell_type": "markdown",
      "metadata": {
        "id": "PS9_AFQI8amn"
      },
      "source": [
        "### 5- Use `describe()` method to get statistical information on the data "
      ]
    },
    {
      "cell_type": "code",
      "metadata": {
        "id": "01tGj3a78amn",
        "outputId": "20ca3f4b-3eaa-44ad-d836-c82020675f60",
        "colab": {
          "base_uri": "https://localhost:8080/",
          "height": 185
        }
      },
      "source": [
        "df.describe().show()"
      ],
      "execution_count": 9,
      "outputs": [
        {
          "output_type": "stream",
          "text": [
            "+-------+----------+------------------+-----------------+-----------------+-----------------+-----------------+-----------------+\n",
            "|summary|      Date|              Open|             High|              Low|            Close|           Volume|        Adj Close|\n",
            "+-------+----------+------------------+-----------------+-----------------+-----------------+-----------------+-----------------+\n",
            "|  count|      1258|              1258|             1258|             1258|             1258|             1258|             1258|\n",
            "|   mean|      null| 72.35785375357709|72.83938807631165| 71.9186009594594|72.38844998012726|8222093.481717011|67.23883848728146|\n",
            "| stddev|      null|  6.76809024470826|6.768186808159218|6.744075756255496|6.756859163732991|  4519780.8431556|6.722609449996857|\n",
            "|    min|2012-01-03|56.389998999999996|        57.060001|        56.299999|        56.419998|          2094900|        50.363689|\n",
            "|    max|2016-12-30|         90.800003|        90.970001|            89.25|        90.470001|         80898100|84.91421600000001|\n",
            "+-------+----------+------------------+-----------------+-----------------+-----------------+-----------------+-----------------+\n",
            "\n"
          ],
          "name": "stdout"
        }
      ]
    },
    {
      "cell_type": "markdown",
      "metadata": {
        "id": "Os3y2u2P8ams"
      },
      "source": [
        "### 6- Use `format_number` function to format the numbers for just showing up to two decimal places. \n",
        "[format_number() documentation](http://spark.apache.org/docs/latest/api/python/pyspark.sql.html?highlight=format_number#pyspark.sql.functions.format_number)"
      ]
    },
    {
      "cell_type": "code",
      "metadata": {
        "id": "Ek4YNedQ8amt"
      },
      "source": [
        "des_result = df.describe()"
      ],
      "execution_count": 10,
      "outputs": []
    },
    {
      "cell_type": "code",
      "metadata": {
        "id": "WBmxop0c8amw"
      },
      "source": [
        "from pyspark.sql.functions import format_number"
      ],
      "execution_count": 11,
      "outputs": []
    },
    {
      "cell_type": "code",
      "metadata": {
        "id": "f9gT9rPlL6Tm",
        "outputId": "85ff5191-cf24-46b1-c770-63e2f4ceab4b",
        "colab": {
          "base_uri": "https://localhost:8080/",
          "height": 185
        }
      },
      "source": [
        "des_result.printSchema()"
      ],
      "execution_count": 12,
      "outputs": [
        {
          "output_type": "stream",
          "text": [
            "root\n",
            " |-- summary: string (nullable = true)\n",
            " |-- Date: string (nullable = true)\n",
            " |-- Open: string (nullable = true)\n",
            " |-- High: string (nullable = true)\n",
            " |-- Low: string (nullable = true)\n",
            " |-- Close: string (nullable = true)\n",
            " |-- Volume: string (nullable = true)\n",
            " |-- Adj Close: string (nullable = true)\n",
            "\n"
          ],
          "name": "stdout"
        }
      ]
    },
    {
      "cell_type": "code",
      "metadata": {
        "id": "myFAu3_-L6Q8",
        "outputId": "13a6183f-6563-41dd-ccf1-bc9fd24bce65",
        "colab": {
          "base_uri": "https://localhost:8080/",
          "height": 185
        }
      },
      "source": [
        "des_result.select(des_result['summary'],\n",
        "                  format_number(des_result['Open'].cast('float'),2).alias('Open'),\n",
        "                  format_number(des_result['High'].cast('float'),2).alias('High'),\n",
        "                  format_number(des_result['Low'].cast('float'),2).alias('Low'),\n",
        "                  format_number(des_result['Close'].cast('float'),2).alias('Close'),\n",
        "                  des_result['Volume'].cast('int').alias('Volume'),\n",
        "                  format_number(des_result['Adj Close'].cast('float'),2).alias('Adj Close')).show()"
      ],
      "execution_count": 14,
      "outputs": [
        {
          "output_type": "stream",
          "text": [
            "+-------+--------+--------+--------+--------+--------+---------+\n",
            "|summary|    Open|    High|     Low|   Close|  Volume|Adj Close|\n",
            "+-------+--------+--------+--------+--------+--------+---------+\n",
            "|  count|1,258.00|1,258.00|1,258.00|1,258.00|    1258| 1,258.00|\n",
            "|   mean|   72.36|   72.84|   71.92|   72.39| 8222093|    67.24|\n",
            "| stddev|    6.77|    6.77|    6.74|    6.76| 4519780|     6.72|\n",
            "|    min|   56.39|   57.06|   56.30|   56.42| 2094900|    50.36|\n",
            "|    max|   90.80|   90.97|   89.25|   90.47|80898100|    84.91|\n",
            "+-------+--------+--------+--------+--------+--------+---------+\n",
            "\n"
          ],
          "name": "stdout"
        }
      ]
    },
    {
      "cell_type": "markdown",
      "metadata": {
        "id": "oLZJiE8Q8amz"
      },
      "source": [
        "### 7- Create a new coulmn called HV Ratio on a new dataframe that returns the ratio of the High Price versus volume of stock traded for a day."
      ]
    },
    {
      "cell_type": "code",
      "metadata": {
        "id": "6xDKaNMf8am0",
        "outputId": "c3193360-3f15-4ea7-c60f-763a19e1b08c",
        "colab": {
          "base_uri": "https://localhost:8080/",
          "height": 202
        }
      },
      "source": [
        "df.show(5)"
      ],
      "execution_count": 15,
      "outputs": [
        {
          "output_type": "stream",
          "text": [
            "+----------+------------------+---------+---------+------------------+--------+------------------+\n",
            "|      Date|              Open|     High|      Low|             Close|  Volume|         Adj Close|\n",
            "+----------+------------------+---------+---------+------------------+--------+------------------+\n",
            "|2012-01-03|         59.970001|61.060001|59.869999|         60.330002|12668800|52.619234999999996|\n",
            "|2012-01-04|60.209998999999996|60.349998|59.470001|59.709998999999996| 9593300|         52.078475|\n",
            "|2012-01-05|         59.349998|59.619999|58.369999|         59.419998|12768200|         51.825539|\n",
            "|2012-01-06|         59.419998|59.450001|58.869999|              59.0| 8069400|          51.45922|\n",
            "|2012-01-09|         59.029999|59.549999|58.919998|             59.18| 6679300|51.616215000000004|\n",
            "+----------+------------------+---------+---------+------------------+--------+------------------+\n",
            "only showing top 5 rows\n",
            "\n"
          ],
          "name": "stdout"
        }
      ]
    },
    {
      "cell_type": "code",
      "metadata": {
        "id": "6u8WdaJV8am3",
        "outputId": "6c3f0ba1-686f-4b38-c24b-ff609184c8ca",
        "colab": {
          "base_uri": "https://localhost:8080/",
          "height": 168
        }
      },
      "source": [
        "df.printSchema()"
      ],
      "execution_count": 16,
      "outputs": [
        {
          "output_type": "stream",
          "text": [
            "root\n",
            " |-- Date: string (nullable = true)\n",
            " |-- Open: double (nullable = true)\n",
            " |-- High: double (nullable = true)\n",
            " |-- Low: double (nullable = true)\n",
            " |-- Close: double (nullable = true)\n",
            " |-- Volume: integer (nullable = true)\n",
            " |-- Adj Close: double (nullable = true)\n",
            "\n"
          ],
          "name": "stdout"
        }
      ]
    },
    {
      "cell_type": "code",
      "metadata": {
        "id": "NfClKhcMO9FK"
      },
      "source": [
        "HV_df = df.withColumn(\"HV Ratio\", df['High']/df['Volume'])"
      ],
      "execution_count": 17,
      "outputs": []
    },
    {
      "cell_type": "code",
      "metadata": {
        "id": "RCs8s-vfPlLl",
        "outputId": "8eda07c5-40d6-423a-e639-aac44b0e35b3",
        "colab": {
          "base_uri": "https://localhost:8080/",
          "height": 454
        }
      },
      "source": [
        "HV_df.select('HV Ratio').show()"
      ],
      "execution_count": 19,
      "outputs": [
        {
          "output_type": "stream",
          "text": [
            "+--------------------+\n",
            "|            HV Ratio|\n",
            "+--------------------+\n",
            "|4.819714653321546E-6|\n",
            "|6.290848613094555E-6|\n",
            "|4.669412994783916E-6|\n",
            "|7.367338463826307E-6|\n",
            "|8.915604778943901E-6|\n",
            "|8.644477436914568E-6|\n",
            "|9.351828421515645E-6|\n",
            "| 8.29141562102703E-6|\n",
            "|7.712212102001476E-6|\n",
            "|7.071764823529412E-6|\n",
            "|1.015495466386981E-5|\n",
            "|6.576354146362592...|\n",
            "| 5.90145296180676E-6|\n",
            "|8.547679455011844E-6|\n",
            "|8.420709512685392E-6|\n",
            "|1.041448341728929...|\n",
            "|8.316075414862431E-6|\n",
            "|9.721183814992126E-6|\n",
            "|8.029436027707578E-6|\n",
            "|6.307432259386365E-6|\n",
            "+--------------------+\n",
            "only showing top 20 rows\n",
            "\n"
          ],
          "name": "stdout"
        }
      ]
    },
    {
      "cell_type": "markdown",
      "metadata": {
        "id": "BhU9oVni8am6"
      },
      "source": [
        "### 8- What day had the Peak High in Price?"
      ]
    },
    {
      "cell_type": "code",
      "metadata": {
        "id": "sOC4jtqj8am7",
        "outputId": "263fbbe3-0174-476e-d2b2-52397020f631",
        "colab": {
          "base_uri": "https://localhost:8080/",
          "height": 35
        }
      },
      "source": [
        "df.orderBy(df['High'].desc()).head()[0]"
      ],
      "execution_count": 21,
      "outputs": [
        {
          "output_type": "execute_result",
          "data": {
            "application/vnd.google.colaboratory.intrinsic+json": {
              "type": "string"
            },
            "text/plain": [
              "'2015-01-13'"
            ]
          },
          "metadata": {
            "tags": []
          },
          "execution_count": 21
        }
      ]
    },
    {
      "cell_type": "markdown",
      "metadata": {
        "id": "iDjEr1yZ8am-"
      },
      "source": [
        "### 9-What is the mean of the Close column?"
      ]
    },
    {
      "cell_type": "code",
      "metadata": {
        "id": "ajzNL0Ft8am_",
        "outputId": "236f113f-e781-4dd5-c0d6-c6b4829fad72",
        "colab": {
          "base_uri": "https://localhost:8080/",
          "height": 118
        }
      },
      "source": [
        "from pyspark.sql.functions import mean\n",
        "df.select(mean('Close')).show()"
      ],
      "execution_count": 22,
      "outputs": [
        {
          "output_type": "stream",
          "text": [
            "+-----------------+\n",
            "|       avg(Close)|\n",
            "+-----------------+\n",
            "|72.38844998012726|\n",
            "+-----------------+\n",
            "\n"
          ],
          "name": "stdout"
        }
      ]
    },
    {
      "cell_type": "code",
      "metadata": {
        "id": "aMjcM9x-Qnyf",
        "outputId": "23e7fde4-a4b0-4497-bdc1-167a6cf358a5",
        "colab": {
          "base_uri": "https://localhost:8080/",
          "height": 118
        }
      },
      "source": [
        "df.agg({'Close':'mean'}).show()"
      ],
      "execution_count": 24,
      "outputs": [
        {
          "output_type": "stream",
          "text": [
            "+-----------------+\n",
            "|       avg(Close)|\n",
            "+-----------------+\n",
            "|72.38844998012726|\n",
            "+-----------------+\n",
            "\n"
          ],
          "name": "stdout"
        }
      ]
    },
    {
      "cell_type": "markdown",
      "metadata": {
        "id": "Rb3u6b8H8anC"
      },
      "source": [
        "### 10- How many days was the Close lower than 70 USD?"
      ]
    },
    {
      "cell_type": "code",
      "metadata": {
        "id": "JxhBmZX98anD",
        "outputId": "4685832b-a555-4ee0-e088-ece74317427c",
        "colab": {
          "base_uri": "https://localhost:8080/",
          "height": 34
        }
      },
      "source": [
        "df.filter('Close < 70').count()"
      ],
      "execution_count": 25,
      "outputs": [
        {
          "output_type": "execute_result",
          "data": {
            "text/plain": [
              "397"
            ]
          },
          "metadata": {
            "tags": []
          },
          "execution_count": 25
        }
      ]
    },
    {
      "cell_type": "markdown",
      "metadata": {
        "id": "HTB1MwHJ8anH"
      },
      "source": [
        "### 11-What percentage of the time was the High greater than 80 USD ?\n",
        "#### In other words, (Number of High Days>80)/(Total Days in the dataframe)"
      ]
    },
    {
      "cell_type": "code",
      "metadata": {
        "id": "8nodvHN88anI",
        "outputId": "f1de41ba-0ead-4f2b-ad31-47552b046c03",
        "colab": {
          "base_uri": "https://localhost:8080/",
          "height": 34
        }
      },
      "source": [
        "(df.filter(df['High']>80).count()/df.count())*100"
      ],
      "execution_count": 26,
      "outputs": [
        {
          "output_type": "execute_result",
          "data": {
            "text/plain": [
              "9.141494435612083"
            ]
          },
          "metadata": {
            "tags": []
          },
          "execution_count": 26
        }
      ]
    },
    {
      "cell_type": "markdown",
      "metadata": {
        "id": "PjfOswfg8anN"
      },
      "source": [
        "### 12-What is the correlation between High and Volume?"
      ]
    },
    {
      "cell_type": "code",
      "metadata": {
        "id": "UFnY6yut8anO",
        "outputId": "d2ba5d42-848f-4884-a18d-dcc773cc4cd0",
        "colab": {
          "base_uri": "https://localhost:8080/",
          "height": 118
        }
      },
      "source": [
        "from pyspark.sql.functions import corr\n",
        "df.select(corr('High','Volume')).show()"
      ],
      "execution_count": 27,
      "outputs": [
        {
          "output_type": "stream",
          "text": [
            "+-------------------+\n",
            "| corr(High, Volume)|\n",
            "+-------------------+\n",
            "|-0.3384326061737161|\n",
            "+-------------------+\n",
            "\n"
          ],
          "name": "stdout"
        }
      ]
    },
    {
      "cell_type": "markdown",
      "metadata": {
        "id": "P_62tWSd8anT"
      },
      "source": [
        "### 13- What is the max High per year (use GroupBy)?"
      ]
    },
    {
      "cell_type": "code",
      "metadata": {
        "id": "CjWkuQGN8anU"
      },
      "source": [
        "from pyspark.sql.functions import max, year"
      ],
      "execution_count": 28,
      "outputs": []
    },
    {
      "cell_type": "code",
      "metadata": {
        "id": "E9nI1b7h8anY"
      },
      "source": [
        "year_df = df.withColumn('Year',year(df['Date']))"
      ],
      "execution_count": 29,
      "outputs": []
    },
    {
      "cell_type": "code",
      "metadata": {
        "id": "52uAn0b18anc",
        "outputId": "a8a62d7b-aac3-421b-9cf1-4b9870b55e8e",
        "colab": {
          "base_uri": "https://localhost:8080/",
          "height": 202
        }
      },
      "source": [
        "year_df.show(5)"
      ],
      "execution_count": 30,
      "outputs": [
        {
          "output_type": "stream",
          "text": [
            "+----------+------------------+---------+---------+------------------+--------+------------------+----+\n",
            "|      Date|              Open|     High|      Low|             Close|  Volume|         Adj Close|Year|\n",
            "+----------+------------------+---------+---------+------------------+--------+------------------+----+\n",
            "|2012-01-03|         59.970001|61.060001|59.869999|         60.330002|12668800|52.619234999999996|2012|\n",
            "|2012-01-04|60.209998999999996|60.349998|59.470001|59.709998999999996| 9593300|         52.078475|2012|\n",
            "|2012-01-05|         59.349998|59.619999|58.369999|         59.419998|12768200|         51.825539|2012|\n",
            "|2012-01-06|         59.419998|59.450001|58.869999|              59.0| 8069400|          51.45922|2012|\n",
            "|2012-01-09|         59.029999|59.549999|58.919998|             59.18| 6679300|51.616215000000004|2012|\n",
            "+----------+------------------+---------+---------+------------------+--------+------------------+----+\n",
            "only showing top 5 rows\n",
            "\n"
          ],
          "name": "stdout"
        }
      ]
    },
    {
      "cell_type": "code",
      "metadata": {
        "id": "K3RKvXym8ane"
      },
      "source": [
        "max_df = year_df.groupBy('Year').max()"
      ],
      "execution_count": 31,
      "outputs": []
    },
    {
      "cell_type": "code",
      "metadata": {
        "id": "e20ko0mCSJNU",
        "outputId": "1f5327e4-0a96-4144-bb7e-802786dc5e1c",
        "colab": {
          "base_uri": "https://localhost:8080/",
          "height": 185
        }
      },
      "source": [
        "max_df.show()"
      ],
      "execution_count": 32,
      "outputs": [
        {
          "output_type": "stream",
          "text": [
            "+----+-----------------+---------+---------+----------+-----------+-----------------+---------+\n",
            "|Year|        max(Open)|max(High)| max(Low)|max(Close)|max(Volume)|   max(Adj Close)|max(Year)|\n",
            "+----+-----------------+---------+---------+----------+-----------+-----------------+---------+\n",
            "|2015|        90.800003|90.970001|    89.25| 90.470001|   80898100|84.91421600000001|     2015|\n",
            "|2013|        81.209999|81.370003|    80.82| 81.209999|   25683700|        73.929868|     2013|\n",
            "|2014|87.08000200000001|88.089996|86.480003| 87.540001|   22812400|81.70768000000001|     2014|\n",
            "|2012|        77.599998|77.599998|76.690002| 77.150002|   38007300|        68.568371|     2012|\n",
            "|2016|             74.5|75.190002|73.629997| 74.300003|   35076700|        73.233524|     2016|\n",
            "+----+-----------------+---------+---------+----------+-----------+-----------------+---------+\n",
            "\n"
          ],
          "name": "stdout"
        }
      ]
    },
    {
      "cell_type": "markdown",
      "metadata": {
        "id": "7guh43vN8anh"
      },
      "source": [
        "### 14- What is the average Close for each Calendar Month (close price for Jan,Feb, Mar, etc)?\n"
      ]
    },
    {
      "cell_type": "code",
      "metadata": {
        "id": "UWv1-v2H8ani"
      },
      "source": [
        "from pyspark.sql.functions import month\n",
        "month_df = df.withColumn('Month', month('date'))\n",
        "month_avg = month_df.select('Month','Close').groupBy('Month').mean()"
      ],
      "execution_count": 33,
      "outputs": []
    },
    {
      "cell_type": "code",
      "metadata": {
        "id": "6ZDKDuCx8anl",
        "outputId": "0d3f2464-388a-4147-dc8a-2d0fb2b83a4a",
        "colab": {
          "base_uri": "https://localhost:8080/",
          "height": 302
        }
      },
      "source": [
        "month_avg.show()"
      ],
      "execution_count": 34,
      "outputs": [
        {
          "output_type": "stream",
          "text": [
            "+-----+----------+-----------------+\n",
            "|Month|avg(Month)|       avg(Close)|\n",
            "+-----+----------+-----------------+\n",
            "|   12|      12.0|72.84792478301885|\n",
            "|    1|       1.0|71.44801958415842|\n",
            "|    6|       6.0| 72.4953774245283|\n",
            "|    3|       3.0|71.77794377570092|\n",
            "|    5|       5.0|72.30971688679247|\n",
            "|    9|       9.0|72.18411785294116|\n",
            "|    4|       4.0|72.97361900952382|\n",
            "|    8|       8.0|73.02981855454546|\n",
            "|    7|       7.0|74.43971943925233|\n",
            "|   10|      10.0|71.57854545454543|\n",
            "|   11|      11.0| 72.1110893069307|\n",
            "|    2|       2.0|  71.306804443299|\n",
            "+-----+----------+-----------------+\n",
            "\n"
          ],
          "name": "stdout"
        }
      ]
    },
    {
      "cell_type": "code",
      "metadata": {
        "id": "pMDVKM6jTFIC",
        "outputId": "8f90745c-f4eb-4bd9-8f4e-527d70ebeee9",
        "colab": {
          "base_uri": "https://localhost:8080/",
          "height": 302
        }
      },
      "source": [
        "month_avg.select('Month','avg(Close)').orderBy('Month').show()"
      ],
      "execution_count": 35,
      "outputs": [
        {
          "output_type": "stream",
          "text": [
            "+-----+-----------------+\n",
            "|Month|       avg(Close)|\n",
            "+-----+-----------------+\n",
            "|    1|71.44801958415842|\n",
            "|    2|  71.306804443299|\n",
            "|    3|71.77794377570092|\n",
            "|    4|72.97361900952382|\n",
            "|    5|72.30971688679247|\n",
            "|    6| 72.4953774245283|\n",
            "|    7|74.43971943925233|\n",
            "|    8|73.02981855454546|\n",
            "|    9|72.18411785294116|\n",
            "|   10|71.57854545454543|\n",
            "|   11| 72.1110893069307|\n",
            "|   12|72.84792478301885|\n",
            "+-----+-----------------+\n",
            "\n"
          ],
          "name": "stdout"
        }
      ]
    },
    {
      "cell_type": "markdown",
      "metadata": {
        "id": "Uhkf0BLR8anp"
      },
      "source": [
        "#### Well Done!"
      ]
    }
  ]
}