{
  "nbformat": 4,
  "nbformat_minor": 0,
  "metadata": {
    "kernelspec": {
      "display_name": "Python 3",
      "language": "python",
      "name": "python3"
    },
    "language_info": {
      "codemirror_mode": {
        "name": "ipython",
        "version": 3
      },
      "file_extension": ".py",
      "mimetype": "text/x-python",
      "name": "python",
      "nbconvert_exporter": "python",
      "pygments_lexer": "ipython3",
      "version": "3.7.6"
    },
    "colab": {
      "name": "Apache_Spark_05_Regression.ipynb",
      "provenance": [],
      "toc_visible": true,
      "include_colab_link": true
    }
  },
  "cells": [
    {
      "cell_type": "markdown",
      "metadata": {
        "id": "view-in-github",
        "colab_type": "text"
      },
      "source": [
        "<a href=\"https://colab.research.google.com/github/m-mehdi/Python101/blob/master/Apache_Spark_05_Regression_PNB.ipynb\" target=\"_parent\"><img src=\"https://colab.research.google.com/assets/colab-badge.svg\" alt=\"Open In Colab\"/></a>"
      ]
    },
    {
      "cell_type": "markdown",
      "metadata": {
        "id": "mdcuZSm0kAGj"
      },
      "source": [
        "<img src=\"images/cads-logo.png\" style=\"height: 100px;\" align=left> <img src=\"images/apache_spark.png\" style=\"height: 20%;width:20%\" align=right>"
      ]
    },
    {
      "cell_type": "markdown",
      "metadata": {
        "id": "zTAV0DIpkAGk"
      },
      "source": [
        "# Linear Regression\n",
        "In this notebook, we are going to look at another commonly used Machine Learning technique called Linear Regression. Linear Regression is useful when we have data in which we believe we can make predictions about one variable using knowledge about another variable. For example, if we think knowing CPU utilization will allow us to predict what the number of sessions are, or the free memory are, then the linear regression technique whould be a good technique to use to implement that.\n",
        "\n",
        "In this part, we will use utilization data. "
      ]
    },
    {
      "cell_type": "code",
      "metadata": {
        "id": "7Dp0DIifkAGl",
        "outputId": "1c38d921-3745-47ed-fa8d-26f9c6a59f5f",
        "colab": {
          "base_uri": "https://localhost:8080/",
          "height": 255
        }
      },
      "source": [
        "!pip install pyspark\n",
        "from pyspark.sql import SparkSession\n",
        "from pyspark.ml.regression import LinearRegression\n",
        "from pyspark.ml.feature import VectorAssembler"
      ],
      "execution_count": 1,
      "outputs": [
        {
          "output_type": "stream",
          "text": [
            "Collecting pyspark\n",
            "\u001b[?25l  Downloading https://files.pythonhosted.org/packages/f0/26/198fc8c0b98580f617cb03cb298c6056587b8f0447e20fa40c5b634ced77/pyspark-3.0.1.tar.gz (204.2MB)\n",
            "\u001b[K     |████████████████████████████████| 204.2MB 67kB/s \n",
            "\u001b[?25hCollecting py4j==0.10.9\n",
            "\u001b[?25l  Downloading https://files.pythonhosted.org/packages/9e/b6/6a4fb90cd235dc8e265a6a2067f2a2c99f0d91787f06aca4bcf7c23f3f80/py4j-0.10.9-py2.py3-none-any.whl (198kB)\n",
            "\u001b[K     |████████████████████████████████| 204kB 35.0MB/s \n",
            "\u001b[?25hBuilding wheels for collected packages: pyspark\n",
            "  Building wheel for pyspark (setup.py) ... \u001b[?25l\u001b[?25hdone\n",
            "  Created wheel for pyspark: filename=pyspark-3.0.1-py2.py3-none-any.whl size=204612243 sha256=6de6d802ca7ce139c4a7a99df25c322387acb26bd3ad9b45c0b820ba02a27a18\n",
            "  Stored in directory: /root/.cache/pip/wheels/5e/bd/07/031766ca628adec8435bb40f0bd83bb676ce65ff4007f8e73f\n",
            "Successfully built pyspark\n",
            "Installing collected packages: py4j, pyspark\n",
            "Successfully installed py4j-0.10.9 pyspark-3.0.1\n"
          ],
          "name": "stdout"
        }
      ]
    },
    {
      "cell_type": "code",
      "metadata": {
        "id": "Y2M2x7IAkAGo"
      },
      "source": [
        "spark = SparkSession.builder.getOrCreate()"
      ],
      "execution_count": 2,
      "outputs": []
    },
    {
      "cell_type": "code",
      "metadata": {
        "id": "HPr6Hj76kAGr"
      },
      "source": [
        "import os\n",
        "MAIN_DIRECTORY = os.getcwd()\n",
        "file_path =MAIN_DIRECTORY+\"/Data/utilization.json\"\n",
        "df_util = spark.read.format(\"json\").load(file_path)"
      ],
      "execution_count": 3,
      "outputs": []
    },
    {
      "cell_type": "markdown",
      "metadata": {
        "id": "chb71brrkAGw"
      },
      "source": [
        "In this task, we are going to make prediction based on CPU utilization. So to do that, first, we should create a VectorAssembler."
      ]
    },
    {
      "cell_type": "code",
      "metadata": {
        "id": "5ewstlgtkAGx"
      },
      "source": [
        "vec_assembler = VectorAssembler(inputCols=['cpu_utilization','free_memory'], outputCol='features')"
      ],
      "execution_count": 4,
      "outputs": []
    },
    {
      "cell_type": "code",
      "metadata": {
        "id": "5FQ2kRsTkAGz"
      },
      "source": [
        "vec_df = vec_assembler.transform(df_util)"
      ],
      "execution_count": 5,
      "outputs": []
    },
    {
      "cell_type": "code",
      "metadata": {
        "id": "6fOeXf7RkAG2",
        "outputId": "0f00d59a-e853-4a29-9ced-da32ac29a940",
        "colab": {
          "base_uri": "https://localhost:8080/",
          "height": 454
        }
      },
      "source": [
        "vec_df.show()"
      ],
      "execution_count": 6,
      "outputs": [
        {
          "output_type": "stream",
          "text": [
            "+---------------+-------------------+-----------+---------+-------------+-----------+\n",
            "|cpu_utilization|     event_datetime|free_memory|server_id|session_count|   features|\n",
            "+---------------+-------------------+-----------+---------+-------------+-----------+\n",
            "|           0.57|03/05/2019 08:06:14|       0.51|      100|           47|[0.57,0.51]|\n",
            "|           0.47|03/05/2019 08:11:14|       0.62|      100|           43|[0.47,0.62]|\n",
            "|           0.56|03/05/2019 08:16:14|       0.57|      100|           62|[0.56,0.57]|\n",
            "|           0.57|03/05/2019 08:21:14|       0.56|      100|           50|[0.57,0.56]|\n",
            "|           0.35|03/05/2019 08:26:14|       0.46|      100|           43|[0.35,0.46]|\n",
            "|           0.41|03/05/2019 08:31:14|       0.58|      100|           48|[0.41,0.58]|\n",
            "|           0.57|03/05/2019 08:36:14|       0.35|      100|           58|[0.57,0.35]|\n",
            "|           0.41|03/05/2019 08:41:14|        0.4|      100|           58| [0.41,0.4]|\n",
            "|           0.53|03/05/2019 08:46:14|       0.35|      100|           62|[0.53,0.35]|\n",
            "|           0.51|03/05/2019 08:51:14|        0.6|      100|           45| [0.51,0.6]|\n",
            "|           0.32|03/05/2019 08:56:14|       0.37|      100|           47|[0.32,0.37]|\n",
            "|           0.62|03/05/2019 09:01:14|       0.59|      100|           60|[0.62,0.59]|\n",
            "|           0.66|03/05/2019 09:06:14|       0.72|      100|           57|[0.66,0.72]|\n",
            "|           0.54|03/05/2019 09:11:14|       0.54|      100|           44|[0.54,0.54]|\n",
            "|           0.29|03/05/2019 09:16:14|        0.4|      100|           47| [0.29,0.4]|\n",
            "|           0.43|03/05/2019 09:21:14|       0.68|      100|           66|[0.43,0.68]|\n",
            "|           0.49|03/05/2019 09:26:14|       0.66|      100|           65|[0.49,0.66]|\n",
            "|           0.64|03/05/2019 09:31:14|       0.55|      100|           66|[0.64,0.55]|\n",
            "|           0.42|03/05/2019 09:36:14|        0.6|      100|           42| [0.42,0.6]|\n",
            "|           0.55|03/05/2019 09:41:14|       0.59|      100|           63|[0.55,0.59]|\n",
            "+---------------+-------------------+-----------+---------+-------------+-----------+\n",
            "only showing top 20 rows\n",
            "\n"
          ],
          "name": "stdout"
        }
      ]
    },
    {
      "cell_type": "markdown",
      "metadata": {
        "id": "JGUwziG-kAG4"
      },
      "source": [
        "Now, the next thing, we want to do is create a data structure that has a linear regression model, which we can later fit our data to it."
      ]
    },
    {
      "cell_type": "code",
      "metadata": {
        "id": "ATVIYU9rkAG5"
      },
      "source": [
        "lr = LinearRegression(featuresCol='features', labelCol='session_count')"
      ],
      "execution_count": 7,
      "outputs": []
    },
    {
      "cell_type": "code",
      "metadata": {
        "id": "wixZ5L_-kAG_"
      },
      "source": [
        "LinRegModel = lr.fit(vec_df)"
      ],
      "execution_count": 8,
      "outputs": []
    },
    {
      "cell_type": "markdown",
      "metadata": {
        "id": "Wf2I1m0XkAHB"
      },
      "source": [
        "Now our Linear Regression Model is specified by two properties, the coefficients and the intercept. "
      ]
    },
    {
      "cell_type": "code",
      "metadata": {
        "id": "v1FV6UOGkAHC",
        "outputId": "01fcd038-7629-49eb-ef72-9e16489b85d3",
        "colab": {
          "base_uri": "https://localhost:8080/",
          "height": 34
        }
      },
      "source": [
        "LinRegModel.coefficients"
      ],
      "execution_count": 9,
      "outputs": [
        {
          "output_type": "execute_result",
          "data": {
            "text/plain": [
              "DenseVector([34.7115, -34.3003])"
            ]
          },
          "metadata": {
            "tags": []
          },
          "execution_count": 9
        }
      ]
    },
    {
      "cell_type": "code",
      "metadata": {
        "id": "gU2TxbyWkAHE",
        "outputId": "89443966-c1a9-4962-e386-0d8e5bae50e4",
        "colab": {
          "base_uri": "https://localhost:8080/",
          "height": 34
        }
      },
      "source": [
        "LinRegModel.intercept"
      ],
      "execution_count": 10,
      "outputs": [
        {
          "output_type": "execute_result",
          "data": {
            "text/plain": [
              "61.52644931884563"
            ]
          },
          "metadata": {
            "tags": []
          },
          "execution_count": 10
        }
      ]
    },
    {
      "cell_type": "markdown",
      "metadata": {
        "id": "0BEfmdwHkAHG"
      },
      "source": [
        "One of the things, we often want to know, when we are building a predictive model is the error that occures when we fit that model. Because the line is not going to fit exactly all of the data points. So what we often use for a measure is the Root Means Squared Error."
      ]
    },
    {
      "cell_type": "code",
      "metadata": {
        "id": "JD_QvQqMkAHG",
        "outputId": "dab6c05e-825e-4a70-9da5-07626526c168",
        "colab": {
          "base_uri": "https://localhost:8080/",
          "height": 34
        }
      },
      "source": [
        "LinRegModel.summary.rootMeanSquaredError"
      ],
      "execution_count": 11,
      "outputs": [
        {
          "output_type": "execute_result",
          "data": {
            "text/plain": [
              "12.171265582286457"
            ]
          },
          "metadata": {
            "tags": []
          },
          "execution_count": 11
        }
      ]
    },
    {
      "cell_type": "markdown",
      "metadata": {
        "id": "HySNaxCokAHI"
      },
      "source": [
        "#### Well Done!"
      ]
    }
  ]
}