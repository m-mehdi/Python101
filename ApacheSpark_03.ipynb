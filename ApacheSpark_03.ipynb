{
  "nbformat": 4,
  "nbformat_minor": 0,
  "metadata": {
    "colab": {
      "name": "ApacheSpark_03.ipynb",
      "provenance": [],
      "authorship_tag": "ABX9TyOq64Iowvqxyxn2z1F4AvcF",
      "include_colab_link": true
    },
    "kernelspec": {
      "name": "python3",
      "display_name": "Python 3"
    }
  },
  "cells": [
    {
      "cell_type": "markdown",
      "metadata": {
        "id": "view-in-github",
        "colab_type": "text"
      },
      "source": [
        "<a href=\"https://colab.research.google.com/github/m-mehdi/Python101/blob/master/ApacheSpark_03.ipynb\" target=\"_parent\"><img src=\"https://colab.research.google.com/assets/colab-badge.svg\" alt=\"Open In Colab\"/></a>"
      ]
    },
    {
      "cell_type": "markdown",
      "metadata": {
        "id": "wYMSd3eCgimw"
      },
      "source": [
        "# Manipulating Data using Apache Spark"
      ]
    },
    {
      "cell_type": "markdown",
      "metadata": {
        "id": "zy5Izn0jgpVc"
      },
      "source": [
        "In this notebook, we are going to get our hands dirty with Spark DataFrame API to perform common data operations."
      ]
    },
    {
      "cell_type": "code",
      "metadata": {
        "id": "mFgCVPzAglCa",
        "outputId": "1884f65c-4c19-47ae-891a-1d07f9dab9ab",
        "colab": {
          "base_uri": "https://localhost:8080/",
          "height": 255
        }
      },
      "source": [
        "!pip install pyspark\n",
        "from pyspark.sql import SparkSession\n",
        "spark = SparkSession.builder.getOrCreate()"
      ],
      "execution_count": 1,
      "outputs": [
        {
          "output_type": "stream",
          "text": [
            "Collecting pyspark\n",
            "\u001b[?25l  Downloading https://files.pythonhosted.org/packages/f0/26/198fc8c0b98580f617cb03cb298c6056587b8f0447e20fa40c5b634ced77/pyspark-3.0.1.tar.gz (204.2MB)\n",
            "\u001b[K     |████████████████████████████████| 204.2MB 69kB/s \n",
            "\u001b[?25hCollecting py4j==0.10.9\n",
            "\u001b[?25l  Downloading https://files.pythonhosted.org/packages/9e/b6/6a4fb90cd235dc8e265a6a2067f2a2c99f0d91787f06aca4bcf7c23f3f80/py4j-0.10.9-py2.py3-none-any.whl (198kB)\n",
            "\u001b[K     |████████████████████████████████| 204kB 29.4MB/s \n",
            "\u001b[?25hBuilding wheels for collected packages: pyspark\n",
            "  Building wheel for pyspark (setup.py) ... \u001b[?25l\u001b[?25hdone\n",
            "  Created wheel for pyspark: filename=pyspark-3.0.1-py2.py3-none-any.whl size=204612243 sha256=e38c163bb2a8a55b674a2ef2220c079aa3f1db55937775c4d12bc38d84229f63\n",
            "  Stored in directory: /root/.cache/pip/wheels/5e/bd/07/031766ca628adec8435bb40f0bd83bb676ce65ff4007f8e73f\n",
            "Successfully built pyspark\n",
            "Installing collected packages: py4j, pyspark\n",
            "Successfully installed py4j-0.10.9 pyspark-3.0.1\n"
          ],
          "name": "stdout"
        }
      ]
    },
    {
      "cell_type": "code",
      "metadata": {
        "id": "daphZS-chjgT",
        "outputId": "ebb45b3b-0d86-4d83-bb7b-6e62c9616244",
        "colab": {
          "base_uri": "https://localhost:8080/",
          "height": 214
        }
      },
      "source": [
        "spark"
      ],
      "execution_count": 2,
      "outputs": [
        {
          "output_type": "execute_result",
          "data": {
            "text/html": [
              "\n",
              "            <div>\n",
              "                <p><b>SparkSession - in-memory</b></p>\n",
              "                \n",
              "        <div>\n",
              "            <p><b>SparkContext</b></p>\n",
              "\n",
              "            <p><a href=\"http://a0cd05679800:4040\">Spark UI</a></p>\n",
              "\n",
              "            <dl>\n",
              "              <dt>Version</dt>\n",
              "                <dd><code>v3.0.1</code></dd>\n",
              "              <dt>Master</dt>\n",
              "                <dd><code>local[*]</code></dd>\n",
              "              <dt>AppName</dt>\n",
              "                <dd><code>pyspark-shell</code></dd>\n",
              "            </dl>\n",
              "        </div>\n",
              "        \n",
              "            </div>\n",
              "        "
            ],
            "text/plain": [
              "<pyspark.sql.session.SparkSession at 0x7fb3ff23d470>"
            ]
          },
          "metadata": {
            "tags": []
          },
          "execution_count": 2
        }
      ]
    },
    {
      "cell_type": "markdown",
      "metadata": {
        "id": "8BpbkX5chqGH"
      },
      "source": [
        "If you take a look at dataset folder, you will see `flights.csv` that contains a row for every flight that left Portland International Airport (PDX) or Seattle-Tacoma International Airport (SEA) in 2014 and 2015.\n",
        "\n",
        "In the first step, we should create a DataFrame using `flights.csv` file and then create a table (temporaray view) for querying flights by using SQL commands. Let's do it."
      ]
    },
    {
      "cell_type": "code",
      "metadata": {
        "id": "KCPJ_gk6hmB-"
      },
      "source": [
        "import os\n",
        "MAIN_DIRECTORY = os.getcwd()\n",
        "file_path =MAIN_DIRECTORY+\"/dataset/flights.csv\""
      ],
      "execution_count": 5,
      "outputs": []
    },
    {
      "cell_type": "code",
      "metadata": {
        "id": "jviOBxjRhwA-"
      },
      "source": [
        "df_flights = spark.read.format(\"csv\").option(\"header\",\"true\").option('inferSchema','true').load(file_path)"
      ],
      "execution_count": 6,
      "outputs": []
    },
    {
      "cell_type": "code",
      "metadata": {
        "id": "2nmMfyqHh2O2"
      },
      "source": [
        "df_flights.createOrReplaceTempView('flights')"
      ],
      "execution_count": 7,
      "outputs": []
    },
    {
      "cell_type": "markdown",
      "metadata": {
        "id": "92uxE_sdiIlv"
      },
      "source": [
        "### Exercise 1: Use SQL to get the first five rows of the flights table and save the result to flights5, finally show the results. "
      ]
    },
    {
      "cell_type": "code",
      "metadata": {
        "id": "Ld2ZGz1ViLp6",
        "outputId": "0bd4f4ad-1306-4842-881f-a28464f1940f",
        "colab": {
          "base_uri": "https://localhost:8080/",
          "height": 185
        }
      },
      "source": [
        "query = \"SELECT * FROM flights LIMIT 5\"\n",
        "flights5 = spark.sql(query)\n",
        "flights5.show()"
      ],
      "execution_count": 8,
      "outputs": [
        {
          "output_type": "stream",
          "text": [
            "+----+-----+---+--------+---------+--------+---------+-------+-------+------+------+----+--------+--------+----+------+\n",
            "|year|month|day|dep_time|dep_delay|arr_time|arr_delay|carrier|tailnum|flight|origin|dest|air_time|distance|hour|minute|\n",
            "+----+-----+---+--------+---------+--------+---------+-------+-------+------+------+----+--------+--------+----+------+\n",
            "|2014|   12|  8|     658|       -7|     935|       -5|     VX| N846VA|  1780|   SEA| LAX|     132|     954|   6|    58|\n",
            "|2014|    1| 22|    1040|        5|    1505|        5|     AS| N559AS|   851|   SEA| HNL|     360|    2677|  10|    40|\n",
            "|2014|    3|  9|    1443|       -2|    1652|        2|     VX| N847VA|   755|   SEA| SFO|     111|     679|  14|    43|\n",
            "|2014|    4|  9|    1705|       45|    1839|       34|     WN| N360SW|   344|   PDX| SJC|      83|     569|  17|     5|\n",
            "|2014|    3|  9|     754|       -1|    1015|        1|     AS| N612AS|   522|   SEA| BUR|     127|     937|   7|    54|\n",
            "+----+-----+---+--------+---------+--------+---------+-------+-------+------+------+----+--------+--------+----+------+\n",
            "\n"
          ],
          "name": "stdout"
        }
      ]
    },
    {
      "cell_type": "markdown",
      "metadata": {
        "id": "40XQbN4GiQr3"
      },
      "source": [
        "### Exercise 2: Write a query that counts the number of flights to each airport from SEA and PDX."
      ]
    },
    {
      "cell_type": "code",
      "metadata": {
        "id": "dZ1ukubniUCu",
        "outputId": "73a6a0be-5671-4d3e-da1d-566396752dd1",
        "colab": {
          "base_uri": "https://localhost:8080/",
          "height": 454
        }
      },
      "source": [
        "query = \"SELECT origin, dest, count(*) as NUM_FLIGHTS FROM flights GROUP BY origin, dest\"\n",
        "flight_counts = spark.sql(query)\n",
        "flight_counts.show()"
      ],
      "execution_count": 9,
      "outputs": [
        {
          "output_type": "stream",
          "text": [
            "+------+----+-----------+\n",
            "|origin|dest|NUM_FLIGHTS|\n",
            "+------+----+-----------+\n",
            "|   SEA| RNO|          8|\n",
            "|   SEA| DTW|         98|\n",
            "|   SEA| CLE|          2|\n",
            "|   SEA| LAX|        450|\n",
            "|   PDX| SEA|        144|\n",
            "|   SEA| BLI|          5|\n",
            "|   PDX| IAH|         57|\n",
            "|   PDX| PHX|        209|\n",
            "|   SEA| SLC|        225|\n",
            "|   SEA| SBA|         23|\n",
            "|   SEA| BWI|         29|\n",
            "|   PDX| IAD|         23|\n",
            "|   PDX| SFO|        305|\n",
            "|   SEA| KOA|         40|\n",
            "|   PDX| MCI|         15|\n",
            "|   SEA| SJC|        213|\n",
            "|   SEA| ABQ|         43|\n",
            "|   SEA| SAT|         18|\n",
            "|   PDX| ONT|         57|\n",
            "|   SEA| LAS|        364|\n",
            "+------+----+-----------+\n",
            "only showing top 20 rows\n",
            "\n"
          ],
          "name": "stdout"
        }
      ]
    },
    {
      "cell_type": "code",
      "metadata": {
        "id": "uvWwObbwnys2",
        "outputId": "cf7943a0-08ad-484a-a95a-f48846860ce1",
        "colab": {
          "base_uri": "https://localhost:8080/",
          "height": 454
        }
      },
      "source": [
        "df_flights.groupBy(['origin','dest']).count().show()"
      ],
      "execution_count": 10,
      "outputs": [
        {
          "output_type": "stream",
          "text": [
            "+------+----+-----+\n",
            "|origin|dest|count|\n",
            "+------+----+-----+\n",
            "|   SEA| RNO|    8|\n",
            "|   SEA| DTW|   98|\n",
            "|   SEA| CLE|    2|\n",
            "|   SEA| LAX|  450|\n",
            "|   PDX| SEA|  144|\n",
            "|   SEA| BLI|    5|\n",
            "|   PDX| IAH|   57|\n",
            "|   PDX| PHX|  209|\n",
            "|   SEA| SLC|  225|\n",
            "|   SEA| SBA|   23|\n",
            "|   SEA| BWI|   29|\n",
            "|   PDX| IAD|   23|\n",
            "|   PDX| SFO|  305|\n",
            "|   SEA| KOA|   40|\n",
            "|   PDX| MCI|   15|\n",
            "|   SEA| SJC|  213|\n",
            "|   SEA| ABQ|   43|\n",
            "|   SEA| SAT|   18|\n",
            "|   PDX| ONT|   57|\n",
            "|   SEA| LAS|  364|\n",
            "+------+----+-----+\n",
            "only showing top 20 rows\n",
            "\n"
          ],
          "name": "stdout"
        }
      ]
    },
    {
      "cell_type": "markdown",
      "metadata": {
        "id": "JTl9xNfxiWF8"
      },
      "source": [
        "### Exercise 3: Write a piece of code to create a DataFrame using `airports.csv`, this file contains information about different airports all over the world. "
      ]
    },
    {
      "cell_type": "code",
      "metadata": {
        "id": "x0gEFlT0iY1B",
        "outputId": "9d1dfc36-1844-4a24-8fab-b5cc2a570f5a",
        "colab": {
          "base_uri": "https://localhost:8080/",
          "height": 286
        }
      },
      "source": [
        "file_path = MAIN_DIRECTORY+\"/dataset/airports.csv\"\n",
        "df_airports = spark.read.csv(file_path, header=True, inferSchema=True)\n",
        "df_airports.show(10)"
      ],
      "execution_count": 11,
      "outputs": [
        {
          "output_type": "stream",
          "text": [
            "+---+--------------------+----------+------------+----+---+---+\n",
            "|faa|                name|       lat|         lon| alt| tz|dst|\n",
            "+---+--------------------+----------+------------+----+---+---+\n",
            "|04G|   Lansdowne Airport|41.1304722| -80.6195833|1044| -5|  A|\n",
            "|06A|Moton Field Munic...|32.4605722| -85.6800278| 264| -5|  A|\n",
            "|06C| Schaumburg Regional|41.9893408| -88.1012428| 801| -6|  A|\n",
            "|06N|     Randall Airport| 41.431912| -74.3915611| 523| -5|  A|\n",
            "|09J|Jekyll Island Air...|31.0744722| -81.4277778|  11| -4|  A|\n",
            "|0A9|Elizabethton Muni...|36.3712222| -82.1734167|1593| -4|  A|\n",
            "|0G6|Williams County A...|41.4673056| -84.5067778| 730| -5|  A|\n",
            "|0G7|Finger Lakes Regi...|42.8835647| -76.7812318| 492| -5|  A|\n",
            "|0P2|Shoestring Aviati...|39.7948244| -76.6471914|1000| -5|  U|\n",
            "|0S9|Jefferson County ...|48.0538086|-122.8106436| 108| -8|  A|\n",
            "+---+--------------------+----------+------------+----+---+---+\n",
            "only showing top 10 rows\n",
            "\n"
          ],
          "name": "stdout"
        }
      ]
    },
    {
      "cell_type": "code",
      "metadata": {
        "id": "RLXcJK4Uig6J"
      },
      "source": [
        ""
      ],
      "execution_count": null,
      "outputs": []
    },
    {
      "cell_type": "markdown",
      "metadata": {
        "id": "QK0tesB_ihV1"
      },
      "source": [
        "Let's look at performing column-wise operations. In Apache Spark, you can do this using the `.withColumn(colName, col)`  which returns a new DataFrame by adding a column or replacing the existing column that has the same name.\n",
        "\n",
        "*Parameters*:  \n",
        "- **colName** – string, name of the new column.\n",
        "- **col** – a Column expression for the new column. \n",
        "\n",
        "The new `column` must be an object of class Column. Creating one of these is as easy as extracting a column from your DataFrame using `df.colName`.\n",
        "Apache Spark DataFrame is **immutable**. Immutable means that it can't be changed, and so columns can't be updated in place.\n",
        "For example:\n",
        "```python\n",
        "df = df.withColumn(\"newCol\", df.oldCol + 1)\n",
        "```\n",
        "The above code creates a DataFrame with the same columns as df plus a new column, `newCol`, where every entry is equal to the corresponding entry from `oldCol`, plus one.\n",
        "\n",
        "Sometimes we have to change a column data type to another one, in this case, we can use the following code:\n",
        "```python\n",
        "from pyspark.sql.functions import col\n",
        "df_name = df_name.withColumn(\"columnName\", col(\"columnName\").cast(\"DataType\"))\n",
        "```"
      ]
    },
    {
      "cell_type": "markdown",
      "metadata": {
        "id": "LYq5eoqziqFf"
      },
      "source": [
        "### Exercise 4: Update `flights` DataFrame to include a new column called `duration_hrs`, that contains the duration of each flight in hours."
      ]
    },
    {
      "cell_type": "code",
      "metadata": {
        "id": "3Ts44fXtiiOJ",
        "outputId": "29b77983-de93-4105-a2e7-cc2bf5515322",
        "colab": {
          "base_uri": "https://localhost:8080/",
          "height": 168
        }
      },
      "source": [
        "df_flights.show(3)"
      ],
      "execution_count": 13,
      "outputs": [
        {
          "output_type": "stream",
          "text": [
            "+----+-----+---+--------+---------+--------+---------+-------+-------+------+------+----+--------+--------+----+------+\n",
            "|year|month|day|dep_time|dep_delay|arr_time|arr_delay|carrier|tailnum|flight|origin|dest|air_time|distance|hour|minute|\n",
            "+----+-----+---+--------+---------+--------+---------+-------+-------+------+------+----+--------+--------+----+------+\n",
            "|2014|   12|  8|     658|       -7|     935|       -5|     VX| N846VA|  1780|   SEA| LAX|     132|     954|   6|    58|\n",
            "|2014|    1| 22|    1040|        5|    1505|        5|     AS| N559AS|   851|   SEA| HNL|     360|    2677|  10|    40|\n",
            "|2014|    3|  9|    1443|       -2|    1652|        2|     VX| N847VA|   755|   SEA| SFO|     111|     679|  14|    43|\n",
            "+----+-----+---+--------+---------+--------+---------+-------+-------+------+------+----+--------+--------+----+------+\n",
            "only showing top 3 rows\n",
            "\n"
          ],
          "name": "stdout"
        }
      ]
    },
    {
      "cell_type": "code",
      "metadata": {
        "id": "hpxXtsYGrh0x"
      },
      "source": [
        "from pyspark.sql.functions import col\n",
        "df_flights = df_flights.withColumn('air_time',col('air_time').cast('integer'))"
      ],
      "execution_count": 18,
      "outputs": []
    },
    {
      "cell_type": "code",
      "metadata": {
        "id": "L0CLZe0rirum"
      },
      "source": [
        "df_flights = df_flights.withColumn('duration_hrs', df_flights.air_time/60)"
      ],
      "execution_count": 19,
      "outputs": []
    },
    {
      "cell_type": "code",
      "metadata": {
        "id": "ZB4tMqrJitLv",
        "outputId": "d94c3446-aa0b-4708-ab36-c00fe2fd0e66",
        "colab": {
          "base_uri": "https://localhost:8080/",
          "height": 302
        }
      },
      "source": [
        "df_flights.columns"
      ],
      "execution_count": 15,
      "outputs": [
        {
          "output_type": "execute_result",
          "data": {
            "text/plain": [
              "['year',\n",
              " 'month',\n",
              " 'day',\n",
              " 'dep_time',\n",
              " 'dep_delay',\n",
              " 'arr_time',\n",
              " 'arr_delay',\n",
              " 'carrier',\n",
              " 'tailnum',\n",
              " 'flight',\n",
              " 'origin',\n",
              " 'dest',\n",
              " 'air_time',\n",
              " 'distance',\n",
              " 'hour',\n",
              " 'minute',\n",
              " 'duration_hrs']"
            ]
          },
          "metadata": {
            "tags": []
          },
          "execution_count": 15
        }
      ]
    },
    {
      "cell_type": "code",
      "metadata": {
        "id": "m4MWbutprDfT",
        "outputId": "05bbccea-abbd-4e78-9912-38a13ced6e55",
        "colab": {
          "base_uri": "https://localhost:8080/",
          "height": 168
        }
      },
      "source": [
        "df_flights.show(3)"
      ],
      "execution_count": 20,
      "outputs": [
        {
          "output_type": "stream",
          "text": [
            "+----+-----+---+--------+---------+--------+---------+-------+-------+------+------+----+--------+--------+----+------+------------+\n",
            "|year|month|day|dep_time|dep_delay|arr_time|arr_delay|carrier|tailnum|flight|origin|dest|air_time|distance|hour|minute|duration_hrs|\n",
            "+----+-----+---+--------+---------+--------+---------+-------+-------+------+------+----+--------+--------+----+------+------------+\n",
            "|2014|   12|  8|     658|       -7|     935|       -5|     VX| N846VA|  1780|   SEA| LAX|     132|     954|   6|    58|         2.2|\n",
            "|2014|    1| 22|    1040|        5|    1505|        5|     AS| N559AS|   851|   SEA| HNL|     360|    2677|  10|    40|         6.0|\n",
            "|2014|    3|  9|    1443|       -2|    1652|        2|     VX| N847VA|   755|   SEA| SFO|     111|     679|  14|    43|        1.85|\n",
            "+----+-----+---+--------+---------+--------+---------+-------+-------+------+------+----+--------+--------+----+------+------------+\n",
            "only showing top 3 rows\n",
            "\n"
          ],
          "name": "stdout"
        }
      ]
    },
    {
      "cell_type": "code",
      "metadata": {
        "id": "uFWkVI7brQ5p",
        "outputId": "b7d11eb5-35ef-4f29-d95a-edc934bb39f3",
        "colab": {
          "base_uri": "https://localhost:8080/",
          "height": 336
        }
      },
      "source": [
        "df_flights.printSchema()"
      ],
      "execution_count": 21,
      "outputs": [
        {
          "output_type": "stream",
          "text": [
            "root\n",
            " |-- year: integer (nullable = true)\n",
            " |-- month: integer (nullable = true)\n",
            " |-- day: integer (nullable = true)\n",
            " |-- dep_time: string (nullable = true)\n",
            " |-- dep_delay: string (nullable = true)\n",
            " |-- arr_time: string (nullable = true)\n",
            " |-- arr_delay: string (nullable = true)\n",
            " |-- carrier: string (nullable = true)\n",
            " |-- tailnum: string (nullable = true)\n",
            " |-- flight: integer (nullable = true)\n",
            " |-- origin: string (nullable = true)\n",
            " |-- dest: string (nullable = true)\n",
            " |-- air_time: integer (nullable = true)\n",
            " |-- distance: integer (nullable = true)\n",
            " |-- hour: string (nullable = true)\n",
            " |-- minute: string (nullable = true)\n",
            " |-- duration_hrs: double (nullable = true)\n",
            "\n"
          ],
          "name": "stdout"
        }
      ]
    },
    {
      "cell_type": "code",
      "metadata": {
        "id": "2oSB3z1eywFt"
      },
      "source": [
        "from pyspark.sql.functions import round"
      ],
      "execution_count": 23,
      "outputs": []
    },
    {
      "cell_type": "code",
      "metadata": {
        "id": "LuYJToF4siVD",
        "outputId": "fb7aee49-5e07-472e-da9e-aadf34076101",
        "colab": {
          "base_uri": "https://localhost:8080/",
          "height": 454
        }
      },
      "source": [
        "df_flights.select(['origin','dest','flight','air_time',round(df_flights.duration_hrs,2).alias('duration_hrs')]).show()"
      ],
      "execution_count": 25,
      "outputs": [
        {
          "output_type": "stream",
          "text": [
            "+------+----+------+--------+------------+\n",
            "|origin|dest|flight|air_time|duration_hrs|\n",
            "+------+----+------+--------+------------+\n",
            "|   SEA| LAX|  1780|     132|         2.2|\n",
            "|   SEA| HNL|   851|     360|         6.0|\n",
            "|   SEA| SFO|   755|     111|        1.85|\n",
            "|   PDX| SJC|   344|      83|        1.38|\n",
            "|   SEA| BUR|   522|     127|        2.12|\n",
            "|   PDX| DEN|    48|     121|        2.02|\n",
            "|   PDX| OAK|  1520|      90|         1.5|\n",
            "|   SEA| SFO|   755|      98|        1.63|\n",
            "|   SEA| SAN|   490|     135|        2.25|\n",
            "|   SEA| ORD|    26|     198|         3.3|\n",
            "|   SEA| LAX|   448|     130|        2.17|\n",
            "|   SEA| PHX|   656|     154|        2.57|\n",
            "|   SEA| LAS|   608|     127|        2.12|\n",
            "|   SEA| ANC|   121|     183|        3.05|\n",
            "|   SEA| SFO|   306|     129|        2.15|\n",
            "|   PDX| SFO|  1458|      90|         1.5|\n",
            "|   SEA| SMF|   368|      76|        1.27|\n",
            "|   SEA| MDW|   827|     216|         3.6|\n",
            "|   SEA| BOS|    24|     290|        4.83|\n",
            "|   PDX| BUR|  3488|     111|        1.85|\n",
            "+------+----+------+--------+------------+\n",
            "only showing top 20 rows\n",
            "\n"
          ],
          "name": "stdout"
        }
      ]
    },
    {
      "cell_type": "markdown",
      "metadata": {
        "id": "T876iIdYivMp"
      },
      "source": [
        "### Exercise 5: Write a query using the `.filter()` method to find all the flights that flew over 1000 miles."
      ]
    },
    {
      "cell_type": "code",
      "metadata": {
        "id": "gjdrk3EyiuA8"
      },
      "source": [
        "long_flights = df_flights.filter(df_flights.distance>1000)"
      ],
      "execution_count": 26,
      "outputs": []
    },
    {
      "cell_type": "code",
      "metadata": {
        "id": "5-pYq7rHi3eO",
        "outputId": "0d5fb222-9ff7-4df6-f899-77d663380793",
        "colab": {
          "base_uri": "https://localhost:8080/",
          "height": 286
        }
      },
      "source": [
        "long_flights.show(10)"
      ],
      "execution_count": 27,
      "outputs": [
        {
          "output_type": "stream",
          "text": [
            "+----+-----+---+--------+---------+--------+---------+-------+-------+------+------+----+--------+--------+----+------+-----------------+\n",
            "|year|month|day|dep_time|dep_delay|arr_time|arr_delay|carrier|tailnum|flight|origin|dest|air_time|distance|hour|minute|     duration_hrs|\n",
            "+----+-----+---+--------+---------+--------+---------+-------+-------+------+------+----+--------+--------+----+------+-----------------+\n",
            "|2014|    1| 22|    1040|        5|    1505|        5|     AS| N559AS|   851|   SEA| HNL|     360|    2677|  10|    40|              6.0|\n",
            "|2014|    4| 19|    1236|       -4|    1508|       -7|     AS| N309AS|   490|   SEA| SAN|     135|    1050|  12|    36|             2.25|\n",
            "|2014|   11| 19|    1812|       -3|    2352|       -4|     AS| N564AS|    26|   SEA| ORD|     198|    1721|  18|    12|              3.3|\n",
            "|2014|    8|  3|    1120|        0|    1415|        2|     AS| N305AS|   656|   SEA| PHX|     154|    1107|  11|    20|2.566666666666667|\n",
            "|2014|   11| 12|    2346|       -4|     217|      -28|     AS| N765AS|   121|   SEA| ANC|     183|    1448|  23|    46|             3.05|\n",
            "|2014|    8| 11|    1017|       -3|    1613|       -7|     WN| N8634A|   827|   SEA| MDW|     216|    1733|  10|    17|              3.6|\n",
            "|2014|    1| 13|    2156|       -9|     607|      -15|     AS| N597AS|    24|   SEA| BOS|     290|    2496|  21|    56|4.833333333333333|\n",
            "|2014|    9| 26|     610|       -5|    1523|       65|     US| N127UW|   616|   SEA| PHL|     293|    2378|   6|    10|4.883333333333334|\n",
            "|2014|   12|  4|     954|       -6|    1348|      -17|     HA| N395HA|    29|   SEA| OGG|     333|    2640|   9|    54|             5.55|\n",
            "|2014|    6|  4|    1115|        0|    1346|       -3|     AS| N461AS|   488|   SEA| SAN|     133|    1050|  11|    15|2.216666666666667|\n",
            "+----+-----+---+--------+---------+--------+---------+-------+-------+------+------+----+--------+--------+----+------+-----------------+\n",
            "only showing top 10 rows\n",
            "\n"
          ],
          "name": "stdout"
        }
      ]
    },
    {
      "cell_type": "markdown",
      "metadata": {
        "id": "cC-qdqNbi38W"
      },
      "source": [
        "### Exercise 6: Write a query using `.filter()` method, to only keep flights from SEA to PDX. This query should only return `tailnum`, `origin`, and `dest` columns."
      ]
    },
    {
      "cell_type": "code",
      "metadata": {
        "id": "K5LLfOS5i-nO",
        "outputId": "31f020a1-68ff-4f80-8ab0-77af55c16c2b",
        "colab": {
          "base_uri": "https://localhost:8080/",
          "height": 202
        }
      },
      "source": [
        "df_flights.filter(df_flights.origin =='SEA').filter(df_flights.dest =='PDX')\\\n",
        "          .select(['tailnum','origin','dest']).show(5)"
      ],
      "execution_count": 28,
      "outputs": [
        {
          "output_type": "stream",
          "text": [
            "+-------+------+----+\n",
            "|tailnum|origin|dest|\n",
            "+-------+------+----+\n",
            "| N810SK|   SEA| PDX|\n",
            "| N822SK|   SEA| PDX|\n",
            "| N586SW|   SEA| PDX|\n",
            "| N223SW|   SEA| PDX|\n",
            "| N580SW|   SEA| PDX|\n",
            "+-------+------+----+\n",
            "only showing top 5 rows\n",
            "\n"
          ],
          "name": "stdout"
        }
      ]
    },
    {
      "cell_type": "code",
      "metadata": {
        "id": "2PYOW1xQi_xM",
        "outputId": "bf5b718b-d8a9-4151-ee69-c9a948bcd277",
        "colab": {
          "base_uri": "https://localhost:8080/",
          "height": 202
        }
      },
      "source": [
        "df_flights.filter((df_flights.origin=='SEA')&(df_flights.dest=='PDX'))\\\n",
        "          .select(['tailnum','origin','dest']).show(5)"
      ],
      "execution_count": 29,
      "outputs": [
        {
          "output_type": "stream",
          "text": [
            "+-------+------+----+\n",
            "|tailnum|origin|dest|\n",
            "+-------+------+----+\n",
            "| N810SK|   SEA| PDX|\n",
            "| N822SK|   SEA| PDX|\n",
            "| N586SW|   SEA| PDX|\n",
            "| N223SW|   SEA| PDX|\n",
            "| N580SW|   SEA| PDX|\n",
            "+-------+------+----+\n",
            "only showing top 5 rows\n",
            "\n"
          ],
          "name": "stdout"
        }
      ]
    },
    {
      "cell_type": "markdown",
      "metadata": {
        "id": "w5IC5HP9jDCP"
      },
      "source": [
        "We can perform column-wise operations using `.select()` method. When we select a column using the `df.colName` notation. In `.select()` method, we can perform any column operation and it will return the transformed column. \n",
        "For example, the following command returns a column of flight durations in hours instead of minutes.\n",
        "```python\n",
        "df_flights.select(df_flights.air_time/60)\n",
        "```\n",
        "We can use the `alias()` method to rename a column we've selected. The following example shows how we can do that.\n",
        "```python\n",
        "df_flights.select((df_flights.air_time/60).alias(\"duration_hrs\")\n",
        "```\n",
        "If we want to stick to the SQL syntax, we can use `.selectExpr()` method as well. The following commad is equivalent to the previous code.\n",
        "\n",
        "```python\n",
        "df_flights.selectExpr(\"air_time/60 as duration_hrs\")\n",
        "```"
      ]
    },
    {
      "cell_type": "markdown",
      "metadata": {
        "id": "q4niPNF7jHQA"
      },
      "source": [
        "### Exercise 7: Write a query that return these columns, `origin`, `dest`, `tailnum`, and average speed in KM per hour."
      ]
    },
    {
      "cell_type": "code",
      "metadata": {
        "id": "bcqW3Y7TjD6Z"
      },
      "source": [
        "avg_speed =(df_flights.distance/(df_flights.air_time/60)).alias('avg_speed')"
      ],
      "execution_count": 30,
      "outputs": []
    },
    {
      "cell_type": "code",
      "metadata": {
        "id": "tfHzKBRDjJoT",
        "outputId": "92c2bbc3-2049-4d25-e62b-ea2cf8a5bfe0",
        "colab": {
          "base_uri": "https://localhost:8080/",
          "height": 202
        }
      },
      "source": [
        "df_flights.select('origin','dest','tailnum',avg_speed).show(5)"
      ],
      "execution_count": 31,
      "outputs": [
        {
          "output_type": "stream",
          "text": [
            "+------+----+-------+------------------+\n",
            "|origin|dest|tailnum|         avg_speed|\n",
            "+------+----+-------+------------------+\n",
            "|   SEA| LAX| N846VA| 433.6363636363636|\n",
            "|   SEA| HNL| N559AS| 446.1666666666667|\n",
            "|   SEA| SFO| N847VA|367.02702702702703|\n",
            "|   PDX| SJC| N360SW| 411.3253012048193|\n",
            "|   SEA| BUR| N612AS| 442.6771653543307|\n",
            "+------+----+-------+------------------+\n",
            "only showing top 5 rows\n",
            "\n"
          ],
          "name": "stdout"
        }
      ]
    },
    {
      "cell_type": "code",
      "metadata": {
        "id": "0DOX-h0djKi8",
        "outputId": "5088479c-1b2f-473e-b4b7-adddb808db76",
        "colab": {
          "base_uri": "https://localhost:8080/",
          "height": 454
        }
      },
      "source": [
        "df_flights.selectExpr('origin','dest','tailnum','distance/(air_time/60) as avg_speed').show()"
      ],
      "execution_count": 32,
      "outputs": [
        {
          "output_type": "stream",
          "text": [
            "+------+----+-------+------------------+\n",
            "|origin|dest|tailnum|         avg_speed|\n",
            "+------+----+-------+------------------+\n",
            "|   SEA| LAX| N846VA| 433.6363636363636|\n",
            "|   SEA| HNL| N559AS| 446.1666666666667|\n",
            "|   SEA| SFO| N847VA|367.02702702702703|\n",
            "|   PDX| SJC| N360SW| 411.3253012048193|\n",
            "|   SEA| BUR| N612AS| 442.6771653543307|\n",
            "|   PDX| DEN| N646SW|491.40495867768595|\n",
            "|   PDX| OAK| N422WN|             362.0|\n",
            "|   SEA| SFO| N361VA| 415.7142857142857|\n",
            "|   SEA| SAN| N309AS| 466.6666666666667|\n",
            "|   SEA| ORD| N564AS| 521.5151515151515|\n",
            "|   SEA| LAX| N323AS| 440.3076923076923|\n",
            "|   SEA| PHX| N305AS|431.29870129870125|\n",
            "|   SEA| LAS| N433AS| 409.6062992125984|\n",
            "|   SEA| ANC| N765AS|474.75409836065575|\n",
            "|   SEA| SFO| N713AS| 315.8139534883721|\n",
            "|   PDX| SFO| N27205| 366.6666666666667|\n",
            "|   SEA| SMF| N626AS|477.63157894736844|\n",
            "|   SEA| MDW| N8634A|481.38888888888886|\n",
            "|   SEA| BOS| N597AS| 516.4137931034483|\n",
            "|   PDX| BUR| N215AG| 441.6216216216216|\n",
            "+------+----+-------+------------------+\n",
            "only showing top 20 rows\n",
            "\n"
          ],
          "name": "stdout"
        }
      ]
    },
    {
      "cell_type": "markdown",
      "metadata": {
        "id": "ihMDms8ajLXo"
      },
      "source": [
        "### Exercise 8: Find the the shortest (in terms of distance) flight that left PDX by first filtering and using the `.min()` method. Perform the filtering by referencing the column directly, not passing a SQL string."
      ]
    },
    {
      "cell_type": "code",
      "metadata": {
        "id": "WX7vAU5EjOK5",
        "outputId": "991046af-888d-454b-a3e2-989530334e0a",
        "colab": {
          "base_uri": "https://localhost:8080/",
          "height": 118
        }
      },
      "source": [
        "df_flights.filter(df_flights.origin=='PDX').groupBy(df_flights.origin)\\\n",
        "          .agg({'distance':'min'}).show()"
      ],
      "execution_count": 37,
      "outputs": [
        {
          "output_type": "stream",
          "text": [
            "+------+-------------+\n",
            "|origin|min(distance)|\n",
            "+------+-------------+\n",
            "|   PDX|          106|\n",
            "+------+-------------+\n",
            "\n"
          ],
          "name": "stdout"
        }
      ]
    },
    {
      "cell_type": "code",
      "metadata": {
        "id": "uq417AUxjPrd",
        "outputId": "19edf0ab-1bf3-4293-b783-0c02f4d5f836",
        "colab": {
          "base_uri": "https://localhost:8080/",
          "height": 118
        }
      },
      "source": [
        "from pyspark.sql.functions import min\n",
        "df_flights.filter(df_flights.origin=='PDX').groupBy(df_flights.origin)\\\n",
        "          .agg(min('distance').alias('Shortest Flight Distance')).show()"
      ],
      "execution_count": 34,
      "outputs": [
        {
          "output_type": "stream",
          "text": [
            "+------+------------------------+\n",
            "|origin|Shortest Flight Distance|\n",
            "+------+------------------------+\n",
            "|   PDX|                     106|\n",
            "+------+------------------------+\n",
            "\n"
          ],
          "name": "stdout"
        }
      ]
    },
    {
      "cell_type": "code",
      "metadata": {
        "id": "lX5VxQQTjQqg"
      },
      "source": [
        ""
      ],
      "execution_count": null,
      "outputs": []
    },
    {
      "cell_type": "markdown",
      "metadata": {
        "id": "Qv0QT-eajRu0"
      },
      "source": [
        "### Exercise 9: Find the the longest (in terms of time) flight that left SEA by filtering and using the `.max()` method. Perform the filtering by referencing the column directly, not passing a SQL string."
      ]
    },
    {
      "cell_type": "markdown",
      "metadata": {
        "id": "WsxtnBcYjY3q"
      },
      "source": [
        "if we run the following code, we will get an error, because `air_time` data type is string, first we should cast it to an integer column."
      ]
    },
    {
      "cell_type": "code",
      "metadata": {
        "id": "3a0a-rpkjUaV",
        "outputId": "82370681-8358-42f4-f665-637de6e60a41",
        "colab": {
          "base_uri": "https://localhost:8080/",
          "height": 336
        }
      },
      "source": [
        "df_flights.printSchema()\n"
      ],
      "execution_count": 38,
      "outputs": [
        {
          "output_type": "stream",
          "text": [
            "root\n",
            " |-- year: integer (nullable = true)\n",
            " |-- month: integer (nullable = true)\n",
            " |-- day: integer (nullable = true)\n",
            " |-- dep_time: string (nullable = true)\n",
            " |-- dep_delay: string (nullable = true)\n",
            " |-- arr_time: string (nullable = true)\n",
            " |-- arr_delay: string (nullable = true)\n",
            " |-- carrier: string (nullable = true)\n",
            " |-- tailnum: string (nullable = true)\n",
            " |-- flight: integer (nullable = true)\n",
            " |-- origin: string (nullable = true)\n",
            " |-- dest: string (nullable = true)\n",
            " |-- air_time: integer (nullable = true)\n",
            " |-- distance: integer (nullable = true)\n",
            " |-- hour: string (nullable = true)\n",
            " |-- minute: string (nullable = true)\n",
            " |-- duration_hrs: double (nullable = true)\n",
            "\n"
          ],
          "name": "stdout"
        }
      ]
    },
    {
      "cell_type": "code",
      "metadata": {
        "id": "9w5LOA8WjcI6"
      },
      "source": [
        "from pyspark.sql.functions import col\n",
        "df_flights = df_flights.withColumn('air_time',col('air_time').cast('integer'))"
      ],
      "execution_count": 39,
      "outputs": []
    },
    {
      "cell_type": "code",
      "metadata": {
        "id": "hA7ps2lVjeDH",
        "outputId": "29415c6a-bb6e-4a7f-e288-0376a97790a5",
        "colab": {
          "base_uri": "https://localhost:8080/",
          "height": 118
        }
      },
      "source": [
        "from pyspark.sql.functions import max\n",
        "df_flights.filter(df_flights.origin=='SEA').groupBy(df_flights.origin)\\\n",
        "          .agg(max('air_time').alias('Longest Flight Time')).show()"
      ],
      "execution_count": 40,
      "outputs": [
        {
          "output_type": "stream",
          "text": [
            "+------+-------------------+\n",
            "|origin|Longest Flight Time|\n",
            "+------+-------------------+\n",
            "|   SEA|                409|\n",
            "+------+-------------------+\n",
            "\n"
          ],
          "name": "stdout"
        }
      ]
    },
    {
      "cell_type": "code",
      "metadata": {
        "id": "4DDEUOjajdoM",
        "outputId": "b2f521d2-d245-4ae8-d8df-72c94830604e",
        "colab": {
          "base_uri": "https://localhost:8080/",
          "height": 118
        }
      },
      "source": [
        "df_flights.filter(df_flights.origin=='SEA').groupBy(df_flights.origin)\\\n",
        "          .max('air_time').withColumnRenamed('max(air_time)','Longest Flight Time').show()"
      ],
      "execution_count": 42,
      "outputs": [
        {
          "output_type": "stream",
          "text": [
            "+------+-------------------+\n",
            "|origin|Longest Flight Time|\n",
            "+------+-------------------+\n",
            "|   SEA|                409|\n",
            "+------+-------------------+\n",
            "\n"
          ],
          "name": "stdout"
        }
      ]
    },
    {
      "cell_type": "markdown",
      "metadata": {
        "id": "D8qO8ETBjajD"
      },
      "source": [
        "### Exercise 10: Write a query that uses the `.avg()` method to get the average air time of Delta Airlines flights ( the carrier column value is \"DL\") that left SEA."
      ]
    },
    {
      "cell_type": "code",
      "metadata": {
        "id": "9xt1cwlTjjJd",
        "outputId": "860214bd-612e-45f8-8ddd-898320c0938c",
        "colab": {
          "base_uri": "https://localhost:8080/",
          "height": 118
        }
      },
      "source": [
        "from pyspark.sql.functions import avg\n",
        "df_flights.filter((df_flights.carrier =='DL') & (df_flights.origin=='SEA')).groupBy(df_flights.carrier)\\\n",
        "          .agg(avg('air_time').alias('Average Flight Time')).show()"
      ],
      "execution_count": 43,
      "outputs": [
        {
          "output_type": "stream",
          "text": [
            "+-------+-------------------+\n",
            "|carrier|Average Flight Time|\n",
            "+-------+-------------------+\n",
            "|     DL| 188.20689655172413|\n",
            "+-------+-------------------+\n",
            "\n"
          ],
          "name": "stdout"
        }
      ]
    },
    {
      "cell_type": "code",
      "metadata": {
        "id": "YjiPO67rjkkH",
        "outputId": "1dd7a260-6f89-409b-939f-77532874e4d6",
        "colab": {
          "base_uri": "https://localhost:8080/",
          "height": 118
        }
      },
      "source": [
        "df_flights.filter(df_flights.origin=='SEA').filter(df_flights.carrier=='DL')\\\n",
        "          .groupBy(df_flights.carrier).avg('air_time').show()"
      ],
      "execution_count": 45,
      "outputs": [
        {
          "output_type": "stream",
          "text": [
            "+-------+------------------+\n",
            "|carrier|     avg(air_time)|\n",
            "+-------+------------------+\n",
            "|     DL|188.20689655172413|\n",
            "+-------+------------------+\n",
            "\n"
          ],
          "name": "stdout"
        }
      ]
    },
    {
      "cell_type": "code",
      "metadata": {
        "id": "yW30SwEOu03K",
        "outputId": "f18b03b5-83c6-4a2f-c102-9536a518f746",
        "colab": {
          "base_uri": "https://localhost:8080/",
          "height": 525
        }
      },
      "source": [
        "def mean_udf(m):\n",
        "  return round(m.mean(),2)\n",
        "spark.udf.register('mean_udf',mean_udf)\n",
        "df_flights.filter((df_flights.carrier =='DL') & (df_flights.origin=='SEA')).groupBy(df_flights.carrier)\\\n",
        ".agg({'air_time':'mean_udf'}).show()"
      ],
      "execution_count": 48,
      "outputs": [
        {
          "output_type": "error",
          "ename": "AnalysisException",
          "evalue": "ignored",
          "traceback": [
            "\u001b[0;31m---------------------------------------------------------------------------\u001b[0m",
            "\u001b[0;31mAnalysisException\u001b[0m                         Traceback (most recent call last)",
            "\u001b[0;32m<ipython-input-48-92d8f42b0e1a>\u001b[0m in \u001b[0;36m<module>\u001b[0;34m()\u001b[0m\n\u001b[1;32m      2\u001b[0m   \u001b[0;32mreturn\u001b[0m \u001b[0mround\u001b[0m\u001b[0;34m(\u001b[0m\u001b[0mm\u001b[0m\u001b[0;34m.\u001b[0m\u001b[0mmean\u001b[0m\u001b[0;34m(\u001b[0m\u001b[0;34m)\u001b[0m\u001b[0;34m,\u001b[0m\u001b[0;36m2\u001b[0m\u001b[0;34m)\u001b[0m\u001b[0;34m\u001b[0m\u001b[0;34m\u001b[0m\u001b[0m\n\u001b[1;32m      3\u001b[0m \u001b[0mspark\u001b[0m\u001b[0;34m.\u001b[0m\u001b[0mudf\u001b[0m\u001b[0;34m.\u001b[0m\u001b[0mregister\u001b[0m\u001b[0;34m(\u001b[0m\u001b[0;34m'mean_udf'\u001b[0m\u001b[0;34m,\u001b[0m\u001b[0mmean_udf\u001b[0m\u001b[0;34m)\u001b[0m\u001b[0;34m\u001b[0m\u001b[0;34m\u001b[0m\u001b[0m\n\u001b[0;32m----> 4\u001b[0;31m \u001b[0mdf_flights\u001b[0m\u001b[0;34m.\u001b[0m\u001b[0mfilter\u001b[0m\u001b[0;34m(\u001b[0m\u001b[0;34m(\u001b[0m\u001b[0mdf_flights\u001b[0m\u001b[0;34m.\u001b[0m\u001b[0mcarrier\u001b[0m \u001b[0;34m==\u001b[0m\u001b[0;34m'DL'\u001b[0m\u001b[0;34m)\u001b[0m \u001b[0;34m&\u001b[0m \u001b[0;34m(\u001b[0m\u001b[0mdf_flights\u001b[0m\u001b[0;34m.\u001b[0m\u001b[0morigin\u001b[0m\u001b[0;34m==\u001b[0m\u001b[0;34m'SEA'\u001b[0m\u001b[0;34m)\u001b[0m\u001b[0;34m)\u001b[0m\u001b[0;34m.\u001b[0m\u001b[0mgroupBy\u001b[0m\u001b[0;34m(\u001b[0m\u001b[0mdf_flights\u001b[0m\u001b[0;34m.\u001b[0m\u001b[0mcarrier\u001b[0m\u001b[0;34m)\u001b[0m\u001b[0;34m.\u001b[0m\u001b[0magg\u001b[0m\u001b[0;34m(\u001b[0m\u001b[0;34m{\u001b[0m\u001b[0;34m'air_time'\u001b[0m\u001b[0;34m:\u001b[0m\u001b[0;34m'mean_udf'\u001b[0m\u001b[0;34m}\u001b[0m\u001b[0;34m)\u001b[0m\u001b[0;34m.\u001b[0m\u001b[0mshow\u001b[0m\u001b[0;34m(\u001b[0m\u001b[0;34m)\u001b[0m\u001b[0;34m\u001b[0m\u001b[0;34m\u001b[0m\u001b[0m\n\u001b[0m",
            "\u001b[0;32m/usr/local/lib/python3.6/dist-packages/pyspark/sql/group.py\u001b[0m in \u001b[0;36magg\u001b[0;34m(self, *exprs)\u001b[0m\n\u001b[1;32m    107\u001b[0m         \u001b[0;32massert\u001b[0m \u001b[0mexprs\u001b[0m\u001b[0;34m,\u001b[0m \u001b[0;34m\"exprs should not be empty\"\u001b[0m\u001b[0;34m\u001b[0m\u001b[0;34m\u001b[0m\u001b[0m\n\u001b[1;32m    108\u001b[0m         \u001b[0;32mif\u001b[0m \u001b[0mlen\u001b[0m\u001b[0;34m(\u001b[0m\u001b[0mexprs\u001b[0m\u001b[0;34m)\u001b[0m \u001b[0;34m==\u001b[0m \u001b[0;36m1\u001b[0m \u001b[0;32mand\u001b[0m \u001b[0misinstance\u001b[0m\u001b[0;34m(\u001b[0m\u001b[0mexprs\u001b[0m\u001b[0;34m[\u001b[0m\u001b[0;36m0\u001b[0m\u001b[0;34m]\u001b[0m\u001b[0;34m,\u001b[0m \u001b[0mdict\u001b[0m\u001b[0;34m)\u001b[0m\u001b[0;34m:\u001b[0m\u001b[0;34m\u001b[0m\u001b[0;34m\u001b[0m\u001b[0m\n\u001b[0;32m--> 109\u001b[0;31m             \u001b[0mjdf\u001b[0m \u001b[0;34m=\u001b[0m \u001b[0mself\u001b[0m\u001b[0;34m.\u001b[0m\u001b[0m_jgd\u001b[0m\u001b[0;34m.\u001b[0m\u001b[0magg\u001b[0m\u001b[0;34m(\u001b[0m\u001b[0mexprs\u001b[0m\u001b[0;34m[\u001b[0m\u001b[0;36m0\u001b[0m\u001b[0;34m]\u001b[0m\u001b[0;34m)\u001b[0m\u001b[0;34m\u001b[0m\u001b[0;34m\u001b[0m\u001b[0m\n\u001b[0m\u001b[1;32m    110\u001b[0m         \u001b[0;32melse\u001b[0m\u001b[0;34m:\u001b[0m\u001b[0;34m\u001b[0m\u001b[0;34m\u001b[0m\u001b[0m\n\u001b[1;32m    111\u001b[0m             \u001b[0;31m# Columns\u001b[0m\u001b[0;34m\u001b[0m\u001b[0;34m\u001b[0m\u001b[0;34m\u001b[0m\u001b[0m\n",
            "\u001b[0;32m/usr/local/lib/python3.6/dist-packages/py4j/java_gateway.py\u001b[0m in \u001b[0;36m__call__\u001b[0;34m(self, *args)\u001b[0m\n\u001b[1;32m   1303\u001b[0m         \u001b[0manswer\u001b[0m \u001b[0;34m=\u001b[0m \u001b[0mself\u001b[0m\u001b[0;34m.\u001b[0m\u001b[0mgateway_client\u001b[0m\u001b[0;34m.\u001b[0m\u001b[0msend_command\u001b[0m\u001b[0;34m(\u001b[0m\u001b[0mcommand\u001b[0m\u001b[0;34m)\u001b[0m\u001b[0;34m\u001b[0m\u001b[0;34m\u001b[0m\u001b[0m\n\u001b[1;32m   1304\u001b[0m         return_value = get_return_value(\n\u001b[0;32m-> 1305\u001b[0;31m             answer, self.gateway_client, self.target_id, self.name)\n\u001b[0m\u001b[1;32m   1306\u001b[0m \u001b[0;34m\u001b[0m\u001b[0m\n\u001b[1;32m   1307\u001b[0m         \u001b[0;32mfor\u001b[0m \u001b[0mtemp_arg\u001b[0m \u001b[0;32min\u001b[0m \u001b[0mtemp_args\u001b[0m\u001b[0;34m:\u001b[0m\u001b[0;34m\u001b[0m\u001b[0;34m\u001b[0m\u001b[0m\n",
            "\u001b[0;32m/usr/local/lib/python3.6/dist-packages/pyspark/sql/utils.py\u001b[0m in \u001b[0;36mdeco\u001b[0;34m(*a, **kw)\u001b[0m\n\u001b[1;32m    132\u001b[0m                 \u001b[0;31m# Hide where the exception came from that shows a non-Pythonic\u001b[0m\u001b[0;34m\u001b[0m\u001b[0;34m\u001b[0m\u001b[0;34m\u001b[0m\u001b[0m\n\u001b[1;32m    133\u001b[0m                 \u001b[0;31m# JVM exception message.\u001b[0m\u001b[0;34m\u001b[0m\u001b[0;34m\u001b[0m\u001b[0;34m\u001b[0m\u001b[0m\n\u001b[0;32m--> 134\u001b[0;31m                 \u001b[0mraise_from\u001b[0m\u001b[0;34m(\u001b[0m\u001b[0mconverted\u001b[0m\u001b[0;34m)\u001b[0m\u001b[0;34m\u001b[0m\u001b[0;34m\u001b[0m\u001b[0m\n\u001b[0m\u001b[1;32m    135\u001b[0m             \u001b[0;32melse\u001b[0m\u001b[0;34m:\u001b[0m\u001b[0;34m\u001b[0m\u001b[0;34m\u001b[0m\u001b[0m\n\u001b[1;32m    136\u001b[0m                 \u001b[0;32mraise\u001b[0m\u001b[0;34m\u001b[0m\u001b[0;34m\u001b[0m\u001b[0m\n",
            "\u001b[0;32m/usr/local/lib/python3.6/dist-packages/pyspark/sql/utils.py\u001b[0m in \u001b[0;36mraise_from\u001b[0;34m(e)\u001b[0m\n",
            "\u001b[0;31mAnalysisException\u001b[0m: expression '`air_time`' is neither present in the group by, nor is it an aggregate function. Add to group by or wrap in first() (or first_value) if you don't care which value you get.;;\nAggregate [carrier#71], [carrier#71, mean_udf(air_time#1039) AS mean_udf(air_time)#1289]\n+- Filter ((carrier#71 = DL) AND (origin#74 = SEA))\n   +- Project [year#64, month#65, day#66, dep_time#67, dep_delay#68, arr_time#69, arr_delay#70, carrier#71, tailnum#72, flight#73, origin#74, dest#75, cast(air_time#503 as int) AS air_time#1039, distance#77, hour#78, minute#79, duration_hrs#521]\n      +- Project [year#64, month#65, day#66, dep_time#67, dep_delay#68, arr_time#69, arr_delay#70, carrier#71, tailnum#72, flight#73, origin#74, dest#75, air_time#503, distance#77, hour#78, minute#79, (cast(air_time#503 as double) / cast(60 as double)) AS duration_hrs#521]\n         +- Project [year#64, month#65, day#66, dep_time#67, dep_delay#68, arr_time#69, arr_delay#70, carrier#71, tailnum#72, flight#73, origin#74, dest#75, cast(air_time#76 as int) AS air_time#503, distance#77, hour#78, minute#79, duration_hrs#400]\n            +- Project [year#64, month#65, day#66, dep_time#67, dep_delay#68, arr_time#69, arr_delay#70, carrier#71, tailnum#72, flight#73, origin#74, dest#75, air_time#76, distance#77, hour#78, minute#79, (cast(air_time#76 as double) / cast(60 as double)) AS duration_hrs#400]\n               +- Relation[year#64,month#65,day#66,dep_time#67,dep_delay#68,arr_time#69,arr_delay#70,carrier#71,tailnum#72,flight#73,origin#74,dest#75,air_time#76,distance#77,hour#78,minute#79] csv\n"
          ]
        }
      ]
    },
    {
      "cell_type": "markdown",
      "metadata": {
        "id": "oynwtYb-jp4D"
      },
      "source": [
        "### Exercise 11: Write a query that uses the `.sum()` method to get the total number of hours all planes spent in the air by creating a column called `duration_hrs` from the column `air_time`."
      ]
    },
    {
      "cell_type": "code",
      "metadata": {
        "id": "zXlN9QyZjlgA"
      },
      "source": [
        "hrs= df_flights.air_time/60\n",
        "new_df=df_flights.withColumn('duration_hrs',hrs).groupBy().sum('duration_hrs')\n"
      ],
      "execution_count": 51,
      "outputs": []
    },
    {
      "cell_type": "code",
      "metadata": {
        "id": "L7aTE0f10Ksx"
      },
      "source": [
        "my_value = new_df.first()[0]"
      ],
      "execution_count": 55,
      "outputs": []
    },
    {
      "cell_type": "markdown",
      "metadata": {
        "id": "LhRBT3ATjo_g"
      },
      "source": [
        "### Exercise 12: Write a query that uses `tailnum` column to count the number of flights each plane made."
      ]
    },
    {
      "cell_type": "code",
      "metadata": {
        "id": "z8CSSSOojwiU",
        "outputId": "b0ca26da-a3e0-4e0c-a399-0243e0c9573a",
        "colab": {
          "base_uri": "https://localhost:8080/",
          "height": 454
        }
      },
      "source": [
        "df_flights.groupBy('tailnum').count().orderBy('count',ascending=False).show()"
      ],
      "execution_count": 58,
      "outputs": [
        {
          "output_type": "stream",
          "text": [
            "+-------+-----+\n",
            "|tailnum|count|\n",
            "+-------+-----+\n",
            "| N612AS|   51|\n",
            "| N219AG|   50|\n",
            "| N224AG|   50|\n",
            "| N218AG|   49|\n",
            "| N223AG|   49|\n",
            "| N611AS|   46|\n",
            "| N615AS|   45|\n",
            "| N225AG|   45|\n",
            "| N607AS|   45|\n",
            "| N435AS|   45|\n",
            "| N794AS|   42|\n",
            "| N627AS|   41|\n",
            "| N215AG|   41|\n",
            "| N644AS|   41|\n",
            "| N216AG|   41|\n",
            "| N227AG|   40|\n",
            "| N413AS|   40|\n",
            "| N622AS|   40|\n",
            "| N626AS|   40|\n",
            "| N625AS|   40|\n",
            "+-------+-----+\n",
            "only showing top 20 rows\n",
            "\n"
          ],
          "name": "stdout"
        }
      ]
    },
    {
      "cell_type": "markdown",
      "metadata": {
        "id": "_QHhc_1Mjyia"
      },
      "source": [
        "### Exercise 13: Write a query that returns the average duration of flights from `PDX` and `SEA`."
      ]
    },
    {
      "cell_type": "code",
      "metadata": {
        "id": "PlMB3n6ujx_M",
        "outputId": "989e36e5-29ee-4208-8343-3fdcbff1527d",
        "colab": {
          "base_uri": "https://localhost:8080/",
          "height": 134
        }
      },
      "source": [
        "df_flights.filter((df_flights.origin=='PDX') | (df_flights.origin=='SEA'))\\\n",
        "          .groupBy(df_flights.origin).agg(round(avg('air_time'),2).alias('Average Flight Time')).show()"
      ],
      "execution_count": 60,
      "outputs": [
        {
          "output_type": "stream",
          "text": [
            "+------+-------------------+\n",
            "|origin|Average Flight Time|\n",
            "+------+-------------------+\n",
            "|   SEA|             160.44|\n",
            "|   PDX|             137.12|\n",
            "+------+-------------------+\n",
            "\n"
          ],
          "name": "stdout"
        }
      ]
    },
    {
      "cell_type": "code",
      "metadata": {
        "id": "Gja3_IwKj2XM"
      },
      "source": [
        ""
      ],
      "execution_count": null,
      "outputs": []
    },
    {
      "cell_type": "code",
      "metadata": {
        "id": "FQP-scPwj2Q6"
      },
      "source": [
        ""
      ],
      "execution_count": null,
      "outputs": []
    },
    {
      "cell_type": "markdown",
      "metadata": {
        "id": "agtz2L5Tj3Lv"
      },
      "source": [
        "### Exercise 14: Write a query that returns the average departure delay (`dep_delay`) in each month for each destination. Then import PySpark functions to calculate the standard deviation of `dep_delay` by using `stddev()` function."
      ]
    },
    {
      "cell_type": "code",
      "metadata": {
        "id": "HpIdQ0-Jj5A_",
        "outputId": "8afa75b2-4dc0-4625-d6cf-052bc05afebc",
        "colab": {
          "base_uri": "https://localhost:8080/",
          "height": 336
        }
      },
      "source": [
        "df_flights.printSchema()"
      ],
      "execution_count": 63,
      "outputs": [
        {
          "output_type": "stream",
          "text": [
            "root\n",
            " |-- year: integer (nullable = true)\n",
            " |-- month: integer (nullable = true)\n",
            " |-- day: integer (nullable = true)\n",
            " |-- dep_time: string (nullable = true)\n",
            " |-- dep_delay: integer (nullable = true)\n",
            " |-- arr_time: string (nullable = true)\n",
            " |-- arr_delay: string (nullable = true)\n",
            " |-- carrier: string (nullable = true)\n",
            " |-- tailnum: string (nullable = true)\n",
            " |-- flight: integer (nullable = true)\n",
            " |-- origin: string (nullable = true)\n",
            " |-- dest: string (nullable = true)\n",
            " |-- air_time: integer (nullable = true)\n",
            " |-- distance: integer (nullable = true)\n",
            " |-- hour: string (nullable = true)\n",
            " |-- minute: string (nullable = true)\n",
            " |-- duration_hrs: double (nullable = true)\n",
            "\n"
          ],
          "name": "stdout"
        }
      ]
    },
    {
      "cell_type": "code",
      "metadata": {
        "id": "_NHSi9qpj7Xk"
      },
      "source": [
        "from pyspark.sql.functions import col\n",
        "df_flights= df_flights.withColumn('dep_delay',col('dep_delay').cast('integer'))"
      ],
      "execution_count": 62,
      "outputs": []
    },
    {
      "cell_type": "code",
      "metadata": {
        "id": "jt-o-Jp5j730"
      },
      "source": [
        "grouped_by_month_dest = df_flights.groupBy('month','dest')"
      ],
      "execution_count": 65,
      "outputs": []
    },
    {
      "cell_type": "code",
      "metadata": {
        "id": "bwLpI0sJj8xz",
        "outputId": "5e55c7a0-b32a-4ceb-fa12-0875549612a2",
        "colab": {
          "base_uri": "https://localhost:8080/",
          "height": 202
        }
      },
      "source": [
        "grouped_by_month_dest.avg('dep_delay').orderBy('month').show(5)"
      ],
      "execution_count": 66,
      "outputs": [
        {
          "output_type": "stream",
          "text": [
            "+-----+----+--------------+\n",
            "|month|dest|avg(dep_delay)|\n",
            "+-----+----+--------------+\n",
            "|    1| ABQ|          -3.0|\n",
            "|    1| SLC|        6.5625|\n",
            "|    1| MSP|          11.2|\n",
            "|    1| RDM|        -1.625|\n",
            "|    1| JNU|           2.6|\n",
            "+-----+----+--------------+\n",
            "only showing top 5 rows\n",
            "\n"
          ],
          "name": "stdout"
        }
      ]
    },
    {
      "cell_type": "code",
      "metadata": {
        "id": "xpbtZLU1j7G3",
        "outputId": "83f175cb-c275-426e-ecbc-51da1117489f",
        "colab": {
          "base_uri": "https://localhost:8080/",
          "height": 202
        }
      },
      "source": [
        "from pyspark.sql.functions import stddev\n",
        "grouped_by_month_dest.agg(stddev('dep_delay')).show(5)"
      ],
      "execution_count": 67,
      "outputs": [
        {
          "output_type": "stream",
          "text": [
            "+-----+----+----------------------+\n",
            "|month|dest|stddev_samp(dep_delay)|\n",
            "+-----+----+----------------------+\n",
            "|    4| PHX|    15.003380033491737|\n",
            "|    1| RDM|     8.830749846821778|\n",
            "|    5| ONT|    18.895178691342874|\n",
            "|    7| OMA|    2.1213203435596424|\n",
            "|    8| MDW|    14.467659032985843|\n",
            "+-----+----+----------------------+\n",
            "only showing top 5 rows\n",
            "\n"
          ],
          "name": "stdout"
        }
      ]
    },
    {
      "cell_type": "markdown",
      "metadata": {
        "id": "3Tym5Ef4j9XY"
      },
      "source": [
        "### Exercise 15: Write a query that performs left outer join on the flights and airports DataFrames.\n",
        "- The flights and airports DataFrames are already in the workspace. \n",
        "- First, examine the airports DataFrame by calling .show() method. \n",
        "- Note which key column will let you join these two DataFrames.\n",
        "- Before joining these two DataFrames, rename the `faa` column in `airports` to `dest`, and then convert this DataFrame to a temporary view (table).\n",
        "- Use `spark.sql` to perform left outer join on these two tables. \n"
      ]
    },
    {
      "cell_type": "code",
      "metadata": {
        "id": "Gb2LvnapkApG",
        "outputId": "d6cabea8-631a-4800-eb27-2bb0f86ae777",
        "colab": {
          "base_uri": "https://localhost:8080/",
          "height": 168
        }
      },
      "source": [
        "df_airports.show(3)"
      ],
      "execution_count": 68,
      "outputs": [
        {
          "output_type": "stream",
          "text": [
            "+---+--------------------+----------+-----------+----+---+---+\n",
            "|faa|                name|       lat|        lon| alt| tz|dst|\n",
            "+---+--------------------+----------+-----------+----+---+---+\n",
            "|04G|   Lansdowne Airport|41.1304722|-80.6195833|1044| -5|  A|\n",
            "|06A|Moton Field Munic...|32.4605722|-85.6800278| 264| -5|  A|\n",
            "|06C| Schaumburg Regional|41.9893408|-88.1012428| 801| -6|  A|\n",
            "+---+--------------------+----------+-----------+----+---+---+\n",
            "only showing top 3 rows\n",
            "\n"
          ],
          "name": "stdout"
        }
      ]
    },
    {
      "cell_type": "code",
      "metadata": {
        "id": "EkqCVXnckBw0",
        "outputId": "faa156d2-ff83-4d74-d4d7-34e4f81480ac",
        "colab": {
          "base_uri": "https://localhost:8080/",
          "height": 168
        }
      },
      "source": [
        "df_flights.show(3)"
      ],
      "execution_count": 69,
      "outputs": [
        {
          "output_type": "stream",
          "text": [
            "+----+-----+---+--------+---------+--------+---------+-------+-------+------+------+----+--------+--------+----+------+------------+\n",
            "|year|month|day|dep_time|dep_delay|arr_time|arr_delay|carrier|tailnum|flight|origin|dest|air_time|distance|hour|minute|duration_hrs|\n",
            "+----+-----+---+--------+---------+--------+---------+-------+-------+------+------+----+--------+--------+----+------+------------+\n",
            "|2014|   12|  8|     658|       -7|     935|       -5|     VX| N846VA|  1780|   SEA| LAX|     132|     954|   6|    58|         2.2|\n",
            "|2014|    1| 22|    1040|        5|    1505|        5|     AS| N559AS|   851|   SEA| HNL|     360|    2677|  10|    40|         6.0|\n",
            "|2014|    3|  9|    1443|       -2|    1652|        2|     VX| N847VA|   755|   SEA| SFO|     111|     679|  14|    43|        1.85|\n",
            "+----+-----+---+--------+---------+--------+---------+-------+-------+------+------+----+--------+--------+----+------+------------+\n",
            "only showing top 3 rows\n",
            "\n"
          ],
          "name": "stdout"
        }
      ]
    },
    {
      "cell_type": "code",
      "metadata": {
        "id": "D87DKXZxkBmp",
        "outputId": "fc6b00c5-fdac-45a2-9b4a-ecffaa2ed788",
        "colab": {
          "base_uri": "https://localhost:8080/",
          "height": 168
        }
      },
      "source": [
        "df_airports=df_airports.withColumnRenamed('faa','dest')\n",
        "df_airports.show(3)"
      ],
      "execution_count": 70,
      "outputs": [
        {
          "output_type": "stream",
          "text": [
            "+----+--------------------+----------+-----------+----+---+---+\n",
            "|dest|                name|       lat|        lon| alt| tz|dst|\n",
            "+----+--------------------+----------+-----------+----+---+---+\n",
            "| 04G|   Lansdowne Airport|41.1304722|-80.6195833|1044| -5|  A|\n",
            "| 06A|Moton Field Munic...|32.4605722|-85.6800278| 264| -5|  A|\n",
            "| 06C| Schaumburg Regional|41.9893408|-88.1012428| 801| -6|  A|\n",
            "+----+--------------------+----------+-----------+----+---+---+\n",
            "only showing top 3 rows\n",
            "\n"
          ],
          "name": "stdout"
        }
      ]
    },
    {
      "cell_type": "code",
      "metadata": {
        "id": "Gcbpi5GjkDeb"
      },
      "source": [
        "df_flights.createOrReplaceTempView('flights')\n",
        "df_airports.createOrReplaceTempView('airports')"
      ],
      "execution_count": 71,
      "outputs": []
    },
    {
      "cell_type": "code",
      "metadata": {
        "id": "n63PtNQJ8Y9-",
        "outputId": "3a207657-dcc6-452b-bed7-dbb4c069d563",
        "colab": {
          "base_uri": "https://localhost:8080/",
          "height": 454
        }
      },
      "source": [
        "df_joined =spark.sql(\"SELECT fl.origin,fl.dest, ap.name, fl.flight FROM\\\n",
        "                      flights as fl LEFT JOIN airports as ap ON fl.dest=ap.dest\")\n",
        "df_joined.show()"
      ],
      "execution_count": 72,
      "outputs": [
        {
          "output_type": "stream",
          "text": [
            "+------+----+--------------------+------+\n",
            "|origin|dest|                name|flight|\n",
            "+------+----+--------------------+------+\n",
            "|   SEA| LAX|    Los Angeles Intl|  1780|\n",
            "|   SEA| HNL|       Honolulu Intl|   851|\n",
            "|   SEA| SFO|  San Francisco Intl|   755|\n",
            "|   PDX| SJC|Norman Y Mineta S...|   344|\n",
            "|   SEA| BUR|            Bob Hope|   522|\n",
            "|   PDX| DEN|         Denver Intl|    48|\n",
            "|   PDX| OAK|Metropolitan Oakl...|  1520|\n",
            "|   SEA| SFO|  San Francisco Intl|   755|\n",
            "|   SEA| SAN|      San Diego Intl|   490|\n",
            "|   SEA| ORD|  Chicago Ohare Intl|    26|\n",
            "|   SEA| LAX|    Los Angeles Intl|   448|\n",
            "|   SEA| PHX|Phoenix Sky Harbo...|   656|\n",
            "|   SEA| LAS|      Mc Carran Intl|   608|\n",
            "|   SEA| ANC|Ted Stevens Ancho...|   121|\n",
            "|   SEA| SFO|  San Francisco Intl|   306|\n",
            "|   PDX| SFO|  San Francisco Intl|  1458|\n",
            "|   SEA| SMF|     Sacramento Intl|   368|\n",
            "|   SEA| MDW| Chicago Midway Intl|   827|\n",
            "|   SEA| BOS|General Edward La...|    24|\n",
            "|   PDX| BUR|            Bob Hope|  3488|\n",
            "+------+----+--------------------+------+\n",
            "only showing top 20 rows\n",
            "\n"
          ],
          "name": "stdout"
        }
      ]
    },
    {
      "cell_type": "markdown",
      "metadata": {
        "id": "W1PaGnV8kFfb"
      },
      "source": [
        "### Exercise 16: Rewrite the previous query by using DataFrame API `.join` method. \n",
        "In PySpark, we can use `.join` method to perform joins. This method takes three arguments. \n",
        "- The first argument is the second DataFrame that we want to join with the first one. \n",
        "- The second argument, `on`, is the name of the key column(s) as a string. The names of the key column(s) must be the same in each table. \n",
        "- The third argument, `how`, specifies the kind of join to perform. \n",
        "\n",
        "To perform left outer join set the value of `how` to `\"leftouter\"`."
      ]
    },
    {
      "cell_type": "code",
      "metadata": {
        "id": "OA4WWtiRkJuJ",
        "outputId": "817229c1-857a-46b4-96b6-118686943d63",
        "colab": {
          "base_uri": "https://localhost:8080/",
          "height": 454
        }
      },
      "source": [
        "df_flights.join(df_airports,'dest','leftouter').select('origin', 'dest','name','flight').show()"
      ],
      "execution_count": 74,
      "outputs": [
        {
          "output_type": "stream",
          "text": [
            "+------+----+--------------------+------+\n",
            "|origin|dest|                name|flight|\n",
            "+------+----+--------------------+------+\n",
            "|   SEA| LAX|    Los Angeles Intl|  1780|\n",
            "|   SEA| HNL|       Honolulu Intl|   851|\n",
            "|   SEA| SFO|  San Francisco Intl|   755|\n",
            "|   PDX| SJC|Norman Y Mineta S...|   344|\n",
            "|   SEA| BUR|            Bob Hope|   522|\n",
            "|   PDX| DEN|         Denver Intl|    48|\n",
            "|   PDX| OAK|Metropolitan Oakl...|  1520|\n",
            "|   SEA| SFO|  San Francisco Intl|   755|\n",
            "|   SEA| SAN|      San Diego Intl|   490|\n",
            "|   SEA| ORD|  Chicago Ohare Intl|    26|\n",
            "|   SEA| LAX|    Los Angeles Intl|   448|\n",
            "|   SEA| PHX|Phoenix Sky Harbo...|   656|\n",
            "|   SEA| LAS|      Mc Carran Intl|   608|\n",
            "|   SEA| ANC|Ted Stevens Ancho...|   121|\n",
            "|   SEA| SFO|  San Francisco Intl|   306|\n",
            "|   PDX| SFO|  San Francisco Intl|  1458|\n",
            "|   SEA| SMF|     Sacramento Intl|   368|\n",
            "|   SEA| MDW| Chicago Midway Intl|   827|\n",
            "|   SEA| BOS|General Edward La...|    24|\n",
            "|   PDX| BUR|            Bob Hope|  3488|\n",
            "+------+----+--------------------+------+\n",
            "only showing top 20 rows\n",
            "\n"
          ],
          "name": "stdout"
        }
      ]
    },
    {
      "cell_type": "markdown",
      "metadata": {
        "id": "Se3X4D3_-9zG"
      },
      "source": [
        "## Well Done!"
      ]
    },
    {
      "cell_type": "code",
      "metadata": {
        "id": "IObT58yR-yNN"
      },
      "source": [
        ""
      ],
      "execution_count": null,
      "outputs": []
    }
  ]
}