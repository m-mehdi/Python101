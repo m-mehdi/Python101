{
  "nbformat": 4,
  "nbformat_minor": 0,
  "metadata": {
    "kernelspec": {
      "display_name": "Python 3",
      "language": "python",
      "name": "python3"
    },
    "language_info": {
      "codemirror_mode": {
        "name": "ipython",
        "version": 3
      },
      "file_extension": ".py",
      "mimetype": "text/x-python",
      "name": "python",
      "nbconvert_exporter": "python",
      "pygments_lexer": "ipython3",
      "version": "3.7.6"
    },
    "colab": {
      "name": "ApacheSpark_03.ipynb",
      "provenance": [],
      "toc_visible": true,
      "include_colab_link": true
    }
  },
  "cells": [
    {
      "cell_type": "markdown",
      "metadata": {
        "id": "view-in-github",
        "colab_type": "text"
      },
      "source": [
        "<a href=\"https://colab.research.google.com/github/m-mehdi/Python101/blob/master/ApacheSpark_03_PNB.ipynb\" target=\"_parent\"><img src=\"https://colab.research.google.com/assets/colab-badge.svg\" alt=\"Open In Colab\"/></a>"
      ]
    },
    {
      "cell_type": "markdown",
      "metadata": {
        "id": "cWSCIb0odQ3h"
      },
      "source": [
        "<img src=\"images/cads-logo.png\" style=\"height: 100px;padding-top:5px\" align=left> <img src=\"images/apache_spark.png\" style=\"height: 20%;width:20%; padding-top:0px\" align=right>"
      ]
    },
    {
      "cell_type": "markdown",
      "metadata": {
        "id": "VQXFkYJndQ3i"
      },
      "source": [
        "# Manipulating Data using Apache Spark"
      ]
    },
    {
      "cell_type": "markdown",
      "metadata": {
        "id": "xdtVSyPvdQ3j"
      },
      "source": [
        "In this notebook, we are going to get our hands dirty with Spark DataFrame API to perform common data operations."
      ]
    },
    {
      "cell_type": "code",
      "metadata": {
        "id": "UKlCNrzidkXN",
        "outputId": "5f371a16-6ae4-4cef-acf2-b42c307b7a47",
        "colab": {
          "base_uri": "https://localhost:8080/",
          "height": 255
        }
      },
      "source": [
        "!pip install pyspark"
      ],
      "execution_count": 1,
      "outputs": [
        {
          "output_type": "stream",
          "text": [
            "Collecting pyspark\n",
            "\u001b[?25l  Downloading https://files.pythonhosted.org/packages/f0/26/198fc8c0b98580f617cb03cb298c6056587b8f0447e20fa40c5b634ced77/pyspark-3.0.1.tar.gz (204.2MB)\n",
            "\u001b[K     |████████████████████████████████| 204.2MB 61kB/s \n",
            "\u001b[?25hCollecting py4j==0.10.9\n",
            "\u001b[?25l  Downloading https://files.pythonhosted.org/packages/9e/b6/6a4fb90cd235dc8e265a6a2067f2a2c99f0d91787f06aca4bcf7c23f3f80/py4j-0.10.9-py2.py3-none-any.whl (198kB)\n",
            "\u001b[K     |████████████████████████████████| 204kB 44.0MB/s \n",
            "\u001b[?25hBuilding wheels for collected packages: pyspark\n",
            "  Building wheel for pyspark (setup.py) ... \u001b[?25l\u001b[?25hdone\n",
            "  Created wheel for pyspark: filename=pyspark-3.0.1-py2.py3-none-any.whl size=204612243 sha256=fe6ce28a2d81402433a7fed5b08885268e958ba60b868cb4b037c92d4764c455\n",
            "  Stored in directory: /root/.cache/pip/wheels/5e/bd/07/031766ca628adec8435bb40f0bd83bb676ce65ff4007f8e73f\n",
            "Successfully built pyspark\n",
            "Installing collected packages: py4j, pyspark\n",
            "Successfully installed py4j-0.10.9 pyspark-3.0.1\n"
          ],
          "name": "stdout"
        }
      ]
    },
    {
      "cell_type": "code",
      "metadata": {
        "id": "_ceE089udQ3j"
      },
      "source": [
        "from pyspark.sql import SparkSession\n",
        "spark = SparkSession.builder.getOrCreate()"
      ],
      "execution_count": 3,
      "outputs": []
    },
    {
      "cell_type": "markdown",
      "metadata": {
        "id": "GmzYTM2adQ3n"
      },
      "source": [
        "If you take a look at dataset folder, you will see `flights.csv` that contains a row for every flight that left Portland International Airport (PDX) or Seattle-Tacoma International Airport (SEA) in 2014 and 2015.\n",
        "\n",
        "In the first step, we should create a DataFrame using `flights.csv` file and then create a table (temporaray view) for querying flights by using SQL commands. Let's do it."
      ]
    },
    {
      "cell_type": "code",
      "metadata": {
        "id": "YptqbOdYdQ3n"
      },
      "source": [
        "import os\n",
        "MAIN_DIRECTORY = os.getcwd()\n",
        "file_path =MAIN_DIRECTORY+\"/dataset/flights.csv\""
      ],
      "execution_count": 4,
      "outputs": []
    },
    {
      "cell_type": "code",
      "metadata": {
        "id": "u4Ez-b16dQ3q"
      },
      "source": [
        "df_flights = spark.read.format(\"csv\").option(\"header\",\"true\").option('inferSchema','true').load(file_path)"
      ],
      "execution_count": 5,
      "outputs": []
    },
    {
      "cell_type": "code",
      "metadata": {
        "id": "8aCRbf28dQ3t"
      },
      "source": [
        "# A simple way to create a dataframe in Spark\n",
        "# df_flights = spark.read.csv(file_path, header=True, inferSchema = True)"
      ],
      "execution_count": null,
      "outputs": []
    },
    {
      "cell_type": "code",
      "metadata": {
        "id": "qYGE9fOZdQ3w"
      },
      "source": [
        "df_flights.createOrReplaceTempView('flights')"
      ],
      "execution_count": 6,
      "outputs": []
    },
    {
      "cell_type": "markdown",
      "metadata": {
        "id": "S610WGrtdQ3y"
      },
      "source": [
        "### Exercise 1: Use SQL to get the first five rows of the flights table and save the result to flights5, finally show the results. "
      ]
    },
    {
      "cell_type": "code",
      "metadata": {
        "id": "_lxNHHx5dQ3z",
        "outputId": "3058609c-54af-43be-e354-7b8f1ba2eb9e",
        "colab": {
          "base_uri": "https://localhost:8080/",
          "height": 185
        }
      },
      "source": [
        "query =\"SELECT * FROM flights LIMIT 5\"\n",
        "flights5 = spark.sql(query)\n",
        "flights5.show()"
      ],
      "execution_count": 8,
      "outputs": [
        {
          "output_type": "stream",
          "text": [
            "+----+-----+---+--------+---------+--------+---------+-------+-------+------+------+----+--------+--------+----+------+\n",
            "|year|month|day|dep_time|dep_delay|arr_time|arr_delay|carrier|tailnum|flight|origin|dest|air_time|distance|hour|minute|\n",
            "+----+-----+---+--------+---------+--------+---------+-------+-------+------+------+----+--------+--------+----+------+\n",
            "|2014|   12|  8|     658|       -7|     935|       -5|     VX| N846VA|  1780|   SEA| LAX|     132|     954|   6|    58|\n",
            "|2014|    1| 22|    1040|        5|    1505|        5|     AS| N559AS|   851|   SEA| HNL|     360|    2677|  10|    40|\n",
            "|2014|    3|  9|    1443|       -2|    1652|        2|     VX| N847VA|   755|   SEA| SFO|     111|     679|  14|    43|\n",
            "|2014|    4|  9|    1705|       45|    1839|       34|     WN| N360SW|   344|   PDX| SJC|      83|     569|  17|     5|\n",
            "|2014|    3|  9|     754|       -1|    1015|        1|     AS| N612AS|   522|   SEA| BUR|     127|     937|   7|    54|\n",
            "+----+-----+---+--------+---------+--------+---------+-------+-------+------+------+----+--------+--------+----+------+\n",
            "\n"
          ],
          "name": "stdout"
        }
      ]
    },
    {
      "cell_type": "markdown",
      "metadata": {
        "id": "duOP_UyCdQ32"
      },
      "source": [
        "### Exercise 2: Write a query that counts the number of flights to each airport from SEA and PDX."
      ]
    },
    {
      "cell_type": "code",
      "metadata": {
        "id": "3MSI8o7WdQ32",
        "outputId": "63b5a1d7-2837-4c89-de0f-fb69cf03d88e",
        "colab": {
          "base_uri": "https://localhost:8080/",
          "height": 134
        }
      },
      "source": [
        "query =\"SELECT DISTINCT origin FROM flights\"\n",
        "spark.sql(query).show()"
      ],
      "execution_count": 9,
      "outputs": [
        {
          "output_type": "stream",
          "text": [
            "+------+\n",
            "|origin|\n",
            "+------+\n",
            "|   SEA|\n",
            "|   PDX|\n",
            "+------+\n",
            "\n"
          ],
          "name": "stdout"
        }
      ]
    },
    {
      "cell_type": "code",
      "metadata": {
        "id": "0AbJwJHWq7Ia",
        "outputId": "4c1b587f-329a-456f-e6d6-6ff7909a06c4",
        "colab": {
          "base_uri": "https://localhost:8080/",
          "height": 454
        }
      },
      "source": [
        "query = \"SELECT origin, dest, count(*) FROM flights GROUP BY origin, dest\"\n",
        "flight_counts = spark.sql(query)\n",
        "flight_counts.show()"
      ],
      "execution_count": 11,
      "outputs": [
        {
          "output_type": "stream",
          "text": [
            "+------+----+--------+\n",
            "|origin|dest|count(1)|\n",
            "+------+----+--------+\n",
            "|   SEA| RNO|       8|\n",
            "|   SEA| DTW|      98|\n",
            "|   SEA| CLE|       2|\n",
            "|   SEA| LAX|     450|\n",
            "|   PDX| SEA|     144|\n",
            "|   SEA| BLI|       5|\n",
            "|   PDX| IAH|      57|\n",
            "|   PDX| PHX|     209|\n",
            "|   SEA| SLC|     225|\n",
            "|   SEA| SBA|      23|\n",
            "|   SEA| BWI|      29|\n",
            "|   PDX| IAD|      23|\n",
            "|   PDX| SFO|     305|\n",
            "|   SEA| KOA|      40|\n",
            "|   PDX| MCI|      15|\n",
            "|   SEA| SJC|     213|\n",
            "|   SEA| ABQ|      43|\n",
            "|   SEA| SAT|      18|\n",
            "|   PDX| ONT|      57|\n",
            "|   SEA| LAS|     364|\n",
            "+------+----+--------+\n",
            "only showing top 20 rows\n",
            "\n"
          ],
          "name": "stdout"
        }
      ]
    },
    {
      "cell_type": "markdown",
      "metadata": {
        "id": "SZhTyTfjdQ35"
      },
      "source": [
        "### Exercise 3: Write a piece of code to create a DataFrame using `airports.csv`, this file contains information about different airports all over the world. "
      ]
    },
    {
      "cell_type": "code",
      "metadata": {
        "id": "8BjzycJsdQ35",
        "outputId": "c42c9a02-e15c-4a21-c6e8-7f42bf7031df",
        "colab": {
          "base_uri": "https://localhost:8080/",
          "height": 286
        }
      },
      "source": [
        "file_path = MAIN_DIRECTORY+'/dataset/airports.csv'\n",
        "df_airports = spark.read.csv(file_path, header=True, inferSchema=True)\n",
        "df_airports.show(10)"
      ],
      "execution_count": 12,
      "outputs": [
        {
          "output_type": "stream",
          "text": [
            "+---+--------------------+----------+------------+----+---+---+\n",
            "|faa|                name|       lat|         lon| alt| tz|dst|\n",
            "+---+--------------------+----------+------------+----+---+---+\n",
            "|04G|   Lansdowne Airport|41.1304722| -80.6195833|1044| -5|  A|\n",
            "|06A|Moton Field Munic...|32.4605722| -85.6800278| 264| -5|  A|\n",
            "|06C| Schaumburg Regional|41.9893408| -88.1012428| 801| -6|  A|\n",
            "|06N|     Randall Airport| 41.431912| -74.3915611| 523| -5|  A|\n",
            "|09J|Jekyll Island Air...|31.0744722| -81.4277778|  11| -4|  A|\n",
            "|0A9|Elizabethton Muni...|36.3712222| -82.1734167|1593| -4|  A|\n",
            "|0G6|Williams County A...|41.4673056| -84.5067778| 730| -5|  A|\n",
            "|0G7|Finger Lakes Regi...|42.8835647| -76.7812318| 492| -5|  A|\n",
            "|0P2|Shoestring Aviati...|39.7948244| -76.6471914|1000| -5|  U|\n",
            "|0S9|Jefferson County ...|48.0538086|-122.8106436| 108| -8|  A|\n",
            "+---+--------------------+----------+------------+----+---+---+\n",
            "only showing top 10 rows\n",
            "\n"
          ],
          "name": "stdout"
        }
      ]
    },
    {
      "cell_type": "code",
      "metadata": {
        "id": "wDjHRQZDdQ37",
        "outputId": "f7bc63de-0994-4251-920a-b66c2890a255",
        "colab": {
          "base_uri": "https://localhost:8080/",
          "height": 168
        }
      },
      "source": [
        "df_airports.printSchema()"
      ],
      "execution_count": 13,
      "outputs": [
        {
          "output_type": "stream",
          "text": [
            "root\n",
            " |-- faa: string (nullable = true)\n",
            " |-- name: string (nullable = true)\n",
            " |-- lat: double (nullable = true)\n",
            " |-- lon: double (nullable = true)\n",
            " |-- alt: integer (nullable = true)\n",
            " |-- tz: integer (nullable = true)\n",
            " |-- dst: string (nullable = true)\n",
            "\n"
          ],
          "name": "stdout"
        }
      ]
    },
    {
      "cell_type": "markdown",
      "metadata": {
        "id": "7HGasAvUdQ4A"
      },
      "source": [
        "Let's look at performing column-wise operations. In Apache Spark, you can do this using the `.withColumn(colName, col)`  which returns a new DataFrame by adding a column or replacing the existing column that has the same name.\n",
        "\n",
        "*Parameters*:  \n",
        "- **colName** – string, name of the new column.\n",
        "- **col** – a Column expression for the new column. \n",
        "\n",
        "The new `column` must be an object of class Column. Creating one of these is as easy as extracting a column from your DataFrame using `df.colName`.\n",
        "Apache Spark DataFrame is **immutable**. Immutable means that it can't be changed, and so columns can't be updated in place.\n",
        "For example:\n",
        "```python\n",
        "df = df.withColumn(\"newCol\", df.oldCol + 1)\n",
        "```\n",
        "The above code creates a DataFrame with the same columns as df plus a new column, `newCol`, where every entry is equal to the corresponding entry from `oldCol`, plus one.\n",
        "\n",
        "Sometimes we have to change a column data type to another one, in this case, we can use the following code:\n",
        "```python\n",
        "from pyspark.sql.functions import col\n",
        "df_name = df_name.withColumn(\"columnName\", col(\"columnName\").cast(\"DataType\"))\n",
        "```"
      ]
    },
    {
      "cell_type": "markdown",
      "metadata": {
        "id": "46NICB68dQ4B"
      },
      "source": [
        "### Exercise 4: Update `flights` DataFrame to include a new column called `duration_hrs`, that contains the duration of each flight in hours."
      ]
    },
    {
      "cell_type": "code",
      "metadata": {
        "id": "kLRKxs3UdQ4B"
      },
      "source": [
        "df_flights = df_flights.withColumn(\"duration_hrs\", df_flights.air_time/60)"
      ],
      "execution_count": 14,
      "outputs": []
    },
    {
      "cell_type": "code",
      "metadata": {
        "id": "m0NmbDxQdQ4D",
        "outputId": "3ef96e55-6948-489a-b9e2-f05570d8a091",
        "colab": {
          "base_uri": "https://localhost:8080/",
          "height": 302
        }
      },
      "source": [
        "df_flights.columns"
      ],
      "execution_count": 15,
      "outputs": [
        {
          "output_type": "execute_result",
          "data": {
            "text/plain": [
              "['year',\n",
              " 'month',\n",
              " 'day',\n",
              " 'dep_time',\n",
              " 'dep_delay',\n",
              " 'arr_time',\n",
              " 'arr_delay',\n",
              " 'carrier',\n",
              " 'tailnum',\n",
              " 'flight',\n",
              " 'origin',\n",
              " 'dest',\n",
              " 'air_time',\n",
              " 'distance',\n",
              " 'hour',\n",
              " 'minute',\n",
              " 'duration_hrs']"
            ]
          },
          "metadata": {
            "tags": []
          },
          "execution_count": 15
        }
      ]
    },
    {
      "cell_type": "code",
      "metadata": {
        "id": "zVZzjmladQ4G",
        "outputId": "c1b5da21-94b8-4228-da20-247fa47c7baa",
        "colab": {
          "base_uri": "https://localhost:8080/",
          "height": 202
        }
      },
      "source": [
        "df_flights.show(5)"
      ],
      "execution_count": 16,
      "outputs": [
        {
          "output_type": "stream",
          "text": [
            "+----+-----+---+--------+---------+--------+---------+-------+-------+------+------+----+--------+--------+----+------+------------------+\n",
            "|year|month|day|dep_time|dep_delay|arr_time|arr_delay|carrier|tailnum|flight|origin|dest|air_time|distance|hour|minute|      duration_hrs|\n",
            "+----+-----+---+--------+---------+--------+---------+-------+-------+------+------+----+--------+--------+----+------+------------------+\n",
            "|2014|   12|  8|     658|       -7|     935|       -5|     VX| N846VA|  1780|   SEA| LAX|     132|     954|   6|    58|               2.2|\n",
            "|2014|    1| 22|    1040|        5|    1505|        5|     AS| N559AS|   851|   SEA| HNL|     360|    2677|  10|    40|               6.0|\n",
            "|2014|    3|  9|    1443|       -2|    1652|        2|     VX| N847VA|   755|   SEA| SFO|     111|     679|  14|    43|              1.85|\n",
            "|2014|    4|  9|    1705|       45|    1839|       34|     WN| N360SW|   344|   PDX| SJC|      83|     569|  17|     5|1.3833333333333333|\n",
            "|2014|    3|  9|     754|       -1|    1015|        1|     AS| N612AS|   522|   SEA| BUR|     127|     937|   7|    54|2.1166666666666667|\n",
            "+----+-----+---+--------+---------+--------+---------+-------+-------+------+------+----+--------+--------+----+------+------------------+\n",
            "only showing top 5 rows\n",
            "\n"
          ],
          "name": "stdout"
        }
      ]
    },
    {
      "cell_type": "code",
      "metadata": {
        "id": "4S6fOb2XuApH"
      },
      "source": [
        "from pyspark.sql.functions import round"
      ],
      "execution_count": 18,
      "outputs": []
    },
    {
      "cell_type": "code",
      "metadata": {
        "id": "lVDPrCUQtcRB",
        "outputId": "7bb7a25a-a7f3-4d2c-dcbf-02d2473519b0",
        "colab": {
          "base_uri": "https://localhost:8080/",
          "height": 202
        }
      },
      "source": [
        "df_flights.select(['origin','dest', 'flight', 'air_time', round(df_flights.duration_hrs, 2).alias('Duration hrs')]).show(5)"
      ],
      "execution_count": 20,
      "outputs": [
        {
          "output_type": "stream",
          "text": [
            "+------+----+------+--------+------------+\n",
            "|origin|dest|flight|air_time|Duration hrs|\n",
            "+------+----+------+--------+------------+\n",
            "|   SEA| LAX|  1780|     132|         2.2|\n",
            "|   SEA| HNL|   851|     360|         6.0|\n",
            "|   SEA| SFO|   755|     111|        1.85|\n",
            "|   PDX| SJC|   344|      83|        1.38|\n",
            "|   SEA| BUR|   522|     127|        2.12|\n",
            "+------+----+------+--------+------------+\n",
            "only showing top 5 rows\n",
            "\n"
          ],
          "name": "stdout"
        }
      ]
    },
    {
      "cell_type": "markdown",
      "metadata": {
        "id": "rZJxWrKqdQ4J"
      },
      "source": [
        "### Exercise 5: Write a query using the `.filter()` method to find all the flights that flew over 1000 miles."
      ]
    },
    {
      "cell_type": "code",
      "metadata": {
        "id": "LBx_q61VdQ4J"
      },
      "source": [
        "long_flights = df_flights.filter(df_flights.distance > 1000)"
      ],
      "execution_count": 21,
      "outputs": []
    },
    {
      "cell_type": "code",
      "metadata": {
        "id": "T_f_VEUUdQ4L",
        "outputId": "1fc2e5a5-7d54-45c4-d41c-8b73b0063b49",
        "colab": {
          "base_uri": "https://localhost:8080/",
          "height": 202
        }
      },
      "source": [
        "long_flights.show(5)"
      ],
      "execution_count": 22,
      "outputs": [
        {
          "output_type": "stream",
          "text": [
            "+----+-----+---+--------+---------+--------+---------+-------+-------+------+------+----+--------+--------+----+------+-----------------+\n",
            "|year|month|day|dep_time|dep_delay|arr_time|arr_delay|carrier|tailnum|flight|origin|dest|air_time|distance|hour|minute|     duration_hrs|\n",
            "+----+-----+---+--------+---------+--------+---------+-------+-------+------+------+----+--------+--------+----+------+-----------------+\n",
            "|2014|    1| 22|    1040|        5|    1505|        5|     AS| N559AS|   851|   SEA| HNL|     360|    2677|  10|    40|              6.0|\n",
            "|2014|    4| 19|    1236|       -4|    1508|       -7|     AS| N309AS|   490|   SEA| SAN|     135|    1050|  12|    36|             2.25|\n",
            "|2014|   11| 19|    1812|       -3|    2352|       -4|     AS| N564AS|    26|   SEA| ORD|     198|    1721|  18|    12|              3.3|\n",
            "|2014|    8|  3|    1120|        0|    1415|        2|     AS| N305AS|   656|   SEA| PHX|     154|    1107|  11|    20|2.566666666666667|\n",
            "|2014|   11| 12|    2346|       -4|     217|      -28|     AS| N765AS|   121|   SEA| ANC|     183|    1448|  23|    46|             3.05|\n",
            "+----+-----+---+--------+---------+--------+---------+-------+-------+------+------+----+--------+--------+----+------+-----------------+\n",
            "only showing top 5 rows\n",
            "\n"
          ],
          "name": "stdout"
        }
      ]
    },
    {
      "cell_type": "markdown",
      "metadata": {
        "id": "oSEOc37rdQ4O"
      },
      "source": [
        "### Exercise 6: Write a query using `.filter()` method, to only keep flights from SEA to PDX. This query should only return `tailnum`, `origin`, and `dest` columns."
      ]
    },
    {
      "cell_type": "code",
      "metadata": {
        "id": "quESs0bMdQ4P",
        "outputId": "c6ba9c52-9754-494b-b9c7-1e858c0a4fd9",
        "colab": {
          "base_uri": "https://localhost:8080/",
          "height": 202
        }
      },
      "source": [
        "# Solution 1\n",
        "df_flights.filter(df_flights.origin =='SEA').filter(df_flights.dest =='PDX')\\\n",
        "          .select(['tailnum','origin','dest']).show(5)"
      ],
      "execution_count": 23,
      "outputs": [
        {
          "output_type": "stream",
          "text": [
            "+-------+------+----+\n",
            "|tailnum|origin|dest|\n",
            "+-------+------+----+\n",
            "| N810SK|   SEA| PDX|\n",
            "| N822SK|   SEA| PDX|\n",
            "| N586SW|   SEA| PDX|\n",
            "| N223SW|   SEA| PDX|\n",
            "| N580SW|   SEA| PDX|\n",
            "+-------+------+----+\n",
            "only showing top 5 rows\n",
            "\n"
          ],
          "name": "stdout"
        }
      ]
    },
    {
      "cell_type": "code",
      "metadata": {
        "id": "CJhuriyVdQ4R",
        "outputId": "fe166146-50ca-4d3c-8caf-73e77236e9e8",
        "colab": {
          "base_uri": "https://localhost:8080/",
          "height": 202
        }
      },
      "source": [
        "#Solution 2\n",
        "df_flights.filter((df_flights.origin =='SEA') & (df_flights.dest =='PDX'))\\\n",
        "          .select(['tailnum','origin','dest']).show(5)"
      ],
      "execution_count": 24,
      "outputs": [
        {
          "output_type": "stream",
          "text": [
            "+-------+------+----+\n",
            "|tailnum|origin|dest|\n",
            "+-------+------+----+\n",
            "| N810SK|   SEA| PDX|\n",
            "| N822SK|   SEA| PDX|\n",
            "| N586SW|   SEA| PDX|\n",
            "| N223SW|   SEA| PDX|\n",
            "| N580SW|   SEA| PDX|\n",
            "+-------+------+----+\n",
            "only showing top 5 rows\n",
            "\n"
          ],
          "name": "stdout"
        }
      ]
    },
    {
      "cell_type": "markdown",
      "metadata": {
        "id": "E0mcx0YndQ4T"
      },
      "source": [
        "We can perform column-wise operations using `.select()` method. When we select a column using the `df.colName` notation. In `.select()` method, we can perform any column operation and it will return the transformed column. \n",
        "For example, the following command returns a column of flight durations in hours instead of minutes.\n",
        "```python\n",
        "df_flights.select(df_flights.air_time/60)\n",
        "```\n",
        "We can use the `alias()` method to rename a column we've selected. The following example shows how we can do that.\n",
        "```python\n",
        "df_flights.select((df_flights.air_time/60).alias(\"duration_hrs\")\n",
        "```\n",
        "If we want to stick to the SQL syntax, we can use `.selectExpr()` method as well. The following commad is equivalent to the previous code.\n",
        "\n",
        "```python\n",
        "df_flights.selectExpr(\"air_time/60 as duration_hrs\")\n",
        "```"
      ]
    },
    {
      "cell_type": "markdown",
      "metadata": {
        "id": "CQfDsE-7dQ4U"
      },
      "source": [
        "### Exercise 7: Write a query that return these columns, `origin`, `dest`, `tailnum`, and average speed in KM per hour."
      ]
    },
    {
      "cell_type": "code",
      "metadata": {
        "id": "EWBtFFhsdQ4U"
      },
      "source": [
        "#Solution 1\n",
        "avg_speed = (df_flights.distance/(df_flights.air_time/60)).alias('avg_speed')"
      ],
      "execution_count": 25,
      "outputs": []
    },
    {
      "cell_type": "code",
      "metadata": {
        "id": "7mhUBM61dQ4W",
        "outputId": "ad6b222e-04da-4906-fa7e-812100cf2fa4",
        "colab": {
          "base_uri": "https://localhost:8080/",
          "height": 202
        }
      },
      "source": [
        "df_flights.select('origin','dest','tailnum',avg_speed).show(5)"
      ],
      "execution_count": 26,
      "outputs": [
        {
          "output_type": "stream",
          "text": [
            "+------+----+-------+------------------+\n",
            "|origin|dest|tailnum|         avg_speed|\n",
            "+------+----+-------+------------------+\n",
            "|   SEA| LAX| N846VA| 433.6363636363636|\n",
            "|   SEA| HNL| N559AS| 446.1666666666667|\n",
            "|   SEA| SFO| N847VA|367.02702702702703|\n",
            "|   PDX| SJC| N360SW| 411.3253012048193|\n",
            "|   SEA| BUR| N612AS| 442.6771653543307|\n",
            "+------+----+-------+------------------+\n",
            "only showing top 5 rows\n",
            "\n"
          ],
          "name": "stdout"
        }
      ]
    },
    {
      "cell_type": "code",
      "metadata": {
        "id": "LcVcBDRFdQ4Y",
        "outputId": "358fdb6d-4324-4fb5-ec13-855388c5a2ac",
        "colab": {
          "base_uri": "https://localhost:8080/",
          "height": 202
        }
      },
      "source": [
        "#Solution 2\n",
        "df_flights.selectExpr('origin','dest','tailnum','distance/(air_time/60) as avg_speed').show(5)"
      ],
      "execution_count": 27,
      "outputs": [
        {
          "output_type": "stream",
          "text": [
            "+------+----+-------+------------------+\n",
            "|origin|dest|tailnum|         avg_speed|\n",
            "+------+----+-------+------------------+\n",
            "|   SEA| LAX| N846VA| 433.6363636363636|\n",
            "|   SEA| HNL| N559AS| 446.1666666666667|\n",
            "|   SEA| SFO| N847VA|367.02702702702703|\n",
            "|   PDX| SJC| N360SW| 411.3253012048193|\n",
            "|   SEA| BUR| N612AS| 442.6771653543307|\n",
            "+------+----+-------+------------------+\n",
            "only showing top 5 rows\n",
            "\n"
          ],
          "name": "stdout"
        }
      ]
    },
    {
      "cell_type": "markdown",
      "metadata": {
        "id": "0TSQT00TdQ4a"
      },
      "source": [
        "### Exercise 8: Find the the shortest (in terms of distance) flight that left PDX by first filtering and using the `.min()` method. Perform the filtering by referencing the column directly, not passing a SQL string."
      ]
    },
    {
      "cell_type": "code",
      "metadata": {
        "id": "ivgYtxCAdQ4b",
        "outputId": "3ef114dc-4e9a-4bac-dc33-a998035f48ff",
        "colab": {
          "base_uri": "https://localhost:8080/",
          "height": 118
        }
      },
      "source": [
        "#Solution 1\n",
        "df_flights.filter(df_flights.origin =='PDX').groupBy(df_flights.origin)\\\n",
        ".agg({'distance':'min'}).show()"
      ],
      "execution_count": 28,
      "outputs": [
        {
          "output_type": "stream",
          "text": [
            "+------+-------------+\n",
            "|origin|min(distance)|\n",
            "+------+-------------+\n",
            "|   PDX|          106|\n",
            "+------+-------------+\n",
            "\n"
          ],
          "name": "stdout"
        }
      ]
    },
    {
      "cell_type": "code",
      "metadata": {
        "id": "d0SBF974dQ4d",
        "outputId": "cad82d1d-8a12-496b-b4c4-6dd054d47e2b",
        "colab": {
          "base_uri": "https://localhost:8080/",
          "height": 118
        }
      },
      "source": [
        "#Solutin 2\n",
        "from pyspark.sql.functions import min\n",
        "df_flights.filter(df_flights.origin =='PDX').groupBy(df_flights.origin)\\\n",
        ".agg(min('distance').alias('Shortest Flight Distance')).show()"
      ],
      "execution_count": 32,
      "outputs": [
        {
          "output_type": "stream",
          "text": [
            "+------+------------------------+\n",
            "|origin|Shortest Flight Distance|\n",
            "+------+------------------------+\n",
            "|   PDX|                     106|\n",
            "+------+------------------------+\n",
            "\n"
          ],
          "name": "stdout"
        }
      ]
    },
    {
      "cell_type": "code",
      "metadata": {
        "id": "dP0OWHAsdQ4f",
        "outputId": "0a39cb16-c006-407c-d862-24890b871b9a",
        "colab": {
          "base_uri": "https://localhost:8080/",
          "height": 118
        }
      },
      "source": [
        "# Solution 3\n",
        "df_flights.filter(df_flights.origin =='PDX').groupBy(df_flights.origin)\\\n",
        ".min('distance').show()"
      ],
      "execution_count": 30,
      "outputs": [
        {
          "output_type": "stream",
          "text": [
            "+------+-------------+\n",
            "|origin|min(distance)|\n",
            "+------+-------------+\n",
            "|   PDX|          106|\n",
            "+------+-------------+\n",
            "\n"
          ],
          "name": "stdout"
        }
      ]
    },
    {
      "cell_type": "markdown",
      "metadata": {
        "id": "4JajCug1dQ4h"
      },
      "source": [
        "### Exercise 9: Find the the longest (in terms of time) flight that left SEA by filtering and using the `.max()` method. Perform the filtering by referencing the column directly, not passing a SQL string."
      ]
    },
    {
      "cell_type": "markdown",
      "metadata": {
        "id": "hFQOvJp5dQ4h"
      },
      "source": [
        "if we run the following code, we will get an error, because `air_time` data type is string, first we should cast it to an integer column."
      ]
    },
    {
      "cell_type": "code",
      "metadata": {
        "id": "wRI5-DDodQ4i",
        "outputId": "c01b0750-6060-46a3-d3ee-36a600e7e8ed",
        "colab": {
          "base_uri": "https://localhost:8080/",
          "height": 336
        }
      },
      "source": [
        "df_flights.printSchema()"
      ],
      "execution_count": 33,
      "outputs": [
        {
          "output_type": "stream",
          "text": [
            "root\n",
            " |-- year: integer (nullable = true)\n",
            " |-- month: integer (nullable = true)\n",
            " |-- day: integer (nullable = true)\n",
            " |-- dep_time: string (nullable = true)\n",
            " |-- dep_delay: string (nullable = true)\n",
            " |-- arr_time: string (nullable = true)\n",
            " |-- arr_delay: string (nullable = true)\n",
            " |-- carrier: string (nullable = true)\n",
            " |-- tailnum: string (nullable = true)\n",
            " |-- flight: integer (nullable = true)\n",
            " |-- origin: string (nullable = true)\n",
            " |-- dest: string (nullable = true)\n",
            " |-- air_time: string (nullable = true)\n",
            " |-- distance: integer (nullable = true)\n",
            " |-- hour: string (nullable = true)\n",
            " |-- minute: string (nullable = true)\n",
            " |-- duration_hrs: double (nullable = true)\n",
            "\n"
          ],
          "name": "stdout"
        }
      ]
    },
    {
      "cell_type": "code",
      "metadata": {
        "id": "1HwDfVrddQ4l"
      },
      "source": [
        "from pyspark.sql.functions import col\n",
        "df_flights = df_flights.withColumn('air_time', col('air_time').cast('integer'))"
      ],
      "execution_count": 34,
      "outputs": []
    },
    {
      "cell_type": "code",
      "metadata": {
        "id": "W_vLKURBdQ4o",
        "outputId": "ba76d611-5d2a-4f93-deb5-7c96954fd0a8",
        "colab": {
          "base_uri": "https://localhost:8080/",
          "height": 336
        }
      },
      "source": [
        "df_flights.printSchema()"
      ],
      "execution_count": 35,
      "outputs": [
        {
          "output_type": "stream",
          "text": [
            "root\n",
            " |-- year: integer (nullable = true)\n",
            " |-- month: integer (nullable = true)\n",
            " |-- day: integer (nullable = true)\n",
            " |-- dep_time: string (nullable = true)\n",
            " |-- dep_delay: string (nullable = true)\n",
            " |-- arr_time: string (nullable = true)\n",
            " |-- arr_delay: string (nullable = true)\n",
            " |-- carrier: string (nullable = true)\n",
            " |-- tailnum: string (nullable = true)\n",
            " |-- flight: integer (nullable = true)\n",
            " |-- origin: string (nullable = true)\n",
            " |-- dest: string (nullable = true)\n",
            " |-- air_time: integer (nullable = true)\n",
            " |-- distance: integer (nullable = true)\n",
            " |-- hour: string (nullable = true)\n",
            " |-- minute: string (nullable = true)\n",
            " |-- duration_hrs: double (nullable = true)\n",
            "\n"
          ],
          "name": "stdout"
        }
      ]
    },
    {
      "cell_type": "code",
      "metadata": {
        "id": "NDMjg5SpdQ4q"
      },
      "source": [
        "from pyspark.sql.functions import max"
      ],
      "execution_count": 36,
      "outputs": []
    },
    {
      "cell_type": "code",
      "metadata": {
        "id": "Tzsjkw3cdQ4s",
        "outputId": "b57762a7-afda-4bc5-c643-17e0b5151fd4",
        "colab": {
          "base_uri": "https://localhost:8080/",
          "height": 118
        }
      },
      "source": [
        "#Solution 1\n",
        "df_flights.filter(df_flights.origin =='SEA').groupBy(df_flights.origin)\\\n",
        "          .agg(max('air_time').alias('Longest Flight Time')).show()"
      ],
      "execution_count": 37,
      "outputs": [
        {
          "output_type": "stream",
          "text": [
            "+------+-------------------+\n",
            "|origin|Longest Flight Time|\n",
            "+------+-------------------+\n",
            "|   SEA|                409|\n",
            "+------+-------------------+\n",
            "\n"
          ],
          "name": "stdout"
        }
      ]
    },
    {
      "cell_type": "code",
      "metadata": {
        "id": "BGWJRO7ndQ4u",
        "outputId": "28e9f791-dede-4bd9-e588-5ce15808d807",
        "colab": {
          "base_uri": "https://localhost:8080/",
          "height": 118
        }
      },
      "source": [
        "#Solution 2\n",
        "df_flights.filter(df_flights.origin =='SEA').groupBy(df_flights.origin)\\\n",
        "          .max('air_time').show()"
      ],
      "execution_count": 38,
      "outputs": [
        {
          "output_type": "stream",
          "text": [
            "+------+-------------+\n",
            "|origin|max(air_time)|\n",
            "+------+-------------+\n",
            "|   SEA|          409|\n",
            "+------+-------------+\n",
            "\n"
          ],
          "name": "stdout"
        }
      ]
    },
    {
      "cell_type": "markdown",
      "metadata": {
        "id": "J4eWaWr9dQ4x"
      },
      "source": [
        "### Exercise 10: Write a query that uses the `.avg()` method to get the average air time of Delta Airlines flights ( the carrier column value is \"DL\") that left SEA."
      ]
    },
    {
      "cell_type": "code",
      "metadata": {
        "id": "Y1pSKVlDdQ4x",
        "outputId": "4aa3e12e-dece-4a5d-ab99-8b353d0919c9",
        "colab": {
          "base_uri": "https://localhost:8080/",
          "height": 118
        }
      },
      "source": [
        "from pyspark.sql.functions import avg\n",
        "df_flights.filter((df_flights.carrier =='DL') & (df_flights.origin =='SEA')).groupBy(df_flights.carrier)\\\n",
        "          .agg(round(avg('air_time'),2).alias('Avg. Flight Time')).show()"
      ],
      "execution_count": 39,
      "outputs": [
        {
          "output_type": "stream",
          "text": [
            "+-------+----------------+\n",
            "|carrier|Avg. Flight Time|\n",
            "+-------+----------------+\n",
            "|     DL|          188.21|\n",
            "+-------+----------------+\n",
            "\n"
          ],
          "name": "stdout"
        }
      ]
    },
    {
      "cell_type": "markdown",
      "metadata": {
        "id": "sRTmk_4zdQ4z"
      },
      "source": [
        "### Exercise 11: Write a query that uses the `.sum()` method to get the total number of hours all planes spent in the air by creating a column called `duration_hrs` from the column `air_time`."
      ]
    },
    {
      "cell_type": "code",
      "metadata": {
        "id": "rZ6pGiq0dQ4z",
        "outputId": "176b38bc-b13c-4232-dd64-3b2b6aa51268",
        "colab": {
          "base_uri": "https://localhost:8080/",
          "height": 336
        }
      },
      "source": [
        "df_flights.printSchema()"
      ],
      "execution_count": 40,
      "outputs": [
        {
          "output_type": "stream",
          "text": [
            "root\n",
            " |-- year: integer (nullable = true)\n",
            " |-- month: integer (nullable = true)\n",
            " |-- day: integer (nullable = true)\n",
            " |-- dep_time: string (nullable = true)\n",
            " |-- dep_delay: string (nullable = true)\n",
            " |-- arr_time: string (nullable = true)\n",
            " |-- arr_delay: string (nullable = true)\n",
            " |-- carrier: string (nullable = true)\n",
            " |-- tailnum: string (nullable = true)\n",
            " |-- flight: integer (nullable = true)\n",
            " |-- origin: string (nullable = true)\n",
            " |-- dest: string (nullable = true)\n",
            " |-- air_time: integer (nullable = true)\n",
            " |-- distance: integer (nullable = true)\n",
            " |-- hour: string (nullable = true)\n",
            " |-- minute: string (nullable = true)\n",
            " |-- duration_hrs: double (nullable = true)\n",
            "\n"
          ],
          "name": "stdout"
        }
      ]
    },
    {
      "cell_type": "code",
      "metadata": {
        "id": "oDQbof-pMHzu",
        "outputId": "2dadfda6-fe6d-4e44-eac0-4a1ee9fe47e0",
        "colab": {
          "base_uri": "https://localhost:8080/",
          "height": 118
        }
      },
      "source": [
        "new_df = df_flights.groupBy().sum('duration_hrs')\n",
        "new_df.show()"
      ],
      "execution_count": 41,
      "outputs": [
        {
          "output_type": "stream",
          "text": [
            "+------------------+\n",
            "| sum(duration_hrs)|\n",
            "+------------------+\n",
            "|25289.600000000126|\n",
            "+------------------+\n",
            "\n"
          ],
          "name": "stdout"
        }
      ]
    },
    {
      "cell_type": "code",
      "metadata": {
        "id": "LPWqq4h2MZpp",
        "outputId": "859125c2-3177-442a-9d26-a132cc449d38",
        "colab": {
          "base_uri": "https://localhost:8080/",
          "height": 34
        }
      },
      "source": [
        "new_df.first()[0]"
      ],
      "execution_count": 42,
      "outputs": [
        {
          "output_type": "execute_result",
          "data": {
            "text/plain": [
              "25289.600000000126"
            ]
          },
          "metadata": {
            "tags": []
          },
          "execution_count": 42
        }
      ]
    },
    {
      "cell_type": "markdown",
      "metadata": {
        "id": "vkXSoSRndQ42"
      },
      "source": [
        "### Exercise 12: Write a query that uses `tailnum` column to count the number of flights each plane made."
      ]
    },
    {
      "cell_type": "code",
      "metadata": {
        "id": "v1Zo_vQddQ43",
        "outputId": "26050c1b-4b70-4ff8-de1c-406ab4ca21a6",
        "colab": {
          "base_uri": "https://localhost:8080/",
          "height": 454
        }
      },
      "source": [
        "df_flights.groupBy('tailnum').count().orderBy('count', ascending=False).show()"
      ],
      "execution_count": 44,
      "outputs": [
        {
          "output_type": "stream",
          "text": [
            "+-------+-----+\n",
            "|tailnum|count|\n",
            "+-------+-----+\n",
            "| N612AS|   51|\n",
            "| N219AG|   50|\n",
            "| N224AG|   50|\n",
            "| N218AG|   49|\n",
            "| N223AG|   49|\n",
            "| N611AS|   46|\n",
            "| N225AG|   45|\n",
            "| N435AS|   45|\n",
            "| N607AS|   45|\n",
            "| N615AS|   45|\n",
            "| N794AS|   42|\n",
            "| N644AS|   41|\n",
            "| N627AS|   41|\n",
            "| N216AG|   41|\n",
            "| N215AG|   41|\n",
            "| N413AS|   40|\n",
            "| N227AG|   40|\n",
            "| N622AS|   40|\n",
            "| N626AS|   40|\n",
            "| N619AS|   40|\n",
            "+-------+-----+\n",
            "only showing top 20 rows\n",
            "\n"
          ],
          "name": "stdout"
        }
      ]
    },
    {
      "cell_type": "markdown",
      "metadata": {
        "id": "wldekxM0dQ45"
      },
      "source": [
        "### Exercise 13: Write a query that returns the average duration of flights from `PDX` and `SEA`."
      ]
    },
    {
      "cell_type": "code",
      "metadata": {
        "id": "Fd50K2XddQ45",
        "outputId": "3d8f9543-7fdb-4825-aeec-b4ef2c3cd01d",
        "colab": {
          "base_uri": "https://localhost:8080/",
          "height": 134
        }
      },
      "source": [
        "df_flights.groupBy('origin').avg('air_time').show()"
      ],
      "execution_count": 45,
      "outputs": [
        {
          "output_type": "stream",
          "text": [
            "+------+------------------+\n",
            "|origin|     avg(air_time)|\n",
            "+------+------------------+\n",
            "|   SEA| 160.4361496051259|\n",
            "|   PDX|137.11543248288737|\n",
            "+------+------------------+\n",
            "\n"
          ],
          "name": "stdout"
        }
      ]
    },
    {
      "cell_type": "code",
      "metadata": {
        "id": "1IAnyk6EdQ48"
      },
      "source": [
        ""
      ],
      "execution_count": null,
      "outputs": []
    },
    {
      "cell_type": "markdown",
      "metadata": {
        "id": "WQvDNwkXdQ4-"
      },
      "source": [
        "### Exercise 14: Write a query that returns the average departure delay (`dep_delay`) in each month for each destination. Then import PySpark functions to calculate the standard deviation of `dep_delay` by using `stddev()` function."
      ]
    },
    {
      "cell_type": "code",
      "metadata": {
        "id": "Gd-87cxddQ4_",
        "outputId": "8c94691c-9247-4714-a263-75cb704e6b98",
        "colab": {
          "base_uri": "https://localhost:8080/",
          "height": 336
        }
      },
      "source": [
        "df_flights.printSchema()"
      ],
      "execution_count": 46,
      "outputs": [
        {
          "output_type": "stream",
          "text": [
            "root\n",
            " |-- year: integer (nullable = true)\n",
            " |-- month: integer (nullable = true)\n",
            " |-- day: integer (nullable = true)\n",
            " |-- dep_time: string (nullable = true)\n",
            " |-- dep_delay: string (nullable = true)\n",
            " |-- arr_time: string (nullable = true)\n",
            " |-- arr_delay: string (nullable = true)\n",
            " |-- carrier: string (nullable = true)\n",
            " |-- tailnum: string (nullable = true)\n",
            " |-- flight: integer (nullable = true)\n",
            " |-- origin: string (nullable = true)\n",
            " |-- dest: string (nullable = true)\n",
            " |-- air_time: integer (nullable = true)\n",
            " |-- distance: integer (nullable = true)\n",
            " |-- hour: string (nullable = true)\n",
            " |-- minute: string (nullable = true)\n",
            " |-- duration_hrs: double (nullable = true)\n",
            "\n"
          ],
          "name": "stdout"
        }
      ]
    },
    {
      "cell_type": "code",
      "metadata": {
        "id": "oK_6o6aMdQ5B"
      },
      "source": [
        "df_flights=df_flights.withColumn('dep_delay', col('dep_delay').cast('integer'))"
      ],
      "execution_count": 47,
      "outputs": []
    },
    {
      "cell_type": "code",
      "metadata": {
        "id": "Gxz9eY5ndQ5D",
        "outputId": "aa534288-b526-428a-c8ba-bb1fcfc6f5a7",
        "colab": {
          "base_uri": "https://localhost:8080/",
          "height": 336
        }
      },
      "source": [
        "df_flights.printSchema()"
      ],
      "execution_count": 48,
      "outputs": [
        {
          "output_type": "stream",
          "text": [
            "root\n",
            " |-- year: integer (nullable = true)\n",
            " |-- month: integer (nullable = true)\n",
            " |-- day: integer (nullable = true)\n",
            " |-- dep_time: string (nullable = true)\n",
            " |-- dep_delay: integer (nullable = true)\n",
            " |-- arr_time: string (nullable = true)\n",
            " |-- arr_delay: string (nullable = true)\n",
            " |-- carrier: string (nullable = true)\n",
            " |-- tailnum: string (nullable = true)\n",
            " |-- flight: integer (nullable = true)\n",
            " |-- origin: string (nullable = true)\n",
            " |-- dest: string (nullable = true)\n",
            " |-- air_time: integer (nullable = true)\n",
            " |-- distance: integer (nullable = true)\n",
            " |-- hour: string (nullable = true)\n",
            " |-- minute: string (nullable = true)\n",
            " |-- duration_hrs: double (nullable = true)\n",
            "\n"
          ],
          "name": "stdout"
        }
      ]
    },
    {
      "cell_type": "code",
      "metadata": {
        "id": "Bzu-zfW5dQ5F"
      },
      "source": [
        "grouped_by_month_dest = df_flights.groupBy('month','dest')"
      ],
      "execution_count": 49,
      "outputs": []
    },
    {
      "cell_type": "code",
      "metadata": {
        "id": "HZbj57n4dQ5I",
        "outputId": "4f6aa613-6dbd-4bb0-844d-d9b50bfc1eff",
        "colab": {
          "base_uri": "https://localhost:8080/",
          "height": 34
        }
      },
      "source": [
        "type(grouped_by_month_dest)"
      ],
      "execution_count": 50,
      "outputs": [
        {
          "output_type": "execute_result",
          "data": {
            "text/plain": [
              "pyspark.sql.group.GroupedData"
            ]
          },
          "metadata": {
            "tags": []
          },
          "execution_count": 50
        }
      ]
    },
    {
      "cell_type": "code",
      "metadata": {
        "id": "hfBOEPpxdQ5K",
        "outputId": "8bd92f93-ff3a-4294-d8f2-c34ca9062c25",
        "colab": {
          "base_uri": "https://localhost:8080/",
          "height": 202
        }
      },
      "source": [
        "grouped_by_month_dest.avg('dep_delay').orderBy('month').show(5)"
      ],
      "execution_count": 51,
      "outputs": [
        {
          "output_type": "stream",
          "text": [
            "+-----+----+--------------+\n",
            "|month|dest|avg(dep_delay)|\n",
            "+-----+----+--------------+\n",
            "|    1| ABQ|          -3.0|\n",
            "|    1| SLC|        6.5625|\n",
            "|    1| MSP|          11.2|\n",
            "|    1| RDM|        -1.625|\n",
            "|    1| JNU|           2.6|\n",
            "+-----+----+--------------+\n",
            "only showing top 5 rows\n",
            "\n"
          ],
          "name": "stdout"
        }
      ]
    },
    {
      "cell_type": "code",
      "metadata": {
        "id": "szwG9vO1dQ5N",
        "outputId": "fa1e6818-d3ef-40db-ffb1-1778058ba3ab",
        "colab": {
          "base_uri": "https://localhost:8080/",
          "height": 202
        }
      },
      "source": [
        "from pyspark.sql.functions import stddev\n",
        "grouped_by_month_dest.agg(stddev('dep_delay')).show(5)"
      ],
      "execution_count": 52,
      "outputs": [
        {
          "output_type": "stream",
          "text": [
            "+-----+----+----------------------+\n",
            "|month|dest|stddev_samp(dep_delay)|\n",
            "+-----+----+----------------------+\n",
            "|    4| PHX|    15.003380033491737|\n",
            "|    1| RDM|     8.830749846821778|\n",
            "|    5| ONT|    18.895178691342874|\n",
            "|    7| OMA|    2.1213203435596424|\n",
            "|    8| MDW|    14.467659032985843|\n",
            "+-----+----+----------------------+\n",
            "only showing top 5 rows\n",
            "\n"
          ],
          "name": "stdout"
        }
      ]
    },
    {
      "cell_type": "markdown",
      "metadata": {
        "id": "6UWCFyasdQ5Q"
      },
      "source": [
        "### Exercise 15: Write a query that performs left outer join on the flights and airports DataFrames.\n",
        "- The flights and airports DataFrames are already in the workspace. \n",
        "- First, examine the airports DataFrame by calling .show() method. \n",
        "- Note which key column will let you join these two DataFrames.\n",
        "- Before joining these two DataFrames, rename the `faa` column in `airports` to `dest`, and then convert this DataFrame to a temporary view (table).\n",
        "- Use `spark.sql` to perform left outer join on these two tables. \n"
      ]
    },
    {
      "cell_type": "code",
      "metadata": {
        "id": "XA6MN1E8dQ5Q",
        "outputId": "049bfe71-9129-43fe-ef58-19aa8254da30",
        "colab": {
          "base_uri": "https://localhost:8080/",
          "height": 202
        }
      },
      "source": [
        "df_airports.show(5)"
      ],
      "execution_count": 53,
      "outputs": [
        {
          "output_type": "stream",
          "text": [
            "+---+--------------------+----------+-----------+----+---+---+\n",
            "|faa|                name|       lat|        lon| alt| tz|dst|\n",
            "+---+--------------------+----------+-----------+----+---+---+\n",
            "|04G|   Lansdowne Airport|41.1304722|-80.6195833|1044| -5|  A|\n",
            "|06A|Moton Field Munic...|32.4605722|-85.6800278| 264| -5|  A|\n",
            "|06C| Schaumburg Regional|41.9893408|-88.1012428| 801| -6|  A|\n",
            "|06N|     Randall Airport| 41.431912|-74.3915611| 523| -5|  A|\n",
            "|09J|Jekyll Island Air...|31.0744722|-81.4277778|  11| -4|  A|\n",
            "+---+--------------------+----------+-----------+----+---+---+\n",
            "only showing top 5 rows\n",
            "\n"
          ],
          "name": "stdout"
        }
      ]
    },
    {
      "cell_type": "code",
      "metadata": {
        "id": "kF-RvJ9ydQ5T",
        "outputId": "0846154d-b386-4208-eaaa-3b722b545b37",
        "colab": {
          "base_uri": "https://localhost:8080/",
          "height": 202
        }
      },
      "source": [
        "df_flights.show(5)"
      ],
      "execution_count": 54,
      "outputs": [
        {
          "output_type": "stream",
          "text": [
            "+----+-----+---+--------+---------+--------+---------+-------+-------+------+------+----+--------+--------+----+------+------------------+\n",
            "|year|month|day|dep_time|dep_delay|arr_time|arr_delay|carrier|tailnum|flight|origin|dest|air_time|distance|hour|minute|      duration_hrs|\n",
            "+----+-----+---+--------+---------+--------+---------+-------+-------+------+------+----+--------+--------+----+------+------------------+\n",
            "|2014|   12|  8|     658|       -7|     935|       -5|     VX| N846VA|  1780|   SEA| LAX|     132|     954|   6|    58|               2.2|\n",
            "|2014|    1| 22|    1040|        5|    1505|        5|     AS| N559AS|   851|   SEA| HNL|     360|    2677|  10|    40|               6.0|\n",
            "|2014|    3|  9|    1443|       -2|    1652|        2|     VX| N847VA|   755|   SEA| SFO|     111|     679|  14|    43|              1.85|\n",
            "|2014|    4|  9|    1705|       45|    1839|       34|     WN| N360SW|   344|   PDX| SJC|      83|     569|  17|     5|1.3833333333333333|\n",
            "|2014|    3|  9|     754|       -1|    1015|        1|     AS| N612AS|   522|   SEA| BUR|     127|     937|   7|    54|2.1166666666666667|\n",
            "+----+-----+---+--------+---------+--------+---------+-------+-------+------+------+----+--------+--------+----+------+------------------+\n",
            "only showing top 5 rows\n",
            "\n"
          ],
          "name": "stdout"
        }
      ]
    },
    {
      "cell_type": "code",
      "metadata": {
        "id": "g7qawrvidQ5V"
      },
      "source": [
        "df_airports = df_airports.withColumnRenamed('faa','dest')"
      ],
      "execution_count": 55,
      "outputs": []
    },
    {
      "cell_type": "code",
      "metadata": {
        "id": "fZOePaFVdQ5X",
        "outputId": "21395e51-25a8-49d8-c8c6-073074aa538f",
        "colab": {
          "base_uri": "https://localhost:8080/",
          "height": 168
        }
      },
      "source": [
        "df_airports.show(3)"
      ],
      "execution_count": 56,
      "outputs": [
        {
          "output_type": "stream",
          "text": [
            "+----+--------------------+----------+-----------+----+---+---+\n",
            "|dest|                name|       lat|        lon| alt| tz|dst|\n",
            "+----+--------------------+----------+-----------+----+---+---+\n",
            "| 04G|   Lansdowne Airport|41.1304722|-80.6195833|1044| -5|  A|\n",
            "| 06A|Moton Field Munic...|32.4605722|-85.6800278| 264| -5|  A|\n",
            "| 06C| Schaumburg Regional|41.9893408|-88.1012428| 801| -6|  A|\n",
            "+----+--------------------+----------+-----------+----+---+---+\n",
            "only showing top 3 rows\n",
            "\n"
          ],
          "name": "stdout"
        }
      ]
    },
    {
      "cell_type": "code",
      "metadata": {
        "id": "ij0WsDBzdQ5Z"
      },
      "source": [
        "df_flights.createOrReplaceTempView('flights')\n",
        "df_airports.createOrReplaceTempView('airports')\n"
      ],
      "execution_count": 57,
      "outputs": []
    },
    {
      "cell_type": "code",
      "metadata": {
        "id": "CONNkx7AdQ5b",
        "outputId": "7f6f1ceb-04b4-4794-aa1b-f38d8ee4a36d",
        "colab": {
          "base_uri": "https://localhost:8080/",
          "height": 454
        }
      },
      "source": [
        "df_joined = spark.sql('SELECT f.origin, f.dest,a.name, f.flight FROM flights as f LEFT JOIN airports as a ON f.dest = a.dest')\n",
        "df_joined.show()"
      ],
      "execution_count": 58,
      "outputs": [
        {
          "output_type": "stream",
          "text": [
            "+------+----+--------------------+------+\n",
            "|origin|dest|                name|flight|\n",
            "+------+----+--------------------+------+\n",
            "|   SEA| LAX|    Los Angeles Intl|  1780|\n",
            "|   SEA| HNL|       Honolulu Intl|   851|\n",
            "|   SEA| SFO|  San Francisco Intl|   755|\n",
            "|   PDX| SJC|Norman Y Mineta S...|   344|\n",
            "|   SEA| BUR|            Bob Hope|   522|\n",
            "|   PDX| DEN|         Denver Intl|    48|\n",
            "|   PDX| OAK|Metropolitan Oakl...|  1520|\n",
            "|   SEA| SFO|  San Francisco Intl|   755|\n",
            "|   SEA| SAN|      San Diego Intl|   490|\n",
            "|   SEA| ORD|  Chicago Ohare Intl|    26|\n",
            "|   SEA| LAX|    Los Angeles Intl|   448|\n",
            "|   SEA| PHX|Phoenix Sky Harbo...|   656|\n",
            "|   SEA| LAS|      Mc Carran Intl|   608|\n",
            "|   SEA| ANC|Ted Stevens Ancho...|   121|\n",
            "|   SEA| SFO|  San Francisco Intl|   306|\n",
            "|   PDX| SFO|  San Francisco Intl|  1458|\n",
            "|   SEA| SMF|     Sacramento Intl|   368|\n",
            "|   SEA| MDW| Chicago Midway Intl|   827|\n",
            "|   SEA| BOS|General Edward La...|    24|\n",
            "|   PDX| BUR|            Bob Hope|  3488|\n",
            "+------+----+--------------------+------+\n",
            "only showing top 20 rows\n",
            "\n"
          ],
          "name": "stdout"
        }
      ]
    },
    {
      "cell_type": "markdown",
      "metadata": {
        "id": "JSlg93WadQ5e"
      },
      "source": [
        "### Exercise 16: Rewrite the previous query by using DataFrame API `.join` method. "
      ]
    },
    {
      "cell_type": "markdown",
      "metadata": {
        "id": "K9qGjJ8jdQ5f"
      },
      "source": [
        "In PySpark, we can use `.join` method to perform joins. This method takes three arguments. \n",
        "- The first argument is the second DataFrame that we want to join with the first one. \n",
        "- The second argument, `on`, is the name of the key column(s) as a string. The names of the key column(s) must be the same in each table. \n",
        "- The third argument, `how`, specifies the kind of join to perform. \n",
        "\n",
        "To perform left outer join set the value of `how` to `\"leftouter\"`."
      ]
    },
    {
      "cell_type": "code",
      "metadata": {
        "id": "LVlR39bUdQ5f",
        "outputId": "d9a97bd2-3a88-4013-b34c-cf0af5ec897b",
        "colab": {
          "base_uri": "https://localhost:8080/",
          "height": 454
        }
      },
      "source": [
        "df_flights.join(df_airports, 'dest', 'leftouter').select('origin','dest','name','flight').show()"
      ],
      "execution_count": 59,
      "outputs": [
        {
          "output_type": "stream",
          "text": [
            "+------+----+--------------------+------+\n",
            "|origin|dest|                name|flight|\n",
            "+------+----+--------------------+------+\n",
            "|   SEA| LAX|    Los Angeles Intl|  1780|\n",
            "|   SEA| HNL|       Honolulu Intl|   851|\n",
            "|   SEA| SFO|  San Francisco Intl|   755|\n",
            "|   PDX| SJC|Norman Y Mineta S...|   344|\n",
            "|   SEA| BUR|            Bob Hope|   522|\n",
            "|   PDX| DEN|         Denver Intl|    48|\n",
            "|   PDX| OAK|Metropolitan Oakl...|  1520|\n",
            "|   SEA| SFO|  San Francisco Intl|   755|\n",
            "|   SEA| SAN|      San Diego Intl|   490|\n",
            "|   SEA| ORD|  Chicago Ohare Intl|    26|\n",
            "|   SEA| LAX|    Los Angeles Intl|   448|\n",
            "|   SEA| PHX|Phoenix Sky Harbo...|   656|\n",
            "|   SEA| LAS|      Mc Carran Intl|   608|\n",
            "|   SEA| ANC|Ted Stevens Ancho...|   121|\n",
            "|   SEA| SFO|  San Francisco Intl|   306|\n",
            "|   PDX| SFO|  San Francisco Intl|  1458|\n",
            "|   SEA| SMF|     Sacramento Intl|   368|\n",
            "|   SEA| MDW| Chicago Midway Intl|   827|\n",
            "|   SEA| BOS|General Edward La...|    24|\n",
            "|   PDX| BUR|            Bob Hope|  3488|\n",
            "+------+----+--------------------+------+\n",
            "only showing top 20 rows\n",
            "\n"
          ],
          "name": "stdout"
        }
      ]
    },
    {
      "cell_type": "code",
      "metadata": {
        "id": "7Wh1rhM5dQ5h"
      },
      "source": [
        ""
      ],
      "execution_count": null,
      "outputs": []
    },
    {
      "cell_type": "markdown",
      "metadata": {
        "id": "PZSqj04idQ5l"
      },
      "source": [
        "#### Awesome"
      ]
    }
  ]
}