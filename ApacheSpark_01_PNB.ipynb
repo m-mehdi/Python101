{
  "nbformat": 4,
  "nbformat_minor": 0,
  "metadata": {
    "kernelspec": {
      "display_name": "Python 3",
      "language": "python",
      "name": "python3"
    },
    "language_info": {
      "codemirror_mode": {
        "name": "ipython",
        "version": 3
      },
      "file_extension": ".py",
      "mimetype": "text/x-python",
      "name": "python",
      "nbconvert_exporter": "python",
      "pygments_lexer": "ipython3",
      "version": "3.7.6"
    },
    "colab": {
      "name": "ApacheSpark_01.ipynb",
      "provenance": [],
      "toc_visible": true,
      "include_colab_link": true
    }
  },
  "cells": [
    {
      "cell_type": "markdown",
      "metadata": {
        "id": "view-in-github",
        "colab_type": "text"
      },
      "source": [
        "<a href=\"https://colab.research.google.com/github/m-mehdi/Python101/blob/master/ApacheSpark_01_PNB.ipynb\" target=\"_parent\"><img src=\"https://colab.research.google.com/assets/colab-badge.svg\" alt=\"Open In Colab\"/></a>"
      ]
    },
    {
      "cell_type": "markdown",
      "metadata": {
        "id": "jgOcGd4gFtQv"
      },
      "source": [
        "<img src=\"images/cads-logo.png\" style=\"height: 100px;\" align=left> <img src=\"images/apache_spark.png\" style=\"height: 20%;width:20%\" align=right>"
      ]
    },
    {
      "cell_type": "markdown",
      "metadata": {
        "id": "3eYYgWQ4FtQx"
      },
      "source": [
        "# Apache Spark DataFrames and Spark SQL"
      ]
    },
    {
      "cell_type": "markdown",
      "metadata": {
        "id": "0jtpFhz8FtQz"
      },
      "source": [
        "Apache Spark is a platform for distributed data processing, and it is particularly well-suited for dealing with massive data sets. The data sets that they do not readily fit within the memory or capacity of a single server.\n",
        "\n",
        "Apache Spark has a modular architecture. A core platform is called Apache Spark core, and there are several modules, which run on top of the core platform.\n",
        "\n",
        "In this notebook, we will mostly learn about DataFrames and work with Spark SQL. Apache Spark supports multiple languages, including:\n",
        "- Scala\n",
        "- Python\n",
        "- Java\n",
        "- SQL\n",
        "- R\n",
        "\n",
        "Apache Spark's core data structure is the Resilient Distributed Dataset (RDD). RDD is a low-level object that lets Spark work by splitting data across multiple nodes in the cluster. However, working directly with RDDs is hard. Therefore, data scientists and data engineers prefer to use the Spark DataFrame abstraction built on top of RDDs.\n",
        "\n",
        "We are particularly interested in a data structure called DataFrames. DataFrames are a set of data that are organized into columns and rows. The columns have names, and the rows have a schema. Therefore, in this way, they are very similar or analogous to tables in relational databases. Not only DataFrames are easier to understand, but also they are more optimized for complicated operations than RDDs."
      ]
    },
    {
      "cell_type": "markdown",
      "metadata": {
        "id": "K0qSBYaNFtQ0"
      },
      "source": [
        "There are a couple of different ways of working with DataFrames. One way is to use the DataFrame API, and basically, that is structured around using methods on DataFrame objects. The second way is Spark SQL that allows us to enter SQL queries which are executed on DataFrames, and those DataFrames are registered as tables."
      ]
    },
    {
      "cell_type": "markdown",
      "metadata": {
        "id": "mz5TG8hcFtQ1"
      },
      "source": [
        "### Setup Apache Spark on Jupyter\n",
        "To start working with DataFrames, first of all, we have to create a `SparkSession` object from `SparkContext`. The `SparkContext` is a connection to the running cluster, and `SparkSession` is an interface with that connection."
      ]
    },
    {
      "cell_type": "code",
      "metadata": {
        "id": "W3eVWQzrFtQ2",
        "outputId": "9150a07a-fcdf-4d98-ae9c-789b412da6cc",
        "colab": {
          "base_uri": "https://localhost:8080/",
          "height": 255
        }
      },
      "source": [
        "!pip install pyspark"
      ],
      "execution_count": 1,
      "outputs": [
        {
          "output_type": "stream",
          "text": [
            "Collecting pyspark\n",
            "\u001b[?25l  Downloading https://files.pythonhosted.org/packages/f0/26/198fc8c0b98580f617cb03cb298c6056587b8f0447e20fa40c5b634ced77/pyspark-3.0.1.tar.gz (204.2MB)\n",
            "\u001b[K     |████████████████████████████████| 204.2MB 68kB/s \n",
            "\u001b[?25hCollecting py4j==0.10.9\n",
            "\u001b[?25l  Downloading https://files.pythonhosted.org/packages/9e/b6/6a4fb90cd235dc8e265a6a2067f2a2c99f0d91787f06aca4bcf7c23f3f80/py4j-0.10.9-py2.py3-none-any.whl (198kB)\n",
            "\u001b[K     |████████████████████████████████| 204kB 46.9MB/s \n",
            "\u001b[?25hBuilding wheels for collected packages: pyspark\n",
            "  Building wheel for pyspark (setup.py) ... \u001b[?25l\u001b[?25hdone\n",
            "  Created wheel for pyspark: filename=pyspark-3.0.1-py2.py3-none-any.whl size=204612243 sha256=6aefe40e16cf5d6e8deaafbd7c213b0e10769352f6760a5244d24cec82db1071\n",
            "  Stored in directory: /root/.cache/pip/wheels/5e/bd/07/031766ca628adec8435bb40f0bd83bb676ce65ff4007f8e73f\n",
            "Successfully built pyspark\n",
            "Installing collected packages: py4j, pyspark\n",
            "Successfully installed py4j-0.10.9 pyspark-3.0.1\n"
          ],
          "name": "stdout"
        }
      ]
    },
    {
      "cell_type": "code",
      "metadata": {
        "id": "TefuzGQoFtQ9"
      },
      "source": [
        "import pyspark"
      ],
      "execution_count": 2,
      "outputs": []
    },
    {
      "cell_type": "code",
      "metadata": {
        "id": "4WtSXNqNFtRD"
      },
      "source": [
        "from pyspark.sql import SparkSession"
      ],
      "execution_count": 3,
      "outputs": []
    },
    {
      "cell_type": "code",
      "metadata": {
        "id": "0h9qm-KMFtRP"
      },
      "source": [
        "spark = SparkSession.builder.getOrCreate()"
      ],
      "execution_count": 4,
      "outputs": []
    },
    {
      "cell_type": "markdown",
      "metadata": {
        "id": "w_2MRT13FtRV"
      },
      "source": [
        "The previous line of code returns an existing `SparkSession` if there's already one in the environment, or creates a new one if necessary."
      ]
    },
    {
      "cell_type": "code",
      "metadata": {
        "id": "Wj_VZ9pQFtRW",
        "outputId": "b2891776-7432-4901-f1aa-110822c1923d",
        "colab": {
          "base_uri": "https://localhost:8080/",
          "height": 214
        }
      },
      "source": [
        "spark"
      ],
      "execution_count": 5,
      "outputs": [
        {
          "output_type": "execute_result",
          "data": {
            "text/html": [
              "\n",
              "            <div>\n",
              "                <p><b>SparkSession - in-memory</b></p>\n",
              "                \n",
              "        <div>\n",
              "            <p><b>SparkContext</b></p>\n",
              "\n",
              "            <p><a href=\"http://c93270abdc8d:4040\">Spark UI</a></p>\n",
              "\n",
              "            <dl>\n",
              "              <dt>Version</dt>\n",
              "                <dd><code>v3.0.1</code></dd>\n",
              "              <dt>Master</dt>\n",
              "                <dd><code>local[*]</code></dd>\n",
              "              <dt>AppName</dt>\n",
              "                <dd><code>pyspark-shell</code></dd>\n",
              "            </dl>\n",
              "        </div>\n",
              "        \n",
              "            </div>\n",
              "        "
            ],
            "text/plain": [
              "<pyspark.sql.session.SparkSession at 0x7f1a4b1e5748>"
            ]
          },
          "metadata": {
            "tags": []
          },
          "execution_count": 5
        }
      ]
    },
    {
      "cell_type": "markdown",
      "metadata": {
        "id": "K-AXOTgzFtRb"
      },
      "source": [
        "### Make the data set folder accessible\n",
        "\n",
        "In the following cells, we are going to load a file called `location_temp.csv`, which is a time-series file which contains loacations of sensors and the temperatures taken at particular periods of time. "
      ]
    },
    {
      "cell_type": "code",
      "metadata": {
        "id": "IaHmWdaxFtRc"
      },
      "source": [
        "import os\n",
        "MAIN_DIRECTORY = os.getcwd()"
      ],
      "execution_count": 6,
      "outputs": []
    },
    {
      "cell_type": "code",
      "metadata": {
        "id": "fOYQGhhCFtRj"
      },
      "source": [
        "file_path = MAIN_DIRECTORY+\"/data/location_temp.csv\""
      ],
      "execution_count": 7,
      "outputs": []
    },
    {
      "cell_type": "markdown",
      "metadata": {
        "id": "q-Y4LSqkFtRo"
      },
      "source": [
        "## Get Started with Spark DataFrames\n",
        "To create a Spark DataFrame by loading a csv file, we can use `spark.read` function as follows."
      ]
    },
    {
      "cell_type": "code",
      "metadata": {
        "id": "VU23Ia-OFtRp"
      },
      "source": [
        "df1 = spark.read.format('csv').option(\"header\", \"true\").load(file_path)"
      ],
      "execution_count": 8,
      "outputs": []
    },
    {
      "cell_type": "markdown",
      "metadata": {
        "id": "r_GLToR5FtRt"
      },
      "source": [
        "We can use `head(n)` method to show the heading of this data frame. `n` is the number of rows and its default value is 1."
      ]
    },
    {
      "cell_type": "code",
      "metadata": {
        "id": "5DyZqELtFtRu",
        "outputId": "452e6f74-b1a8-40b7-a6eb-25c237bb426e",
        "colab": {
          "base_uri": "https://localhost:8080/",
          "height": 101
        }
      },
      "source": [
        "df1.head(5)"
      ],
      "execution_count": 9,
      "outputs": [
        {
          "output_type": "execute_result",
          "data": {
            "text/plain": [
              "[Row(event_date='03/04/2019 19:48:06', location_id='loc0', temp_celcius='29'),\n",
              " Row(event_date='03/04/2019 19:53:06', location_id='loc0', temp_celcius='27'),\n",
              " Row(event_date='03/04/2019 19:58:06', location_id='loc0', temp_celcius='28'),\n",
              " Row(event_date='03/04/2019 20:03:06', location_id='loc0', temp_celcius='30'),\n",
              " Row(event_date='03/04/2019 20:08:06', location_id='loc0', temp_celcius='27')]"
            ]
          },
          "metadata": {
            "tags": []
          },
          "execution_count": 9
        }
      ]
    },
    {
      "cell_type": "markdown",
      "metadata": {
        "id": "8isxPi5QFtR2"
      },
      "source": [
        "If we want to show the data in a tabular format, we can use `.show(n)` method. `n` is the number of rows and its default value is 20."
      ]
    },
    {
      "cell_type": "code",
      "metadata": {
        "id": "Nhg_fEJtFtR3",
        "outputId": "91ecf1df-f807-40cc-ed91-3f2d26a47918",
        "colab": {
          "base_uri": "https://localhost:8080/",
          "height": 286
        }
      },
      "source": [
        "df1.show(10)"
      ],
      "execution_count": 10,
      "outputs": [
        {
          "output_type": "stream",
          "text": [
            "+-------------------+-----------+------------+\n",
            "|         event_date|location_id|temp_celcius|\n",
            "+-------------------+-----------+------------+\n",
            "|03/04/2019 19:48:06|       loc0|          29|\n",
            "|03/04/2019 19:53:06|       loc0|          27|\n",
            "|03/04/2019 19:58:06|       loc0|          28|\n",
            "|03/04/2019 20:03:06|       loc0|          30|\n",
            "|03/04/2019 20:08:06|       loc0|          27|\n",
            "|03/04/2019 20:13:06|       loc0|          27|\n",
            "|03/04/2019 20:18:06|       loc0|          27|\n",
            "|03/04/2019 20:23:06|       loc0|          29|\n",
            "|03/04/2019 20:28:06|       loc0|          32|\n",
            "|03/04/2019 20:33:06|       loc0|          35|\n",
            "+-------------------+-----------+------------+\n",
            "only showing top 10 rows\n",
            "\n"
          ],
          "name": "stdout"
        }
      ]
    },
    {
      "cell_type": "markdown",
      "metadata": {
        "id": "ISgZuNlbFtR9"
      },
      "source": [
        "To know the number of rows in the DataFrame, there is a useful method called `count()` that performs a count on the rows in a DataFrame."
      ]
    },
    {
      "cell_type": "code",
      "metadata": {
        "id": "OZUYkT4TFtR-",
        "outputId": "5cb455c3-1abc-4493-c023-ecdc10f7937f",
        "colab": {
          "base_uri": "https://localhost:8080/",
          "height": 34
        }
      },
      "source": [
        "df1.count()"
      ],
      "execution_count": 11,
      "outputs": [
        {
          "output_type": "execute_result",
          "data": {
            "text/plain": [
              "500000"
            ]
          },
          "metadata": {
            "tags": []
          },
          "execution_count": 11
        }
      ]
    },
    {
      "cell_type": "markdown",
      "metadata": {
        "id": "3N130vz7FtSE"
      },
      "source": [
        "One of the useful methods in DataFrame API is `printSchema()` that prints out the schema in the tree format."
      ]
    },
    {
      "cell_type": "code",
      "metadata": {
        "id": "5QdkUAp7FtSF",
        "outputId": "bfaae949-7da4-48d6-81f8-126336de24ce",
        "colab": {
          "base_uri": "https://localhost:8080/",
          "height": 101
        }
      },
      "source": [
        "df1.printSchema()"
      ],
      "execution_count": 12,
      "outputs": [
        {
          "output_type": "stream",
          "text": [
            "root\n",
            " |-- event_date: string (nullable = true)\n",
            " |-- location_id: string (nullable = true)\n",
            " |-- temp_celcius: string (nullable = true)\n",
            "\n"
          ],
          "name": "stdout"
        }
      ]
    },
    {
      "cell_type": "markdown",
      "metadata": {
        "id": "QWmJqefCFtSJ"
      },
      "source": [
        "### Rename column names\n",
        "\n",
        "Now, let's load another file. In the data folder, we have another file called `utilization.csv`. This file does not have a header row. If we want to use the csv file schema, Spark provides an option to infer the columns' data types automatically. The following cells show how we can work with this type of csv file."
      ]
    },
    {
      "cell_type": "code",
      "metadata": {
        "id": "SE1RmURKFtSK"
      },
      "source": [
        "file_path = MAIN_DIRECTORY + \"/data/utilization.csv\""
      ],
      "execution_count": 13,
      "outputs": []
    },
    {
      "cell_type": "code",
      "metadata": {
        "id": "6yAV2dFzFtSP"
      },
      "source": [
        "df2 = spark.read.format('csv').option('header','false').option('inferSchema','true').load(file_path)"
      ],
      "execution_count": 14,
      "outputs": []
    },
    {
      "cell_type": "code",
      "metadata": {
        "id": "_jNnFXJJFtSU",
        "outputId": "6752bd03-6032-49c8-adde-b055b71274e4",
        "colab": {
          "base_uri": "https://localhost:8080/",
          "height": 34
        }
      },
      "source": [
        "df2.count()"
      ],
      "execution_count": 15,
      "outputs": [
        {
          "output_type": "execute_result",
          "data": {
            "text/plain": [
              "500000"
            ]
          },
          "metadata": {
            "tags": []
          },
          "execution_count": 15
        }
      ]
    },
    {
      "cell_type": "code",
      "metadata": {
        "id": "y4cJ0NzWFtSY",
        "outputId": "60fe1fe1-b3b0-4915-fbeb-48a169f72068",
        "colab": {
          "base_uri": "https://localhost:8080/",
          "height": 101
        }
      },
      "source": [
        "df2.head(5)"
      ],
      "execution_count": 16,
      "outputs": [
        {
          "output_type": "execute_result",
          "data": {
            "text/plain": [
              "[Row(_c0='03/05/2019 08:06:14', _c1=100, _c2=0.57, _c3=0.51, _c4=47),\n",
              " Row(_c0='03/05/2019 08:11:14', _c1=100, _c2=0.47, _c3=0.62, _c4=43),\n",
              " Row(_c0='03/05/2019 08:16:14', _c1=100, _c2=0.56, _c3=0.57, _c4=62),\n",
              " Row(_c0='03/05/2019 08:21:14', _c1=100, _c2=0.57, _c3=0.56, _c4=50),\n",
              " Row(_c0='03/05/2019 08:26:14', _c1=100, _c2=0.35, _c3=0.46, _c4=43)]"
            ]
          },
          "metadata": {
            "tags": []
          },
          "execution_count": 16
        }
      ]
    },
    {
      "cell_type": "markdown",
      "metadata": {
        "id": "Hi2bJtK1FtSd"
      },
      "source": [
        "As you can see, we have five rows, but we do not have column names. Because we did not specify a header. So Spark just created column names. Basically used a pattern `_c#`."
      ]
    },
    {
      "cell_type": "markdown",
      "metadata": {
        "id": "ZQMuf2UQFtSe"
      },
      "source": [
        "Spark allows us to rename the columns. By using `withColumnRenamed()` method."
      ]
    },
    {
      "cell_type": "code",
      "metadata": {
        "id": "6A48XZl8FtSf"
      },
      "source": [
        "df2 = df2.withColumnRenamed('_c0','event_datetime')\\\n",
        "      .withColumnRenamed('_c1','server_id')\\\n",
        "      .withColumnRenamed('_c2','cpu_utilization')\\\n",
        "      .withColumnRenamed('_c3','free_memory')\\\n",
        "      .withColumnRenamed('_c4','session_count')"
      ],
      "execution_count": 17,
      "outputs": []
    },
    {
      "cell_type": "markdown",
      "metadata": {
        "id": "tAhJKBV7FtSl"
      },
      "source": [
        "Here is the new DataFrame in the tabular format."
      ]
    },
    {
      "cell_type": "code",
      "metadata": {
        "id": "X5u6fvpTFtSn",
        "outputId": "4bbbc5cd-4a2e-45f3-ab99-c8dd112ff4e6",
        "colab": {
          "base_uri": "https://localhost:8080/",
          "height": 286
        }
      },
      "source": [
        "df2.show(10)"
      ],
      "execution_count": 18,
      "outputs": [
        {
          "output_type": "stream",
          "text": [
            "+-------------------+---------+---------------+-----------+-------------+\n",
            "|     event_datetime|server_id|cpu_utilization|free_memory|session_count|\n",
            "+-------------------+---------+---------------+-----------+-------------+\n",
            "|03/05/2019 08:06:14|      100|           0.57|       0.51|           47|\n",
            "|03/05/2019 08:11:14|      100|           0.47|       0.62|           43|\n",
            "|03/05/2019 08:16:14|      100|           0.56|       0.57|           62|\n",
            "|03/05/2019 08:21:14|      100|           0.57|       0.56|           50|\n",
            "|03/05/2019 08:26:14|      100|           0.35|       0.46|           43|\n",
            "|03/05/2019 08:31:14|      100|           0.41|       0.58|           48|\n",
            "|03/05/2019 08:36:14|      100|           0.57|       0.35|           58|\n",
            "|03/05/2019 08:41:14|      100|           0.41|        0.4|           58|\n",
            "|03/05/2019 08:46:14|      100|           0.53|       0.35|           62|\n",
            "|03/05/2019 08:51:14|      100|           0.51|        0.6|           45|\n",
            "+-------------------+---------+---------------+-----------+-------------+\n",
            "only showing top 10 rows\n",
            "\n"
          ],
          "name": "stdout"
        }
      ]
    },
    {
      "cell_type": "code",
      "metadata": {
        "id": "3nqotpqhFtSr",
        "outputId": "a63cf866-adf2-4b06-b2db-60860050e9e2",
        "colab": {
          "base_uri": "https://localhost:8080/",
          "height": 134
        }
      },
      "source": [
        "df2.printSchema()"
      ],
      "execution_count": 19,
      "outputs": [
        {
          "output_type": "stream",
          "text": [
            "root\n",
            " |-- event_datetime: string (nullable = true)\n",
            " |-- server_id: integer (nullable = true)\n",
            " |-- cpu_utilization: double (nullable = true)\n",
            " |-- free_memory: double (nullable = true)\n",
            " |-- session_count: integer (nullable = true)\n",
            "\n"
          ],
          "name": "stdout"
        }
      ]
    },
    {
      "cell_type": "markdown",
      "metadata": {
        "id": "L7XE9UbMFtSv"
      },
      "source": [
        "Another useful method in DataFrame API is `describe()` that computes basic statistics for numeric and string columns.\n",
        "\n",
        "This include count, mean, stddev, min, and max."
      ]
    },
    {
      "cell_type": "code",
      "metadata": {
        "id": "rFahsSFoFtSw",
        "outputId": "2640b95f-9f30-4c6c-993d-36bc4689fbe4",
        "colab": {
          "base_uri": "https://localhost:8080/",
          "height": 185
        }
      },
      "source": [
        "df2.describe('cpu_utilization').show()"
      ],
      "execution_count": 20,
      "outputs": [
        {
          "output_type": "stream",
          "text": [
            "+-------+-------------------+\n",
            "|summary|    cpu_utilization|\n",
            "+-------+-------------------+\n",
            "|  count|             500000|\n",
            "|   mean| 0.6205177399999797|\n",
            "| stddev|0.15875173872913106|\n",
            "|    min|               0.22|\n",
            "|    max|                1.0|\n",
            "+-------+-------------------+\n",
            "\n"
          ],
          "name": "stdout"
        }
      ]
    },
    {
      "cell_type": "markdown",
      "metadata": {
        "id": "u7u3kuzwFtS0"
      },
      "source": [
        "If no columns are given, this function computes statistics for all numerical or string columns."
      ]
    },
    {
      "cell_type": "code",
      "metadata": {
        "id": "IUtPvrPHFtS2",
        "outputId": "ef47afd6-6bdb-46a9-cf70-b190471ade13",
        "colab": {
          "base_uri": "https://localhost:8080/",
          "height": 185
        }
      },
      "source": [
        "df2.describe().show()"
      ],
      "execution_count": 21,
      "outputs": [
        {
          "output_type": "stream",
          "text": [
            "+-------+-------------------+------------------+-------------------+-------------------+------------------+\n",
            "|summary|     event_datetime|         server_id|    cpu_utilization|        free_memory|     session_count|\n",
            "+-------+-------------------+------------------+-------------------+-------------------+------------------+\n",
            "|  count|             500000|            500000|             500000|             500000|            500000|\n",
            "|   mean|               null|             124.5| 0.6205177399999797|0.37912809999999125|          69.59616|\n",
            "| stddev|               null|14.430884120552715|0.15875173872913106|0.15830931278376184|14.850676696352798|\n",
            "|    min|03/05/2019 08:06:14|               100|               0.22|                0.0|                32|\n",
            "|    max|04/09/2019 01:22:46|               149|                1.0|               0.78|               105|\n",
            "+-------+-------------------+------------------+-------------------+-------------------+------------------+\n",
            "\n"
          ],
          "name": "stdout"
        }
      ]
    },
    {
      "cell_type": "markdown",
      "metadata": {
        "id": "Eq1d_JZbFtS7"
      },
      "source": [
        "### Load a JSON file into a DataFrame\n",
        "In the following cell, we are trying to load a JSON file into a DataFrame by using `spark.read` command."
      ]
    },
    {
      "cell_type": "code",
      "metadata": {
        "id": "BAoYxgYAFtS8"
      },
      "source": [
        "file_path = MAIN_DIRECTORY+\"/data/utilization.json\""
      ],
      "execution_count": 22,
      "outputs": []
    },
    {
      "cell_type": "code",
      "metadata": {
        "id": "t-vnu2kXFtTE"
      },
      "source": [
        "df3 = spark.read.format('json').load(file_path)"
      ],
      "execution_count": 23,
      "outputs": []
    },
    {
      "cell_type": "code",
      "metadata": {
        "id": "liQH97OeFtTJ",
        "outputId": "e147d6ea-eb27-4dc4-e85d-5cd300567b14",
        "colab": {
          "base_uri": "https://localhost:8080/",
          "height": 286
        }
      },
      "source": [
        "df3.show(10)"
      ],
      "execution_count": 24,
      "outputs": [
        {
          "output_type": "stream",
          "text": [
            "+---------------+-------------------+-----------+---------+-------------+\n",
            "|cpu_utilization|     event_datetime|free_memory|server_id|session_count|\n",
            "+---------------+-------------------+-----------+---------+-------------+\n",
            "|           0.57|03/05/2019 08:06:14|       0.51|      100|           47|\n",
            "|           0.47|03/05/2019 08:11:14|       0.62|      100|           43|\n",
            "|           0.56|03/05/2019 08:16:14|       0.57|      100|           62|\n",
            "|           0.57|03/05/2019 08:21:14|       0.56|      100|           50|\n",
            "|           0.35|03/05/2019 08:26:14|       0.46|      100|           43|\n",
            "|           0.41|03/05/2019 08:31:14|       0.58|      100|           48|\n",
            "|           0.57|03/05/2019 08:36:14|       0.35|      100|           58|\n",
            "|           0.41|03/05/2019 08:41:14|        0.4|      100|           58|\n",
            "|           0.53|03/05/2019 08:46:14|       0.35|      100|           62|\n",
            "|           0.51|03/05/2019 08:51:14|        0.6|      100|           45|\n",
            "+---------------+-------------------+-----------+---------+-------------+\n",
            "only showing top 10 rows\n",
            "\n"
          ],
          "name": "stdout"
        }
      ]
    },
    {
      "cell_type": "code",
      "metadata": {
        "id": "7etnGXTmFtTP",
        "outputId": "808a3000-0820-4db0-cf2e-f5e577894668",
        "colab": {
          "base_uri": "https://localhost:8080/",
          "height": 34
        }
      },
      "source": [
        "df3.count()"
      ],
      "execution_count": 25,
      "outputs": [
        {
          "output_type": "execute_result",
          "data": {
            "text/plain": [
              "500000"
            ]
          },
          "metadata": {
            "tags": []
          },
          "execution_count": 25
        }
      ]
    },
    {
      "cell_type": "code",
      "metadata": {
        "id": "Iurw-WJxcL89",
        "outputId": "5158464a-8367-46c9-f247-a196d254d794",
        "colab": {
          "base_uri": "https://localhost:8080/",
          "height": 134
        }
      },
      "source": [
        "df3.printSchema()"
      ],
      "execution_count": 26,
      "outputs": [
        {
          "output_type": "stream",
          "text": [
            "root\n",
            " |-- cpu_utilization: double (nullable = true)\n",
            " |-- event_datetime: string (nullable = true)\n",
            " |-- free_memory: double (nullable = true)\n",
            " |-- server_id: long (nullable = true)\n",
            " |-- session_count: long (nullable = true)\n",
            "\n"
          ],
          "name": "stdout"
        }
      ]
    },
    {
      "cell_type": "markdown",
      "metadata": {
        "id": "iSp6V57oFtTT"
      },
      "source": [
        "Now, what you will notice here is we did not have to change column names.That is because in JSON, you specify key-value pairs. For example, there was a row that has `cpu_utilization` equals to 0.77, that corresponds to the first row. This row also has a key-value pair with `free_memory` equals to 0.22 and `server_id` equals to 115."
      ]
    },
    {
      "cell_type": "markdown",
      "metadata": {
        "id": "IIo2jSfyFtTU"
      },
      "source": [
        "Apache Spark provides an attribute called `columns`, to show the list of a DataFrame's columns."
      ]
    },
    {
      "cell_type": "code",
      "metadata": {
        "id": "gHZQ-0khFtTV",
        "outputId": "b9bc7aaa-bdc9-4064-cf81-2675b1fb62bd",
        "colab": {
          "base_uri": "https://localhost:8080/",
          "height": 101
        }
      },
      "source": [
        "df3.columns"
      ],
      "execution_count": 27,
      "outputs": [
        {
          "output_type": "execute_result",
          "data": {
            "text/plain": [
              "['cpu_utilization',\n",
              " 'event_datetime',\n",
              " 'free_memory',\n",
              " 'server_id',\n",
              " 'session_count']"
            ]
          },
          "metadata": {
            "tags": []
          },
          "execution_count": 27
        }
      ]
    },
    {
      "cell_type": "markdown",
      "metadata": {
        "id": "IYQWsoyAFtTZ"
      },
      "source": [
        "Sometimes we want to work with a subset of data. For example, we have 500000 rows of data in this DataFrame. Although they are not too many rows, it may be more than you want to work with at any particular time. And you would rather work with a sample of the data. To do that, you can use `sample` command."
      ]
    },
    {
      "cell_type": "code",
      "metadata": {
        "id": "N4o3PBK0FtTa"
      },
      "source": [
        "df3_sample = df3.sample(False,0.1)"
      ],
      "execution_count": 28,
      "outputs": []
    },
    {
      "cell_type": "code",
      "metadata": {
        "id": "kVP7XEwNFtTf",
        "outputId": "98efd379-b8f7-4086-f8c8-128b7eb3a763",
        "colab": {
          "base_uri": "https://localhost:8080/",
          "height": 34
        }
      },
      "source": [
        "df3_sample.count()"
      ],
      "execution_count": 29,
      "outputs": [
        {
          "output_type": "execute_result",
          "data": {
            "text/plain": [
              "50027"
            ]
          },
          "metadata": {
            "tags": []
          },
          "execution_count": 29
        }
      ]
    },
    {
      "cell_type": "markdown",
      "metadata": {
        "id": "DtBRP11RFtTk"
      },
      "source": [
        "DataFrame API provides a method called `sort()` to sort the rows based on one or more columns."
      ]
    },
    {
      "cell_type": "code",
      "metadata": {
        "id": "Dp5TAX7wFtTl",
        "outputId": "6124fb36-3eb1-4b68-e87d-2bfc45c3aaf8",
        "colab": {
          "base_uri": "https://localhost:8080/",
          "height": 454
        }
      },
      "source": [
        "df3_sort = df3.sort('server_id').show()"
      ],
      "execution_count": 30,
      "outputs": [
        {
          "output_type": "stream",
          "text": [
            "+---------------+-------------------+-----------+---------+-------------+\n",
            "|cpu_utilization|     event_datetime|free_memory|server_id|session_count|\n",
            "+---------------+-------------------+-----------+---------+-------------+\n",
            "|           0.55|03/05/2019 09:41:14|       0.59|      100|           63|\n",
            "|           0.62|03/05/2019 09:01:14|       0.59|      100|           60|\n",
            "|           0.42|03/05/2019 09:36:14|        0.6|      100|           42|\n",
            "|           0.57|03/05/2019 08:36:14|       0.35|      100|           58|\n",
            "|           0.32|03/05/2019 08:56:14|       0.37|      100|           47|\n",
            "|           0.29|03/05/2019 09:16:14|        0.4|      100|           47|\n",
            "|           0.64|03/05/2019 09:31:14|       0.55|      100|           66|\n",
            "|           0.56|03/05/2019 08:16:14|       0.57|      100|           62|\n",
            "|           0.41|03/05/2019 08:31:14|       0.58|      100|           48|\n",
            "|           0.53|03/05/2019 08:46:14|       0.35|      100|           62|\n",
            "|           0.51|03/05/2019 08:51:14|        0.6|      100|           45|\n",
            "|           0.66|03/05/2019 09:06:14|       0.72|      100|           57|\n",
            "|           0.54|03/05/2019 09:11:14|       0.54|      100|           44|\n",
            "|           0.43|03/05/2019 09:21:14|       0.68|      100|           66|\n",
            "|           0.49|03/05/2019 09:26:14|       0.66|      100|           65|\n",
            "|           0.57|03/05/2019 08:06:14|       0.51|      100|           47|\n",
            "|           0.47|03/05/2019 08:11:14|       0.62|      100|           43|\n",
            "|           0.57|03/05/2019 08:21:14|       0.56|      100|           50|\n",
            "|           0.35|03/05/2019 08:26:14|       0.46|      100|           43|\n",
            "|           0.41|03/05/2019 08:41:14|        0.4|      100|           58|\n",
            "+---------------+-------------------+-----------+---------+-------------+\n",
            "only showing top 20 rows\n",
            "\n"
          ],
          "name": "stdout"
        }
      ]
    },
    {
      "cell_type": "markdown",
      "metadata": {
        "id": "Lt1aAyIBFtTp"
      },
      "source": [
        "If we want to sort the rows based on more that one coulmn, we can specify the list of columns and sorting order by using the following syntax."
      ]
    },
    {
      "cell_type": "code",
      "metadata": {
        "id": "h0Ltbf_EFtTq",
        "outputId": "e5d2be14-02ec-490a-87d1-82c4523aaebe",
        "colab": {
          "base_uri": "https://localhost:8080/",
          "height": 454
        }
      },
      "source": [
        "df3.sort(['event_datetime','server_id'], ascending=[0,1]).show()"
      ],
      "execution_count": 32,
      "outputs": [
        {
          "output_type": "stream",
          "text": [
            "+---------------+-------------------+-----------+---------+-------------+\n",
            "|cpu_utilization|     event_datetime|free_memory|server_id|session_count|\n",
            "+---------------+-------------------+-----------+---------+-------------+\n",
            "|           0.74|04/09/2019 01:22:46|       0.19|      149|           85|\n",
            "|           0.83|04/09/2019 01:22:44|       0.21|      148|           69|\n",
            "|            0.4|04/09/2019 01:22:41|       0.42|      147|           65|\n",
            "|           0.62|04/09/2019 01:22:39|       0.13|      146|           92|\n",
            "|           0.77|04/09/2019 01:22:37|       0.12|      145|           88|\n",
            "|           0.78|04/09/2019 01:22:35|       0.46|      144|           64|\n",
            "|           0.37|04/09/2019 01:22:33|        0.4|      143|           59|\n",
            "|           0.77|04/09/2019 01:22:31|       0.27|      142|           68|\n",
            "|           0.44|04/09/2019 01:22:29|       0.59|      141|           54|\n",
            "|           0.63|04/09/2019 01:22:28|       0.21|      140|           60|\n",
            "|           0.67|04/09/2019 01:22:25|       0.34|      139|           69|\n",
            "|           0.32|04/09/2019 01:22:23|        0.6|      138|           39|\n",
            "|           0.57|04/09/2019 01:22:21|       0.32|      137|           87|\n",
            "|           0.41|04/09/2019 01:22:19|       0.33|      136|           74|\n",
            "|            0.5|04/09/2019 01:22:17|       0.63|      135|           71|\n",
            "|            0.5|04/09/2019 01:22:15|       0.34|      134|           58|\n",
            "|           0.87|04/09/2019 01:22:13|       0.43|      133|           77|\n",
            "|           0.72|04/09/2019 01:22:12|        0.4|      132|           49|\n",
            "|           0.57|04/09/2019 01:22:09|       0.38|      131|           58|\n",
            "|           0.51|04/09/2019 01:22:07|       0.25|      130|           61|\n",
            "+---------------+-------------------+-----------+---------+-------------+\n",
            "only showing top 20 rows\n",
            "\n"
          ],
          "name": "stdout"
        }
      ]
    },
    {
      "cell_type": "markdown",
      "metadata": {
        "id": "ypzQHQC2FtTv"
      },
      "source": [
        "### Filtering using DataFrame API"
      ]
    },
    {
      "cell_type": "markdown",
      "metadata": {
        "id": "NuODwlrbFtTv"
      },
      "source": [
        "Now, let's take a look at how we can use DataFrame API to filter some of the rows in DataFrames.\n",
        "\n",
        "One of the DataFrames that we have created is `df1`, which stores location ID, and temperature measurement at a particular point and time."
      ]
    },
    {
      "cell_type": "code",
      "metadata": {
        "id": "wBZzjwjDFtTw",
        "outputId": "61786842-0e2b-49da-fd04-f86f35afb0fe",
        "colab": {
          "base_uri": "https://localhost:8080/",
          "height": 202
        }
      },
      "source": [
        "df1.show(5)"
      ],
      "execution_count": 34,
      "outputs": [
        {
          "output_type": "stream",
          "text": [
            "+-------------------+-----------+------------+\n",
            "|         event_date|location_id|temp_celcius|\n",
            "+-------------------+-----------+------------+\n",
            "|03/04/2019 19:48:06|       loc0|          29|\n",
            "|03/04/2019 19:53:06|       loc0|          27|\n",
            "|03/04/2019 19:58:06|       loc0|          28|\n",
            "|03/04/2019 20:03:06|       loc0|          30|\n",
            "|03/04/2019 20:08:06|       loc0|          27|\n",
            "+-------------------+-----------+------------+\n",
            "only showing top 5 rows\n",
            "\n"
          ],
          "name": "stdout"
        }
      ]
    },
    {
      "cell_type": "markdown",
      "metadata": {
        "id": "xbz2qmetFtT1"
      },
      "source": [
        "If we want to filter rows based on their `location_id`, we can use `filter` command. `filter(condition)` filters rows using the given condition. `filter()` method essentially allows us to specify a `WHERE` clause."
      ]
    },
    {
      "cell_type": "code",
      "metadata": {
        "id": "8yE-hbM6FtT2",
        "outputId": "c8c889d3-18c5-4db8-f42a-60a94b0211d8",
        "colab": {
          "base_uri": "https://localhost:8080/",
          "height": 34
        }
      },
      "source": [
        "df1.count()"
      ],
      "execution_count": 35,
      "outputs": [
        {
          "output_type": "execute_result",
          "data": {
            "text/plain": [
              "500000"
            ]
          },
          "metadata": {
            "tags": []
          },
          "execution_count": 35
        }
      ]
    },
    {
      "cell_type": "code",
      "metadata": {
        "id": "gR3ya1nbgQr0",
        "outputId": "96cd0b10-0b05-4e09-a134-d0d019faeca5",
        "colab": {
          "base_uri": "https://localhost:8080/",
          "height": 202
        }
      },
      "source": [
        "df1.filter(df1['location_id']=='loc1').show(5)"
      ],
      "execution_count": 38,
      "outputs": [
        {
          "output_type": "stream",
          "text": [
            "+-------------------+-----------+------------+\n",
            "|         event_date|location_id|temp_celcius|\n",
            "+-------------------+-----------+------------+\n",
            "|03/04/2019 19:48:06|       loc1|          31|\n",
            "|03/04/2019 19:53:06|       loc1|          26|\n",
            "|03/04/2019 19:58:06|       loc1|          31|\n",
            "|03/04/2019 20:03:06|       loc1|          26|\n",
            "|03/04/2019 20:08:06|       loc1|          28|\n",
            "+-------------------+-----------+------------+\n",
            "only showing top 5 rows\n",
            "\n"
          ],
          "name": "stdout"
        }
      ]
    },
    {
      "cell_type": "markdown",
      "metadata": {
        "id": "HvbaBy3NFtT6"
      },
      "source": [
        "If we want to count all the rows that are located in a specific `location_id`,we can specify the `count()` command."
      ]
    },
    {
      "cell_type": "code",
      "metadata": {
        "id": "qGjqYmDsFtT7",
        "outputId": "b98e3f2a-9b0d-40dd-be16-c369052ebdbb",
        "colab": {
          "base_uri": "https://localhost:8080/",
          "height": 34
        }
      },
      "source": [
        "df1.filter(df1.location_id == 'loc1').count()"
      ],
      "execution_count": 37,
      "outputs": [
        {
          "output_type": "execute_result",
          "data": {
            "text/plain": [
              "1000"
            ]
          },
          "metadata": {
            "tags": []
          },
          "execution_count": 37
        }
      ]
    },
    {
      "cell_type": "markdown",
      "metadata": {
        "id": "O7SEQQ82FtUA"
      },
      "source": [
        "Sometimes we only need to list one or two columns; in this case, we can use `select()` method that projects a set of expressions and returns a new DataFrame. Let's take a look at how it works."
      ]
    },
    {
      "cell_type": "code",
      "metadata": {
        "id": "ssbNB92sFtUB",
        "outputId": "0a7a9631-d4ab-491d-effd-dba23512f0d8",
        "colab": {
          "base_uri": "https://localhost:8080/",
          "height": 454
        }
      },
      "source": [
        "df1.select('location_id','temp_celcius').show()"
      ],
      "execution_count": 39,
      "outputs": [
        {
          "output_type": "stream",
          "text": [
            "+-----------+------------+\n",
            "|location_id|temp_celcius|\n",
            "+-----------+------------+\n",
            "|       loc0|          29|\n",
            "|       loc0|          27|\n",
            "|       loc0|          28|\n",
            "|       loc0|          30|\n",
            "|       loc0|          27|\n",
            "|       loc0|          27|\n",
            "|       loc0|          27|\n",
            "|       loc0|          29|\n",
            "|       loc0|          32|\n",
            "|       loc0|          35|\n",
            "|       loc0|          32|\n",
            "|       loc0|          28|\n",
            "|       loc0|          28|\n",
            "|       loc0|          32|\n",
            "|       loc0|          34|\n",
            "|       loc0|          33|\n",
            "|       loc0|          27|\n",
            "|       loc0|          28|\n",
            "|       loc0|          33|\n",
            "|       loc0|          28|\n",
            "+-----------+------------+\n",
            "only showing top 20 rows\n",
            "\n"
          ],
          "name": "stdout"
        }
      ]
    },
    {
      "cell_type": "markdown",
      "metadata": {
        "id": "cQboorUSFtUG"
      },
      "source": [
        "### Aggregation using DataFrame API"
      ]
    },
    {
      "cell_type": "markdown",
      "metadata": {
        "id": "iH-_gV4BFtUH"
      },
      "source": [
        "Now, let's take a look at aggregating using the DataFrame API. In the following cell we will use `groupBy` method that groups the DataFrame using the specified columns, so we can run aggregation on them."
      ]
    },
    {
      "cell_type": "code",
      "metadata": {
        "id": "_MZRQBWrFtUI",
        "outputId": "c33398bf-d6b8-454b-9703-26920a53009d",
        "colab": {
          "base_uri": "https://localhost:8080/",
          "height": 454
        }
      },
      "source": [
        "df1.groupBy('location_id').count().show()"
      ],
      "execution_count": 40,
      "outputs": [
        {
          "output_type": "stream",
          "text": [
            "+-----------+-----+\n",
            "|location_id|count|\n",
            "+-----------+-----+\n",
            "|     loc196| 1000|\n",
            "|     loc226| 1000|\n",
            "|     loc463| 1000|\n",
            "|     loc150| 1000|\n",
            "|     loc292| 1000|\n",
            "|     loc311| 1000|\n",
            "|      loc22| 1000|\n",
            "|     loc351| 1000|\n",
            "|     loc370| 1000|\n",
            "|     loc419| 1000|\n",
            "|      loc31| 1000|\n",
            "|     loc305| 1000|\n",
            "|      loc82| 1000|\n",
            "|      loc90| 1000|\n",
            "|     loc118| 1000|\n",
            "|     loc195| 1000|\n",
            "|     loc208| 1000|\n",
            "|      loc39| 1000|\n",
            "|      loc75| 1000|\n",
            "|     loc228| 1000|\n",
            "+-----------+-----+\n",
            "only showing top 20 rows\n",
            "\n"
          ],
          "name": "stdout"
        }
      ]
    },
    {
      "cell_type": "markdown",
      "metadata": {
        "id": "Vfyjbe2-FtUU"
      },
      "source": [
        "If we want to sort the DataFrame, we can use `orderBy` that returns a new DataFrame sorted by the specified column(s)."
      ]
    },
    {
      "cell_type": "code",
      "metadata": {
        "id": "_Q1QY57mFtUV",
        "outputId": "0b2541e9-b0c2-48f1-a1ba-cc12d04c31bc",
        "colab": {
          "base_uri": "https://localhost:8080/",
          "height": 454
        }
      },
      "source": [
        "df1.orderBy('location_id').show()"
      ],
      "execution_count": 41,
      "outputs": [
        {
          "output_type": "stream",
          "text": [
            "+-------------------+-----------+------------+\n",
            "|         event_date|location_id|temp_celcius|\n",
            "+-------------------+-----------+------------+\n",
            "|03/04/2019 21:23:06|       loc0|          28|\n",
            "|03/04/2019 20:43:06|       loc0|          28|\n",
            "|03/04/2019 21:18:06|       loc0|          33|\n",
            "|03/04/2019 20:18:06|       loc0|          27|\n",
            "|03/04/2019 20:38:06|       loc0|          32|\n",
            "|03/04/2019 20:58:06|       loc0|          34|\n",
            "|03/04/2019 21:13:06|       loc0|          28|\n",
            "|03/04/2019 19:58:06|       loc0|          28|\n",
            "|03/04/2019 20:13:06|       loc0|          27|\n",
            "|03/04/2019 20:28:06|       loc0|          32|\n",
            "|03/04/2019 20:33:06|       loc0|          35|\n",
            "|03/04/2019 20:48:06|       loc0|          28|\n",
            "|03/04/2019 20:53:06|       loc0|          32|\n",
            "|03/04/2019 21:03:06|       loc0|          33|\n",
            "|03/04/2019 21:08:06|       loc0|          27|\n",
            "|03/04/2019 19:48:06|       loc0|          29|\n",
            "|03/04/2019 19:53:06|       loc0|          27|\n",
            "|03/04/2019 20:03:06|       loc0|          30|\n",
            "|03/04/2019 20:08:06|       loc0|          27|\n",
            "|03/04/2019 20:23:06|       loc0|          29|\n",
            "+-------------------+-----------+------------+\n",
            "only showing top 20 rows\n",
            "\n"
          ],
          "name": "stdout"
        }
      ]
    },
    {
      "cell_type": "markdown",
      "metadata": {
        "id": "mOhJVhKTFtUc"
      },
      "source": [
        "To calculate the average temperature at each location, we can use `agg` operation. Let's take a look at the following example."
      ]
    },
    {
      "cell_type": "code",
      "metadata": {
        "id": "3u5Mogx3FtUd",
        "outputId": "c65842f2-c47f-45b5-edf1-8a872c80d6d8",
        "colab": {
          "base_uri": "https://localhost:8080/",
          "height": 454
        }
      },
      "source": [
        "df1.groupBy('location_id').agg({'temp_celcius':'mean'}).orderBy('location_id').show()"
      ],
      "execution_count": 43,
      "outputs": [
        {
          "output_type": "stream",
          "text": [
            "+-----------+-----------------+\n",
            "|location_id|avg(temp_celcius)|\n",
            "+-----------+-----------------+\n",
            "|       loc0|           29.176|\n",
            "|       loc1|           28.246|\n",
            "|      loc10|           25.337|\n",
            "|     loc100|           27.297|\n",
            "|     loc101|           25.317|\n",
            "|     loc102|           30.327|\n",
            "|     loc103|           25.341|\n",
            "|     loc104|           26.204|\n",
            "|     loc105|           26.217|\n",
            "|     loc106|           27.201|\n",
            "|     loc107|           33.268|\n",
            "|     loc108|           32.195|\n",
            "|     loc109|           24.138|\n",
            "|      loc11|           25.308|\n",
            "|     loc110|           26.239|\n",
            "|     loc111|           31.391|\n",
            "|     loc112|           33.359|\n",
            "|     loc113|           30.345|\n",
            "|     loc114|           29.261|\n",
            "|     loc115|           23.239|\n",
            "+-----------+-----------------+\n",
            "only showing top 20 rows\n",
            "\n"
          ],
          "name": "stdout"
        }
      ]
    },
    {
      "cell_type": "markdown",
      "metadata": {
        "id": "3cz5kRq-FtUm"
      },
      "source": [
        "There are different aggregation function options, for example, if we want to have the maximum temperature in each location, we can write the following code."
      ]
    },
    {
      "cell_type": "code",
      "metadata": {
        "id": "ytvoJCD-FtUn",
        "outputId": "8aaa5c86-a657-4de7-efad-54f1a811b624",
        "colab": {
          "base_uri": "https://localhost:8080/",
          "height": 454
        }
      },
      "source": [
        "df1.groupBy('location_id').agg({'temp_celcius':'max'}).orderBy('location_id', ascending=False).show()"
      ],
      "execution_count": 44,
      "outputs": [
        {
          "output_type": "stream",
          "text": [
            "+-----------+-----------------+\n",
            "|location_id|max(temp_celcius)|\n",
            "+-----------+-----------------+\n",
            "|      loc99|               40|\n",
            "|      loc98|               39|\n",
            "|      loc97|               38|\n",
            "|      loc96|               35|\n",
            "|      loc95|               40|\n",
            "|      loc94|               32|\n",
            "|      loc93|               31|\n",
            "|      loc92|               40|\n",
            "|      loc91|               37|\n",
            "|      loc90|               30|\n",
            "|       loc9|               39|\n",
            "|      loc89|               37|\n",
            "|      loc88|               32|\n",
            "|      loc87|               38|\n",
            "|      loc86|               30|\n",
            "|      loc85|               35|\n",
            "|      loc84|               33|\n",
            "|      loc83|               33|\n",
            "|      loc82|               34|\n",
            "|      loc81|               30|\n",
            "+-----------+-----------------+\n",
            "only showing top 20 rows\n",
            "\n"
          ],
          "name": "stdout"
        }
      ]
    },
    {
      "cell_type": "markdown",
      "metadata": {
        "id": "10O7eVdeFtUv"
      },
      "source": [
        "### Data Sampling"
      ]
    },
    {
      "cell_type": "markdown",
      "metadata": {
        "id": "5QPgfECaFtUw"
      },
      "source": [
        "Sometimes, we may want to use sampling, particularly when we have large data sets, and we are doing kind of an exploratory analysis. We want to get kind of an understanding at a high level of what the data is like. Sampling can be beneficial for doing quick operations. Now, let's see how we can take a sample, or a subset of that, but randomly. In PySpark, `sample()` method returns a sampled subset of this DataFrame, and it usually takes two parameters, `fraction` that specifies the fraction of rows to generate, range [0.0, 1.0]. The second parameter is `withReplacement`, which is a boolean parameter. Usually, we assign `false` to it, in this case, what that means is each time we pull a row out of our sampling, we don't put it back in, so we will never get duplicates, we will always get unique values. "
      ]
    },
    {
      "cell_type": "code",
      "metadata": {
        "id": "R9Il4vRlFtUy"
      },
      "source": [
        "df1_sample = df1.sample(withReplacement=False, fraction=0.1)"
      ],
      "execution_count": 45,
      "outputs": []
    },
    {
      "cell_type": "code",
      "metadata": {
        "id": "wxsugimEFtU2",
        "outputId": "401aa312-a77b-4c4f-acf8-3928ddaadbf4",
        "colab": {
          "base_uri": "https://localhost:8080/",
          "height": 34
        }
      },
      "source": [
        "df1_sample.count()"
      ],
      "execution_count": 46,
      "outputs": [
        {
          "output_type": "execute_result",
          "data": {
            "text/plain": [
              "50209"
            ]
          },
          "metadata": {
            "tags": []
          },
          "execution_count": 46
        }
      ]
    },
    {
      "cell_type": "markdown",
      "metadata": {
        "id": "GdTl9rh8FtU7"
      },
      "source": [
        "Now, let's run some simple descriptive statistics on our sample. "
      ]
    },
    {
      "cell_type": "code",
      "metadata": {
        "id": "nsSSzLNsFtU-",
        "outputId": "01cc7531-3e88-4f38-acb2-795f544c6033",
        "colab": {
          "base_uri": "https://localhost:8080/",
          "height": 454
        }
      },
      "source": [
        "df1_sample.groupBy('location_id').agg({'temp_celcius':'mean'}).show()"
      ],
      "execution_count": 47,
      "outputs": [
        {
          "output_type": "stream",
          "text": [
            "+-----------+------------------+\n",
            "|location_id| avg(temp_celcius)|\n",
            "+-----------+------------------+\n",
            "|     loc196| 29.07017543859649|\n",
            "|     loc226|25.627906976744185|\n",
            "|     loc463|23.341176470588234|\n",
            "|     loc150|32.029411764705884|\n",
            "|     loc292|29.286956521739132|\n",
            "|     loc311|24.121739130434783|\n",
            "|      loc22|28.160714285714285|\n",
            "|     loc351|28.431578947368422|\n",
            "|     loc370|28.829787234042552|\n",
            "|     loc419| 29.11340206185567|\n",
            "|      loc31|  25.6046511627907|\n",
            "|     loc305|27.345454545454544|\n",
            "|      loc82|27.373626373626372|\n",
            "|      loc90|23.299065420560748|\n",
            "|     loc118| 24.13131313131313|\n",
            "|     loc195| 27.19607843137255|\n",
            "|     loc208|26.395604395604394|\n",
            "|      loc39|24.775280898876403|\n",
            "|      loc75|23.010526315789473|\n",
            "|     loc228|27.555555555555557|\n",
            "+-----------+------------------+\n",
            "only showing top 20 rows\n",
            "\n"
          ],
          "name": "stdout"
        }
      ]
    },
    {
      "cell_type": "markdown",
      "metadata": {
        "id": "zKhpC1mmFtVD"
      },
      "source": [
        "Now, let's compare these results to results of the original data set, the DataFrame `df1`, which has 500000 rows."
      ]
    },
    {
      "cell_type": "code",
      "metadata": {
        "id": "7OUZC_BpFtVD",
        "outputId": "e960268f-3b6e-459c-f473-f30e193d9ecb",
        "colab": {
          "base_uri": "https://localhost:8080/",
          "height": 454
        }
      },
      "source": [
        "df1.groupBy('location_id').agg({'temp_celcius':'mean'}).show()"
      ],
      "execution_count": 48,
      "outputs": [
        {
          "output_type": "stream",
          "text": [
            "+-----------+-----------------+\n",
            "|location_id|avg(temp_celcius)|\n",
            "+-----------+-----------------+\n",
            "|     loc196|           29.225|\n",
            "|     loc226|           25.306|\n",
            "|     loc463|           23.317|\n",
            "|     loc150|           32.188|\n",
            "|     loc292|           29.159|\n",
            "|     loc311|           24.308|\n",
            "|      loc22|           28.251|\n",
            "|     loc351|           28.194|\n",
            "|     loc370|            29.14|\n",
            "|     loc419|           29.141|\n",
            "|      loc31|           25.196|\n",
            "|     loc305|           27.314|\n",
            "|      loc82|           27.355|\n",
            "|      loc90|           23.216|\n",
            "|     loc118|           24.219|\n",
            "|     loc195|            27.25|\n",
            "|     loc208|           26.206|\n",
            "|      loc39|           25.199|\n",
            "|      loc75|           23.209|\n",
            "|     loc228|           27.295|\n",
            "+-----------+-----------------+\n",
            "only showing top 20 rows\n",
            "\n"
          ],
          "name": "stdout"
        }
      ]
    },
    {
      "cell_type": "markdown",
      "metadata": {
        "id": "_e1k9zZPFtVL"
      },
      "source": [
        "As you can see, when we did the sampling and took 10% when we took the average of location zero, we got something that was about 29.4, but the actual is approximately 29.18. Therefore, we can see by sampling, we get very close to what the average is for the actual population. One of the things to consider is the size of the sample that we are drawing."
      ]
    },
    {
      "cell_type": "markdown",
      "metadata": {
        "id": "l0ilLX2YFtVL"
      },
      "source": [
        "### Save Data from DataFrame"
      ]
    },
    {
      "cell_type": "markdown",
      "metadata": {
        "id": "fMRFKZ7XFtVM"
      },
      "source": [
        "Sometimes after we have been working with DataFrames and creating new DataFrames and running calculations and doing sampling, we might want to save our results out. To do this, we can use `write` object and specify the `csv()` method within that, and then specify a name or what we'd like to save. It saves the DataFrame to disk using the csv format."
      ]
    },
    {
      "cell_type": "code",
      "metadata": {
        "id": "31QuE7pcFtVN"
      },
      "source": [
        "df1.write.csv('df1.csv')"
      ],
      "execution_count": 49,
      "outputs": []
    },
    {
      "cell_type": "markdown",
      "metadata": {
        "id": "NL5r28BtFtVS"
      },
      "source": [
        "Now, let's take a look at the current directory"
      ]
    },
    {
      "cell_type": "code",
      "metadata": {
        "id": "hsgkvSAjFtVS"
      },
      "source": [
        ""
      ],
      "execution_count": null,
      "outputs": []
    },
    {
      "cell_type": "markdown",
      "metadata": {
        "id": "ISnRKx_1FtVW"
      },
      "source": [
        "Now, what you will notice here is that `df1.csv` is not a single file. It is a directory. And what is in that directory is four different files with `csv` extensions, and that is because of the way Apache Spark works internally. Spark can break up DataFrames into partition subsets, and in this case, there were four partitions. Each partition has its own file. There is also a `_SUCCESS` flag that was written out. Now, let's list the contents of one of these files. "
      ]
    },
    {
      "cell_type": "code",
      "metadata": {
        "id": "znEMKUKMFtVa"
      },
      "source": [
        ""
      ],
      "execution_count": null,
      "outputs": []
    },
    {
      "cell_type": "markdown",
      "metadata": {
        "id": "YbdWncfrFtVh"
      },
      "source": [
        "To write the DataFrame in JSON format, you can use the following code."
      ]
    },
    {
      "cell_type": "code",
      "metadata": {
        "id": "vb5iOgx4FtVu"
      },
      "source": [
        ""
      ],
      "execution_count": null,
      "outputs": []
    },
    {
      "cell_type": "code",
      "metadata": {
        "id": "Zg9xbu3_FtVz"
      },
      "source": [
        ""
      ],
      "execution_count": null,
      "outputs": []
    },
    {
      "cell_type": "code",
      "metadata": {
        "id": "ckEV9nBPFtV5"
      },
      "source": [
        ""
      ],
      "execution_count": null,
      "outputs": []
    },
    {
      "cell_type": "markdown",
      "metadata": {
        "id": "Mj4NU3ztFtWB"
      },
      "source": [
        "## Querying DataFrames with SQL"
      ]
    },
    {
      "cell_type": "markdown",
      "metadata": {
        "id": "oC2kqd4fFtWC"
      },
      "source": [
        "Up to now, we've been using the Spark DataFrame API to work with DataFrames. Now, we're going to switch gears and we're going to work with SQL. In particular, we're going to use Spark SQL for working with DataFrames."
      ]
    },
    {
      "cell_type": "markdown",
      "metadata": {
        "id": "gVvtgHDMFtWD"
      },
      "source": [
        "In this part, we will use `utilization.json` that includes cpu utilization, the amount of free memory at a particular point in time, and then the number of sessions that are currently connected to the server at the particular point in time."
      ]
    },
    {
      "cell_type": "code",
      "metadata": {
        "id": "ryge-07UFtWD"
      },
      "source": [
        "file_path = MAIN_DIRECTORY +\"/data/utilization.csv\"\n",
        "df_util = spark.read.format('csv').option('inferSchema','true').load(file_path)"
      ],
      "execution_count": 50,
      "outputs": []
    },
    {
      "cell_type": "code",
      "metadata": {
        "id": "yj-XDij4FtWH",
        "outputId": "f564c7c2-4bbe-49c0-93a7-da2c1cf06432",
        "colab": {
          "base_uri": "https://localhost:8080/",
          "height": 202
        }
      },
      "source": [
        "df_util.show(5)"
      ],
      "execution_count": 51,
      "outputs": [
        {
          "output_type": "stream",
          "text": [
            "+-------------------+---+----+----+---+\n",
            "|                _c0|_c1| _c2| _c3|_c4|\n",
            "+-------------------+---+----+----+---+\n",
            "|03/05/2019 08:06:14|100|0.57|0.51| 47|\n",
            "|03/05/2019 08:11:14|100|0.47|0.62| 43|\n",
            "|03/05/2019 08:16:14|100|0.56|0.57| 62|\n",
            "|03/05/2019 08:21:14|100|0.57|0.56| 50|\n",
            "|03/05/2019 08:26:14|100|0.35|0.46| 43|\n",
            "+-------------------+---+----+----+---+\n",
            "only showing top 5 rows\n",
            "\n"
          ],
          "name": "stdout"
        }
      ]
    },
    {
      "cell_type": "code",
      "metadata": {
        "id": "PLBG6fR9FtWM"
      },
      "source": [
        "df_util = df_util.withColumnRenamed('_c0','event_datetime')\\\n",
        "          .withColumnRenamed('_c1','server_id')\\\n",
        "          .withColumnRenamed('_c2','cpu_utilization')\\\n",
        "          .withColumnRenamed('_c3','free_memory')\\\n",
        "          .withColumnRenamed('_c4','session_count')"
      ],
      "execution_count": 52,
      "outputs": []
    },
    {
      "cell_type": "code",
      "metadata": {
        "id": "v3pSC-jMACW0",
        "outputId": "7133aac9-b1a0-4712-f4e9-69bbe55c28b9",
        "colab": {
          "base_uri": "https://localhost:8080/",
          "height": 202
        }
      },
      "source": [
        "df_util.show(5)"
      ],
      "execution_count": 53,
      "outputs": [
        {
          "output_type": "stream",
          "text": [
            "+-------------------+---------+---------------+-----------+-------------+\n",
            "|     event_datetime|server_id|cpu_utilization|free_memory|session_count|\n",
            "+-------------------+---------+---------------+-----------+-------------+\n",
            "|03/05/2019 08:06:14|      100|           0.57|       0.51|           47|\n",
            "|03/05/2019 08:11:14|      100|           0.47|       0.62|           43|\n",
            "|03/05/2019 08:16:14|      100|           0.56|       0.57|           62|\n",
            "|03/05/2019 08:21:14|      100|           0.57|       0.56|           50|\n",
            "|03/05/2019 08:26:14|      100|           0.35|       0.46|           43|\n",
            "+-------------------+---------+---------------+-----------+-------------+\n",
            "only showing top 5 rows\n",
            "\n"
          ],
          "name": "stdout"
        }
      ]
    },
    {
      "cell_type": "code",
      "metadata": {
        "id": "Iz9J9Pr9AHf8",
        "outputId": "476ca303-ce29-41c0-dd10-6f3179c24724",
        "colab": {
          "base_uri": "https://localhost:8080/",
          "height": 34
        }
      },
      "source": [
        "df_util.count()"
      ],
      "execution_count": 54,
      "outputs": [
        {
          "output_type": "execute_result",
          "data": {
            "text/plain": [
              "500000"
            ]
          },
          "metadata": {
            "tags": []
          },
          "execution_count": 54
        }
      ]
    },
    {
      "cell_type": "markdown",
      "metadata": {
        "id": "ehQOKVDSFtWS"
      },
      "source": [
        "To work with SQL in Spark, we have to create a temporary view. And to do that, we specify the DataFrame, and then we call the method `createOrReplaceTempView()` and then we should specify a name for this table. Let's do it."
      ]
    },
    {
      "cell_type": "code",
      "metadata": {
        "id": "_WYaoj2OFtWT"
      },
      "source": [
        "df_util.createOrReplaceTempView(\"utilization\")"
      ],
      "execution_count": 55,
      "outputs": []
    },
    {
      "cell_type": "markdown",
      "metadata": {
        "id": "dhEJ7OEbFtWX"
      },
      "source": [
        "Now, we have the ability to query on a table called utilization. We will create that by executing a SQL command in the Spark session."
      ]
    },
    {
      "cell_type": "code",
      "metadata": {
        "id": "O5gM9zXVFtWZ"
      },
      "source": [
        "df_sql =spark.sql(\"SELECT * FROM utilization LIMIT 10\")"
      ],
      "execution_count": 56,
      "outputs": []
    },
    {
      "cell_type": "code",
      "metadata": {
        "id": "dO-7KU2iFtWe",
        "outputId": "c11c5122-768b-4fb3-84d2-5ea2cb912b78",
        "colab": {
          "base_uri": "https://localhost:8080/",
          "height": 269
        }
      },
      "source": [
        "df_sql.show()"
      ],
      "execution_count": 57,
      "outputs": [
        {
          "output_type": "stream",
          "text": [
            "+-------------------+---------+---------------+-----------+-------------+\n",
            "|     event_datetime|server_id|cpu_utilization|free_memory|session_count|\n",
            "+-------------------+---------+---------------+-----------+-------------+\n",
            "|03/05/2019 08:06:14|      100|           0.57|       0.51|           47|\n",
            "|03/05/2019 08:11:14|      100|           0.47|       0.62|           43|\n",
            "|03/05/2019 08:16:14|      100|           0.56|       0.57|           62|\n",
            "|03/05/2019 08:21:14|      100|           0.57|       0.56|           50|\n",
            "|03/05/2019 08:26:14|      100|           0.35|       0.46|           43|\n",
            "|03/05/2019 08:31:14|      100|           0.41|       0.58|           48|\n",
            "|03/05/2019 08:36:14|      100|           0.57|       0.35|           58|\n",
            "|03/05/2019 08:41:14|      100|           0.41|        0.4|           58|\n",
            "|03/05/2019 08:46:14|      100|           0.53|       0.35|           62|\n",
            "|03/05/2019 08:51:14|      100|           0.51|        0.6|           45|\n",
            "+-------------------+---------+---------------+-----------+-------------+\n",
            "\n"
          ],
          "name": "stdout"
        }
      ]
    },
    {
      "cell_type": "markdown",
      "metadata": {
        "id": "FihLLgjRFtWk"
      },
      "source": [
        "If we want to project on specific columns, we can do it in the following way."
      ]
    },
    {
      "cell_type": "code",
      "metadata": {
        "id": "SxK5e6ZFFtWl",
        "outputId": "c1238b76-a32a-427c-8645-512a64389fe2",
        "colab": {
          "base_uri": "https://localhost:8080/",
          "height": 269
        }
      },
      "source": [
        "spark.sql(\"SELECT server_id, free_memory FROM utilization LIMIT 10\").show()"
      ],
      "execution_count": 58,
      "outputs": [
        {
          "output_type": "stream",
          "text": [
            "+---------+-----------+\n",
            "|server_id|free_memory|\n",
            "+---------+-----------+\n",
            "|      100|       0.51|\n",
            "|      100|       0.62|\n",
            "|      100|       0.57|\n",
            "|      100|       0.56|\n",
            "|      100|       0.46|\n",
            "|      100|       0.58|\n",
            "|      100|       0.35|\n",
            "|      100|        0.4|\n",
            "|      100|       0.35|\n",
            "|      100|        0.6|\n",
            "+---------+-----------+\n",
            "\n"
          ],
          "name": "stdout"
        }
      ]
    },
    {
      "cell_type": "markdown",
      "metadata": {
        "id": "Kry9beooFtWq"
      },
      "source": [
        "### Filtering DataFrames with SQL\n",
        "Next, we are going to take a look at how to filter DataFrames using Spark SQL.  "
      ]
    },
    {
      "cell_type": "code",
      "metadata": {
        "id": "c80WVxPwFtWr",
        "outputId": "a38db483-128d-45b4-b0b3-d4267a358140",
        "colab": {
          "base_uri": "https://localhost:8080/",
          "height": 269
        }
      },
      "source": [
        "spark.sql(\"SELECT * FROM utilization WHERE server_id =149 LIMIT 10\").show()"
      ],
      "execution_count": 59,
      "outputs": [
        {
          "output_type": "stream",
          "text": [
            "+-------------------+---------+---------------+-----------+-------------+\n",
            "|     event_datetime|server_id|cpu_utilization|free_memory|session_count|\n",
            "+-------------------+---------+---------------+-----------+-------------+\n",
            "|03/05/2019 08:07:44|      149|           0.74|       0.27|           66|\n",
            "|03/05/2019 08:12:44|      149|            0.9|       0.34|           85|\n",
            "|03/05/2019 08:17:44|      149|           0.59|       0.19|           84|\n",
            "|03/05/2019 08:22:44|      149|            0.6|       0.08|           81|\n",
            "|03/05/2019 08:27:44|      149|           0.83|       0.42|           73|\n",
            "|03/05/2019 08:32:44|      149|           0.75|       0.19|           84|\n",
            "|03/05/2019 08:37:44|      149|            0.9|       0.14|           92|\n",
            "|03/05/2019 08:42:44|      149|           0.67|       0.16|           88|\n",
            "|03/05/2019 08:47:44|      149|           0.91|       0.31|           71|\n",
            "|03/05/2019 08:52:44|      149|           0.82|       0.13|           72|\n",
            "+-------------------+---------+---------------+-----------+-------------+\n",
            "\n"
          ],
          "name": "stdout"
        }
      ]
    },
    {
      "cell_type": "code",
      "metadata": {
        "id": "DobAkKE9FtWu",
        "outputId": "97c3e865-f4b8-4431-9a38-57b2f74de66a",
        "colab": {
          "base_uri": "https://localhost:8080/",
          "height": 269
        }
      },
      "source": [
        "spark.sql(\"SELECT server_id as SID, session_count as  SC FROM utilization\\\n",
        "          WHERE session_count > 50 LIMIT 10\").show()"
      ],
      "execution_count": 60,
      "outputs": [
        {
          "output_type": "stream",
          "text": [
            "+---+---+\n",
            "|SID| SC|\n",
            "+---+---+\n",
            "|100| 62|\n",
            "|100| 58|\n",
            "|100| 58|\n",
            "|100| 62|\n",
            "|100| 60|\n",
            "|100| 57|\n",
            "|100| 66|\n",
            "|100| 65|\n",
            "|100| 66|\n",
            "|100| 63|\n",
            "+---+---+\n",
            "\n"
          ],
          "name": "stdout"
        }
      ]
    },
    {
      "cell_type": "code",
      "metadata": {
        "id": "rWK7V8LaFtWx",
        "outputId": "f0e6febc-e0bf-4659-b3d5-32b70562a934",
        "colab": {
          "base_uri": "https://localhost:8080/",
          "height": 269
        }
      },
      "source": [
        "spark.sql(\"SELECT server_id, session_count FROM utilization\\\n",
        "          WHERE session_count > 50 AND server_id = 120 \\\n",
        "          ORDER BY session_count DESC \\\n",
        "          LIMIT 10\").show()"
      ],
      "execution_count": 61,
      "outputs": [
        {
          "output_type": "stream",
          "text": [
            "+---------+-------------+\n",
            "|server_id|session_count|\n",
            "+---------+-------------+\n",
            "|      120|           80|\n",
            "|      120|           80|\n",
            "|      120|           80|\n",
            "|      120|           80|\n",
            "|      120|           80|\n",
            "|      120|           80|\n",
            "|      120|           80|\n",
            "|      120|           80|\n",
            "|      120|           80|\n",
            "|      120|           80|\n",
            "+---------+-------------+\n",
            "\n"
          ],
          "name": "stdout"
        }
      ]
    },
    {
      "cell_type": "markdown",
      "metadata": {
        "id": "iO5WwWvbFtW0"
      },
      "source": [
        "### Aggregation DataFrames with SQL"
      ]
    },
    {
      "cell_type": "markdown",
      "metadata": {
        "id": "QD3v2oMNFtW1"
      },
      "source": [
        "When we work with SQL in databases, we often use SQL to perform aggregations and the same holds true when working with SQL in Spark. Let's write some basic queries against the DataFrame and do a very simple aggregations."
      ]
    },
    {
      "cell_type": "code",
      "metadata": {
        "id": "gtTxhBruFtW1",
        "outputId": "927fb329-c28b-4b4e-ae13-3bd2d65e8fb4",
        "colab": {
          "base_uri": "https://localhost:8080/",
          "height": 118
        }
      },
      "source": [
        "spark.sql(\"SELECT COUNT(*) FROM utilization\").show()"
      ],
      "execution_count": 62,
      "outputs": [
        {
          "output_type": "stream",
          "text": [
            "+--------+\n",
            "|count(1)|\n",
            "+--------+\n",
            "|  500000|\n",
            "+--------+\n",
            "\n"
          ],
          "name": "stdout"
        }
      ]
    },
    {
      "cell_type": "code",
      "metadata": {
        "id": "v6KeytdvFtW6",
        "outputId": "80fea2da-051e-44e5-a92e-602c57ad8545",
        "colab": {
          "base_uri": "https://localhost:8080/",
          "height": 118
        }
      },
      "source": [
        "spark.sql(\"SELECT COUNT(*) FROM utilization \\\n",
        "          WHERE session_count > 70\").show()"
      ],
      "execution_count": 63,
      "outputs": [
        {
          "output_type": "stream",
          "text": [
            "+--------+\n",
            "|count(1)|\n",
            "+--------+\n",
            "|  239659|\n",
            "+--------+\n",
            "\n"
          ],
          "name": "stdout"
        }
      ]
    },
    {
      "cell_type": "code",
      "metadata": {
        "id": "WHiAxZGFFtW-",
        "outputId": "ef01780a-1306-4a1e-8d5e-b74dce2d64c8",
        "colab": {
          "base_uri": "https://localhost:8080/",
          "height": 454
        }
      },
      "source": [
        "spark.sql(\"SELECT server_id, count(*) FROM utilization WHERE session_count > 70 \\\n",
        "          GROUP BY server_id\").show()"
      ],
      "execution_count": 64,
      "outputs": [
        {
          "output_type": "stream",
          "text": [
            "+---------+--------+\n",
            "|server_id|count(1)|\n",
            "+---------+--------+\n",
            "|      148|    8027|\n",
            "|      137|    8248|\n",
            "|      133|    8583|\n",
            "|      108|    8375|\n",
            "|      101|    9808|\n",
            "|      115|    5284|\n",
            "|      126|    6365|\n",
            "|      103|    8744|\n",
            "|      128|    3719|\n",
            "|      122|    4885|\n",
            "|      111|    3093|\n",
            "|      140|    6163|\n",
            "|      132|    2048|\n",
            "|      146|    7072|\n",
            "|      142|    7084|\n",
            "|      139|    7383|\n",
            "|      120|    2733|\n",
            "|      117|    3605|\n",
            "|      112|    7425|\n",
            "|      127|    5961|\n",
            "+---------+--------+\n",
            "only showing top 20 rows\n",
            "\n"
          ],
          "name": "stdout"
        }
      ]
    },
    {
      "cell_type": "code",
      "metadata": {
        "id": "Q2MXh3-zFtXH",
        "outputId": "e34a7b1f-bcfc-449a-d9fc-aeadf7ecce3e",
        "colab": {
          "base_uri": "https://localhost:8080/",
          "height": 454
        }
      },
      "source": [
        "spark.sql(\"SELECT server_id, count(*) FROM utilization WHERE session_count > 70 \\\n",
        "          GROUP BY server_id \\\n",
        "          ORDER BY count(*) DESC\").show()"
      ],
      "execution_count": 65,
      "outputs": [
        {
          "output_type": "stream",
          "text": [
            "+---------+--------+\n",
            "|server_id|count(1)|\n",
            "+---------+--------+\n",
            "|      101|    9808|\n",
            "|      113|    9418|\n",
            "|      145|    9304|\n",
            "|      103|    8744|\n",
            "|      102|    8586|\n",
            "|      133|    8583|\n",
            "|      108|    8375|\n",
            "|      149|    8288|\n",
            "|      137|    8248|\n",
            "|      148|    8027|\n",
            "|      123|    7918|\n",
            "|      118|    7913|\n",
            "|      112|    7425|\n",
            "|      139|    7383|\n",
            "|      104|    7366|\n",
            "|      142|    7084|\n",
            "|      121|    7084|\n",
            "|      146|    7072|\n",
            "|      126|    6365|\n",
            "|      144|    6220|\n",
            "+---------+--------+\n",
            "only showing top 20 rows\n",
            "\n"
          ],
          "name": "stdout"
        }
      ]
    },
    {
      "cell_type": "code",
      "metadata": {
        "id": "dGRxQKgcFtXM",
        "outputId": "a1a034ec-dc68-4fc2-9c42-289ca5197f3d",
        "colab": {
          "base_uri": "https://localhost:8080/",
          "height": 454
        }
      },
      "source": [
        "spark.sql(\"SELECT server_id, min(session_count), max(session_count), round(avg(session_count),2)\\\n",
        "          FROM utilization WHERE session_count > 70 \\\n",
        "          GROUP BY server_id \\\n",
        "          ORDER BY count(*) DESC\").show()"
      ],
      "execution_count": 66,
      "outputs": [
        {
          "output_type": "stream",
          "text": [
            "+---------+------------------+------------------+--------------------------------------------+\n",
            "|server_id|min(session_count)|max(session_count)|round(avg(CAST(session_count AS BIGINT)), 2)|\n",
            "+---------+------------------+------------------+--------------------------------------------+\n",
            "|      101|                71|               105|                                       87.67|\n",
            "|      113|                71|               103|                                       86.96|\n",
            "|      145|                71|               103|                                       86.98|\n",
            "|      103|                71|               101|                                       85.76|\n",
            "|      102|                71|               101|                                       85.71|\n",
            "|      133|                71|               100|                                       85.47|\n",
            "|      108|                71|               100|                                       85.12|\n",
            "|      149|                71|                99|                                       84.96|\n",
            "|      137|                71|                99|                                       85.01|\n",
            "|      148|                71|                99|                                        84.7|\n",
            "|      123|                71|                98|                                       84.53|\n",
            "|      118|                71|                98|                                       84.66|\n",
            "|      112|                71|                97|                                       83.55|\n",
            "|      139|                71|                96|                                       83.33|\n",
            "|      104|                71|                96|                                       83.35|\n",
            "|      142|                71|                95|                                        82.9|\n",
            "|      121|                71|                95|                                       82.89|\n",
            "|      146|                71|                95|                                       82.95|\n",
            "|      126|                71|                93|                                       81.56|\n",
            "|      144|                71|                92|                                       81.38|\n",
            "+---------+------------------+------------------+--------------------------------------------+\n",
            "only showing top 20 rows\n",
            "\n"
          ],
          "name": "stdout"
        }
      ]
    },
    {
      "cell_type": "markdown",
      "metadata": {
        "id": "bI8djyr5FtXQ"
      },
      "source": [
        "### Joining DataFrames with SQL"
      ]
    },
    {
      "cell_type": "markdown",
      "metadata": {
        "id": "Pj9-xxQIFtXR"
      },
      "source": [
        "One of the most useful features of SQL is the ability to join tables. We can join in Spark SQL as well."
      ]
    },
    {
      "cell_type": "markdown",
      "metadata": {
        "id": "PDrEB-ffFtXT"
      },
      "source": [
        "First, we are going to create another temporary table based on the `server_names.csv` file."
      ]
    },
    {
      "cell_type": "code",
      "metadata": {
        "id": "C_jvP41DFtXU"
      },
      "source": [
        "file_path = MAIN_DIRECTORY+\"/data/server_names.csv\"\n",
        "df_servers = spark.read.csv(file_path, header = True)"
      ],
      "execution_count": 67,
      "outputs": []
    },
    {
      "cell_type": "code",
      "metadata": {
        "id": "il07aQDbFtXZ",
        "outputId": "d168e4c9-8e61-435c-b71c-e2d460f73d73",
        "colab": {
          "base_uri": "https://localhost:8080/",
          "height": 454
        }
      },
      "source": [
        "df_servers.show()"
      ],
      "execution_count": 68,
      "outputs": [
        {
          "output_type": "stream",
          "text": [
            "+---------+-----------+\n",
            "|server_id|server_name|\n",
            "+---------+-----------+\n",
            "|      100| Server 100|\n",
            "|      101| Server 101|\n",
            "|      102| Server 102|\n",
            "|      103| Server 103|\n",
            "|      104| Server 104|\n",
            "|      105| Server 105|\n",
            "|      106| Server 106|\n",
            "|      107| Server 107|\n",
            "|      108| Server 108|\n",
            "|      109| Server 109|\n",
            "|      110| Server 110|\n",
            "|      111| Server 111|\n",
            "|      112| Server 112|\n",
            "|      113| Server 113|\n",
            "|      114| Server 114|\n",
            "|      115| Server 115|\n",
            "|      116| Server 116|\n",
            "|      117| Server 117|\n",
            "|      118| Server 118|\n",
            "|      119| Server 119|\n",
            "+---------+-----------+\n",
            "only showing top 20 rows\n",
            "\n"
          ],
          "name": "stdout"
        }
      ]
    },
    {
      "cell_type": "code",
      "metadata": {
        "id": "l65d4CXcFtXd"
      },
      "source": [
        "df_servers.createOrReplaceTempView('server_name')"
      ],
      "execution_count": 69,
      "outputs": []
    },
    {
      "cell_type": "markdown",
      "metadata": {
        "id": "tycJrj_UFtXj"
      },
      "source": [
        "Now, let's quickly do a check on `server_id` in `utilization` table."
      ]
    },
    {
      "cell_type": "code",
      "metadata": {
        "id": "0SSPitgpFtXk",
        "outputId": "de6b7268-50ae-4822-d37e-66dfd53d9133",
        "colab": {
          "base_uri": "https://localhost:8080/",
          "height": 454
        }
      },
      "source": [
        "spark.sql(\"SELECT DISTINCT server_id FROM utilization ORDER BY server_id\").show()"
      ],
      "execution_count": 70,
      "outputs": [
        {
          "output_type": "stream",
          "text": [
            "+---------+\n",
            "|server_id|\n",
            "+---------+\n",
            "|      100|\n",
            "|      101|\n",
            "|      102|\n",
            "|      103|\n",
            "|      104|\n",
            "|      105|\n",
            "|      106|\n",
            "|      107|\n",
            "|      108|\n",
            "|      109|\n",
            "|      110|\n",
            "|      111|\n",
            "|      112|\n",
            "|      113|\n",
            "|      114|\n",
            "|      115|\n",
            "|      116|\n",
            "|      117|\n",
            "|      118|\n",
            "|      119|\n",
            "+---------+\n",
            "only showing top 20 rows\n",
            "\n"
          ],
          "name": "stdout"
        }
      ]
    },
    {
      "cell_type": "markdown",
      "metadata": {
        "id": "l3X_VsXRFtXp"
      },
      "source": [
        "Now, let's see what the minimum and maximum of server_id is."
      ]
    },
    {
      "cell_type": "code",
      "metadata": {
        "id": "1VNnBXSZFtXq",
        "outputId": "b8887fd1-d713-45d1-b5c3-267b146e654e",
        "colab": {
          "base_uri": "https://localhost:8080/",
          "height": 118
        }
      },
      "source": [
        "spark.sql(\"SELECT min(server_id), max(server_id) FROM utilization\").show()"
      ],
      "execution_count": 71,
      "outputs": [
        {
          "output_type": "stream",
          "text": [
            "+--------------+--------------+\n",
            "|min(server_id)|max(server_id)|\n",
            "+--------------+--------------+\n",
            "|           100|           149|\n",
            "+--------------+--------------+\n",
            "\n"
          ],
          "name": "stdout"
        }
      ]
    },
    {
      "cell_type": "markdown",
      "metadata": {
        "id": "isSvTGASFtXv"
      },
      "source": [
        "Well, let's join these two tables."
      ]
    },
    {
      "cell_type": "code",
      "metadata": {
        "id": "iMLdkcTLFtXw",
        "outputId": "c3adb073-dad6-4643-b44b-52719e1bc60b",
        "colab": {
          "base_uri": "https://localhost:8080/",
          "height": 454
        }
      },
      "source": [
        "df_join = spark.sql(\"SELECT u.server_id, sn.server_name, u.session_count \\\n",
        "                      FROM utilization u \\\n",
        "                      INNER JOIN server_name sn \\\n",
        "                      ON sn.server_id = u.server_id\")\n",
        "df_join.show()"
      ],
      "execution_count": 72,
      "outputs": [
        {
          "output_type": "stream",
          "text": [
            "+---------+-----------+-------------+\n",
            "|server_id|server_name|session_count|\n",
            "+---------+-----------+-------------+\n",
            "|      100| Server 100|           47|\n",
            "|      100| Server 100|           43|\n",
            "|      100| Server 100|           62|\n",
            "|      100| Server 100|           50|\n",
            "|      100| Server 100|           43|\n",
            "|      100| Server 100|           48|\n",
            "|      100| Server 100|           58|\n",
            "|      100| Server 100|           58|\n",
            "|      100| Server 100|           62|\n",
            "|      100| Server 100|           45|\n",
            "|      100| Server 100|           47|\n",
            "|      100| Server 100|           60|\n",
            "|      100| Server 100|           57|\n",
            "|      100| Server 100|           44|\n",
            "|      100| Server 100|           47|\n",
            "|      100| Server 100|           66|\n",
            "|      100| Server 100|           65|\n",
            "|      100| Server 100|           66|\n",
            "|      100| Server 100|           42|\n",
            "|      100| Server 100|           63|\n",
            "+---------+-----------+-------------+\n",
            "only showing top 20 rows\n",
            "\n"
          ],
          "name": "stdout"
        }
      ]
    },
    {
      "cell_type": "markdown",
      "metadata": {
        "id": "sfT6ITrmFtX2"
      },
      "source": [
        "### De-Duplicating with DataFrame API"
      ]
    },
    {
      "cell_type": "markdown",
      "metadata": {
        "id": "GwkOxQ9vFtX3"
      },
      "source": [
        "When we're working with Data Frames, Spark provides some ways to de-duplicate data. So, let's take a look at how to do that. In this part also we will learn how we can create small data sets to work within the Jupiter Notebook session. Before doing anything, please restart the Jupyter kernel."
      ]
    },
    {
      "cell_type": "code",
      "metadata": {
        "id": "Y_5ifsM2FtX3"
      },
      "source": [
        "from pyspark import SparkContext\n",
        "from pyspark.sql import SparkSession\n",
        "from pyspark.sql import Row"
      ],
      "execution_count": 73,
      "outputs": []
    },
    {
      "cell_type": "code",
      "metadata": {
        "id": "Y2LvjlSNFtX9"
      },
      "source": [
        "sc = SparkContext.getOrCreate()"
      ],
      "execution_count": 74,
      "outputs": []
    },
    {
      "cell_type": "markdown",
      "metadata": {
        "id": "skF-BzdzFtYD"
      },
      "source": [
        "`sc` stands for `SparkContext`. It is a global variable that gives us access to the Spark Context. Here, what we want to do is create a DataFrame, and to do that, we will use `parallelize` method that creates a parallelized data structure. Spark automatically parallelize DataFrames. But now we are going to create this data manually, so we are specifying `parallelized` explicitly."
      ]
    },
    {
      "cell_type": "code",
      "metadata": {
        "id": "mSMH3qH8FtYF"
      },
      "source": [
        "rdd = sc.parallelize([Row(server_name ='Server 101', cpu_utilization = 85, session_count=80),\n",
        "                      Row(server_name ='Server 101', cpu_utilization = 80, session_count=90),\n",
        "                      Row(server_name ='Server 102', cpu_utilization = 85, session_count=80),\n",
        "                      Row(server_name ='Server 102', cpu_utilization = 85, session_count=80)])"
      ],
      "execution_count": 82,
      "outputs": []
    },
    {
      "cell_type": "code",
      "metadata": {
        "id": "d09dW4vVFtYJ"
      },
      "source": [
        "spark = SparkSession(sc)"
      ],
      "execution_count": 83,
      "outputs": []
    },
    {
      "cell_type": "markdown",
      "metadata": {
        "id": "LKrMkhaxFtYN"
      },
      "source": [
        "`toDF()` turns that parallelized data structure to into a DataFrame."
      ]
    },
    {
      "cell_type": "code",
      "metadata": {
        "id": "D34mk4-KFtYN"
      },
      "source": [
        "df_dup = rdd.toDF()"
      ],
      "execution_count": 84,
      "outputs": []
    },
    {
      "cell_type": "code",
      "metadata": {
        "id": "F6Um1DE8I3-v",
        "outputId": "2e22f49a-2b0d-4503-df2b-f223b4398e38",
        "colab": {
          "base_uri": "https://localhost:8080/",
          "height": 168
        }
      },
      "source": [
        "df_dup.show()"
      ],
      "execution_count": 85,
      "outputs": [
        {
          "output_type": "stream",
          "text": [
            "+-----------+---------------+-------------+\n",
            "|server_name|cpu_utilization|session_count|\n",
            "+-----------+---------------+-------------+\n",
            "| Server 101|             85|           80|\n",
            "| Server 101|             80|           90|\n",
            "| Server 102|             85|           80|\n",
            "| Server 102|             85|           80|\n",
            "+-----------+---------------+-------------+\n",
            "\n"
          ],
          "name": "stdout"
        }
      ]
    },
    {
      "cell_type": "markdown",
      "metadata": {
        "id": "O7olp7QXFtYR"
      },
      "source": [
        "Now, we are going to drop duplicates. To do that we can use `drop_duplicates()` method which returns a new DataFrame with duplicate rows removed, optionally only considering certain columns."
      ]
    },
    {
      "cell_type": "code",
      "metadata": {
        "id": "lr6qFJN8FtYR",
        "outputId": "8e1b504b-8e83-4560-ba86-b32845c5567d",
        "colab": {
          "base_uri": "https://localhost:8080/",
          "height": 151
        }
      },
      "source": [
        " df_dup.drop_duplicates().show()"
      ],
      "execution_count": 86,
      "outputs": [
        {
          "output_type": "stream",
          "text": [
            "+-----------+---------------+-------------+\n",
            "|server_name|cpu_utilization|session_count|\n",
            "+-----------+---------------+-------------+\n",
            "| Server 101|             85|           80|\n",
            "| Server 102|             85|           80|\n",
            "| Server 101|             80|           90|\n",
            "+-----------+---------------+-------------+\n",
            "\n"
          ],
          "name": "stdout"
        }
      ]
    },
    {
      "cell_type": "markdown",
      "metadata": {
        "id": "51ufPe2sFtYX"
      },
      "source": [
        "If we want to drop any time there is a duplicate in one of the columns, we can do that as well. Let's take a look at the following example."
      ]
    },
    {
      "cell_type": "code",
      "metadata": {
        "id": "ML--tPDFFtYY",
        "outputId": "2b113761-5288-42a4-c36d-4f06a680ccfd",
        "colab": {
          "base_uri": "https://localhost:8080/",
          "height": 134
        }
      },
      "source": [
        " df_dup.drop_duplicates(['server_name']).show()"
      ],
      "execution_count": 87,
      "outputs": [
        {
          "output_type": "stream",
          "text": [
            "+-----------+---------------+-------------+\n",
            "|server_name|cpu_utilization|session_count|\n",
            "+-----------+---------------+-------------+\n",
            "| Server 101|             85|           80|\n",
            "| Server 102|             85|           80|\n",
            "+-----------+---------------+-------------+\n",
            "\n"
          ],
          "name": "stdout"
        }
      ]
    },
    {
      "cell_type": "code",
      "metadata": {
        "id": "qTqF9jc4FtYb",
        "outputId": "cc12dd00-756b-4da7-873b-23ec3f316836",
        "colab": {
          "base_uri": "https://localhost:8080/",
          "height": 151
        }
      },
      "source": [
        " df_dup.drop_duplicates(['server_name','cpu_utilization']).show()"
      ],
      "execution_count": 89,
      "outputs": [
        {
          "output_type": "stream",
          "text": [
            "+-----------+---------------+-------------+\n",
            "|server_name|cpu_utilization|session_count|\n",
            "+-----------+---------------+-------------+\n",
            "| Server 101|             80|           90|\n",
            "| Server 101|             85|           80|\n",
            "| Server 102|             85|           80|\n",
            "+-----------+---------------+-------------+\n",
            "\n"
          ],
          "name": "stdout"
        }
      ]
    },
    {
      "cell_type": "markdown",
      "metadata": {
        "id": "WPCg2SfMFtYf"
      },
      "source": [
        "### Working with null values"
      ]
    },
    {
      "cell_type": "markdown",
      "metadata": {
        "id": "AnRB89mYFtYf"
      },
      "source": [
        "It is not uncommon to have data missing from DataFrame. When we are working with SQL, we are used to work with nulls. When we working with DataFrames, the absence of data is indicated by an NA. So in this section, we are going to look how we can work with NAs and Nulls using DataFrames and Spark SQL."
      ]
    },
    {
      "cell_type": "markdown",
      "metadata": {
        "id": "tWFMvX3VFtYg"
      },
      "source": [
        "In this section, we are importing a couple of things, we have not seen before. Let's take a look at them."
      ]
    },
    {
      "cell_type": "code",
      "metadata": {
        "id": "npcdEQ2GFtYg"
      },
      "source": [
        "from pyspark.sql.functions import lit\n",
        "from pyspark.sql.types import StringType"
      ],
      "execution_count": 90,
      "outputs": []
    },
    {
      "cell_type": "markdown",
      "metadata": {
        "id": "rgcNguEyFtYk"
      },
      "source": [
        "Now, we are going to add a column and set that column's values equall to null or NA. In this case, we will use `lit()` function that is a way for us to interact with column literals in PySpark. Spark SQL functions lit() is used to add a new column by assigning a literal or constant value to Spark DataFrame. "
      ]
    },
    {
      "cell_type": "code",
      "metadata": {
        "id": "sjPRu374FtYl"
      },
      "source": [
        "df =rdd.toDF()"
      ],
      "execution_count": 91,
      "outputs": []
    },
    {
      "cell_type": "code",
      "metadata": {
        "id": "Fmbj4hMPFtYq"
      },
      "source": [
        "df_na = df.withColumn('na_col', lit(None).cast(StringType()))"
      ],
      "execution_count": 92,
      "outputs": []
    },
    {
      "cell_type": "code",
      "metadata": {
        "id": "JIaduulcTrB2",
        "outputId": "63f825f1-c565-4669-ff28-d8eb88b4b9a9",
        "colab": {
          "base_uri": "https://localhost:8080/",
          "height": 168
        }
      },
      "source": [
        "df_na.show()"
      ],
      "execution_count": 93,
      "outputs": [
        {
          "output_type": "stream",
          "text": [
            "+-----------+---------------+-------------+------+\n",
            "|server_name|cpu_utilization|session_count|na_col|\n",
            "+-----------+---------------+-------------+------+\n",
            "| Server 101|             85|           80|  null|\n",
            "| Server 101|             80|           90|  null|\n",
            "| Server 102|             85|           80|  null|\n",
            "| Server 102|             85|           80|  null|\n",
            "+-----------+---------------+-------------+------+\n",
            "\n"
          ],
          "name": "stdout"
        }
      ]
    },
    {
      "cell_type": "markdown",
      "metadata": {
        "id": "23_R8PDRFtYv"
      },
      "source": [
        "Now, one of the things that we can do is globally replace all nulls or NAs with some value. And we can do that with `fillna()` function. "
      ]
    },
    {
      "cell_type": "code",
      "metadata": {
        "id": "-0F7dseMFtYw",
        "outputId": "fd9b3655-7ef8-4625-8592-c56ccc227909",
        "colab": {
          "base_uri": "https://localhost:8080/",
          "height": 168
        }
      },
      "source": [
        "df_na.fillna('A').show()"
      ],
      "execution_count": 94,
      "outputs": [
        {
          "output_type": "stream",
          "text": [
            "+-----------+---------------+-------------+------+\n",
            "|server_name|cpu_utilization|session_count|na_col|\n",
            "+-----------+---------------+-------------+------+\n",
            "| Server 101|             85|           80|     A|\n",
            "| Server 101|             80|           90|     A|\n",
            "| Server 102|             85|           80|     A|\n",
            "| Server 102|             85|           80|     A|\n",
            "+-----------+---------------+-------------+------+\n",
            "\n"
          ],
          "name": "stdout"
        }
      ]
    },
    {
      "cell_type": "markdown",
      "metadata": {
        "id": "FJj3JyeJFtY0"
      },
      "source": [
        "Now, Let's create a DataFrame that has versions both with the nulls and with the As."
      ]
    },
    {
      "cell_type": "code",
      "metadata": {
        "id": "4ZBR5cL-FtY0"
      },
      "source": [
        "df_union = df_na.fillna('A').union(df_na)\n"
      ],
      "execution_count": 95,
      "outputs": []
    },
    {
      "cell_type": "code",
      "metadata": {
        "id": "oc7M96b8FtY3",
        "outputId": "a479f5c9-ff89-4239-e465-2830d173e4a6",
        "colab": {
          "base_uri": "https://localhost:8080/",
          "height": 235
        }
      },
      "source": [
        "df_union.show()"
      ],
      "execution_count": 96,
      "outputs": [
        {
          "output_type": "stream",
          "text": [
            "+-----------+---------------+-------------+------+\n",
            "|server_name|cpu_utilization|session_count|na_col|\n",
            "+-----------+---------------+-------------+------+\n",
            "| Server 101|             85|           80|     A|\n",
            "| Server 101|             80|           90|     A|\n",
            "| Server 102|             85|           80|     A|\n",
            "| Server 102|             85|           80|     A|\n",
            "| Server 101|             85|           80|  null|\n",
            "| Server 101|             80|           90|  null|\n",
            "| Server 102|             85|           80|  null|\n",
            "| Server 102|             85|           80|  null|\n",
            "+-----------+---------------+-------------+------+\n",
            "\n"
          ],
          "name": "stdout"
        }
      ]
    },
    {
      "cell_type": "markdown",
      "metadata": {
        "id": "K36a2YF-FtY-"
      },
      "source": [
        "Now we can drop only rows with NAs in them."
      ]
    },
    {
      "cell_type": "code",
      "metadata": {
        "id": "rfbJrS9YFtY_",
        "outputId": "9644e1bd-db3d-4f5b-a275-224e59e6caae",
        "colab": {
          "base_uri": "https://localhost:8080/",
          "height": 168
        }
      },
      "source": [
        "df_union.na.drop().show()"
      ],
      "execution_count": 97,
      "outputs": [
        {
          "output_type": "stream",
          "text": [
            "+-----------+---------------+-------------+------+\n",
            "|server_name|cpu_utilization|session_count|na_col|\n",
            "+-----------+---------------+-------------+------+\n",
            "| Server 101|             85|           80|     A|\n",
            "| Server 101|             80|           90|     A|\n",
            "| Server 102|             85|           80|     A|\n",
            "| Server 102|             85|           80|     A|\n",
            "+-----------+---------------+-------------+------+\n",
            "\n"
          ],
          "name": "stdout"
        }
      ]
    },
    {
      "cell_type": "markdown",
      "metadata": {
        "id": "_HdVfkmFFtZD"
      },
      "source": [
        "Well, let's see how we can do that with Spark SQL."
      ]
    },
    {
      "cell_type": "code",
      "metadata": {
        "id": "m0Ai5lQ1FtZF"
      },
      "source": [
        "df_union.createOrReplaceTempView('na_table')"
      ],
      "execution_count": 98,
      "outputs": []
    },
    {
      "cell_type": "code",
      "metadata": {
        "id": "hucdNijWFtZJ",
        "outputId": "96619b7b-d8ec-4824-f3c2-fce8d831ea1b",
        "colab": {
          "base_uri": "https://localhost:8080/",
          "height": 168
        }
      },
      "source": [
        "spark.sql(\"SELECT * FROM na_table WHERE na_col IS NOT NULL\").show()"
      ],
      "execution_count": 99,
      "outputs": [
        {
          "output_type": "stream",
          "text": [
            "+-----------+---------------+-------------+------+\n",
            "|server_name|cpu_utilization|session_count|na_col|\n",
            "+-----------+---------------+-------------+------+\n",
            "| Server 101|             85|           80|     A|\n",
            "| Server 101|             80|           90|     A|\n",
            "| Server 102|             85|           80|     A|\n",
            "| Server 102|             85|           80|     A|\n",
            "+-----------+---------------+-------------+------+\n",
            "\n"
          ],
          "name": "stdout"
        }
      ]
    },
    {
      "cell_type": "markdown",
      "metadata": {
        "id": "GM6Kl3s1FtZN"
      },
      "source": [
        "## Exploratory Data Analysis with DataFrame API"
      ]
    },
    {
      "cell_type": "markdown",
      "metadata": {
        "id": "eFk6t3UDFtZO"
      },
      "source": [
        "DataFrame API provides some tools for some higher level tasks like exploratory data analysis. In this section, we are going to learn how to use DataFrame API for doing some basic EDA with the utilization DataFrame. First, let's take a look at this DataFrame."
      ]
    },
    {
      "cell_type": "code",
      "metadata": {
        "id": "dw0nSxyKFtZO",
        "outputId": "ff401530-c56b-4ba1-dfd7-e9aae0a6c135",
        "colab": {
          "base_uri": "https://localhost:8080/",
          "height": 202
        }
      },
      "source": [
        "df_util.show(5)"
      ],
      "execution_count": 100,
      "outputs": [
        {
          "output_type": "stream",
          "text": [
            "+-------------------+---------+---------------+-----------+-------------+\n",
            "|     event_datetime|server_id|cpu_utilization|free_memory|session_count|\n",
            "+-------------------+---------+---------------+-----------+-------------+\n",
            "|03/05/2019 08:06:14|      100|           0.57|       0.51|           47|\n",
            "|03/05/2019 08:11:14|      100|           0.47|       0.62|           43|\n",
            "|03/05/2019 08:16:14|      100|           0.56|       0.57|           62|\n",
            "|03/05/2019 08:21:14|      100|           0.57|       0.56|           50|\n",
            "|03/05/2019 08:26:14|      100|           0.35|       0.46|           43|\n",
            "+-------------------+---------+---------------+-----------+-------------+\n",
            "only showing top 5 rows\n",
            "\n"
          ],
          "name": "stdout"
        }
      ]
    },
    {
      "cell_type": "code",
      "metadata": {
        "id": "nnATLyUHFtZS",
        "outputId": "81e4851e-9ca8-4146-cf26-ce525651cd1e",
        "colab": {
          "base_uri": "https://localhost:8080/",
          "height": 34
        }
      },
      "source": [
        "df_util.count()"
      ],
      "execution_count": 101,
      "outputs": [
        {
          "output_type": "execute_result",
          "data": {
            "text/plain": [
              "500000"
            ]
          },
          "metadata": {
            "tags": []
          },
          "execution_count": 101
        }
      ]
    },
    {
      "cell_type": "markdown",
      "metadata": {
        "id": "yhF_g_I7FtZW"
      },
      "source": [
        "One of the useful methods for doing exploratory data analysis is `.describe()`. Let's see how it works."
      ]
    },
    {
      "cell_type": "code",
      "metadata": {
        "id": "o9PJbtb9FtZX",
        "outputId": "3cdb50cd-9d33-48ec-86ac-bbab484b7de2",
        "colab": {
          "base_uri": "https://localhost:8080/",
          "height": 185
        }
      },
      "source": [
        "df_util.describe().show()"
      ],
      "execution_count": 102,
      "outputs": [
        {
          "output_type": "stream",
          "text": [
            "+-------+-------------------+------------------+-------------------+-------------------+------------------+\n",
            "|summary|     event_datetime|         server_id|    cpu_utilization|        free_memory|     session_count|\n",
            "+-------+-------------------+------------------+-------------------+-------------------+------------------+\n",
            "|  count|             500000|            500000|             500000|             500000|            500000|\n",
            "|   mean|               null|             124.5| 0.6205177399999797|0.37912809999999125|          69.59616|\n",
            "| stddev|               null|14.430884120552715|0.15875173872913106|0.15830931278376184|14.850676696352798|\n",
            "|    min|03/05/2019 08:06:14|               100|               0.22|                0.0|                32|\n",
            "|    max|04/09/2019 01:22:46|               149|                1.0|               0.78|               105|\n",
            "+-------+-------------------+------------------+-------------------+-------------------+------------------+\n",
            "\n"
          ],
          "name": "stdout"
        }
      ]
    },
    {
      "cell_type": "markdown",
      "metadata": {
        "id": "ahg0QDtAFtZZ"
      },
      "source": [
        "`.describe()` actually produces another DataFrame with summary statistics about the DataFrame. For example, in this case, we see that there are several columns; there is a summary column, followed by the name of a column in the original DataFrame. For each of those columns in the original DataFrame, we have the same statistics that are calculated.\n",
        "Using `.describe()`  is an excellent way to get a high-level view of what a data set might be like.\n",
        "\n",
        "Another statistics we often want to know, is there a correlation between two of the variables?"
      ]
    },
    {
      "cell_type": "code",
      "metadata": {
        "id": "Htjw70kaFtZa",
        "outputId": "f748d77f-6a1e-4f8a-f4b6-70d42833e6e3",
        "colab": {
          "base_uri": "https://localhost:8080/",
          "height": 34
        }
      },
      "source": [
        "df_util.stat.corr('cpu_utilization', 'free_memory')"
      ],
      "execution_count": 104,
      "outputs": [
        {
          "output_type": "execute_result",
          "data": {
            "text/plain": [
              "-0.47047715730806805"
            ]
          },
          "metadata": {
            "tags": []
          },
          "execution_count": 104
        }
      ]
    },
    {
      "cell_type": "code",
      "metadata": {
        "id": "hqFEjzUPFtZd",
        "outputId": "faebe3be-7351-419c-dfb3-7473bc8f44b2",
        "colab": {
          "base_uri": "https://localhost:8080/",
          "height": 34
        }
      },
      "source": [
        "df_util.stat.corr('session_count','free_memory')"
      ],
      "execution_count": 105,
      "outputs": [
        {
          "output_type": "execute_result",
          "data": {
            "text/plain": [
              "-0.5008320848876696"
            ]
          },
          "metadata": {
            "tags": []
          },
          "execution_count": 105
        }
      ]
    },
    {
      "cell_type": "markdown",
      "metadata": {
        "id": "Em8zgbwiFtZg"
      },
      "source": [
        "Sometimes we want to know how frequent are some items, what are the most frequently occurring items?\n",
        "\n",
        "There is a method called `.freq()` items for frequent items, which we can use with the DataFrame."
      ]
    },
    {
      "cell_type": "code",
      "metadata": {
        "id": "JfYeMClWFtZh"
      },
      "source": [
        "df_freqItems = df_util.stat.freqItems(['server_id'])"
      ],
      "execution_count": 106,
      "outputs": []
    },
    {
      "cell_type": "code",
      "metadata": {
        "id": "FMAytKETWq3F",
        "outputId": "e68df654-5871-49db-d9b0-07c35e28a144",
        "colab": {
          "base_uri": "https://localhost:8080/",
          "height": 138
        }
      },
      "source": [
        "df_freqItems.show(truncate=False)"
      ],
      "execution_count": 108,
      "outputs": [
        {
          "output_type": "stream",
          "text": [
            "+----------------------------------------------------------------------------------------------------------------------------------------------------------------------------------------------------------------------------------------------------------+\n",
            "|server_id_freqItems                                                                                                                                                                                                                                       |\n",
            "+----------------------------------------------------------------------------------------------------------------------------------------------------------------------------------------------------------------------------------------------------------+\n",
            "|[137, 146, 101, 110, 119, 128, 104, 131, 122, 140, 113, 149, 134, 125, 116, 107, 142, 124, 133, 106, 115, 118, 127, 136, 100, 109, 145, 139, 130, 148, 121, 103, 112, 147, 129, 138, 120, 132, 141, 105, 114, 123, 144, 126, 135, 108, 117, 102, 111, 143]|\n",
            "+----------------------------------------------------------------------------------------------------------------------------------------------------------------------------------------------------------------------------------------------------------+\n",
            "\n"
          ],
          "name": "stdout"
        }
      ]
    },
    {
      "cell_type": "markdown",
      "metadata": {
        "id": "j7308LJVFtZk"
      },
      "source": [
        "We can create a result-set that shows some basic statistics for one of the columns by using Spark SQL. Let's do it."
      ]
    },
    {
      "cell_type": "code",
      "metadata": {
        "id": "QT9r20AdFtZk",
        "outputId": "939dcc4e-0ed6-44a5-e2c9-e9a1772a3328",
        "colab": {
          "base_uri": "https://localhost:8080/",
          "height": 118
        }
      },
      "source": [
        "spark.sql(\"SELECT  min(cpu_utilization), max(cpu_utilization),\\\n",
        "          stddev(cpu_utilization) FROM utilization\").show()"
      ],
      "execution_count": 114,
      "outputs": [
        {
          "output_type": "stream",
          "text": [
            "+--------------------+--------------------+-----------------------+\n",
            "|min(cpu_utilization)|max(cpu_utilization)|stddev(cpu_utilization)|\n",
            "+--------------------+--------------------+-----------------------+\n",
            "|                0.22|                 1.0|    0.15875173872913106|\n",
            "+--------------------+--------------------+-----------------------+\n",
            "\n"
          ],
          "name": "stdout"
        }
      ]
    },
    {
      "cell_type": "markdown",
      "metadata": {
        "id": "s7bsHExsFtZn"
      },
      "source": [
        "And if we want to group the result-set by `server_id`, we can write the following query."
      ]
    },
    {
      "cell_type": "code",
      "metadata": {
        "id": "eRc9ZRldFtZo",
        "outputId": "e4f68ff9-beb4-4d10-d451-7d3cc922da5a",
        "colab": {
          "base_uri": "https://localhost:8080/",
          "height": 454
        }
      },
      "source": [
        "spark.sql(\"SELECT server_id, min(cpu_utilization), max(cpu_utilization),\\\n",
        "          stddev(cpu_utilization) FROM utilization \\\n",
        "          GROUP BY server_id\").show()"
      ],
      "execution_count": 115,
      "outputs": [
        {
          "output_type": "stream",
          "text": [
            "+---------+--------------------+--------------------+-----------------------+\n",
            "|server_id|min(cpu_utilization)|max(cpu_utilization)|stddev(cpu_utilization)|\n",
            "+---------+--------------------+--------------------+-----------------------+\n",
            "|      148|                0.54|                0.94|    0.11451712518744131|\n",
            "|      137|                0.54|                0.94|    0.11526245077758812|\n",
            "|      133|                0.55|                0.95|    0.11534006553263144|\n",
            "|      108|                0.55|                0.95|    0.11563100171171926|\n",
            "|      101|                 0.6|                 1.0|    0.11651726263197697|\n",
            "|      115|                0.44|                0.84|    0.11569664615014985|\n",
            "|      126|                0.48|                0.88|    0.11542612970702051|\n",
            "|      103|                0.56|                0.96|    0.11617507884178278|\n",
            "|      128|                0.38|                0.78|     0.1153254132405078|\n",
            "|      122|                0.43|                0.83|    0.11563104329209034|\n",
            "|      111|                0.36|                0.76|    0.11530221569464506|\n",
            "|      140|                0.47|                0.87|    0.11539940805020545|\n",
            "|      132|                0.33|                0.73|     0.1145442656350766|\n",
            "|      146|                 0.5|                 0.9|    0.11488129439634706|\n",
            "|      142|                 0.5|                 0.9|    0.11593003726970044|\n",
            "|      139|                0.51|                0.91|    0.11519660023052102|\n",
            "|      120|                0.35|                0.75|    0.11586355920838642|\n",
            "|      117|                0.38|                0.78|    0.11534593941519553|\n",
            "|      112|                0.52|                0.92|    0.11528867845082576|\n",
            "|      127|                0.47|                0.87|    0.11577746913037888|\n",
            "+---------+--------------------+--------------------+-----------------------+\n",
            "only showing top 20 rows\n",
            "\n"
          ],
          "name": "stdout"
        }
      ]
    },
    {
      "cell_type": "markdown",
      "metadata": {
        "id": "ppENHs07FtZr"
      },
      "source": [
        "Now, we are going to calculate statistics on buckets or histograms of data. The idea is, rather than look at each server individually, Spark buckets values according to how frequently they occur in certain ranges. So if we want to know how often does a CPU utilization fall in the range of 1-10 or 11-20 or 21-30, all the way up to 90-91, we could put each of those CPU utilization measures into its bucket and count how many times a CPU utilization goes into that bucket. Let's do it."
      ]
    },
    {
      "cell_type": "code",
      "metadata": {
        "id": "PsHRiROvZFvW",
        "outputId": "7c95f510-da87-4be8-eccc-7409ed402b93",
        "colab": {
          "base_uri": "https://localhost:8080/",
          "height": 101
        }
      },
      "source": [
        "df_util.columns"
      ],
      "execution_count": 118,
      "outputs": [
        {
          "output_type": "execute_result",
          "data": {
            "text/plain": [
              "['event_datetime',\n",
              " 'server_id',\n",
              " 'cpu_utilization',\n",
              " 'free_memory',\n",
              " 'session_count']"
            ]
          },
          "metadata": {
            "tags": []
          },
          "execution_count": 118
        }
      ]
    },
    {
      "cell_type": "code",
      "metadata": {
        "id": "MqAmVETJFtZs",
        "outputId": "a37c1ed7-6393-44c8-a0e5-e0e574302b35",
        "colab": {
          "base_uri": "https://localhost:8080/",
          "height": 454
        }
      },
      "source": [
        "spark.sql(\"SELECT event_datetime,server_id, FLOOR(cpu_utilization*100/10) as Bucket from utilization\").show()"
      ],
      "execution_count": 119,
      "outputs": [
        {
          "output_type": "stream",
          "text": [
            "+-------------------+---------+------+\n",
            "|     event_datetime|server_id|Bucket|\n",
            "+-------------------+---------+------+\n",
            "|03/05/2019 08:06:14|      100|     5|\n",
            "|03/05/2019 08:11:14|      100|     4|\n",
            "|03/05/2019 08:16:14|      100|     5|\n",
            "|03/05/2019 08:21:14|      100|     5|\n",
            "|03/05/2019 08:26:14|      100|     3|\n",
            "|03/05/2019 08:31:14|      100|     4|\n",
            "|03/05/2019 08:36:14|      100|     5|\n",
            "|03/05/2019 08:41:14|      100|     4|\n",
            "|03/05/2019 08:46:14|      100|     5|\n",
            "|03/05/2019 08:51:14|      100|     5|\n",
            "|03/05/2019 08:56:14|      100|     3|\n",
            "|03/05/2019 09:01:14|      100|     6|\n",
            "|03/05/2019 09:06:14|      100|     6|\n",
            "|03/05/2019 09:11:14|      100|     5|\n",
            "|03/05/2019 09:16:14|      100|     2|\n",
            "|03/05/2019 09:21:14|      100|     4|\n",
            "|03/05/2019 09:26:14|      100|     4|\n",
            "|03/05/2019 09:31:14|      100|     6|\n",
            "|03/05/2019 09:36:14|      100|     4|\n",
            "|03/05/2019 09:41:14|      100|     5|\n",
            "+-------------------+---------+------+\n",
            "only showing top 20 rows\n",
            "\n"
          ],
          "name": "stdout"
        }
      ]
    },
    {
      "cell_type": "markdown",
      "metadata": {
        "id": "T_SRMGsgFtZv"
      },
      "source": [
        "So far, what we have done is we have listed for each server in what  CPU utilization bucket falls at a particular time. Now we want to see how often does a CPU utilization falls into one of those ten buckets."
      ]
    },
    {
      "cell_type": "code",
      "metadata": {
        "id": "nUfcajmDFtZz",
        "outputId": "883c7234-04b7-47cf-c087-8c5b19a800c1",
        "colab": {
          "base_uri": "https://localhost:8080/",
          "height": 252
        }
      },
      "source": [
        "spark.sql(\"SELECT COUNT(*), FLOOR(cpu_utilization*100/10) as Bucket \\\n",
        "          FROM utilization \\\n",
        "          GROUP BY Bucket \\\n",
        "          ORDER BY Bucket\").show()"
      ],
      "execution_count": 121,
      "outputs": [
        {
          "output_type": "stream",
          "text": [
            "+--------+------+\n",
            "|count(1)|Bucket|\n",
            "+--------+------+\n",
            "|    8186|     2|\n",
            "|   37029|     3|\n",
            "|   68046|     4|\n",
            "|  104910|     5|\n",
            "|  116725|     6|\n",
            "|   88242|     7|\n",
            "|   56598|     8|\n",
            "|   20207|     9|\n",
            "|      57|    10|\n",
            "+--------+------+\n",
            "\n"
          ],
          "name": "stdout"
        }
      ]
    },
    {
      "cell_type": "markdown",
      "metadata": {
        "id": "rJdcZ9FgFtZ2"
      },
      "source": [
        "## Timeseries Analysis"
      ]
    },
    {
      "cell_type": "markdown",
      "metadata": {
        "id": "BjZekZlQFtaF"
      },
      "source": [
        "In this section, we are going to work with timeseries data, and timeseries data has a set of measures and a timestamp associated with them. First, let's take a look at utilization table again."
      ]
    },
    {
      "cell_type": "code",
      "metadata": {
        "id": "7ax7VEdrFtaG",
        "outputId": "da92f438-89f0-4d29-ccba-8e2aa72b8df3",
        "colab": {
          "base_uri": "https://localhost:8080/",
          "height": 454
        }
      },
      "source": [
        "spark.sql(\"SELECT server_id, min(cpu_utilization), max(cpu_utilization), stddev(cpu_utilization)\\\n",
        "            FROM utilization GROUP BY server_id\").show()"
      ],
      "execution_count": 124,
      "outputs": [
        {
          "output_type": "stream",
          "text": [
            "+---------+--------------------+--------------------+-----------------------+\n",
            "|server_id|min(cpu_utilization)|max(cpu_utilization)|stddev(cpu_utilization)|\n",
            "+---------+--------------------+--------------------+-----------------------+\n",
            "|      148|                0.54|                0.94|    0.11451712518744131|\n",
            "|      137|                0.54|                0.94|    0.11526245077758812|\n",
            "|      133|                0.55|                0.95|    0.11534006553263144|\n",
            "|      108|                0.55|                0.95|    0.11563100171171926|\n",
            "|      101|                 0.6|                 1.0|    0.11651726263197697|\n",
            "|      115|                0.44|                0.84|    0.11569664615014985|\n",
            "|      126|                0.48|                0.88|    0.11542612970702051|\n",
            "|      103|                0.56|                0.96|    0.11617507884178278|\n",
            "|      128|                0.38|                0.78|     0.1153254132405078|\n",
            "|      122|                0.43|                0.83|    0.11563104329209034|\n",
            "|      111|                0.36|                0.76|    0.11530221569464506|\n",
            "|      140|                0.47|                0.87|    0.11539940805020545|\n",
            "|      132|                0.33|                0.73|     0.1145442656350766|\n",
            "|      146|                 0.5|                 0.9|    0.11488129439634706|\n",
            "|      142|                 0.5|                 0.9|    0.11593003726970044|\n",
            "|      139|                0.51|                0.91|    0.11519660023052102|\n",
            "|      120|                0.35|                0.75|    0.11586355920838642|\n",
            "|      117|                0.38|                0.78|    0.11534593941519553|\n",
            "|      112|                0.52|                0.92|    0.11528867845082576|\n",
            "|      127|                0.47|                0.87|    0.11577746913037888|\n",
            "+---------+--------------------+--------------------+-----------------------+\n",
            "only showing top 20 rows\n",
            "\n"
          ],
          "name": "stdout"
        }
      ]
    },
    {
      "cell_type": "markdown",
      "metadata": {
        "id": "TsQvl5MEFtaK"
      },
      "source": [
        "Sometimes we might want to compare a value within a group. For example, we would like to compare the current CPU utilization for a server to the average CPU utilization of just that server, not the entire population.\n",
        "\n",
        "We can do that using a windowing function, and in SQL, the windowing functions are specified using an `OVER...PARTITION BY` statement. So let's take a look at how to use that."
      ]
    },
    {
      "cell_type": "code",
      "metadata": {
        "id": "FbqOnyt1FtaK",
        "outputId": "183cfe5b-1f4b-4db8-f1b2-e9c9e55cabe4",
        "colab": {
          "base_uri": "https://localhost:8080/",
          "height": 454
        }
      },
      "source": [
        "spark.sql(\"SELECT event_datetime, server_id, cpu_utilization,\\\n",
        "          avg(cpu_utilization) OVER (PARTITION BY server_id) as avg_server_util\\\n",
        "          FROM utilization\").show()"
      ],
      "execution_count": 125,
      "outputs": [
        {
          "output_type": "stream",
          "text": [
            "+-------------------+---------+---------------+------------------+\n",
            "|     event_datetime|server_id|cpu_utilization|   avg_server_util|\n",
            "+-------------------+---------+---------------+------------------+\n",
            "|03/05/2019 08:07:41|      148|           0.85|0.7393840000000045|\n",
            "|03/05/2019 08:12:41|      148|           0.94|0.7393840000000045|\n",
            "|03/05/2019 08:17:41|      148|           0.89|0.7393840000000045|\n",
            "|03/05/2019 08:22:41|      148|           0.74|0.7393840000000045|\n",
            "|03/05/2019 08:27:41|      148|           0.63|0.7393840000000045|\n",
            "|03/05/2019 08:32:41|      148|           0.89|0.7393840000000045|\n",
            "|03/05/2019 08:37:41|      148|           0.77|0.7393840000000045|\n",
            "|03/05/2019 08:42:41|      148|           0.59|0.7393840000000045|\n",
            "|03/05/2019 08:47:41|      148|           0.77|0.7393840000000045|\n",
            "|03/05/2019 08:52:41|      148|           0.71|0.7393840000000045|\n",
            "|03/05/2019 08:57:41|      148|           0.85|0.7393840000000045|\n",
            "|03/05/2019 09:02:41|      148|           0.73|0.7393840000000045|\n",
            "|03/05/2019 09:07:41|      148|           0.89|0.7393840000000045|\n",
            "|03/05/2019 09:12:41|      148|           0.56|0.7393840000000045|\n",
            "|03/05/2019 09:17:41|      148|           0.59|0.7393840000000045|\n",
            "|03/05/2019 09:22:41|      148|           0.78|0.7393840000000045|\n",
            "|03/05/2019 09:27:41|      148|           0.72|0.7393840000000045|\n",
            "|03/05/2019 09:32:41|      148|            0.8|0.7393840000000045|\n",
            "|03/05/2019 09:37:41|      148|           0.55|0.7393840000000045|\n",
            "|03/05/2019 09:42:41|      148|           0.91|0.7393840000000045|\n",
            "+-------------------+---------+---------------+------------------+\n",
            "only showing top 20 rows\n",
            "\n"
          ],
          "name": "stdout"
        }
      ]
    },
    {
      "cell_type": "markdown",
      "metadata": {
        "id": "Og0runsLFtaM"
      },
      "source": [
        "Now, we have different timestamps for each server ID, different CPU utilization at those particular times, but in this piece of result-set, the average server utilization is always 0.7153 for server ID 112.\n",
        "\n",
        "Now, we want to calculate the difference any one of these measurements of CPU utilization from the average of that server is?"
      ]
    },
    {
      "cell_type": "code",
      "metadata": {
        "id": "oAKWdazRFtaN",
        "outputId": "5a0c7a4f-51ee-4ce5-d90f-03c773c3c1d4",
        "colab": {
          "base_uri": "https://localhost:8080/",
          "height": 454
        }
      },
      "source": [
        "spark.sql(\"SELECT event_datetime, server_id, cpu_utilization,\\\n",
        "          avg(cpu_utilization) OVER (PARTITION BY server_id) as avg_server_util,\\\n",
        "          cpu_utilization - avg(cpu_utilization) OVER (PARTITION BY server_id) as delta_cpu_util\\\n",
        "          FROM utilization\").show()"
      ],
      "execution_count": 126,
      "outputs": [
        {
          "output_type": "stream",
          "text": [
            "+-------------------+---------+---------------+------------------+--------------------+\n",
            "|     event_datetime|server_id|cpu_utilization|   avg_server_util|      delta_cpu_util|\n",
            "+-------------------+---------+---------------+------------------+--------------------+\n",
            "|03/05/2019 08:07:41|      148|           0.85|0.7393840000000045|  0.1106159999999955|\n",
            "|03/05/2019 08:12:41|      148|           0.94|0.7393840000000045| 0.20061599999999546|\n",
            "|03/05/2019 08:17:41|      148|           0.89|0.7393840000000045| 0.15061599999999553|\n",
            "|03/05/2019 08:22:41|      148|           0.74|0.7393840000000045| 6.15999999995509E-4|\n",
            "|03/05/2019 08:27:41|      148|           0.63|0.7393840000000045|-0.10938400000000448|\n",
            "|03/05/2019 08:32:41|      148|           0.89|0.7393840000000045| 0.15061599999999553|\n",
            "|03/05/2019 08:37:41|      148|           0.77|0.7393840000000045|0.030615999999995536|\n",
            "|03/05/2019 08:42:41|      148|           0.59|0.7393840000000045| -0.1493840000000045|\n",
            "|03/05/2019 08:47:41|      148|           0.77|0.7393840000000045|0.030615999999995536|\n",
            "|03/05/2019 08:52:41|      148|           0.71|0.7393840000000045|-0.02938400000000...|\n",
            "|03/05/2019 08:57:41|      148|           0.85|0.7393840000000045|  0.1106159999999955|\n",
            "|03/05/2019 09:02:41|      148|           0.73|0.7393840000000045| -0.0093840000000045|\n",
            "|03/05/2019 09:07:41|      148|           0.89|0.7393840000000045| 0.15061599999999553|\n",
            "|03/05/2019 09:12:41|      148|           0.56|0.7393840000000045|-0.17938400000000443|\n",
            "|03/05/2019 09:17:41|      148|           0.59|0.7393840000000045| -0.1493840000000045|\n",
            "|03/05/2019 09:22:41|      148|           0.78|0.7393840000000045|0.040615999999995545|\n",
            "|03/05/2019 09:27:41|      148|           0.72|0.7393840000000045|-0.01938400000000451|\n",
            "|03/05/2019 09:32:41|      148|            0.8|0.7393840000000045| 0.06061599999999556|\n",
            "|03/05/2019 09:37:41|      148|           0.55|0.7393840000000045|-0.18938400000000444|\n",
            "|03/05/2019 09:42:41|      148|           0.91|0.7393840000000045| 0.17061599999999555|\n",
            "+-------------------+---------+---------------+------------------+--------------------+\n",
            "only showing top 20 rows\n",
            "\n"
          ],
          "name": "stdout"
        }
      ]
    },
    {
      "cell_type": "markdown",
      "metadata": {
        "id": "DMeQxsB_FtaP"
      },
      "source": [
        "That is one of the operations that we can do with the windowing functions. We can compare a particular value in a row to a value of some aggregate function applied to a sub-set of rows."
      ]
    },
    {
      "cell_type": "markdown",
      "metadata": {
        "id": "TyzxOdtrFtaQ"
      },
      "source": [
        "Another operation that we can do with windowing functions is looking around the neighborhood of a row. For example, we might want to calculate in a sliding window, look at the last three values and average them or look at the previous value, current value, next value, and average them. Let's do it."
      ]
    },
    {
      "cell_type": "code",
      "metadata": {
        "id": "d_9_-E1rFtaQ",
        "outputId": "228920fa-079a-49d8-bba8-67a35b7c0ff0",
        "colab": {
          "base_uri": "https://localhost:8080/",
          "height": 454
        }
      },
      "source": [
        "spark.sql(\"SELECT event_datetime, server_id, cpu_utilization,\\\n",
        "          avg(cpu_utilization) OVER (PARTITION BY server_id ORDER BY event_datetime \\\n",
        "          ROWS BETWEEN 1 PRECEDING AND 1 FOLLOWING) as avg_server_util \\\n",
        "          FROM utilization\").show()"
      ],
      "execution_count": 127,
      "outputs": [
        {
          "output_type": "stream",
          "text": [
            "+-------------------+---------+---------------+------------------+\n",
            "|     event_datetime|server_id|cpu_utilization|   avg_server_util|\n",
            "+-------------------+---------+---------------+------------------+\n",
            "|03/05/2019 08:07:41|      148|           0.85|             0.895|\n",
            "|03/05/2019 08:12:41|      148|           0.94|0.8933333333333334|\n",
            "|03/05/2019 08:17:41|      148|           0.89|0.8566666666666668|\n",
            "|03/05/2019 08:22:41|      148|           0.74|0.7533333333333333|\n",
            "|03/05/2019 08:27:41|      148|           0.63|0.7533333333333334|\n",
            "|03/05/2019 08:32:41|      148|           0.89|0.7633333333333333|\n",
            "|03/05/2019 08:37:41|      148|           0.77|              0.75|\n",
            "|03/05/2019 08:42:41|      148|           0.59|              0.71|\n",
            "|03/05/2019 08:47:41|      148|           0.77|              0.69|\n",
            "|03/05/2019 08:52:41|      148|           0.71|0.7766666666666667|\n",
            "|03/05/2019 08:57:41|      148|           0.85|0.7633333333333333|\n",
            "|03/05/2019 09:02:41|      148|           0.73|0.8233333333333334|\n",
            "|03/05/2019 09:07:41|      148|           0.89|0.7266666666666667|\n",
            "|03/05/2019 09:12:41|      148|           0.56|              0.68|\n",
            "|03/05/2019 09:17:41|      148|           0.59|0.6433333333333333|\n",
            "|03/05/2019 09:22:41|      148|           0.78|0.6966666666666667|\n",
            "|03/05/2019 09:27:41|      148|           0.72|0.7666666666666666|\n",
            "|03/05/2019 09:32:41|      148|            0.8|0.6900000000000001|\n",
            "|03/05/2019 09:37:41|      148|           0.55|0.7533333333333334|\n",
            "|03/05/2019 09:42:41|      148|           0.91|0.6866666666666666|\n",
            "+-------------------+---------+---------------+------------------+\n",
            "only showing top 20 rows\n",
            "\n"
          ],
          "name": "stdout"
        }
      ]
    },
    {
      "cell_type": "markdown",
      "metadata": {
        "id": "WEDB7iyFFtaT"
      },
      "source": [
        "#### Great Job!"
      ]
    }
  ]
}