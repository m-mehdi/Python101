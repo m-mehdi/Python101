{
  "nbformat": 4,
  "nbformat_minor": 0,
  "metadata": {
    "kernelspec": {
      "display_name": "Python 3",
      "language": "python",
      "name": "python3"
    },
    "language_info": {
      "codemirror_mode": {
        "name": "ipython",
        "version": 3
      },
      "file_extension": ".py",
      "mimetype": "text/x-python",
      "name": "python",
      "nbconvert_exporter": "python",
      "pygments_lexer": "ipython3",
      "version": "3.7.6"
    },
    "colab": {
      "name": "Apache_Spark_04_Classification-CIMB.ipynb",
      "provenance": [],
      "toc_visible": true,
      "include_colab_link": true
    }
  },
  "cells": [
    {
      "cell_type": "markdown",
      "metadata": {
        "id": "view-in-github",
        "colab_type": "text"
      },
      "source": [
        "<a href=\"https://colab.research.google.com/github/m-mehdi/Python101/blob/master/Apache_Spark_04_Classification_CIMB.ipynb\" target=\"_parent\"><img src=\"https://colab.research.google.com/assets/colab-badge.svg\" alt=\"Open In Colab\"/></a>"
      ]
    },
    {
      "cell_type": "markdown",
      "metadata": {
        "id": "uUMKpSWupZKj"
      },
      "source": [
        "<img src=\"images/cads-logo.png\" style=\"height: 100px;\" align=left> <img src=\"images/apache_spark.png\" style=\"height: 20%;width:20%\" align=right>"
      ]
    },
    {
      "cell_type": "markdown",
      "metadata": {
        "id": "YhuxtC0xpZKm"
      },
      "source": [
        "# Classification Algorithms"
      ]
    },
    {
      "cell_type": "markdown",
      "metadata": {
        "id": "dRkSxS3NpZKn"
      },
      "source": [
        "Classification algorithms are useful when we have datasets that we want to be able o split into two categories. So, for example, we might have several pieces of data that fall\n",
        "into Category A or Category B, and sometimes it's not so obvious where certain things should fall. Classification algorithms\n",
        "help us identify boundaries between different categories and make it easy for us to decide how to assign a new entity to a particular group.\n",
        "In this notebook, we'll look at a few different classification algorithms, including Naive Bayes, decision trees, and multilayer perceptrons."
      ]
    },
    {
      "cell_type": "markdown",
      "metadata": {
        "id": "OvD8zHS8pZKp"
      },
      "source": [
        "#### Download **iris dataset** from the [link](https://gist.githubusercontent.com/curran/a08a1080b88344b0c8a7/raw/d546eaee765268bf2f487608c537c05e22e4b221/iris.csv)"
      ]
    },
    {
      "cell_type": "markdown",
      "metadata": {
        "id": "qQ7aq2YqpZKr"
      },
      "source": [
        "### Import Packages"
      ]
    },
    {
      "cell_type": "code",
      "metadata": {
        "id": "z3TbSCzgpZKt",
        "outputId": "8b0e5c19-970c-43dd-b09f-3ba54853d5bd",
        "colab": {
          "base_uri": "https://localhost:8080/",
          "height": 255
        }
      },
      "source": [
        "!pip install pyspark\n",
        "import pyspark\n",
        "from pyspark.sql.functions import *\n",
        "from pyspark.ml.feature import VectorAssembler\n",
        "from pyspark.ml.feature import StringIndexer\n",
        "from pyspark.sql import SparkSession"
      ],
      "execution_count": 1,
      "outputs": [
        {
          "output_type": "stream",
          "text": [
            "Collecting pyspark\n",
            "\u001b[?25l  Downloading https://files.pythonhosted.org/packages/f0/26/198fc8c0b98580f617cb03cb298c6056587b8f0447e20fa40c5b634ced77/pyspark-3.0.1.tar.gz (204.2MB)\n",
            "\u001b[K     |████████████████████████████████| 204.2MB 63kB/s \n",
            "\u001b[?25hCollecting py4j==0.10.9\n",
            "\u001b[?25l  Downloading https://files.pythonhosted.org/packages/9e/b6/6a4fb90cd235dc8e265a6a2067f2a2c99f0d91787f06aca4bcf7c23f3f80/py4j-0.10.9-py2.py3-none-any.whl (198kB)\n",
            "\u001b[K     |████████████████████████████████| 204kB 43.5MB/s \n",
            "\u001b[?25hBuilding wheels for collected packages: pyspark\n",
            "  Building wheel for pyspark (setup.py) ... \u001b[?25l\u001b[?25hdone\n",
            "  Created wheel for pyspark: filename=pyspark-3.0.1-py2.py3-none-any.whl size=204612243 sha256=0a82db61ed84a79f35cedf14b414446a95d22cc6ced6e59e6b9b9ff0c6e6965d\n",
            "  Stored in directory: /root/.cache/pip/wheels/5e/bd/07/031766ca628adec8435bb40f0bd83bb676ce65ff4007f8e73f\n",
            "Successfully built pyspark\n",
            "Installing collected packages: py4j, pyspark\n",
            "Successfully installed py4j-0.10.9 pyspark-3.0.1\n"
          ],
          "name": "stdout"
        }
      ]
    },
    {
      "cell_type": "markdown",
      "metadata": {
        "id": "UpUjyljGpZK1"
      },
      "source": [
        "### Create Spark instance"
      ]
    },
    {
      "cell_type": "code",
      "metadata": {
        "id": "RsyL0SeApZK2",
        "outputId": "6abdac32-aabf-43b4-bba2-a4d217cf8d14",
        "colab": {
          "base_uri": "https://localhost:8080/",
          "height": 214
        }
      },
      "source": [
        "spark = SparkSession.builder.appName('Class').getOrCreate()\n",
        "spark"
      ],
      "execution_count": 2,
      "outputs": [
        {
          "output_type": "execute_result",
          "data": {
            "text/html": [
              "\n",
              "            <div>\n",
              "                <p><b>SparkSession - in-memory</b></p>\n",
              "                \n",
              "        <div>\n",
              "            <p><b>SparkContext</b></p>\n",
              "\n",
              "            <p><a href=\"http://6acb95f8d40a:4040\">Spark UI</a></p>\n",
              "\n",
              "            <dl>\n",
              "              <dt>Version</dt>\n",
              "                <dd><code>v3.0.1</code></dd>\n",
              "              <dt>Master</dt>\n",
              "                <dd><code>local[*]</code></dd>\n",
              "              <dt>AppName</dt>\n",
              "                <dd><code>Class</code></dd>\n",
              "            </dl>\n",
              "        </div>\n",
              "        \n",
              "            </div>\n",
              "        "
            ],
            "text/plain": [
              "<pyspark.sql.session.SparkSession at 0x7f20dfd1f518>"
            ]
          },
          "metadata": {
            "tags": []
          },
          "execution_count": 2
        }
      ]
    },
    {
      "cell_type": "markdown",
      "metadata": {
        "id": "4Pw_0QQ8pZK9"
      },
      "source": [
        "### Load iris dataset into a Spark data frame"
      ]
    },
    {
      "cell_type": "code",
      "metadata": {
        "id": "yyNLt8s2pZLA"
      },
      "source": [
        "iris_df = spark.read.csv('iris.csv',header=True,inferSchema=True)"
      ],
      "execution_count": 3,
      "outputs": []
    },
    {
      "cell_type": "code",
      "metadata": {
        "id": "eHtWkXZRpZLJ",
        "outputId": "ee0b2503-583e-44cb-e699-e497257e33f4",
        "colab": {
          "base_uri": "https://localhost:8080/",
          "height": 84
        }
      },
      "source": [
        "iris_df.take(4)"
      ],
      "execution_count": 4,
      "outputs": [
        {
          "output_type": "execute_result",
          "data": {
            "text/plain": [
              "[Row(sepal_length=5.1, sepal_width=3.5, petal_length=1.4, petal_width=0.2, species='setosa'),\n",
              " Row(sepal_length=4.9, sepal_width=3.0, petal_length=1.4, petal_width=0.2, species='setosa'),\n",
              " Row(sepal_length=4.7, sepal_width=3.2, petal_length=1.3, petal_width=0.2, species='setosa'),\n",
              " Row(sepal_length=4.6, sepal_width=3.1, petal_length=1.5, petal_width=0.2, species='setosa')]"
            ]
          },
          "metadata": {
            "tags": []
          },
          "execution_count": 4
        }
      ]
    },
    {
      "cell_type": "code",
      "metadata": {
        "id": "737m99MnpZLS",
        "outputId": "02b059ef-f97b-4228-c52d-d34d0937bc46",
        "colab": {
          "base_uri": "https://localhost:8080/",
          "height": 286
        }
      },
      "source": [
        "iris_df.show(10)"
      ],
      "execution_count": 7,
      "outputs": [
        {
          "output_type": "stream",
          "text": [
            "+------------+-----------+------------+-----------+-------+\n",
            "|sepal_length|sepal_width|petal_length|petal_width|species|\n",
            "+------------+-----------+------------+-----------+-------+\n",
            "|         5.1|        3.5|         1.4|        0.2| setosa|\n",
            "|         4.9|        3.0|         1.4|        0.2| setosa|\n",
            "|         4.7|        3.2|         1.3|        0.2| setosa|\n",
            "|         4.6|        3.1|         1.5|        0.2| setosa|\n",
            "|         5.0|        3.6|         1.4|        0.2| setosa|\n",
            "|         5.4|        3.9|         1.7|        0.4| setosa|\n",
            "|         4.6|        3.4|         1.4|        0.3| setosa|\n",
            "|         5.0|        3.4|         1.5|        0.2| setosa|\n",
            "|         4.4|        2.9|         1.4|        0.2| setosa|\n",
            "|         4.9|        3.1|         1.5|        0.1| setosa|\n",
            "+------------+-----------+------------+-----------+-------+\n",
            "only showing top 10 rows\n",
            "\n"
          ],
          "name": "stdout"
        }
      ]
    },
    {
      "cell_type": "markdown",
      "metadata": {
        "id": "GXpQXxnwpZLa"
      },
      "source": [
        "### Create a vector assembler to transform our data"
      ]
    },
    {
      "cell_type": "markdown",
      "metadata": {
        "id": "bhsmt9_JpZLb"
      },
      "source": [
        "**VectorAssembler** is a transformer that combines a given list of columns into a single vector column. It is useful for combining raw features and features generated by different feature transformers into a single feature vector, in order to train ML models. "
      ]
    },
    {
      "cell_type": "code",
      "metadata": {
        "id": "4MUl86XWpZLc"
      },
      "source": [
        "v_assembler = VectorAssembler(inputCols=[\"sepal_length\",\"sepal_width\",\"petal_length\",\"petal_width\"],\\\n",
        "                              outputCol=\"features\")"
      ],
      "execution_count": 8,
      "outputs": []
    },
    {
      "cell_type": "code",
      "metadata": {
        "id": "bR3tA4_FpZLi"
      },
      "source": [
        "vecIris_df = v_assembler.transform(iris_df)"
      ],
      "execution_count": 9,
      "outputs": []
    },
    {
      "cell_type": "code",
      "metadata": {
        "id": "CHQQoS9spZLl",
        "outputId": "442bdf88-aee9-4ef2-ada3-67e04cdd49d5",
        "colab": {
          "base_uri": "https://localhost:8080/",
          "height": 151
        }
      },
      "source": [
        "vecIris_df.printSchema()"
      ],
      "execution_count": 10,
      "outputs": [
        {
          "output_type": "stream",
          "text": [
            "root\n",
            " |-- sepal_length: double (nullable = true)\n",
            " |-- sepal_width: double (nullable = true)\n",
            " |-- petal_length: double (nullable = true)\n",
            " |-- petal_width: double (nullable = true)\n",
            " |-- species: string (nullable = true)\n",
            " |-- features: vector (nullable = true)\n",
            "\n"
          ],
          "name": "stdout"
        }
      ]
    },
    {
      "cell_type": "code",
      "metadata": {
        "id": "W8fTsTXhsm_v",
        "outputId": "5f411c94-e0a2-4ae0-d59d-3c3ab345f541",
        "colab": {
          "base_uri": "https://localhost:8080/",
          "height": 454
        }
      },
      "source": [
        "vecIris_df.show()"
      ],
      "execution_count": 11,
      "outputs": [
        {
          "output_type": "stream",
          "text": [
            "+------------+-----------+------------+-----------+-------+-----------------+\n",
            "|sepal_length|sepal_width|petal_length|petal_width|species|         features|\n",
            "+------------+-----------+------------+-----------+-------+-----------------+\n",
            "|         5.1|        3.5|         1.4|        0.2| setosa|[5.1,3.5,1.4,0.2]|\n",
            "|         4.9|        3.0|         1.4|        0.2| setosa|[4.9,3.0,1.4,0.2]|\n",
            "|         4.7|        3.2|         1.3|        0.2| setosa|[4.7,3.2,1.3,0.2]|\n",
            "|         4.6|        3.1|         1.5|        0.2| setosa|[4.6,3.1,1.5,0.2]|\n",
            "|         5.0|        3.6|         1.4|        0.2| setosa|[5.0,3.6,1.4,0.2]|\n",
            "|         5.4|        3.9|         1.7|        0.4| setosa|[5.4,3.9,1.7,0.4]|\n",
            "|         4.6|        3.4|         1.4|        0.3| setosa|[4.6,3.4,1.4,0.3]|\n",
            "|         5.0|        3.4|         1.5|        0.2| setosa|[5.0,3.4,1.5,0.2]|\n",
            "|         4.4|        2.9|         1.4|        0.2| setosa|[4.4,2.9,1.4,0.2]|\n",
            "|         4.9|        3.1|         1.5|        0.1| setosa|[4.9,3.1,1.5,0.1]|\n",
            "|         5.4|        3.7|         1.5|        0.2| setosa|[5.4,3.7,1.5,0.2]|\n",
            "|         4.8|        3.4|         1.6|        0.2| setosa|[4.8,3.4,1.6,0.2]|\n",
            "|         4.8|        3.0|         1.4|        0.1| setosa|[4.8,3.0,1.4,0.1]|\n",
            "|         4.3|        3.0|         1.1|        0.1| setosa|[4.3,3.0,1.1,0.1]|\n",
            "|         5.8|        4.0|         1.2|        0.2| setosa|[5.8,4.0,1.2,0.2]|\n",
            "|         5.7|        4.4|         1.5|        0.4| setosa|[5.7,4.4,1.5,0.4]|\n",
            "|         5.4|        3.9|         1.3|        0.4| setosa|[5.4,3.9,1.3,0.4]|\n",
            "|         5.1|        3.5|         1.4|        0.3| setosa|[5.1,3.5,1.4,0.3]|\n",
            "|         5.7|        3.8|         1.7|        0.3| setosa|[5.7,3.8,1.7,0.3]|\n",
            "|         5.1|        3.8|         1.5|        0.3| setosa|[5.1,3.8,1.5,0.3]|\n",
            "+------------+-----------+------------+-----------+-------+-----------------+\n",
            "only showing top 20 rows\n",
            "\n"
          ],
          "name": "stdout"
        }
      ]
    },
    {
      "cell_type": "markdown",
      "metadata": {
        "id": "_RLDqtIPpZLs"
      },
      "source": [
        "### Convert the species labels name into a numeric values"
      ]
    },
    {
      "cell_type": "markdown",
      "metadata": {
        "id": "bn1KuWCjpZLu"
      },
      "source": [
        "**StringIndexer** encodes a string column of labels to a column of label indices. The indices are in [0, numLabels), ordered by label frequencies, so the most frequent label gets index 0. "
      ]
    },
    {
      "cell_type": "code",
      "metadata": {
        "id": "xBUQV-n-pZLv"
      },
      "source": [
        "indexer = StringIndexer(inputCol='species',outputCol='label')\n",
        "indexerModel = indexer.fit(vecIris_df)\n",
        "indexedVecIris_df = indexerModel.transform(vecIris_df)"
      ],
      "execution_count": 12,
      "outputs": []
    },
    {
      "cell_type": "code",
      "metadata": {
        "id": "9dELPhqwpZLy",
        "outputId": "7ea1ac73-5440-4e2b-c8b8-8e8e7cd7b68f",
        "colab": {
          "base_uri": "https://localhost:8080/",
          "height": 286
        }
      },
      "source": [
        "indexedVecIris_df.show(10)"
      ],
      "execution_count": 15,
      "outputs": [
        {
          "output_type": "stream",
          "text": [
            "+------------+-----------+------------+-----------+-------+-----------------+-----+\n",
            "|sepal_length|sepal_width|petal_length|petal_width|species|         features|label|\n",
            "+------------+-----------+------------+-----------+-------+-----------------+-----+\n",
            "|         5.1|        3.5|         1.4|        0.2| setosa|[5.1,3.5,1.4,0.2]|  0.0|\n",
            "|         4.9|        3.0|         1.4|        0.2| setosa|[4.9,3.0,1.4,0.2]|  0.0|\n",
            "|         4.7|        3.2|         1.3|        0.2| setosa|[4.7,3.2,1.3,0.2]|  0.0|\n",
            "|         4.6|        3.1|         1.5|        0.2| setosa|[4.6,3.1,1.5,0.2]|  0.0|\n",
            "|         5.0|        3.6|         1.4|        0.2| setosa|[5.0,3.6,1.4,0.2]|  0.0|\n",
            "|         5.4|        3.9|         1.7|        0.4| setosa|[5.4,3.9,1.7,0.4]|  0.0|\n",
            "|         4.6|        3.4|         1.4|        0.3| setosa|[4.6,3.4,1.4,0.3]|  0.0|\n",
            "|         5.0|        3.4|         1.5|        0.2| setosa|[5.0,3.4,1.5,0.2]|  0.0|\n",
            "|         4.4|        2.9|         1.4|        0.2| setosa|[4.4,2.9,1.4,0.2]|  0.0|\n",
            "|         4.9|        3.1|         1.5|        0.1| setosa|[4.9,3.1,1.5,0.1]|  0.0|\n",
            "+------------+-----------+------------+-----------+-------+-----------------+-----+\n",
            "only showing top 10 rows\n",
            "\n"
          ],
          "name": "stdout"
        }
      ]
    },
    {
      "cell_type": "markdown",
      "metadata": {
        "id": "LEA6cGC7pZL4"
      },
      "source": [
        "## Naive Bayes classification model"
      ]
    },
    {
      "cell_type": "markdown",
      "metadata": {
        "id": "aXDz1OHhpZL5"
      },
      "source": [
        "Let's import the required packages for this step."
      ]
    },
    {
      "cell_type": "code",
      "metadata": {
        "id": "7aQYxJ0tpZL6"
      },
      "source": [
        "from pyspark.ml.classification import NaiveBayes\n",
        "from pyspark.ml.evaluation import MulticlassClassificationEvaluator"
      ],
      "execution_count": 16,
      "outputs": []
    },
    {
      "cell_type": "markdown",
      "metadata": {
        "id": "6CcWutNdpZL_"
      },
      "source": [
        "### Create training and test datasets"
      ]
    },
    {
      "cell_type": "code",
      "metadata": {
        "id": "5Exo7crrpZL_"
      },
      "source": [
        "splits = indexedVecIris_df.randomSplit([0.65, 0.35],1)\n"
      ],
      "execution_count": 26,
      "outputs": []
    },
    {
      "cell_type": "code",
      "metadata": {
        "id": "ZBXHEbpqpZMC"
      },
      "source": [
        "train_df = splits[0]\n",
        "test_df = splits[1]"
      ],
      "execution_count": 27,
      "outputs": []
    },
    {
      "cell_type": "code",
      "metadata": {
        "id": "NNYARFcgpZMI",
        "outputId": "679fccd5-c8c2-4f1f-b745-a13fff96ad31",
        "colab": {
          "base_uri": "https://localhost:8080/",
          "height": 34
        }
      },
      "source": [
        "indexedVecIris_df.count()"
      ],
      "execution_count": 28,
      "outputs": [
        {
          "output_type": "execute_result",
          "data": {
            "text/plain": [
              "150"
            ]
          },
          "metadata": {
            "tags": []
          },
          "execution_count": 28
        }
      ]
    },
    {
      "cell_type": "code",
      "metadata": {
        "id": "NnyScveppZMM",
        "outputId": "5179ab9e-28fb-4c0f-fa79-2098be66a93a",
        "colab": {
          "base_uri": "https://localhost:8080/",
          "height": 34
        }
      },
      "source": [
        "train_df.count()"
      ],
      "execution_count": 29,
      "outputs": [
        {
          "output_type": "execute_result",
          "data": {
            "text/plain": [
              "104"
            ]
          },
          "metadata": {
            "tags": []
          },
          "execution_count": 29
        }
      ]
    },
    {
      "cell_type": "code",
      "metadata": {
        "id": "E_m52yANxbSz",
        "outputId": "09ff36e6-fb8f-432a-fc23-3fd10227fe35",
        "colab": {
          "base_uri": "https://localhost:8080/",
          "height": 34
        }
      },
      "source": [
        "test_df.count()"
      ],
      "execution_count": 30,
      "outputs": [
        {
          "output_type": "execute_result",
          "data": {
            "text/plain": [
              "46"
            ]
          },
          "metadata": {
            "tags": []
          },
          "execution_count": 30
        }
      ]
    },
    {
      "cell_type": "markdown",
      "metadata": {
        "id": "6c56tAhupZMU"
      },
      "source": [
        "`NavieBayes()` method take an argument called `modelType`, in our case, we will assign `multinomial` to it and `multinomial` just means that there are more than two different classes that we are going to be working with."
      ]
    },
    {
      "cell_type": "code",
      "metadata": {
        "id": "CPm3kJcYpZMW"
      },
      "source": [
        "nb_classifier = NaiveBayes(modelType='multinomial')\n",
        "nb_model = nb_classifier.fit(train_df)"
      ],
      "execution_count": 31,
      "outputs": []
    },
    {
      "cell_type": "markdown",
      "metadata": {
        "id": "eWW5o6sapZMb"
      },
      "source": [
        "We have built and fit the model using the training data set, and in the next step, we are going to make predictions using the model on the test data."
      ]
    },
    {
      "cell_type": "code",
      "metadata": {
        "id": "L_X3tdMWpZMc"
      },
      "source": [
        "pred_df = nb_model.transform(test_df)"
      ],
      "execution_count": 32,
      "outputs": []
    },
    {
      "cell_type": "code",
      "metadata": {
        "id": "mhQUzVrhpZMi",
        "outputId": "93bdb160-5452-4ba3-ae82-4205c8816437",
        "colab": {
          "base_uri": "https://localhost:8080/",
          "height": 218
        }
      },
      "source": [
        "pred_df.printSchema()"
      ],
      "execution_count": 33,
      "outputs": [
        {
          "output_type": "stream",
          "text": [
            "root\n",
            " |-- sepal_length: double (nullable = true)\n",
            " |-- sepal_width: double (nullable = true)\n",
            " |-- petal_length: double (nullable = true)\n",
            " |-- petal_width: double (nullable = true)\n",
            " |-- species: string (nullable = true)\n",
            " |-- features: vector (nullable = true)\n",
            " |-- label: double (nullable = false)\n",
            " |-- rawPrediction: vector (nullable = true)\n",
            " |-- probability: vector (nullable = true)\n",
            " |-- prediction: double (nullable = false)\n",
            "\n"
          ],
          "name": "stdout"
        }
      ]
    },
    {
      "cell_type": "code",
      "metadata": {
        "id": "7PjYDYr_0Hy9",
        "outputId": "0d87ebb7-5aad-45e6-b682-039b17d62454",
        "colab": {
          "base_uri": "https://localhost:8080/",
          "height": 874
        }
      },
      "source": [
        "pred_df.select(['species','features','label','prediction']).show(150)"
      ],
      "execution_count": 34,
      "outputs": [
        {
          "output_type": "stream",
          "text": [
            "+----------+-----------------+-----+----------+\n",
            "|   species|         features|label|prediction|\n",
            "+----------+-----------------+-----+----------+\n",
            "|    setosa|[4.5,2.3,1.3,0.3]|  0.0|       0.0|\n",
            "|    setosa|[4.6,3.1,1.5,0.2]|  0.0|       0.0|\n",
            "|    setosa|[4.8,3.1,1.6,0.2]|  0.0|       0.0|\n",
            "|    setosa|[4.8,3.4,1.6,0.2]|  0.0|       0.0|\n",
            "|    setosa|[4.8,3.4,1.9,0.2]|  0.0|       0.0|\n",
            "|versicolor|[4.9,2.4,3.3,1.0]|  1.0|       1.0|\n",
            "| virginica|[4.9,2.5,4.5,1.7]|  2.0|       2.0|\n",
            "|    setosa|[5.0,3.5,1.3,0.3]|  0.0|       0.0|\n",
            "|versicolor|[5.1,2.5,3.0,1.1]|  1.0|       1.0|\n",
            "|    setosa|[5.1,3.3,1.7,0.5]|  0.0|       0.0|\n",
            "|    setosa|[5.1,3.5,1.4,0.2]|  0.0|       0.0|\n",
            "|    setosa|[5.1,3.8,1.6,0.2]|  0.0|       0.0|\n",
            "|versicolor|[5.2,2.7,3.9,1.4]|  1.0|       1.0|\n",
            "|    setosa|[5.2,3.4,1.4,0.2]|  0.0|       0.0|\n",
            "|    setosa|[5.2,3.5,1.5,0.2]|  0.0|       0.0|\n",
            "|    setosa|[5.2,4.1,1.5,0.1]|  0.0|       0.0|\n",
            "|versicolor|[5.4,3.0,4.5,1.5]|  1.0|       1.0|\n",
            "|    setosa|[5.4,3.4,1.5,0.4]|  0.0|       0.0|\n",
            "|    setosa|[5.4,3.4,1.7,0.2]|  0.0|       0.0|\n",
            "|    setosa|[5.4,3.9,1.7,0.4]|  0.0|       0.0|\n",
            "|versicolor|[5.5,2.4,3.8,1.1]|  1.0|       1.0|\n",
            "|    setosa|[5.5,4.2,1.4,0.2]|  0.0|       0.0|\n",
            "| virginica|[5.7,2.5,5.0,2.0]|  2.0|       2.0|\n",
            "|versicolor|[5.7,2.8,4.5,1.3]|  1.0|       1.0|\n",
            "|versicolor|[5.7,3.0,4.2,1.2]|  1.0|       1.0|\n",
            "|versicolor|[5.8,2.7,3.9,1.2]|  1.0|       1.0|\n",
            "|versicolor|[5.8,2.7,4.1,1.0]|  1.0|       1.0|\n",
            "|versicolor|[6.0,2.2,4.0,1.0]|  1.0|       1.0|\n",
            "| virginica|[6.0,2.2,5.0,1.5]|  2.0|       2.0|\n",
            "|versicolor|[6.0,2.9,4.5,1.5]|  1.0|       1.0|\n",
            "|versicolor|[6.0,3.4,4.5,1.6]|  1.0|       1.0|\n",
            "|versicolor|[6.1,2.9,4.7,1.4]|  1.0|       1.0|\n",
            "| virginica|[6.4,3.1,5.5,1.8]|  2.0|       2.0|\n",
            "|versicolor|[6.5,2.8,4.6,1.5]|  1.0|       1.0|\n",
            "| virginica|[6.5,3.2,5.1,2.0]|  2.0|       2.0|\n",
            "|versicolor|[6.7,3.0,5.0,1.7]|  1.0|       1.0|\n",
            "| virginica|[6.7,3.1,5.6,2.4]|  2.0|       2.0|\n",
            "| virginica|[6.7,3.3,5.7,2.1]|  2.0|       2.0|\n",
            "| virginica|[6.7,3.3,5.7,2.5]|  2.0|       2.0|\n",
            "| virginica|[6.8,3.0,5.5,2.1]|  2.0|       2.0|\n",
            "| virginica|[6.9,3.1,5.1,2.3]|  2.0|       2.0|\n",
            "| virginica|[7.1,3.0,5.9,2.1]|  2.0|       2.0|\n",
            "| virginica|[7.2,3.0,5.8,1.6]|  2.0|       1.0|\n",
            "| virginica|[7.2,3.2,6.0,1.8]|  2.0|       2.0|\n",
            "| virginica|[7.7,3.0,6.1,2.3]|  2.0|       2.0|\n",
            "| virginica|[7.7,3.8,6.7,2.2]|  2.0|       2.0|\n",
            "+----------+-----------------+-----+----------+\n",
            "\n"
          ],
          "name": "stdout"
        }
      ]
    },
    {
      "cell_type": "markdown",
      "metadata": {
        "id": "HuFiq9W8pZMl"
      },
      "source": [
        "### Model Evaluation"
      ]
    },
    {
      "cell_type": "markdown",
      "metadata": {
        "id": "bbqmxaOhpZMl"
      },
      "source": [
        "Now, we want to see how well the model work overall, so let's to do a model evaluation."
      ]
    },
    {
      "cell_type": "code",
      "metadata": {
        "id": "HZu9qUinpZMm"
      },
      "source": [
        "model_eval = MulticlassClassificationEvaluator(labelCol='label', predictionCol='prediction', metricName='accuracy')\n",
        "nb_accuracy = model_eval.evaluate(pred_df)"
      ],
      "execution_count": 35,
      "outputs": []
    },
    {
      "cell_type": "code",
      "metadata": {
        "id": "ExkxmyLKpZMq",
        "outputId": "bd629a32-1fc6-4b19-a6e1-9f0d50254c98",
        "colab": {
          "base_uri": "https://localhost:8080/",
          "height": 34
        }
      },
      "source": [
        "print(\"Naive Bayes accuracy is {:.2f}\". format(nb_accuracy))"
      ],
      "execution_count": 36,
      "outputs": [
        {
          "output_type": "stream",
          "text": [
            "Naive Bayes accuracy is 0.98\n"
          ],
          "name": "stdout"
        }
      ]
    },
    {
      "cell_type": "markdown",
      "metadata": {
        "id": "_wnjK-RlpZMu"
      },
      "source": [
        "## Multi Layer Perceptron (MLP)"
      ]
    },
    {
      "cell_type": "code",
      "metadata": {
        "id": "8SL8rKbdpZMv"
      },
      "source": [
        "from pyspark.ml.classification import MultilayerPerceptronClassifier"
      ],
      "execution_count": 37,
      "outputs": []
    },
    {
      "cell_type": "markdown",
      "metadata": {
        "id": "seUZUjkLpZM0"
      },
      "source": [
        "A multi-layer perceptron (MLP) classifier has multiple levels of neurons."
      ]
    },
    {
      "cell_type": "markdown",
      "metadata": {
        "id": "lEmmcT_ZpZM1"
      },
      "source": [
        "In this MLP, first layer has the number of nodes as there are inputs, we have four measures so our first layer will be four.\n",
        "last element should have the same number of neurons as there are types of outputs. We have three types of iris species. so our last layer will be three. Now we want to have layers in between, and layers in between or hidden layers will help the multi-layer perceptron learn how to classify correctly.\n",
        "We insert two layers of six neurons each in the middle of the MLP. Now we have a four-level MLP."
      ]
    },
    {
      "cell_type": "code",
      "metadata": {
        "id": "wfoAivTBpZM1"
      },
      "source": [
        "layers = [4,6,6,3]"
      ],
      "execution_count": 38,
      "outputs": []
    },
    {
      "cell_type": "code",
      "metadata": {
        "id": "khgP67QKpZM8"
      },
      "source": [
        "mlp_classifier = MultilayerPerceptronClassifier(layers=layers, seed=1)"
      ],
      "execution_count": 39,
      "outputs": []
    },
    {
      "cell_type": "code",
      "metadata": {
        "id": "G4i53u_kpZNA"
      },
      "source": [
        "mlp_model = mlp_classifier.fit(train_df)"
      ],
      "execution_count": 40,
      "outputs": []
    },
    {
      "cell_type": "code",
      "metadata": {
        "id": "YZnEwfVapZNI"
      },
      "source": [
        "mlp_pred = mlp_model.transform(test_df)"
      ],
      "execution_count": 41,
      "outputs": []
    },
    {
      "cell_type": "code",
      "metadata": {
        "id": "j1zee1TYpZNM",
        "outputId": "c8c71db6-db17-4e71-93fa-85bfd1a4f066",
        "colab": {
          "base_uri": "https://localhost:8080/",
          "height": 874
        }
      },
      "source": [
        "mlp_pred.select(['species','features','label','prediction']).show(150)"
      ],
      "execution_count": 42,
      "outputs": [
        {
          "output_type": "stream",
          "text": [
            "+----------+-----------------+-----+----------+\n",
            "|   species|         features|label|prediction|\n",
            "+----------+-----------------+-----+----------+\n",
            "|    setosa|[4.5,2.3,1.3,0.3]|  0.0|       0.0|\n",
            "|    setosa|[4.6,3.1,1.5,0.2]|  0.0|       0.0|\n",
            "|    setosa|[4.8,3.1,1.6,0.2]|  0.0|       0.0|\n",
            "|    setosa|[4.8,3.4,1.6,0.2]|  0.0|       0.0|\n",
            "|    setosa|[4.8,3.4,1.9,0.2]|  0.0|       0.0|\n",
            "|versicolor|[4.9,2.4,3.3,1.0]|  1.0|       1.0|\n",
            "| virginica|[4.9,2.5,4.5,1.7]|  2.0|       2.0|\n",
            "|    setosa|[5.0,3.5,1.3,0.3]|  0.0|       0.0|\n",
            "|versicolor|[5.1,2.5,3.0,1.1]|  1.0|       1.0|\n",
            "|    setosa|[5.1,3.3,1.7,0.5]|  0.0|       0.0|\n",
            "|    setosa|[5.1,3.5,1.4,0.2]|  0.0|       0.0|\n",
            "|    setosa|[5.1,3.8,1.6,0.2]|  0.0|       0.0|\n",
            "|versicolor|[5.2,2.7,3.9,1.4]|  1.0|       1.0|\n",
            "|    setosa|[5.2,3.4,1.4,0.2]|  0.0|       0.0|\n",
            "|    setosa|[5.2,3.5,1.5,0.2]|  0.0|       0.0|\n",
            "|    setosa|[5.2,4.1,1.5,0.1]|  0.0|       0.0|\n",
            "|versicolor|[5.4,3.0,4.5,1.5]|  1.0|       1.0|\n",
            "|    setosa|[5.4,3.4,1.5,0.4]|  0.0|       0.0|\n",
            "|    setosa|[5.4,3.4,1.7,0.2]|  0.0|       0.0|\n",
            "|    setosa|[5.4,3.9,1.7,0.4]|  0.0|       0.0|\n",
            "|versicolor|[5.5,2.4,3.8,1.1]|  1.0|       1.0|\n",
            "|    setosa|[5.5,4.2,1.4,0.2]|  0.0|       0.0|\n",
            "| virginica|[5.7,2.5,5.0,2.0]|  2.0|       2.0|\n",
            "|versicolor|[5.7,2.8,4.5,1.3]|  1.0|       1.0|\n",
            "|versicolor|[5.7,3.0,4.2,1.2]|  1.0|       1.0|\n",
            "|versicolor|[5.8,2.7,3.9,1.2]|  1.0|       1.0|\n",
            "|versicolor|[5.8,2.7,4.1,1.0]|  1.0|       1.0|\n",
            "|versicolor|[6.0,2.2,4.0,1.0]|  1.0|       1.0|\n",
            "| virginica|[6.0,2.2,5.0,1.5]|  2.0|       2.0|\n",
            "|versicolor|[6.0,2.9,4.5,1.5]|  1.0|       1.0|\n",
            "|versicolor|[6.0,3.4,4.5,1.6]|  1.0|       1.0|\n",
            "|versicolor|[6.1,2.9,4.7,1.4]|  1.0|       1.0|\n",
            "| virginica|[6.4,3.1,5.5,1.8]|  2.0|       2.0|\n",
            "|versicolor|[6.5,2.8,4.6,1.5]|  1.0|       1.0|\n",
            "| virginica|[6.5,3.2,5.1,2.0]|  2.0|       2.0|\n",
            "|versicolor|[6.7,3.0,5.0,1.7]|  1.0|       1.0|\n",
            "| virginica|[6.7,3.1,5.6,2.4]|  2.0|       2.0|\n",
            "| virginica|[6.7,3.3,5.7,2.1]|  2.0|       2.0|\n",
            "| virginica|[6.7,3.3,5.7,2.5]|  2.0|       2.0|\n",
            "| virginica|[6.8,3.0,5.5,2.1]|  2.0|       2.0|\n",
            "| virginica|[6.9,3.1,5.1,2.3]|  2.0|       2.0|\n",
            "| virginica|[7.1,3.0,5.9,2.1]|  2.0|       2.0|\n",
            "| virginica|[7.2,3.0,5.8,1.6]|  2.0|       2.0|\n",
            "| virginica|[7.2,3.2,6.0,1.8]|  2.0|       2.0|\n",
            "| virginica|[7.7,3.0,6.1,2.3]|  2.0|       2.0|\n",
            "| virginica|[7.7,3.8,6.7,2.2]|  2.0|       2.0|\n",
            "+----------+-----------------+-----+----------+\n",
            "\n"
          ],
          "name": "stdout"
        }
      ]
    },
    {
      "cell_type": "code",
      "metadata": {
        "id": "TluKp_sJpZNR"
      },
      "source": [
        "mlp_eval = MulticlassClassificationEvaluator(metricName='accuracy')\n",
        "mlp_accuracy = mlp_eval.evaluate(mlp_pred)"
      ],
      "execution_count": 43,
      "outputs": []
    },
    {
      "cell_type": "code",
      "metadata": {
        "id": "FQNNXBxW9eeX",
        "outputId": "47d60277-bd75-4074-c689-49673f68bd2f",
        "colab": {
          "base_uri": "https://localhost:8080/",
          "height": 34
        }
      },
      "source": [
        "print('MLP accuracy is {0:.2f}.'.format(mlp_accuracy))"
      ],
      "execution_count": 44,
      "outputs": [
        {
          "output_type": "stream",
          "text": [
            "MLP accuracy is 1.00.\n"
          ],
          "name": "stdout"
        }
      ]
    },
    {
      "cell_type": "markdown",
      "metadata": {
        "id": "aje0g62NpZNW"
      },
      "source": [
        "## Decision Tree"
      ]
    },
    {
      "cell_type": "code",
      "metadata": {
        "id": "AMjKsmblpZNX"
      },
      "source": [
        "from pyspark.ml.classification import DecisionTreeClassifier"
      ],
      "execution_count": 45,
      "outputs": []
    },
    {
      "cell_type": "code",
      "metadata": {
        "id": "PkzTuG01pZNb"
      },
      "source": [
        "decTree_classifier = DecisionTreeClassifier(labelCol='label',featuresCol='features')\n",
        "decTree_model = decTree_classifier.fit(train_df)\n",
        "decTree_pred = decTree_model.transform(test_df)"
      ],
      "execution_count": 46,
      "outputs": []
    },
    {
      "cell_type": "code",
      "metadata": {
        "id": "EGtmEzq5pZNf",
        "outputId": "5e771653-ca0e-4b1a-b890-6ce8783bf0ea",
        "colab": {
          "base_uri": "https://localhost:8080/",
          "height": 286
        }
      },
      "source": [
        "decTree_pred.select(['species','features','label','prediction']).show(10)"
      ],
      "execution_count": 51,
      "outputs": [
        {
          "output_type": "stream",
          "text": [
            "+----------+-----------------+-----+----------+\n",
            "|   species|         features|label|prediction|\n",
            "+----------+-----------------+-----+----------+\n",
            "|    setosa|[4.5,2.3,1.3,0.3]|  0.0|       0.0|\n",
            "|    setosa|[4.6,3.1,1.5,0.2]|  0.0|       0.0|\n",
            "|    setosa|[4.8,3.1,1.6,0.2]|  0.0|       0.0|\n",
            "|    setosa|[4.8,3.4,1.6,0.2]|  0.0|       0.0|\n",
            "|    setosa|[4.8,3.4,1.9,0.2]|  0.0|       0.0|\n",
            "|versicolor|[4.9,2.4,3.3,1.0]|  1.0|       1.0|\n",
            "| virginica|[4.9,2.5,4.5,1.7]|  2.0|       1.0|\n",
            "|    setosa|[5.0,3.5,1.3,0.3]|  0.0|       0.0|\n",
            "|versicolor|[5.1,2.5,3.0,1.1]|  1.0|       1.0|\n",
            "|    setosa|[5.1,3.3,1.7,0.5]|  0.0|       0.0|\n",
            "+----------+-----------------+-----+----------+\n",
            "only showing top 10 rows\n",
            "\n"
          ],
          "name": "stdout"
        }
      ]
    },
    {
      "cell_type": "code",
      "metadata": {
        "id": "4ZWJCbh-pZNj"
      },
      "source": [
        "decTree_evaluator = MulticlassClassificationEvaluator(labelCol='label',predictionCol='prediction', metricName='accuracy')\n",
        "decTree_accuracy = decTree_evaluator.evaluate(decTree_pred)"
      ],
      "execution_count": 49,
      "outputs": []
    },
    {
      "cell_type": "code",
      "metadata": {
        "id": "4yYC9t_bpZNm",
        "outputId": "b381d227-631b-403b-9483-c1f7748ba705",
        "colab": {
          "base_uri": "https://localhost:8080/",
          "height": 34
        }
      },
      "source": [
        "print('Decision Tree accuracy is {0:.2f}.'.format(decTree_accuracy))"
      ],
      "execution_count": 50,
      "outputs": [
        {
          "output_type": "stream",
          "text": [
            "Decision Tree accuracy is 0.93.\n"
          ],
          "name": "stdout"
        }
      ]
    },
    {
      "cell_type": "markdown",
      "metadata": {
        "id": "BL5ugincpZNu"
      },
      "source": [
        "#### Keep it up"
      ]
    }
  ]
}