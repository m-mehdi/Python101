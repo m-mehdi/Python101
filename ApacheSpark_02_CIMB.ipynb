{
  "nbformat": 4,
  "nbformat_minor": 0,
  "metadata": {
    "colab": {
      "name": "ApacheSpark_02-CIMB.ipynb",
      "provenance": [],
      "toc_visible": true,
      "authorship_tag": "ABX9TyNoMz8ZnWCddfFZQcutVXD0",
      "include_colab_link": true
    },
    "kernelspec": {
      "name": "python3",
      "display_name": "Python 3"
    }
  },
  "cells": [
    {
      "cell_type": "markdown",
      "metadata": {
        "id": "view-in-github",
        "colab_type": "text"
      },
      "source": [
        "<a href=\"https://colab.research.google.com/github/m-mehdi/Python101/blob/master/ApacheSpark_02_CIMB.ipynb\" target=\"_parent\"><img src=\"https://colab.research.google.com/assets/colab-badge.svg\" alt=\"Open In Colab\"/></a>"
      ]
    },
    {
      "cell_type": "markdown",
      "metadata": {
        "id": "N3qwg2Y9LiTv"
      },
      "source": [
        "# Apache Spark Dataframe Exercise\n",
        "\n",
        "---\n",
        "\n"
      ]
    },
    {
      "cell_type": "markdown",
      "metadata": {
        "id": "raCB7Y-ALogK"
      },
      "source": [
        "In this exercise, we are going to get some insights on stock market data. We use `walmart_stock.csv` file as our dataset to analyse the data."
      ]
    },
    {
      "cell_type": "markdown",
      "metadata": {
        "id": "-z2-JYh2LtCk"
      },
      "source": [
        "### 1- Create an Apache Spark *Session*"
      ]
    },
    {
      "cell_type": "code",
      "metadata": {
        "id": "XBQi7_hVLmhj",
        "outputId": "1c33384b-530b-484f-cecc-065a398fae4e",
        "colab": {
          "base_uri": "https://localhost:8080/",
          "height": 238
        }
      },
      "source": [
        "!pip install pyspark"
      ],
      "execution_count": 2,
      "outputs": [
        {
          "output_type": "stream",
          "text": [
            "Collecting pyspark\n",
            "\u001b[?25l  Downloading https://files.pythonhosted.org/packages/f0/26/198fc8c0b98580f617cb03cb298c6056587b8f0447e20fa40c5b634ced77/pyspark-3.0.1.tar.gz (204.2MB)\n",
            "\u001b[K     |████████████████████████████████| 204.2MB 75kB/s \n",
            "\u001b[?25hCollecting py4j==0.10.9\n",
            "\u001b[?25l  Downloading https://files.pythonhosted.org/packages/9e/b6/6a4fb90cd235dc8e265a6a2067f2a2c99f0d91787f06aca4bcf7c23f3f80/py4j-0.10.9-py2.py3-none-any.whl (198kB)\n",
            "\u001b[K     |████████████████████████████████| 204kB 35.1MB/s \n",
            "\u001b[?25hBuilding wheels for collected packages: pyspark\n",
            "  Building wheel for pyspark (setup.py) ... \u001b[?25l\u001b[?25hdone\n",
            "  Created wheel for pyspark: filename=pyspark-3.0.1-py2.py3-none-any.whl size=204612243 sha256=b2b55bbeedb02cad88eaa45b286dd1542431c61e763b9cd50d3d5f2f76780bce\n",
            "  Stored in directory: /root/.cache/pip/wheels/5e/bd/07/031766ca628adec8435bb40f0bd83bb676ce65ff4007f8e73f\n",
            "Successfully built pyspark\n",
            "Installing collected packages: py4j, pyspark\n",
            "Successfully installed py4j-0.10.9 pyspark-3.0.1\n"
          ],
          "name": "stdout"
        }
      ]
    },
    {
      "cell_type": "code",
      "metadata": {
        "id": "o5jd_wrFL-Jo"
      },
      "source": [
        "from pyspark.sql import SparkSession\n",
        "spark = SparkSession.builder.getOrCreate()"
      ],
      "execution_count": 3,
      "outputs": []
    },
    {
      "cell_type": "code",
      "metadata": {
        "id": "RxSn70P5MJ9e",
        "outputId": "353b74f7-70fa-4555-853b-f7a9e640be1f",
        "colab": {
          "base_uri": "https://localhost:8080/",
          "height": 216
        }
      },
      "source": [
        "spark"
      ],
      "execution_count": 5,
      "outputs": [
        {
          "output_type": "execute_result",
          "data": {
            "text/html": [
              "\n",
              "            <div>\n",
              "                <p><b>SparkSession - in-memory</b></p>\n",
              "                \n",
              "        <div>\n",
              "            <p><b>SparkContext</b></p>\n",
              "\n",
              "            <p><a href=\"http://eb49233239d3:4040\">Spark UI</a></p>\n",
              "\n",
              "            <dl>\n",
              "              <dt>Version</dt>\n",
              "                <dd><code>v3.0.1</code></dd>\n",
              "              <dt>Master</dt>\n",
              "                <dd><code>local[*]</code></dd>\n",
              "              <dt>AppName</dt>\n",
              "                <dd><code>pyspark-shell</code></dd>\n",
              "            </dl>\n",
              "        </div>\n",
              "        \n",
              "            </div>\n",
              "        "
            ],
            "text/plain": [
              "<pyspark.sql.session.SparkSession at 0x7f8ce7407630>"
            ]
          },
          "metadata": {
            "tags": []
          },
          "execution_count": 5
        }
      ]
    },
    {
      "cell_type": "markdown",
      "metadata": {
        "id": "KNZv2SZdMfbh"
      },
      "source": [
        "## 2- Load the `walmart_stock.csv` file into a dataframe and infer the data schema"
      ]
    },
    {
      "cell_type": "code",
      "metadata": {
        "id": "TJLcVwkSMMbX"
      },
      "source": [
        "df = spark.read.csv('walmart_stock.csv', header=True, inferSchema=True)"
      ],
      "execution_count": 6,
      "outputs": []
    },
    {
      "cell_type": "markdown",
      "metadata": {
        "id": "fyFY3iKQMwhG"
      },
      "source": [
        "## 3- Display the column names and print the dataframe schema"
      ]
    },
    {
      "cell_type": "code",
      "metadata": {
        "id": "CMzwb3QQM1Dv",
        "outputId": "e5d9d6ce-bc38-438e-bb83-43d20375d674",
        "colab": {
          "base_uri": "https://localhost:8080/",
          "height": 34
        }
      },
      "source": [
        "df.columns"
      ],
      "execution_count": 7,
      "outputs": [
        {
          "output_type": "execute_result",
          "data": {
            "text/plain": [
              "['Date', 'Open', 'High', 'Low', 'Close', 'Volume', 'Adj Close']"
            ]
          },
          "metadata": {
            "tags": []
          },
          "execution_count": 7
        }
      ]
    },
    {
      "cell_type": "code",
      "metadata": {
        "id": "UspbBz7ncHzo",
        "outputId": "6bca8e4d-2cd6-4c3a-dbe4-d03fe7c13288",
        "colab": {
          "base_uri": "https://localhost:8080/",
          "height": 170
        }
      },
      "source": [
        "df.printSchema()"
      ],
      "execution_count": 8,
      "outputs": [
        {
          "output_type": "stream",
          "text": [
            "root\n",
            " |-- Date: string (nullable = true)\n",
            " |-- Open: double (nullable = true)\n",
            " |-- High: double (nullable = true)\n",
            " |-- Low: double (nullable = true)\n",
            " |-- Close: double (nullable = true)\n",
            " |-- Volume: integer (nullable = true)\n",
            " |-- Adj Close: double (nullable = true)\n",
            "\n"
          ],
          "name": "stdout"
        }
      ]
    },
    {
      "cell_type": "markdown",
      "metadata": {
        "id": "wiEW_2YoM2Bo"
      },
      "source": [
        "## 4- Print out the first five rows of the data"
      ]
    },
    {
      "cell_type": "code",
      "metadata": {
        "id": "4SXzYtSSNQex",
        "outputId": "ecd16701-1d56-420c-fa8b-c5d275f578d6",
        "colab": {
          "base_uri": "https://localhost:8080/",
          "height": 102
        }
      },
      "source": [
        "df.head(5)"
      ],
      "execution_count": 9,
      "outputs": [
        {
          "output_type": "execute_result",
          "data": {
            "text/plain": [
              "[Row(Date='2012-01-03', Open=59.970001, High=61.060001, Low=59.869999, Close=60.330002, Volume=12668800, Adj Close=52.619234999999996),\n",
              " Row(Date='2012-01-04', Open=60.209998999999996, High=60.349998, Low=59.470001, Close=59.709998999999996, Volume=9593300, Adj Close=52.078475),\n",
              " Row(Date='2012-01-05', Open=59.349998, High=59.619999, Low=58.369999, Close=59.419998, Volume=12768200, Adj Close=51.825539),\n",
              " Row(Date='2012-01-06', Open=59.419998, High=59.450001, Low=58.869999, Close=59.0, Volume=8069400, Adj Close=51.45922),\n",
              " Row(Date='2012-01-09', Open=59.029999, High=59.549999, Low=58.919998, Close=59.18, Volume=6679300, Adj Close=51.616215000000004)]"
            ]
          },
          "metadata": {
            "tags": []
          },
          "execution_count": 9
        }
      ]
    },
    {
      "cell_type": "markdown",
      "metadata": {
        "id": "dPMJ0fuHNRAA"
      },
      "source": [
        "## 5- Use `describe()` method to get statistical information on the data "
      ]
    },
    {
      "cell_type": "code",
      "metadata": {
        "id": "-dZpBrbVNdAw",
        "outputId": "c8c9694f-166c-48b0-e53f-82102d15258e",
        "colab": {
          "base_uri": "https://localhost:8080/",
          "height": 187
        }
      },
      "source": [
        "df.describe(['Open','Close']).show()"
      ],
      "execution_count": 12,
      "outputs": [
        {
          "output_type": "stream",
          "text": [
            "+-------+------------------+-----------------+\n",
            "|summary|              Open|            Close|\n",
            "+-------+------------------+-----------------+\n",
            "|  count|              1258|             1258|\n",
            "|   mean| 72.35785375357709|72.38844998012726|\n",
            "| stddev|  6.76809024470826|6.756859163732991|\n",
            "|    min|56.389998999999996|        56.419998|\n",
            "|    max|         90.800003|        90.470001|\n",
            "+-------+------------------+-----------------+\n",
            "\n"
          ],
          "name": "stdout"
        }
      ]
    },
    {
      "cell_type": "markdown",
      "metadata": {
        "id": "0eamwUWzNdi7"
      },
      "source": [
        "## 6- Use `format_number` function to format the numbers for just showing up to two decimal places. \n",
        "[format_number() documentation](http://spark.apache.org/docs/latest/api/python/pyspark.sql.html?highlight=format_number#pyspark.sql.functions.format_number)"
      ]
    },
    {
      "cell_type": "code",
      "metadata": {
        "id": "TSXn6_pENg4j"
      },
      "source": [
        "des_result = df.describe()\n",
        "from pyspark.sql.functions import format_number"
      ],
      "execution_count": 15,
      "outputs": []
    },
    {
      "cell_type": "code",
      "metadata": {
        "id": "6g3o1al8eK3r",
        "outputId": "3aaaf457-e3c2-4dd1-b039-79460995a77d",
        "colab": {
          "base_uri": "https://localhost:8080/",
          "height": 187
        }
      },
      "source": [
        "des_result.printSchema()"
      ],
      "execution_count": 16,
      "outputs": [
        {
          "output_type": "stream",
          "text": [
            "root\n",
            " |-- summary: string (nullable = true)\n",
            " |-- Date: string (nullable = true)\n",
            " |-- Open: string (nullable = true)\n",
            " |-- High: string (nullable = true)\n",
            " |-- Low: string (nullable = true)\n",
            " |-- Close: string (nullable = true)\n",
            " |-- Volume: string (nullable = true)\n",
            " |-- Adj Close: string (nullable = true)\n",
            "\n"
          ],
          "name": "stdout"
        }
      ]
    },
    {
      "cell_type": "code",
      "metadata": {
        "id": "ZNyPfgLtgF72",
        "outputId": "40da188e-6206-4ed9-b9f7-6627e1aa1812",
        "colab": {
          "base_uri": "https://localhost:8080/",
          "height": 163
        }
      },
      "source": [
        "des_result.select(format_number('Open'.cast('float'),2)).show()"
      ],
      "execution_count": 24,
      "outputs": [
        {
          "output_type": "error",
          "ename": "AttributeError",
          "evalue": "ignored",
          "traceback": [
            "\u001b[0;31m---------------------------------------------------------------------------\u001b[0m",
            "\u001b[0;31mAttributeError\u001b[0m                            Traceback (most recent call last)",
            "\u001b[0;32m<ipython-input-24-6324b4705b12>\u001b[0m in \u001b[0;36m<module>\u001b[0;34m()\u001b[0m\n\u001b[0;32m----> 1\u001b[0;31m \u001b[0mdes_result\u001b[0m\u001b[0;34m.\u001b[0m\u001b[0mselect\u001b[0m\u001b[0;34m(\u001b[0m\u001b[0mformat_number\u001b[0m\u001b[0;34m(\u001b[0m\u001b[0;34m'Open'\u001b[0m\u001b[0;34m.\u001b[0m\u001b[0mcast\u001b[0m\u001b[0;34m(\u001b[0m\u001b[0;34m'float'\u001b[0m\u001b[0;34m)\u001b[0m\u001b[0;34m,\u001b[0m\u001b[0;36m2\u001b[0m\u001b[0;34m)\u001b[0m\u001b[0;34m)\u001b[0m\u001b[0;34m.\u001b[0m\u001b[0mshow\u001b[0m\u001b[0;34m(\u001b[0m\u001b[0;34m)\u001b[0m\u001b[0;34m\u001b[0m\u001b[0;34m\u001b[0m\u001b[0m\n\u001b[0m",
            "\u001b[0;31mAttributeError\u001b[0m: 'str' object has no attribute 'cast'"
          ]
        }
      ]
    },
    {
      "cell_type": "code",
      "metadata": {
        "id": "0h_W0qkigk17",
        "outputId": "4b37e69d-d00f-4c15-a1cb-00de4dc6d658",
        "colab": {
          "base_uri": "https://localhost:8080/",
          "height": 34
        }
      },
      "source": [
        "des_result['Open']"
      ],
      "execution_count": 25,
      "outputs": [
        {
          "output_type": "execute_result",
          "data": {
            "text/plain": [
              "Column<b'Open'>"
            ]
          },
          "metadata": {
            "tags": []
          },
          "execution_count": 25
        }
      ]
    },
    {
      "cell_type": "code",
      "metadata": {
        "id": "Om72qKwteUj3",
        "outputId": "7210c266-62d2-48b6-e6f2-8d051faf4a7b",
        "colab": {
          "base_uri": "https://localhost:8080/",
          "height": 187
        }
      },
      "source": [
        "des_result.select(des_result['Summary'],\n",
        "                  format_number(des_result['Open'].cast('float'),2).alias('Open'),\n",
        "                  format_number(des_result['High'].cast('float'),2).alias('High'),\n",
        "                  format_number(des_result['Low'].cast('float'),2).alias('Low'),\n",
        "                  format_number(des_result['Close'].cast('float'),2).alias('Close'),\n",
        "                  des_result['Volume'].cast('int').alias('Volume'),\n",
        "                  format_number(des_result['Adj Close'].cast('float'),2).alias('Adj Close'),).show()"
      ],
      "execution_count": 26,
      "outputs": [
        {
          "output_type": "stream",
          "text": [
            "+-------+--------+--------+--------+--------+--------+---------+\n",
            "|Summary|    Open|    High|     Low|   Close|  Volume|Adj Close|\n",
            "+-------+--------+--------+--------+--------+--------+---------+\n",
            "|  count|1,258.00|1,258.00|1,258.00|1,258.00|    1258| 1,258.00|\n",
            "|   mean|   72.36|   72.84|   71.92|   72.39| 8222093|    67.24|\n",
            "| stddev|    6.77|    6.77|    6.74|    6.76| 4519780|     6.72|\n",
            "|    min|   56.39|   57.06|   56.30|   56.42| 2094900|    50.36|\n",
            "|    max|   90.80|   90.97|   89.25|   90.47|80898100|    84.91|\n",
            "+-------+--------+--------+--------+--------+--------+---------+\n",
            "\n"
          ],
          "name": "stdout"
        }
      ]
    },
    {
      "cell_type": "markdown",
      "metadata": {
        "id": "fcPhS51qNirK"
      },
      "source": [
        "## 7- Create a new coulmn called HV Ratio on a new dataframe that returns the ratio of the High Price versus volume of stock traded for a day."
      ]
    },
    {
      "cell_type": "code",
      "metadata": {
        "id": "uaK-gqCSNljQ"
      },
      "source": [
        "HV_df =df.withColumn(\"HV Ratio\", df['High']/df['Volume'])"
      ],
      "execution_count": 27,
      "outputs": []
    },
    {
      "cell_type": "code",
      "metadata": {
        "id": "Df4QrTOvg7s-",
        "outputId": "abf497d4-f27c-4aad-a34d-b76e22f1d0d2",
        "colab": {
          "base_uri": "https://localhost:8080/",
          "height": 204
        }
      },
      "source": [
        "HV_df.select('HV Ratio').show(5)"
      ],
      "execution_count": 28,
      "outputs": [
        {
          "output_type": "stream",
          "text": [
            "+--------------------+\n",
            "|            HV Ratio|\n",
            "+--------------------+\n",
            "|4.819714653321546E-6|\n",
            "|6.290848613094555E-6|\n",
            "|4.669412994783916E-6|\n",
            "|7.367338463826307E-6|\n",
            "|8.915604778943901E-6|\n",
            "+--------------------+\n",
            "only showing top 5 rows\n",
            "\n"
          ],
          "name": "stdout"
        }
      ]
    },
    {
      "cell_type": "markdown",
      "metadata": {
        "id": "D67FbHLMNmtC"
      },
      "source": [
        "## 8- What day had the Peak High in Price?"
      ]
    },
    {
      "cell_type": "code",
      "metadata": {
        "id": "S842hvZdNo1Y",
        "outputId": "90560d24-6a28-4df8-e4d3-f20325adcbc6",
        "colab": {
          "base_uri": "https://localhost:8080/",
          "height": 35
        }
      },
      "source": [
        "df.orderBy(df['High'].desc()).head()[0]"
      ],
      "execution_count": 30,
      "outputs": [
        {
          "output_type": "execute_result",
          "data": {
            "application/vnd.google.colaboratory.intrinsic+json": {
              "type": "string"
            },
            "text/plain": [
              "'2015-01-13'"
            ]
          },
          "metadata": {
            "tags": []
          },
          "execution_count": 30
        }
      ]
    },
    {
      "cell_type": "markdown",
      "metadata": {
        "id": "JlTSGhVxNuB7"
      },
      "source": [
        "## 9-What is the mean of the Close column?"
      ]
    },
    {
      "cell_type": "code",
      "metadata": {
        "id": "3ENClkRsNwY2",
        "outputId": "f88dedf9-4ce1-4961-9a2c-3320b35e550e",
        "colab": {
          "base_uri": "https://localhost:8080/",
          "height": 119
        }
      },
      "source": [
        "from pyspark.sql.functions import mean\n",
        "df.select(mean('Close')).show()"
      ],
      "execution_count": 31,
      "outputs": [
        {
          "output_type": "stream",
          "text": [
            "+-----------------+\n",
            "|       avg(Close)|\n",
            "+-----------------+\n",
            "|72.38844998012726|\n",
            "+-----------------+\n",
            "\n"
          ],
          "name": "stdout"
        }
      ]
    },
    {
      "cell_type": "code",
      "metadata": {
        "id": "dREGzstYh4px",
        "outputId": "221c79dc-8b16-4339-a198-ac97ad9b9806",
        "colab": {
          "base_uri": "https://localhost:8080/",
          "height": 119
        }
      },
      "source": [
        "df.agg({'Close':'mean'}).show()"
      ],
      "execution_count": 32,
      "outputs": [
        {
          "output_type": "stream",
          "text": [
            "+-----------------+\n",
            "|       avg(Close)|\n",
            "+-----------------+\n",
            "|72.38844998012726|\n",
            "+-----------------+\n",
            "\n"
          ],
          "name": "stdout"
        }
      ]
    },
    {
      "cell_type": "markdown",
      "metadata": {
        "id": "z556YATANw2G"
      },
      "source": [
        "## 10- How many days was the Close lower than USD 70?"
      ]
    },
    {
      "cell_type": "code",
      "metadata": {
        "id": "aflU0011N0xH",
        "outputId": "94b40b7b-941b-4d5b-be75-b49662f55c5d",
        "colab": {
          "base_uri": "https://localhost:8080/",
          "height": 34
        }
      },
      "source": [
        "df.filter('Close < 70').count()"
      ],
      "execution_count": 33,
      "outputs": [
        {
          "output_type": "execute_result",
          "data": {
            "text/plain": [
              "397"
            ]
          },
          "metadata": {
            "tags": []
          },
          "execution_count": 33
        }
      ]
    },
    {
      "cell_type": "markdown",
      "metadata": {
        "id": "c4ryhQa1N3of"
      },
      "source": [
        "## 11-What percentage of the time was the High greater than 80 USD ?\n",
        "#### In other words, (Number of High Days>80)/(Total Days in the dataframe)"
      ]
    },
    {
      "cell_type": "code",
      "metadata": {
        "id": "eth0TZ3BN4c2",
        "outputId": "3734f70d-df40-417e-d092-481d20916f20",
        "colab": {
          "base_uri": "https://localhost:8080/",
          "height": 34
        }
      },
      "source": [
        "(df.filter(df['High']>80).count()/df.count())*100"
      ],
      "execution_count": 36,
      "outputs": [
        {
          "output_type": "execute_result",
          "data": {
            "text/plain": [
              "9.141494435612083"
            ]
          },
          "metadata": {
            "tags": []
          },
          "execution_count": 36
        }
      ]
    },
    {
      "cell_type": "markdown",
      "metadata": {
        "id": "HrK7LbEAN7NQ"
      },
      "source": [
        "## 12-What is the correlation between High and Volume?"
      ]
    },
    {
      "cell_type": "code",
      "metadata": {
        "id": "8m775uEbN9FO",
        "outputId": "60be2b24-f555-4bfb-e7bd-ee13f1bc81cf",
        "colab": {
          "base_uri": "https://localhost:8080/",
          "height": 119
        }
      },
      "source": [
        "from pyspark.sql.functions import corr\n",
        "df.select(corr('High','Volume')).show()"
      ],
      "execution_count": 37,
      "outputs": [
        {
          "output_type": "stream",
          "text": [
            "+-------------------+\n",
            "| corr(High, Volume)|\n",
            "+-------------------+\n",
            "|-0.3384326061737161|\n",
            "+-------------------+\n",
            "\n"
          ],
          "name": "stdout"
        }
      ]
    },
    {
      "cell_type": "markdown",
      "metadata": {
        "id": "HrNTmNbzN_F9"
      },
      "source": [
        "## 13- What is the max High per year (use GroupBy)?"
      ]
    },
    {
      "cell_type": "code",
      "metadata": {
        "id": "N0Dt2wHUN_qn",
        "outputId": "e4257bb1-5526-4754-82e7-c7bf17d270b2",
        "colab": {
          "base_uri": "https://localhost:8080/",
          "height": 191
        }
      },
      "source": [
        "from pyspark.sql.functions import max, year\n",
        "year_df = df.withColumn('Year',year(df['Date']))\n",
        "max_df=year_df.groupBy('Year').max()\n",
        "max_df.select('Year','max(High)').show()"
      ],
      "execution_count": 39,
      "outputs": [
        {
          "output_type": "stream",
          "text": [
            "+----+---------+\n",
            "|Year|max(High)|\n",
            "+----+---------+\n",
            "|2015|90.970001|\n",
            "|2013|81.370003|\n",
            "|2014|88.089996|\n",
            "|2012|77.599998|\n",
            "|2016|75.190002|\n",
            "+----+---------+\n",
            "\n"
          ],
          "name": "stdout"
        }
      ]
    },
    {
      "cell_type": "markdown",
      "metadata": {
        "id": "UjsWxJwaOBr4"
      },
      "source": [
        "## 14- What is the average Close for each Calendar Month (close price for Jan,Feb, Mar, etc)?"
      ]
    },
    {
      "cell_type": "code",
      "metadata": {
        "id": "F9e6XRT9OCdC"
      },
      "source": [
        "from pyspark.sql.functions import month\n",
        "month_df = df.withColumn('Month', month('Date'))\n",
        "month_avg = month_df.select('Month','Close').groupBy('Month').mean()"
      ],
      "execution_count": 40,
      "outputs": []
    },
    {
      "cell_type": "code",
      "metadata": {
        "id": "WVLoQ0CBkAkt",
        "outputId": "39490acc-f4ad-4331-f724-997415b5eee7",
        "colab": {
          "base_uri": "https://localhost:8080/",
          "height": 312
        }
      },
      "source": [
        "month_avg.select('Month','avg(Close)').orderBy('Month').show()"
      ],
      "execution_count": 42,
      "outputs": [
        {
          "output_type": "stream",
          "text": [
            "+-----+-----------------+\n",
            "|Month|       avg(Close)|\n",
            "+-----+-----------------+\n",
            "|    1|71.44801958415842|\n",
            "|    2|  71.306804443299|\n",
            "|    3|71.77794377570092|\n",
            "|    4|72.97361900952382|\n",
            "|    5|72.30971688679247|\n",
            "|    6| 72.4953774245283|\n",
            "|    7|74.43971943925233|\n",
            "|    8|73.02981855454546|\n",
            "|    9|72.18411785294116|\n",
            "|   10|71.57854545454543|\n",
            "|   11| 72.1110893069307|\n",
            "|   12|72.84792478301885|\n",
            "+-----+-----------------+\n",
            "\n"
          ],
          "name": "stdout"
        }
      ]
    },
    {
      "cell_type": "code",
      "metadata": {
        "id": "2RScUa42kJoI"
      },
      "source": [
        ""
      ],
      "execution_count": null,
      "outputs": []
    }
  ]
}