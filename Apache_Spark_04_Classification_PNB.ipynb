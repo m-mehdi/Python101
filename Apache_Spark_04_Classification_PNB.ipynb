{
  "nbformat": 4,
  "nbformat_minor": 0,
  "metadata": {
    "kernelspec": {
      "display_name": "Python 3",
      "language": "python",
      "name": "python3"
    },
    "language_info": {
      "codemirror_mode": {
        "name": "ipython",
        "version": 3
      },
      "file_extension": ".py",
      "mimetype": "text/x-python",
      "name": "python",
      "nbconvert_exporter": "python",
      "pygments_lexer": "ipython3",
      "version": "3.7.6"
    },
    "colab": {
      "name": "Apache_Spark_04_Classification.ipynb",
      "provenance": [],
      "toc_visible": true,
      "include_colab_link": true
    }
  },
  "cells": [
    {
      "cell_type": "markdown",
      "metadata": {
        "id": "view-in-github",
        "colab_type": "text"
      },
      "source": [
        "<a href=\"https://colab.research.google.com/github/m-mehdi/Python101/blob/master/Apache_Spark_04_Classification_PNB.ipynb\" target=\"_parent\"><img src=\"https://colab.research.google.com/assets/colab-badge.svg\" alt=\"Open In Colab\"/></a>"
      ]
    },
    {
      "cell_type": "markdown",
      "metadata": {
        "id": "3tW7kh3gRud_"
      },
      "source": [
        "<img src=\"images/cads-logo.png\" style=\"height: 100px;\" align=left> <img src=\"images/apache_spark.png\" style=\"height: 20%;width:20%\" align=right>"
      ]
    },
    {
      "cell_type": "markdown",
      "metadata": {
        "id": "4bU8UqrPRueA"
      },
      "source": [
        "# Classification Algorithms"
      ]
    },
    {
      "cell_type": "markdown",
      "metadata": {
        "id": "5lKcz-KpRueB"
      },
      "source": [
        "Classification algorithms are useful when we have datasets that we want to be able o split into two categories. So, for example, we might have several pieces of data that fall\n",
        "into Category A or Category B, and sometimes it's not so obvious where certain things should fall. Classification algorithms\n",
        "help us identify boundaries between different categories and make it easy for us to decide how to assign a new entity to a particular group.\n",
        "In this notebook, we'll look at a few different classification algorithms, including Naive Bayes, decision trees, and multilayer perceptrons."
      ]
    },
    {
      "cell_type": "markdown",
      "metadata": {
        "id": "exXzjeLhRueB"
      },
      "source": [
        "#### Download **iris dataset** from the [link](https://gist.githubusercontent.com/curran/a08a1080b88344b0c8a7/raw/d546eaee765268bf2f487608c537c05e22e4b221/iris.csv)"
      ]
    },
    {
      "cell_type": "markdown",
      "metadata": {
        "id": "0r7bjG8SRueC"
      },
      "source": [
        "### Import Packages"
      ]
    },
    {
      "cell_type": "code",
      "metadata": {
        "id": "gQnWP0rsRueC",
        "outputId": "281b6c5d-76a1-4574-c6ca-1910ec8fc6e3",
        "colab": {
          "base_uri": "https://localhost:8080/",
          "height": 255
        }
      },
      "source": [
        "!pip install pyspark\n",
        "import pyspark\n",
        "from pyspark.sql.functions import *\n",
        "from pyspark.ml.feature import VectorAssembler\n",
        "from pyspark.ml.feature import StringIndexer\n",
        "from pyspark.sql import SparkSession"
      ],
      "execution_count": 1,
      "outputs": [
        {
          "output_type": "stream",
          "text": [
            "Collecting pyspark\n",
            "\u001b[?25l  Downloading https://files.pythonhosted.org/packages/f0/26/198fc8c0b98580f617cb03cb298c6056587b8f0447e20fa40c5b634ced77/pyspark-3.0.1.tar.gz (204.2MB)\n",
            "\u001b[K     |████████████████████████████████| 204.2MB 69kB/s \n",
            "\u001b[?25hCollecting py4j==0.10.9\n",
            "\u001b[?25l  Downloading https://files.pythonhosted.org/packages/9e/b6/6a4fb90cd235dc8e265a6a2067f2a2c99f0d91787f06aca4bcf7c23f3f80/py4j-0.10.9-py2.py3-none-any.whl (198kB)\n",
            "\u001b[K     |████████████████████████████████| 204kB 43.8MB/s \n",
            "\u001b[?25hBuilding wheels for collected packages: pyspark\n",
            "  Building wheel for pyspark (setup.py) ... \u001b[?25l\u001b[?25hdone\n",
            "  Created wheel for pyspark: filename=pyspark-3.0.1-py2.py3-none-any.whl size=204612243 sha256=13dd931afa078e7a6683e1a4a829c18423e6b24d677e8c726134caa54986c11b\n",
            "  Stored in directory: /root/.cache/pip/wheels/5e/bd/07/031766ca628adec8435bb40f0bd83bb676ce65ff4007f8e73f\n",
            "Successfully built pyspark\n",
            "Installing collected packages: py4j, pyspark\n",
            "Successfully installed py4j-0.10.9 pyspark-3.0.1\n"
          ],
          "name": "stdout"
        }
      ]
    },
    {
      "cell_type": "markdown",
      "metadata": {
        "id": "VrG_zIxFRueF"
      },
      "source": [
        "### Create Spark instance"
      ]
    },
    {
      "cell_type": "code",
      "metadata": {
        "id": "8zmMhxmlRueG"
      },
      "source": [
        "spark = SparkSession.builder.appName('Class').getOrCreate()"
      ],
      "execution_count": 2,
      "outputs": []
    },
    {
      "cell_type": "markdown",
      "metadata": {
        "id": "GCbA4d97RueI"
      },
      "source": [
        "### Load iris dataset into a Spark data frame"
      ]
    },
    {
      "cell_type": "code",
      "metadata": {
        "id": "H45mIByURueJ"
      },
      "source": [
        "iris_df = spark.read.csv('iris.csv',header=True,inferSchema=True)"
      ],
      "execution_count": 3,
      "outputs": []
    },
    {
      "cell_type": "code",
      "metadata": {
        "id": "87mGByvGRueO",
        "outputId": "93625884-f368-45dc-92d1-48f0d2c96338",
        "colab": {
          "base_uri": "https://localhost:8080/",
          "height": 84
        }
      },
      "source": [
        "iris_df.take(4)"
      ],
      "execution_count": 4,
      "outputs": [
        {
          "output_type": "execute_result",
          "data": {
            "text/plain": [
              "[Row(sepal_length=5.1, sepal_width=3.5, petal_length=1.4, petal_width=0.2, species='setosa'),\n",
              " Row(sepal_length=4.9, sepal_width=3.0, petal_length=1.4, petal_width=0.2, species='setosa'),\n",
              " Row(sepal_length=4.7, sepal_width=3.2, petal_length=1.3, petal_width=0.2, species='setosa'),\n",
              " Row(sepal_length=4.6, sepal_width=3.1, petal_length=1.5, petal_width=0.2, species='setosa')]"
            ]
          },
          "metadata": {
            "tags": []
          },
          "execution_count": 4
        }
      ]
    },
    {
      "cell_type": "code",
      "metadata": {
        "id": "GJhSJEQ-RueQ",
        "outputId": "5d1beb98-e18b-487c-8863-c6eeacd27e78",
        "colab": {
          "base_uri": "https://localhost:8080/",
          "height": 454
        }
      },
      "source": [
        "iris_df.show()"
      ],
      "execution_count": 5,
      "outputs": [
        {
          "output_type": "stream",
          "text": [
            "+------------+-----------+------------+-----------+-------+\n",
            "|sepal_length|sepal_width|petal_length|petal_width|species|\n",
            "+------------+-----------+------------+-----------+-------+\n",
            "|         5.1|        3.5|         1.4|        0.2| setosa|\n",
            "|         4.9|        3.0|         1.4|        0.2| setosa|\n",
            "|         4.7|        3.2|         1.3|        0.2| setosa|\n",
            "|         4.6|        3.1|         1.5|        0.2| setosa|\n",
            "|         5.0|        3.6|         1.4|        0.2| setosa|\n",
            "|         5.4|        3.9|         1.7|        0.4| setosa|\n",
            "|         4.6|        3.4|         1.4|        0.3| setosa|\n",
            "|         5.0|        3.4|         1.5|        0.2| setosa|\n",
            "|         4.4|        2.9|         1.4|        0.2| setosa|\n",
            "|         4.9|        3.1|         1.5|        0.1| setosa|\n",
            "|         5.4|        3.7|         1.5|        0.2| setosa|\n",
            "|         4.8|        3.4|         1.6|        0.2| setosa|\n",
            "|         4.8|        3.0|         1.4|        0.1| setosa|\n",
            "|         4.3|        3.0|         1.1|        0.1| setosa|\n",
            "|         5.8|        4.0|         1.2|        0.2| setosa|\n",
            "|         5.7|        4.4|         1.5|        0.4| setosa|\n",
            "|         5.4|        3.9|         1.3|        0.4| setosa|\n",
            "|         5.1|        3.5|         1.4|        0.3| setosa|\n",
            "|         5.7|        3.8|         1.7|        0.3| setosa|\n",
            "|         5.1|        3.8|         1.5|        0.3| setosa|\n",
            "+------------+-----------+------------+-----------+-------+\n",
            "only showing top 20 rows\n",
            "\n"
          ],
          "name": "stdout"
        }
      ]
    },
    {
      "cell_type": "markdown",
      "metadata": {
        "id": "Hva2DUYVRueS"
      },
      "source": [
        "### Create a vector assembler to transform our data"
      ]
    },
    {
      "cell_type": "markdown",
      "metadata": {
        "id": "jZAbM_ljRueT"
      },
      "source": [
        "**VectorAssembler** is a transformer that combines a given list of columns into a single vector column. It is useful for combining raw features and features generated by different feature transformers into a single feature vector, in order to train ML models. "
      ]
    },
    {
      "cell_type": "code",
      "metadata": {
        "id": "Hl_eeYxdRueT"
      },
      "source": [
        "vec_assebler = VectorAssembler(inputCols=['sepal_length','sepal_width','petal_length','petal_width'],\\\n",
        "                               outputCol='features')"
      ],
      "execution_count": 8,
      "outputs": []
    },
    {
      "cell_type": "code",
      "metadata": {
        "id": "blKkycz3RueV"
      },
      "source": [
        "vecIris_df = vec_assebler.transform(iris_df)"
      ],
      "execution_count": 9,
      "outputs": []
    },
    {
      "cell_type": "code",
      "metadata": {
        "id": "zomi20esRueX",
        "outputId": "d183e82e-7d0e-4aa4-bff4-de671b7038a3",
        "colab": {
          "base_uri": "https://localhost:8080/",
          "height": 151
        }
      },
      "source": [
        "vecIris_df.printSchema()"
      ],
      "execution_count": 10,
      "outputs": [
        {
          "output_type": "stream",
          "text": [
            "root\n",
            " |-- sepal_length: double (nullable = true)\n",
            " |-- sepal_width: double (nullable = true)\n",
            " |-- petal_length: double (nullable = true)\n",
            " |-- petal_width: double (nullable = true)\n",
            " |-- species: string (nullable = true)\n",
            " |-- features: vector (nullable = true)\n",
            "\n"
          ],
          "name": "stdout"
        }
      ]
    },
    {
      "cell_type": "code",
      "metadata": {
        "id": "-_eCy4w6ULpy",
        "outputId": "f3e096c9-cb30-44f5-a484-e31745399f78",
        "colab": {
          "base_uri": "https://localhost:8080/",
          "height": 454
        }
      },
      "source": [
        "vecIris_df.show()"
      ],
      "execution_count": 11,
      "outputs": [
        {
          "output_type": "stream",
          "text": [
            "+------------+-----------+------------+-----------+-------+-----------------+\n",
            "|sepal_length|sepal_width|petal_length|petal_width|species|         features|\n",
            "+------------+-----------+------------+-----------+-------+-----------------+\n",
            "|         5.1|        3.5|         1.4|        0.2| setosa|[5.1,3.5,1.4,0.2]|\n",
            "|         4.9|        3.0|         1.4|        0.2| setosa|[4.9,3.0,1.4,0.2]|\n",
            "|         4.7|        3.2|         1.3|        0.2| setosa|[4.7,3.2,1.3,0.2]|\n",
            "|         4.6|        3.1|         1.5|        0.2| setosa|[4.6,3.1,1.5,0.2]|\n",
            "|         5.0|        3.6|         1.4|        0.2| setosa|[5.0,3.6,1.4,0.2]|\n",
            "|         5.4|        3.9|         1.7|        0.4| setosa|[5.4,3.9,1.7,0.4]|\n",
            "|         4.6|        3.4|         1.4|        0.3| setosa|[4.6,3.4,1.4,0.3]|\n",
            "|         5.0|        3.4|         1.5|        0.2| setosa|[5.0,3.4,1.5,0.2]|\n",
            "|         4.4|        2.9|         1.4|        0.2| setosa|[4.4,2.9,1.4,0.2]|\n",
            "|         4.9|        3.1|         1.5|        0.1| setosa|[4.9,3.1,1.5,0.1]|\n",
            "|         5.4|        3.7|         1.5|        0.2| setosa|[5.4,3.7,1.5,0.2]|\n",
            "|         4.8|        3.4|         1.6|        0.2| setosa|[4.8,3.4,1.6,0.2]|\n",
            "|         4.8|        3.0|         1.4|        0.1| setosa|[4.8,3.0,1.4,0.1]|\n",
            "|         4.3|        3.0|         1.1|        0.1| setosa|[4.3,3.0,1.1,0.1]|\n",
            "|         5.8|        4.0|         1.2|        0.2| setosa|[5.8,4.0,1.2,0.2]|\n",
            "|         5.7|        4.4|         1.5|        0.4| setosa|[5.7,4.4,1.5,0.4]|\n",
            "|         5.4|        3.9|         1.3|        0.4| setosa|[5.4,3.9,1.3,0.4]|\n",
            "|         5.1|        3.5|         1.4|        0.3| setosa|[5.1,3.5,1.4,0.3]|\n",
            "|         5.7|        3.8|         1.7|        0.3| setosa|[5.7,3.8,1.7,0.3]|\n",
            "|         5.1|        3.8|         1.5|        0.3| setosa|[5.1,3.8,1.5,0.3]|\n",
            "+------------+-----------+------------+-----------+-------+-----------------+\n",
            "only showing top 20 rows\n",
            "\n"
          ],
          "name": "stdout"
        }
      ]
    },
    {
      "cell_type": "markdown",
      "metadata": {
        "id": "fRGfYfd3RueZ"
      },
      "source": [
        "### Convert the species labels name into a numeric values"
      ]
    },
    {
      "cell_type": "markdown",
      "metadata": {
        "id": "McNDsvGlRuea"
      },
      "source": [
        "**StringIndexer** encodes a string column of labels to a column of label indices. The indices are in [0, numLabels), ordered by label frequencies, so the most frequent label gets index 0. "
      ]
    },
    {
      "cell_type": "code",
      "metadata": {
        "id": "bbkQ_qwERuea"
      },
      "source": [
        "indexer = StringIndexer(inputCol='species',outputCol='label')\n",
        "indexerModel=indexer.fit(vecIris_df)\n",
        "indexVecIris_df=indexerModel.transform(vecIris_df)"
      ],
      "execution_count": 12,
      "outputs": []
    },
    {
      "cell_type": "code",
      "metadata": {
        "id": "cqq8fGd-Ruec",
        "outputId": "35cd78d7-b023-47eb-bb26-1265a54dad7a",
        "colab": {
          "base_uri": "https://localhost:8080/",
          "height": 454
        }
      },
      "source": [
        "indexVecIris_df.show()"
      ],
      "execution_count": 13,
      "outputs": [
        {
          "output_type": "stream",
          "text": [
            "+------------+-----------+------------+-----------+-------+-----------------+-----+\n",
            "|sepal_length|sepal_width|petal_length|petal_width|species|         features|label|\n",
            "+------------+-----------+------------+-----------+-------+-----------------+-----+\n",
            "|         5.1|        3.5|         1.4|        0.2| setosa|[5.1,3.5,1.4,0.2]|  0.0|\n",
            "|         4.9|        3.0|         1.4|        0.2| setosa|[4.9,3.0,1.4,0.2]|  0.0|\n",
            "|         4.7|        3.2|         1.3|        0.2| setosa|[4.7,3.2,1.3,0.2]|  0.0|\n",
            "|         4.6|        3.1|         1.5|        0.2| setosa|[4.6,3.1,1.5,0.2]|  0.0|\n",
            "|         5.0|        3.6|         1.4|        0.2| setosa|[5.0,3.6,1.4,0.2]|  0.0|\n",
            "|         5.4|        3.9|         1.7|        0.4| setosa|[5.4,3.9,1.7,0.4]|  0.0|\n",
            "|         4.6|        3.4|         1.4|        0.3| setosa|[4.6,3.4,1.4,0.3]|  0.0|\n",
            "|         5.0|        3.4|         1.5|        0.2| setosa|[5.0,3.4,1.5,0.2]|  0.0|\n",
            "|         4.4|        2.9|         1.4|        0.2| setosa|[4.4,2.9,1.4,0.2]|  0.0|\n",
            "|         4.9|        3.1|         1.5|        0.1| setosa|[4.9,3.1,1.5,0.1]|  0.0|\n",
            "|         5.4|        3.7|         1.5|        0.2| setosa|[5.4,3.7,1.5,0.2]|  0.0|\n",
            "|         4.8|        3.4|         1.6|        0.2| setosa|[4.8,3.4,1.6,0.2]|  0.0|\n",
            "|         4.8|        3.0|         1.4|        0.1| setosa|[4.8,3.0,1.4,0.1]|  0.0|\n",
            "|         4.3|        3.0|         1.1|        0.1| setosa|[4.3,3.0,1.1,0.1]|  0.0|\n",
            "|         5.8|        4.0|         1.2|        0.2| setosa|[5.8,4.0,1.2,0.2]|  0.0|\n",
            "|         5.7|        4.4|         1.5|        0.4| setosa|[5.7,4.4,1.5,0.4]|  0.0|\n",
            "|         5.4|        3.9|         1.3|        0.4| setosa|[5.4,3.9,1.3,0.4]|  0.0|\n",
            "|         5.1|        3.5|         1.4|        0.3| setosa|[5.1,3.5,1.4,0.3]|  0.0|\n",
            "|         5.7|        3.8|         1.7|        0.3| setosa|[5.7,3.8,1.7,0.3]|  0.0|\n",
            "|         5.1|        3.8|         1.5|        0.3| setosa|[5.1,3.8,1.5,0.3]|  0.0|\n",
            "+------------+-----------+------------+-----------+-------+-----------------+-----+\n",
            "only showing top 20 rows\n",
            "\n"
          ],
          "name": "stdout"
        }
      ]
    },
    {
      "cell_type": "markdown",
      "metadata": {
        "id": "zlDxGxhyRuee"
      },
      "source": [
        "## Naive Bayes classification model"
      ]
    },
    {
      "cell_type": "markdown",
      "metadata": {
        "id": "xdmX5FF_Ruef"
      },
      "source": [
        "Let's import the required packages for this step."
      ]
    },
    {
      "cell_type": "code",
      "metadata": {
        "id": "q1ZkDL7lRuef"
      },
      "source": [
        "from pyspark.ml.classification import NaiveBayes\n",
        "from pyspark.ml.evaluation import MulticlassClassificationEvaluator"
      ],
      "execution_count": 14,
      "outputs": []
    },
    {
      "cell_type": "markdown",
      "metadata": {
        "id": "OMP-LS78Ruei"
      },
      "source": [
        "### Create training and test datasets"
      ]
    },
    {
      "cell_type": "code",
      "metadata": {
        "id": "STYQFrF6Ruei"
      },
      "source": [
        "splits = indexVecIris_df.randomSplit([0.65,0.35],1)\n",
        "train_df = splits[0]\n",
        "test_df =splits[1]"
      ],
      "execution_count": 15,
      "outputs": []
    },
    {
      "cell_type": "code",
      "metadata": {
        "id": "KH25bWWmRuek",
        "outputId": "4f7c7eaf-2610-4711-fd0d-d3fda201207a",
        "colab": {
          "base_uri": "https://localhost:8080/",
          "height": 34
        }
      },
      "source": [
        "train_df.count()"
      ],
      "execution_count": 16,
      "outputs": [
        {
          "output_type": "execute_result",
          "data": {
            "text/plain": [
              "104"
            ]
          },
          "metadata": {
            "tags": []
          },
          "execution_count": 16
        }
      ]
    },
    {
      "cell_type": "code",
      "metadata": {
        "id": "6BaMQqetRuem",
        "outputId": "d4c4939c-26b9-44f5-9765-637b42607a91",
        "colab": {
          "base_uri": "https://localhost:8080/",
          "height": 34
        }
      },
      "source": [
        "test_df.count()"
      ],
      "execution_count": 17,
      "outputs": [
        {
          "output_type": "execute_result",
          "data": {
            "text/plain": [
              "46"
            ]
          },
          "metadata": {
            "tags": []
          },
          "execution_count": 17
        }
      ]
    },
    {
      "cell_type": "code",
      "metadata": {
        "id": "qKMN0P0JRueo",
        "outputId": "0dd9b7c0-1d05-4a91-9041-d5310b6bc9ef",
        "colab": {
          "base_uri": "https://localhost:8080/",
          "height": 34
        }
      },
      "source": [
        "indexVecIris_df.count()"
      ],
      "execution_count": 18,
      "outputs": [
        {
          "output_type": "execute_result",
          "data": {
            "text/plain": [
              "150"
            ]
          },
          "metadata": {
            "tags": []
          },
          "execution_count": 18
        }
      ]
    },
    {
      "cell_type": "markdown",
      "metadata": {
        "id": "XddY8mqrRueq"
      },
      "source": [
        "`NavieBayes()` method take an argument called `modelType`, in our case, we will assign `multinomial` to it and `multinomial` just means that there are more than two different classes that we are going to be working with."
      ]
    },
    {
      "cell_type": "code",
      "metadata": {
        "id": "4qVZs8XpRueq"
      },
      "source": [
        "nb_classifier = NaiveBayes(modelType='multinomial')\n",
        "nb_model=nb_classifier.fit(train_df)"
      ],
      "execution_count": 20,
      "outputs": []
    },
    {
      "cell_type": "markdown",
      "metadata": {
        "id": "jGdfBtGuRuet"
      },
      "source": [
        "We have built and fit the model using the training data set, and in the next step, we are going to make predictions using the model on the test data."
      ]
    },
    {
      "cell_type": "code",
      "metadata": {
        "id": "D5oeTW0SRuet"
      },
      "source": [
        "pred_df = nb_model.transform(test_df)"
      ],
      "execution_count": 21,
      "outputs": []
    },
    {
      "cell_type": "code",
      "metadata": {
        "id": "_MUIRSwYRuev",
        "outputId": "5bd67636-f924-490b-bce4-f7ff410ae345",
        "colab": {
          "base_uri": "https://localhost:8080/",
          "height": 218
        }
      },
      "source": [
        "pred_df.printSchema()"
      ],
      "execution_count": 22,
      "outputs": [
        {
          "output_type": "stream",
          "text": [
            "root\n",
            " |-- sepal_length: double (nullable = true)\n",
            " |-- sepal_width: double (nullable = true)\n",
            " |-- petal_length: double (nullable = true)\n",
            " |-- petal_width: double (nullable = true)\n",
            " |-- species: string (nullable = true)\n",
            " |-- features: vector (nullable = true)\n",
            " |-- label: double (nullable = false)\n",
            " |-- rawPrediction: vector (nullable = true)\n",
            " |-- probability: vector (nullable = true)\n",
            " |-- prediction: double (nullable = false)\n",
            "\n"
          ],
          "name": "stdout"
        }
      ]
    },
    {
      "cell_type": "markdown",
      "metadata": {
        "id": "S5ZxTCLORuex"
      },
      "source": [
        "### Model Evaluation"
      ]
    },
    {
      "cell_type": "markdown",
      "metadata": {
        "id": "CBLnWRGORuex"
      },
      "source": [
        "Now, we want to see how well the model work overall, so let's to do a model evaluation."
      ]
    },
    {
      "cell_type": "code",
      "metadata": {
        "id": "Nj9PK45ZRuey",
        "outputId": "78a810d4-1e7f-432f-c69d-c6d39fbaa74e",
        "colab": {
          "base_uri": "https://localhost:8080/",
          "height": 874
        }
      },
      "source": [
        "pred_df.select(['species','features','label','prediction']).show(150)"
      ],
      "execution_count": 23,
      "outputs": [
        {
          "output_type": "stream",
          "text": [
            "+----------+-----------------+-----+----------+\n",
            "|   species|         features|label|prediction|\n",
            "+----------+-----------------+-----+----------+\n",
            "|    setosa|[4.5,2.3,1.3,0.3]|  0.0|       0.0|\n",
            "|    setosa|[4.6,3.1,1.5,0.2]|  0.0|       0.0|\n",
            "|    setosa|[4.8,3.1,1.6,0.2]|  0.0|       0.0|\n",
            "|    setosa|[4.8,3.4,1.6,0.2]|  0.0|       0.0|\n",
            "|    setosa|[4.8,3.4,1.9,0.2]|  0.0|       0.0|\n",
            "|versicolor|[4.9,2.4,3.3,1.0]|  1.0|       1.0|\n",
            "| virginica|[4.9,2.5,4.5,1.7]|  2.0|       2.0|\n",
            "|    setosa|[5.0,3.5,1.3,0.3]|  0.0|       0.0|\n",
            "|versicolor|[5.1,2.5,3.0,1.1]|  1.0|       1.0|\n",
            "|    setosa|[5.1,3.3,1.7,0.5]|  0.0|       0.0|\n",
            "|    setosa|[5.1,3.5,1.4,0.2]|  0.0|       0.0|\n",
            "|    setosa|[5.1,3.8,1.6,0.2]|  0.0|       0.0|\n",
            "|versicolor|[5.2,2.7,3.9,1.4]|  1.0|       1.0|\n",
            "|    setosa|[5.2,3.4,1.4,0.2]|  0.0|       0.0|\n",
            "|    setosa|[5.2,3.5,1.5,0.2]|  0.0|       0.0|\n",
            "|    setosa|[5.2,4.1,1.5,0.1]|  0.0|       0.0|\n",
            "|versicolor|[5.4,3.0,4.5,1.5]|  1.0|       1.0|\n",
            "|    setosa|[5.4,3.4,1.5,0.4]|  0.0|       0.0|\n",
            "|    setosa|[5.4,3.4,1.7,0.2]|  0.0|       0.0|\n",
            "|    setosa|[5.4,3.9,1.7,0.4]|  0.0|       0.0|\n",
            "|versicolor|[5.5,2.4,3.8,1.1]|  1.0|       1.0|\n",
            "|    setosa|[5.5,4.2,1.4,0.2]|  0.0|       0.0|\n",
            "| virginica|[5.7,2.5,5.0,2.0]|  2.0|       2.0|\n",
            "|versicolor|[5.7,2.8,4.5,1.3]|  1.0|       1.0|\n",
            "|versicolor|[5.7,3.0,4.2,1.2]|  1.0|       1.0|\n",
            "|versicolor|[5.8,2.7,3.9,1.2]|  1.0|       1.0|\n",
            "|versicolor|[5.8,2.7,4.1,1.0]|  1.0|       1.0|\n",
            "|versicolor|[6.0,2.2,4.0,1.0]|  1.0|       1.0|\n",
            "| virginica|[6.0,2.2,5.0,1.5]|  2.0|       2.0|\n",
            "|versicolor|[6.0,2.9,4.5,1.5]|  1.0|       1.0|\n",
            "|versicolor|[6.0,3.4,4.5,1.6]|  1.0|       1.0|\n",
            "|versicolor|[6.1,2.9,4.7,1.4]|  1.0|       1.0|\n",
            "| virginica|[6.4,3.1,5.5,1.8]|  2.0|       2.0|\n",
            "|versicolor|[6.5,2.8,4.6,1.5]|  1.0|       1.0|\n",
            "| virginica|[6.5,3.2,5.1,2.0]|  2.0|       2.0|\n",
            "|versicolor|[6.7,3.0,5.0,1.7]|  1.0|       1.0|\n",
            "| virginica|[6.7,3.1,5.6,2.4]|  2.0|       2.0|\n",
            "| virginica|[6.7,3.3,5.7,2.1]|  2.0|       2.0|\n",
            "| virginica|[6.7,3.3,5.7,2.5]|  2.0|       2.0|\n",
            "| virginica|[6.8,3.0,5.5,2.1]|  2.0|       2.0|\n",
            "| virginica|[6.9,3.1,5.1,2.3]|  2.0|       2.0|\n",
            "| virginica|[7.1,3.0,5.9,2.1]|  2.0|       2.0|\n",
            "| virginica|[7.2,3.0,5.8,1.6]|  2.0|       1.0|\n",
            "| virginica|[7.2,3.2,6.0,1.8]|  2.0|       2.0|\n",
            "| virginica|[7.7,3.0,6.1,2.3]|  2.0|       2.0|\n",
            "| virginica|[7.7,3.8,6.7,2.2]|  2.0|       2.0|\n",
            "+----------+-----------------+-----+----------+\n",
            "\n"
          ],
          "name": "stdout"
        }
      ]
    },
    {
      "cell_type": "code",
      "metadata": {
        "id": "lck4D44TRuez"
      },
      "source": [
        "model_eval = MulticlassClassificationEvaluator(labelCol='label', predictionCol='prediction',\\\n",
        "                                               metricName='accuracy')"
      ],
      "execution_count": 24,
      "outputs": []
    },
    {
      "cell_type": "code",
      "metadata": {
        "id": "z5BHfZlvXi3a"
      },
      "source": [
        "nb_accuracy = model_eval.evaluate(pred_df)"
      ],
      "execution_count": 25,
      "outputs": []
    },
    {
      "cell_type": "code",
      "metadata": {
        "id": "6pQCV8MQXuPT",
        "outputId": "d18fa1ba-03e3-426b-ccc6-4c418994d3d6",
        "colab": {
          "base_uri": "https://localhost:8080/",
          "height": 34
        }
      },
      "source": [
        "print(\"Naive Bayes Accuracy is {:.2f}.\".format(nb_accuracy))"
      ],
      "execution_count": 26,
      "outputs": [
        {
          "output_type": "stream",
          "text": [
            "Naive Bayes Accuracy is 0.98.\n"
          ],
          "name": "stdout"
        }
      ]
    },
    {
      "cell_type": "markdown",
      "metadata": {
        "id": "qLlp2pXERue2"
      },
      "source": [
        "## Multi Layer Perceptron (MLP)"
      ]
    },
    {
      "cell_type": "code",
      "metadata": {
        "id": "oXwu5EmtRue2"
      },
      "source": [
        "from pyspark.ml.classification import MultilayerPerceptronClassifier"
      ],
      "execution_count": 27,
      "outputs": []
    },
    {
      "cell_type": "markdown",
      "metadata": {
        "id": "xszTOJMORue4"
      },
      "source": [
        "A multi-layer perceptron (MLP) classifier has multiple levels of neurons."
      ]
    },
    {
      "cell_type": "markdown",
      "metadata": {
        "id": "gbofT5wERue5"
      },
      "source": [
        "In this MLP, first layer has the number of nodes as there are inputs, we have four measures so our first layer will be four.\n",
        "last element should have the same number of neurons as there are types of outputs. We have three types of iris species. so our last layer will be three. Now we want to have layers in between, and layers in between or hidden layers will help the multi-layer perceptron learn how to classify correctly.\n",
        "We insert two layers of six neurons each in the middle of the MLP. Now we have a four-level MLP."
      ]
    },
    {
      "cell_type": "code",
      "metadata": {
        "id": "qhL9lF-LRue5"
      },
      "source": [
        "layers = [4, 6, 6, 3]"
      ],
      "execution_count": 28,
      "outputs": []
    },
    {
      "cell_type": "code",
      "metadata": {
        "id": "Uh5ng7W9Rue7"
      },
      "source": [
        "mlp_classifier = MultilayerPerceptronClassifier(layers=layers, seed =1)"
      ],
      "execution_count": 29,
      "outputs": []
    },
    {
      "cell_type": "code",
      "metadata": {
        "id": "ubR54-IZRue9"
      },
      "source": [
        "mlp_model = mlp_classifier.fit(train_df)"
      ],
      "execution_count": 30,
      "outputs": []
    },
    {
      "cell_type": "code",
      "metadata": {
        "id": "vvg5t3S1Rue_"
      },
      "source": [
        "mlp_pred = mlp_model.transform(test_df)"
      ],
      "execution_count": 31,
      "outputs": []
    },
    {
      "cell_type": "code",
      "metadata": {
        "id": "su0Y889CRufB",
        "outputId": "44213989-52b2-45b8-cd0c-27faae692993",
        "colab": {
          "base_uri": "https://localhost:8080/",
          "height": 874
        }
      },
      "source": [
        "mlp_pred.select(['species','features','label','prediction']).show(150)"
      ],
      "execution_count": 32,
      "outputs": [
        {
          "output_type": "stream",
          "text": [
            "+----------+-----------------+-----+----------+\n",
            "|   species|         features|label|prediction|\n",
            "+----------+-----------------+-----+----------+\n",
            "|    setosa|[4.5,2.3,1.3,0.3]|  0.0|       0.0|\n",
            "|    setosa|[4.6,3.1,1.5,0.2]|  0.0|       0.0|\n",
            "|    setosa|[4.8,3.1,1.6,0.2]|  0.0|       0.0|\n",
            "|    setosa|[4.8,3.4,1.6,0.2]|  0.0|       0.0|\n",
            "|    setosa|[4.8,3.4,1.9,0.2]|  0.0|       0.0|\n",
            "|versicolor|[4.9,2.4,3.3,1.0]|  1.0|       1.0|\n",
            "| virginica|[4.9,2.5,4.5,1.7]|  2.0|       2.0|\n",
            "|    setosa|[5.0,3.5,1.3,0.3]|  0.0|       0.0|\n",
            "|versicolor|[5.1,2.5,3.0,1.1]|  1.0|       1.0|\n",
            "|    setosa|[5.1,3.3,1.7,0.5]|  0.0|       0.0|\n",
            "|    setosa|[5.1,3.5,1.4,0.2]|  0.0|       0.0|\n",
            "|    setosa|[5.1,3.8,1.6,0.2]|  0.0|       0.0|\n",
            "|versicolor|[5.2,2.7,3.9,1.4]|  1.0|       1.0|\n",
            "|    setosa|[5.2,3.4,1.4,0.2]|  0.0|       0.0|\n",
            "|    setosa|[5.2,3.5,1.5,0.2]|  0.0|       0.0|\n",
            "|    setosa|[5.2,4.1,1.5,0.1]|  0.0|       0.0|\n",
            "|versicolor|[5.4,3.0,4.5,1.5]|  1.0|       1.0|\n",
            "|    setosa|[5.4,3.4,1.5,0.4]|  0.0|       0.0|\n",
            "|    setosa|[5.4,3.4,1.7,0.2]|  0.0|       0.0|\n",
            "|    setosa|[5.4,3.9,1.7,0.4]|  0.0|       0.0|\n",
            "|versicolor|[5.5,2.4,3.8,1.1]|  1.0|       1.0|\n",
            "|    setosa|[5.5,4.2,1.4,0.2]|  0.0|       0.0|\n",
            "| virginica|[5.7,2.5,5.0,2.0]|  2.0|       2.0|\n",
            "|versicolor|[5.7,2.8,4.5,1.3]|  1.0|       1.0|\n",
            "|versicolor|[5.7,3.0,4.2,1.2]|  1.0|       1.0|\n",
            "|versicolor|[5.8,2.7,3.9,1.2]|  1.0|       1.0|\n",
            "|versicolor|[5.8,2.7,4.1,1.0]|  1.0|       1.0|\n",
            "|versicolor|[6.0,2.2,4.0,1.0]|  1.0|       1.0|\n",
            "| virginica|[6.0,2.2,5.0,1.5]|  2.0|       2.0|\n",
            "|versicolor|[6.0,2.9,4.5,1.5]|  1.0|       1.0|\n",
            "|versicolor|[6.0,3.4,4.5,1.6]|  1.0|       1.0|\n",
            "|versicolor|[6.1,2.9,4.7,1.4]|  1.0|       1.0|\n",
            "| virginica|[6.4,3.1,5.5,1.8]|  2.0|       2.0|\n",
            "|versicolor|[6.5,2.8,4.6,1.5]|  1.0|       1.0|\n",
            "| virginica|[6.5,3.2,5.1,2.0]|  2.0|       2.0|\n",
            "|versicolor|[6.7,3.0,5.0,1.7]|  1.0|       1.0|\n",
            "| virginica|[6.7,3.1,5.6,2.4]|  2.0|       2.0|\n",
            "| virginica|[6.7,3.3,5.7,2.1]|  2.0|       2.0|\n",
            "| virginica|[6.7,3.3,5.7,2.5]|  2.0|       2.0|\n",
            "| virginica|[6.8,3.0,5.5,2.1]|  2.0|       2.0|\n",
            "| virginica|[6.9,3.1,5.1,2.3]|  2.0|       2.0|\n",
            "| virginica|[7.1,3.0,5.9,2.1]|  2.0|       2.0|\n",
            "| virginica|[7.2,3.0,5.8,1.6]|  2.0|       2.0|\n",
            "| virginica|[7.2,3.2,6.0,1.8]|  2.0|       2.0|\n",
            "| virginica|[7.7,3.0,6.1,2.3]|  2.0|       2.0|\n",
            "| virginica|[7.7,3.8,6.7,2.2]|  2.0|       2.0|\n",
            "+----------+-----------------+-----+----------+\n",
            "\n"
          ],
          "name": "stdout"
        }
      ]
    },
    {
      "cell_type": "code",
      "metadata": {
        "id": "bSCl2zEiRufC"
      },
      "source": [
        "mlp_eval = MulticlassClassificationEvaluator(metricName='accuracy')\n",
        "mlp_accuracy = mlp_eval.evaluate(mlp_pred)"
      ],
      "execution_count": 33,
      "outputs": []
    },
    {
      "cell_type": "code",
      "metadata": {
        "id": "PhutGhyYaBbG",
        "outputId": "09b10f54-c5ca-494e-a7dd-9a684a402b29",
        "colab": {
          "base_uri": "https://localhost:8080/",
          "height": 34
        }
      },
      "source": [
        "print('MLP accuracy is {:.2f}'.format(mlp_accuracy))"
      ],
      "execution_count": 34,
      "outputs": [
        {
          "output_type": "stream",
          "text": [
            "MLP accuracy is 1.00\n"
          ],
          "name": "stdout"
        }
      ]
    },
    {
      "cell_type": "markdown",
      "metadata": {
        "id": "bLgxokvtRufF"
      },
      "source": [
        "## Decision Tree"
      ]
    },
    {
      "cell_type": "code",
      "metadata": {
        "id": "7KpfsRBURufF"
      },
      "source": [
        "from pyspark.ml.classification import DecisionTreeClassifier"
      ],
      "execution_count": 35,
      "outputs": []
    },
    {
      "cell_type": "code",
      "metadata": {
        "id": "w2AoW8cTRufH"
      },
      "source": [
        "decTree_classifier = DecisionTreeClassifier(labelCol='label', featuresCol='features')\n",
        "decTree_model = decTree_classifier.fit(train_df)\n",
        "decTree_pred= decTree_model.transform(test_df)"
      ],
      "execution_count": 36,
      "outputs": []
    },
    {
      "cell_type": "code",
      "metadata": {
        "id": "-k9wPmJBRufI",
        "outputId": "9f26ca2f-90e0-45ff-aa22-fa20c80d7bc8",
        "colab": {
          "base_uri": "https://localhost:8080/",
          "height": 874
        }
      },
      "source": [
        "decTree_pred.select(['species','features','label','prediction']).show(150)"
      ],
      "execution_count": 37,
      "outputs": [
        {
          "output_type": "stream",
          "text": [
            "+----------+-----------------+-----+----------+\n",
            "|   species|         features|label|prediction|\n",
            "+----------+-----------------+-----+----------+\n",
            "|    setosa|[4.5,2.3,1.3,0.3]|  0.0|       0.0|\n",
            "|    setosa|[4.6,3.1,1.5,0.2]|  0.0|       0.0|\n",
            "|    setosa|[4.8,3.1,1.6,0.2]|  0.0|       0.0|\n",
            "|    setosa|[4.8,3.4,1.6,0.2]|  0.0|       0.0|\n",
            "|    setosa|[4.8,3.4,1.9,0.2]|  0.0|       0.0|\n",
            "|versicolor|[4.9,2.4,3.3,1.0]|  1.0|       1.0|\n",
            "| virginica|[4.9,2.5,4.5,1.7]|  2.0|       1.0|\n",
            "|    setosa|[5.0,3.5,1.3,0.3]|  0.0|       0.0|\n",
            "|versicolor|[5.1,2.5,3.0,1.1]|  1.0|       1.0|\n",
            "|    setosa|[5.1,3.3,1.7,0.5]|  0.0|       0.0|\n",
            "|    setosa|[5.1,3.5,1.4,0.2]|  0.0|       0.0|\n",
            "|    setosa|[5.1,3.8,1.6,0.2]|  0.0|       0.0|\n",
            "|versicolor|[5.2,2.7,3.9,1.4]|  1.0|       1.0|\n",
            "|    setosa|[5.2,3.4,1.4,0.2]|  0.0|       0.0|\n",
            "|    setosa|[5.2,3.5,1.5,0.2]|  0.0|       0.0|\n",
            "|    setosa|[5.2,4.1,1.5,0.1]|  0.0|       0.0|\n",
            "|versicolor|[5.4,3.0,4.5,1.5]|  1.0|       1.0|\n",
            "|    setosa|[5.4,3.4,1.5,0.4]|  0.0|       0.0|\n",
            "|    setosa|[5.4,3.4,1.7,0.2]|  0.0|       0.0|\n",
            "|    setosa|[5.4,3.9,1.7,0.4]|  0.0|       0.0|\n",
            "|versicolor|[5.5,2.4,3.8,1.1]|  1.0|       1.0|\n",
            "|    setosa|[5.5,4.2,1.4,0.2]|  0.0|       0.0|\n",
            "| virginica|[5.7,2.5,5.0,2.0]|  2.0|       2.0|\n",
            "|versicolor|[5.7,2.8,4.5,1.3]|  1.0|       1.0|\n",
            "|versicolor|[5.7,3.0,4.2,1.2]|  1.0|       1.0|\n",
            "|versicolor|[5.8,2.7,3.9,1.2]|  1.0|       1.0|\n",
            "|versicolor|[5.8,2.7,4.1,1.0]|  1.0|       1.0|\n",
            "|versicolor|[6.0,2.2,4.0,1.0]|  1.0|       1.0|\n",
            "| virginica|[6.0,2.2,5.0,1.5]|  2.0|       1.0|\n",
            "|versicolor|[6.0,2.9,4.5,1.5]|  1.0|       1.0|\n",
            "|versicolor|[6.0,3.4,4.5,1.6]|  1.0|       1.0|\n",
            "|versicolor|[6.1,2.9,4.7,1.4]|  1.0|       1.0|\n",
            "| virginica|[6.4,3.1,5.5,1.8]|  2.0|       2.0|\n",
            "|versicolor|[6.5,2.8,4.6,1.5]|  1.0|       1.0|\n",
            "| virginica|[6.5,3.2,5.1,2.0]|  2.0|       2.0|\n",
            "|versicolor|[6.7,3.0,5.0,1.7]|  1.0|       2.0|\n",
            "| virginica|[6.7,3.1,5.6,2.4]|  2.0|       2.0|\n",
            "| virginica|[6.7,3.3,5.7,2.1]|  2.0|       2.0|\n",
            "| virginica|[6.7,3.3,5.7,2.5]|  2.0|       2.0|\n",
            "| virginica|[6.8,3.0,5.5,2.1]|  2.0|       2.0|\n",
            "| virginica|[6.9,3.1,5.1,2.3]|  2.0|       2.0|\n",
            "| virginica|[7.1,3.0,5.9,2.1]|  2.0|       2.0|\n",
            "| virginica|[7.2,3.0,5.8,1.6]|  2.0|       2.0|\n",
            "| virginica|[7.2,3.2,6.0,1.8]|  2.0|       2.0|\n",
            "| virginica|[7.7,3.0,6.1,2.3]|  2.0|       2.0|\n",
            "| virginica|[7.7,3.8,6.7,2.2]|  2.0|       2.0|\n",
            "+----------+-----------------+-----+----------+\n",
            "\n"
          ],
          "name": "stdout"
        }
      ]
    },
    {
      "cell_type": "code",
      "metadata": {
        "id": "PrdHLSwPRufK"
      },
      "source": [
        "decTree_evaluator = MulticlassClassificationEvaluator(metricName='accuracy')\n",
        "decTree_accuracy = decTree_evaluator.evaluate(decTree_pred)"
      ],
      "execution_count": 38,
      "outputs": []
    },
    {
      "cell_type": "code",
      "metadata": {
        "id": "BcJdF5gPRufM",
        "outputId": "0ddbfccc-ae23-4889-955e-3cf50f05fb2d",
        "colab": {
          "base_uri": "https://localhost:8080/",
          "height": 34
        }
      },
      "source": [
        "print('Decision Tree accuracy is {:.2f}.'.format(decTree_accuracy))"
      ],
      "execution_count": 39,
      "outputs": [
        {
          "output_type": "stream",
          "text": [
            "Decision Tree accuracy is 0.93.\n"
          ],
          "name": "stdout"
        }
      ]
    },
    {
      "cell_type": "markdown",
      "metadata": {
        "id": "pDR_clmjRufO"
      },
      "source": [
        "#### Keep it up"
      ]
    }
  ]
}