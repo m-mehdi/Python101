{
  "nbformat": 4,
  "nbformat_minor": 0,
  "metadata": {
    "kernelspec": {
      "display_name": "Python 3",
      "language": "python",
      "name": "python3"
    },
    "language_info": {
      "codemirror_mode": {
        "name": "ipython",
        "version": 3
      },
      "file_extension": ".py",
      "mimetype": "text/x-python",
      "name": "python",
      "nbconvert_exporter": "python",
      "pygments_lexer": "ipython3",
      "version": "3.7.6"
    },
    "colab": {
      "name": "Apache_Spark_05_Regression-CIMB.ipynb",
      "provenance": [],
      "toc_visible": true,
      "include_colab_link": true
    }
  },
  "cells": [
    {
      "cell_type": "markdown",
      "metadata": {
        "id": "view-in-github",
        "colab_type": "text"
      },
      "source": [
        "<a href=\"https://colab.research.google.com/github/m-mehdi/Python101/blob/master/Apache_Spark_05_Regression_CIMB.ipynb\" target=\"_parent\"><img src=\"https://colab.research.google.com/assets/colab-badge.svg\" alt=\"Open In Colab\"/></a>"
      ]
    },
    {
      "cell_type": "markdown",
      "metadata": {
        "id": "po_UfIa5t6QG"
      },
      "source": [
        "<img src=\"images/cads-logo.png\" style=\"height: 100px;\" align=left> <img src=\"images/apache_spark.png\" style=\"height: 20%;width:20%\" align=right>"
      ]
    },
    {
      "cell_type": "markdown",
      "metadata": {
        "id": "cDwPumRmt6QI"
      },
      "source": [
        "# Linear Regression\n",
        "In this notebook, we are going to look at another commonly used Machine Learning technique called Linear Regression. Linear Regression is useful when we have data in which we believe we can make predictions about one variable using knowledge about another variable. For example, if we think knowing CPU utilization will allow us to predict what the number of sessions are, or the free memory are, then the linear regression technique whould be a good technique to use to implement that.\n",
        "\n",
        "In this part, we will use utilization data. "
      ]
    },
    {
      "cell_type": "code",
      "metadata": {
        "id": "N7viduoft6QI",
        "outputId": "d34767c9-d62f-4499-9fa3-40e40055386e",
        "colab": {
          "base_uri": "https://localhost:8080/",
          "height": 255
        }
      },
      "source": [
        "!pip install pyspark\n",
        "from pyspark.sql import SparkSession\n",
        "from pyspark.ml.regression import LinearRegression\n",
        "from pyspark.ml.feature import VectorAssembler"
      ],
      "execution_count": 1,
      "outputs": [
        {
          "output_type": "stream",
          "text": [
            "Collecting pyspark\n",
            "\u001b[?25l  Downloading https://files.pythonhosted.org/packages/f0/26/198fc8c0b98580f617cb03cb298c6056587b8f0447e20fa40c5b634ced77/pyspark-3.0.1.tar.gz (204.2MB)\n",
            "\u001b[K     |████████████████████████████████| 204.2MB 68kB/s \n",
            "\u001b[?25hCollecting py4j==0.10.9\n",
            "\u001b[?25l  Downloading https://files.pythonhosted.org/packages/9e/b6/6a4fb90cd235dc8e265a6a2067f2a2c99f0d91787f06aca4bcf7c23f3f80/py4j-0.10.9-py2.py3-none-any.whl (198kB)\n",
            "\u001b[K     |████████████████████████████████| 204kB 41.7MB/s \n",
            "\u001b[?25hBuilding wheels for collected packages: pyspark\n",
            "  Building wheel for pyspark (setup.py) ... \u001b[?25l\u001b[?25hdone\n",
            "  Created wheel for pyspark: filename=pyspark-3.0.1-py2.py3-none-any.whl size=204612243 sha256=2de41dfb0768ad01dabcab3e983ec283a945dc5c5bc23e0a068c7d815a932db6\n",
            "  Stored in directory: /root/.cache/pip/wheels/5e/bd/07/031766ca628adec8435bb40f0bd83bb676ce65ff4007f8e73f\n",
            "Successfully built pyspark\n",
            "Installing collected packages: py4j, pyspark\n",
            "Successfully installed py4j-0.10.9 pyspark-3.0.1\n"
          ],
          "name": "stdout"
        }
      ]
    },
    {
      "cell_type": "code",
      "metadata": {
        "id": "3p1EMoP8t6QP"
      },
      "source": [
        "spark = SparkSession.builder.getOrCreate()"
      ],
      "execution_count": 2,
      "outputs": []
    },
    {
      "cell_type": "code",
      "metadata": {
        "id": "Tp38QK3PvjLA",
        "outputId": "2b9278ae-c16d-4f6a-ab85-308837b89372",
        "colab": {
          "base_uri": "https://localhost:8080/",
          "height": 214
        }
      },
      "source": [
        "spark"
      ],
      "execution_count": 3,
      "outputs": [
        {
          "output_type": "execute_result",
          "data": {
            "text/html": [
              "\n",
              "            <div>\n",
              "                <p><b>SparkSession - in-memory</b></p>\n",
              "                \n",
              "        <div>\n",
              "            <p><b>SparkContext</b></p>\n",
              "\n",
              "            <p><a href=\"http://7240a43243d3:4040\">Spark UI</a></p>\n",
              "\n",
              "            <dl>\n",
              "              <dt>Version</dt>\n",
              "                <dd><code>v3.0.1</code></dd>\n",
              "              <dt>Master</dt>\n",
              "                <dd><code>local[*]</code></dd>\n",
              "              <dt>AppName</dt>\n",
              "                <dd><code>pyspark-shell</code></dd>\n",
              "            </dl>\n",
              "        </div>\n",
              "        \n",
              "            </div>\n",
              "        "
            ],
            "text/plain": [
              "<pyspark.sql.session.SparkSession at 0x7f8e715ab550>"
            ]
          },
          "metadata": {
            "tags": []
          },
          "execution_count": 3
        }
      ]
    },
    {
      "cell_type": "code",
      "metadata": {
        "id": "5tE-iUFFt6QS"
      },
      "source": [
        "import os\n",
        "MAIN_DIRECTORY = os.getcwd()\n",
        "file_path =MAIN_DIRECTORY+\"/Data/utilization.json\"\n",
        "df_util = spark.read.format(\"json\").load(file_path)"
      ],
      "execution_count": 7,
      "outputs": []
    },
    {
      "cell_type": "code",
      "metadata": {
        "id": "WLT-YrB3v2wo",
        "outputId": "f5c0caa3-0be5-46de-9f7a-60b30ae959bb",
        "colab": {
          "base_uri": "https://localhost:8080/",
          "height": 454
        }
      },
      "source": [
        "df_util.show()"
      ],
      "execution_count": 5,
      "outputs": [
        {
          "output_type": "stream",
          "text": [
            "+---------------+-------------------+-----------+---------+-------------+\n",
            "|cpu_utilization|     event_datetime|free_memory|server_id|session_count|\n",
            "+---------------+-------------------+-----------+---------+-------------+\n",
            "|           0.57|03/05/2019 08:06:14|       0.51|      100|           47|\n",
            "|           0.47|03/05/2019 08:11:14|       0.62|      100|           43|\n",
            "|           0.56|03/05/2019 08:16:14|       0.57|      100|           62|\n",
            "|           0.57|03/05/2019 08:21:14|       0.56|      100|           50|\n",
            "|           0.35|03/05/2019 08:26:14|       0.46|      100|           43|\n",
            "|           0.41|03/05/2019 08:31:14|       0.58|      100|           48|\n",
            "|           0.57|03/05/2019 08:36:14|       0.35|      100|           58|\n",
            "|           0.41|03/05/2019 08:41:14|        0.4|      100|           58|\n",
            "|           0.53|03/05/2019 08:46:14|       0.35|      100|           62|\n",
            "|           0.51|03/05/2019 08:51:14|        0.6|      100|           45|\n",
            "|           0.32|03/05/2019 08:56:14|       0.37|      100|           47|\n",
            "|           0.62|03/05/2019 09:01:14|       0.59|      100|           60|\n",
            "|           0.66|03/05/2019 09:06:14|       0.72|      100|           57|\n",
            "|           0.54|03/05/2019 09:11:14|       0.54|      100|           44|\n",
            "|           0.29|03/05/2019 09:16:14|        0.4|      100|           47|\n",
            "|           0.43|03/05/2019 09:21:14|       0.68|      100|           66|\n",
            "|           0.49|03/05/2019 09:26:14|       0.66|      100|           65|\n",
            "|           0.64|03/05/2019 09:31:14|       0.55|      100|           66|\n",
            "|           0.42|03/05/2019 09:36:14|        0.6|      100|           42|\n",
            "|           0.55|03/05/2019 09:41:14|       0.59|      100|           63|\n",
            "+---------------+-------------------+-----------+---------+-------------+\n",
            "only showing top 20 rows\n",
            "\n"
          ],
          "name": "stdout"
        }
      ]
    },
    {
      "cell_type": "code",
      "metadata": {
        "id": "B74l94TDwDjz",
        "outputId": "c426bedb-3ebb-40f9-884d-daec00290b7f",
        "colab": {
          "base_uri": "https://localhost:8080/",
          "height": 34
        }
      },
      "source": [
        "df_util.count()"
      ],
      "execution_count": 8,
      "outputs": [
        {
          "output_type": "execute_result",
          "data": {
            "text/plain": [
              "500000"
            ]
          },
          "metadata": {
            "tags": []
          },
          "execution_count": 8
        }
      ]
    },
    {
      "cell_type": "markdown",
      "metadata": {
        "id": "61T-pGzYt6QW"
      },
      "source": [
        "In this task, we are going to make prediction based on CPU utilization. So to do that, first, we should create a VectorAssembler."
      ]
    },
    {
      "cell_type": "code",
      "metadata": {
        "id": "kQeI6Gywt6QX"
      },
      "source": [
        "vecAssembler = VectorAssembler(inputCols=['cpu_utilization','free_memory'],outputCol='features')"
      ],
      "execution_count": 9,
      "outputs": []
    },
    {
      "cell_type": "code",
      "metadata": {
        "id": "5_OzffOOt6Qa"
      },
      "source": [
        "vec_df = vecAssembler.transform(df_util)"
      ],
      "execution_count": 10,
      "outputs": []
    },
    {
      "cell_type": "code",
      "metadata": {
        "id": "kys3me6Gt6Qe",
        "outputId": "f37ba740-6a54-409a-f0bb-dde3c6bb0520",
        "colab": {
          "base_uri": "https://localhost:8080/",
          "height": 454
        }
      },
      "source": [
        "vec_df.show()"
      ],
      "execution_count": 11,
      "outputs": [
        {
          "output_type": "stream",
          "text": [
            "+---------------+-------------------+-----------+---------+-------------+-----------+\n",
            "|cpu_utilization|     event_datetime|free_memory|server_id|session_count|   features|\n",
            "+---------------+-------------------+-----------+---------+-------------+-----------+\n",
            "|           0.57|03/05/2019 08:06:14|       0.51|      100|           47|[0.57,0.51]|\n",
            "|           0.47|03/05/2019 08:11:14|       0.62|      100|           43|[0.47,0.62]|\n",
            "|           0.56|03/05/2019 08:16:14|       0.57|      100|           62|[0.56,0.57]|\n",
            "|           0.57|03/05/2019 08:21:14|       0.56|      100|           50|[0.57,0.56]|\n",
            "|           0.35|03/05/2019 08:26:14|       0.46|      100|           43|[0.35,0.46]|\n",
            "|           0.41|03/05/2019 08:31:14|       0.58|      100|           48|[0.41,0.58]|\n",
            "|           0.57|03/05/2019 08:36:14|       0.35|      100|           58|[0.57,0.35]|\n",
            "|           0.41|03/05/2019 08:41:14|        0.4|      100|           58| [0.41,0.4]|\n",
            "|           0.53|03/05/2019 08:46:14|       0.35|      100|           62|[0.53,0.35]|\n",
            "|           0.51|03/05/2019 08:51:14|        0.6|      100|           45| [0.51,0.6]|\n",
            "|           0.32|03/05/2019 08:56:14|       0.37|      100|           47|[0.32,0.37]|\n",
            "|           0.62|03/05/2019 09:01:14|       0.59|      100|           60|[0.62,0.59]|\n",
            "|           0.66|03/05/2019 09:06:14|       0.72|      100|           57|[0.66,0.72]|\n",
            "|           0.54|03/05/2019 09:11:14|       0.54|      100|           44|[0.54,0.54]|\n",
            "|           0.29|03/05/2019 09:16:14|        0.4|      100|           47| [0.29,0.4]|\n",
            "|           0.43|03/05/2019 09:21:14|       0.68|      100|           66|[0.43,0.68]|\n",
            "|           0.49|03/05/2019 09:26:14|       0.66|      100|           65|[0.49,0.66]|\n",
            "|           0.64|03/05/2019 09:31:14|       0.55|      100|           66|[0.64,0.55]|\n",
            "|           0.42|03/05/2019 09:36:14|        0.6|      100|           42| [0.42,0.6]|\n",
            "|           0.55|03/05/2019 09:41:14|       0.59|      100|           63|[0.55,0.59]|\n",
            "+---------------+-------------------+-----------+---------+-------------+-----------+\n",
            "only showing top 20 rows\n",
            "\n"
          ],
          "name": "stdout"
        }
      ]
    },
    {
      "cell_type": "markdown",
      "metadata": {
        "id": "LT7iQiG7t6Qh"
      },
      "source": [
        "Now, the next thing, we want to do is create a data structure that has a linear regression model, which we can later fit our data to it."
      ]
    },
    {
      "cell_type": "code",
      "metadata": {
        "id": "NKpIUByRt6Qi"
      },
      "source": [
        "lr = LinearRegression(featuresCol='features',labelCol='session_count')"
      ],
      "execution_count": 12,
      "outputs": []
    },
    {
      "cell_type": "code",
      "metadata": {
        "id": "btpSR3czt6Qm"
      },
      "source": [
        "linRegModel = lr.fit(vec_df)"
      ],
      "execution_count": 13,
      "outputs": []
    },
    {
      "cell_type": "markdown",
      "metadata": {
        "id": "vMKuEJA7t6Qr"
      },
      "source": [
        "Now our Linear Regression Model is specified by two properties, the coefficients and the intercept. "
      ]
    },
    {
      "cell_type": "code",
      "metadata": {
        "id": "ZCGC5rprt6Qr",
        "outputId": "8b5284cf-2dad-42fb-c6bd-e14c22bebe4b",
        "colab": {
          "base_uri": "https://localhost:8080/",
          "height": 34
        }
      },
      "source": [
        "linRegModel.coefficients"
      ],
      "execution_count": 14,
      "outputs": [
        {
          "output_type": "execute_result",
          "data": {
            "text/plain": [
              "DenseVector([32.0832, -31.8455])"
            ]
          },
          "metadata": {
            "tags": []
          },
          "execution_count": 14
        }
      ]
    },
    {
      "cell_type": "code",
      "metadata": {
        "id": "SLm7xwvdt6Qv",
        "outputId": "e7442a89-914f-4f23-f6a0-b6e6ee4ec605",
        "colab": {
          "base_uri": "https://localhost:8080/",
          "height": 34
        }
      },
      "source": [
        "linRegModel.intercept"
      ],
      "execution_count": 15,
      "outputs": [
        {
          "output_type": "execute_result",
          "data": {
            "text/plain": [
              "61.76149951888711"
            ]
          },
          "metadata": {
            "tags": []
          },
          "execution_count": 15
        }
      ]
    },
    {
      "cell_type": "markdown",
      "metadata": {
        "id": "ZKPyHylryGz-"
      },
      "source": [
        "session_count = 32.0832xcpu_utilization-31.8455xfree_memory+61.76149951888711"
      ]
    },
    {
      "cell_type": "markdown",
      "metadata": {
        "id": "dFpfDIm8t6Qx"
      },
      "source": [
        "One of the things, we often want to know, when we are building a predictive model is the error that occures when we fit that model. Because the line is not going to fit exactly all of the data points. So what we often use for a measure is the Root Means Squared Error."
      ]
    },
    {
      "cell_type": "code",
      "metadata": {
        "id": "FZahdA4Yt6Qy",
        "outputId": "d8795be8-959e-43e2-cab3-54f3128b8829",
        "colab": {
          "base_uri": "https://localhost:8080/",
          "height": 34
        }
      },
      "source": [
        "linRegModel.summary.rootMeanSquaredError"
      ],
      "execution_count": 16,
      "outputs": [
        {
          "output_type": "execute_result",
          "data": {
            "text/plain": [
              "12.042582333120823"
            ]
          },
          "metadata": {
            "tags": []
          },
          "execution_count": 16
        }
      ]
    },
    {
      "cell_type": "markdown",
      "metadata": {
        "id": "dCK0jjfjt6Q1"
      },
      "source": [
        "#### Well Done!"
      ]
    }
  ]
}